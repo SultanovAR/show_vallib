{
 "cells": [
  {
   "cell_type": "code",
   "execution_count": 1,
   "metadata": {},
   "outputs": [],
   "source": [
    "%load_ext autoreload\n",
    "%autoreload 2"
   ]
  },
  {
   "cell_type": "markdown",
   "metadata": {},
   "source": [
    "Презентация показывает основные концепции, используемые в библиотеке в ознакомительном формате без тонкостей реализации и т.д."
   ]
  },
  {
   "attachments": {},
   "cell_type": "markdown",
   "metadata": {},
   "source": [
    "## Sampler (идея, цель, примеры использования)\n",
    "\n",
    "### Идея:\n",
    "- обертка над всеми данными, хранит в себе train, oos, oot (и признаки, таргет)\n",
    "- бесконечный источник данных из того же распределения, что и данные пришедшие на валидацию. Реализовываться это может подкапотом как угодно (скорее всего KFold, Bootstraping или Resampling)\n",
    "\n",
    "### Цель:\n",
    "\n",
    "у некоторых моделей есть ограничения на *resampling* данных (разбивать на train и oos не строки, а людей, определяя их по ИНН). Данный класс позволяет абстрагироваться от этих тонкостей, предоставляя единый интерфейс.\n"
   ]
  },
  {
   "attachments": {},
   "cell_type": "markdown",
   "metadata": {},
   "source": [
    "### Типичные примеры исполльзования"
   ]
  },
  {
   "cell_type": "code",
   "execution_count": 2,
   "metadata": {},
   "outputs": [
    {
     "name": "stdout",
     "output_type": "stream",
     "text": [
      "Исходные данные: \n"
     ]
    },
    {
     "data": {
      "text/html": [
       "<div>\n",
       "<style scoped>\n",
       "    .dataframe tbody tr th:only-of-type {\n",
       "        vertical-align: middle;\n",
       "    }\n",
       "\n",
       "    .dataframe tbody tr th {\n",
       "        vertical-align: top;\n",
       "    }\n",
       "\n",
       "    .dataframe thead th {\n",
       "        text-align: right;\n",
       "    }\n",
       "</style>\n",
       "<table border=\"1\" class=\"dataframe\">\n",
       "  <thead>\n",
       "    <tr style=\"text-align: right;\">\n",
       "      <th></th>\n",
       "      <th>0</th>\n",
       "      <th>1</th>\n",
       "      <th>2</th>\n",
       "    </tr>\n",
       "  </thead>\n",
       "  <tbody>\n",
       "    <tr>\n",
       "      <th>290</th>\n",
       "      <td>-0.844349</td>\n",
       "      <td>0.504995</td>\n",
       "      <td>0.825358</td>\n",
       "    </tr>\n",
       "    <tr>\n",
       "      <th>662</th>\n",
       "      <td>-1.144246</td>\n",
       "      <td>1.103504</td>\n",
       "      <td>-1.392602</td>\n",
       "    </tr>\n",
       "    <tr>\n",
       "      <th>864</th>\n",
       "      <td>-0.662642</td>\n",
       "      <td>-0.256870</td>\n",
       "      <td>1.054222</td>\n",
       "    </tr>\n",
       "  </tbody>\n",
       "</table>\n",
       "</div>"
      ],
      "text/plain": [
       "            0         1         2\n",
       "290 -0.844349  0.504995  0.825358\n",
       "662 -1.144246  1.103504 -1.392602\n",
       "864 -0.662642 -0.256870  1.054222"
      ]
     },
     "metadata": {},
     "output_type": "display_data"
    },
    {
     "data": {
      "text/html": [
       "<div>\n",
       "<style scoped>\n",
       "    .dataframe tbody tr th:only-of-type {\n",
       "        vertical-align: middle;\n",
       "    }\n",
       "\n",
       "    .dataframe tbody tr th {\n",
       "        vertical-align: top;\n",
       "    }\n",
       "\n",
       "    .dataframe thead th {\n",
       "        text-align: right;\n",
       "    }\n",
       "</style>\n",
       "<table border=\"1\" class=\"dataframe\">\n",
       "  <thead>\n",
       "    <tr style=\"text-align: right;\">\n",
       "      <th></th>\n",
       "      <th>0</th>\n",
       "      <th>1</th>\n",
       "      <th>2</th>\n",
       "    </tr>\n",
       "  </thead>\n",
       "  <tbody>\n",
       "    <tr>\n",
       "      <th>715</th>\n",
       "      <td>1.460184</td>\n",
       "      <td>0.789905</td>\n",
       "      <td>2.341212</td>\n",
       "    </tr>\n",
       "    <tr>\n",
       "      <th>823</th>\n",
       "      <td>0.239886</td>\n",
       "      <td>1.483129</td>\n",
       "      <td>-0.447120</td>\n",
       "    </tr>\n",
       "    <tr>\n",
       "      <th>404</th>\n",
       "      <td>0.846301</td>\n",
       "      <td>-0.152794</td>\n",
       "      <td>1.686599</td>\n",
       "    </tr>\n",
       "  </tbody>\n",
       "</table>\n",
       "</div>"
      ],
      "text/plain": [
       "            0         1         2\n",
       "715  1.460184  0.789905  2.341212\n",
       "823  0.239886  1.483129 -0.447120\n",
       "404  0.846301 -0.152794  1.686599"
      ]
     },
     "metadata": {},
     "output_type": "display_data"
    }
   ],
   "source": [
    "# Создаем данные\n",
    "from sklearn.datasets import make_classification\n",
    "from sklearn.model_selection import train_test_split\n",
    "import pandas as pd\n",
    "import numpy as np\n",
    "from IPython.display import display\n",
    "\n",
    "\n",
    "X, y = make_classification(n_samples=1000, n_classes=2,\n",
    "                           n_features=3, n_informative=2,\n",
    "                           n_redundant=0, random_state=0)\n",
    "X = pd.DataFrame(X)\n",
    "y = pd.Series(y)\n",
    "X_train, X_test,  y_train, y_test = train_test_split(X, y, test_size=0.3, stratify=y)\n",
    "\n",
    "print('Исходные данные: ')\n",
    "display(X_train[:3])\n",
    "display(X_test[:3])"
   ]
  },
  {
   "cell_type": "code",
   "execution_count": 3,
   "metadata": {},
   "outputs": [],
   "source": [
    "# Создаем sampler\n",
    "from sbe_vallib.sampler.supervised_sampler import SupervisedSampler\n",
    "\n",
    "sampler = SupervisedSampler(train={'X': X_train, 'y_true': y_train},\n",
    "                            oos={'X': X_test, 'y_true': y_test},\n",
    "                            oot=None)"
   ]
  },
  {
   "attachments": {},
   "cell_type": "markdown",
   "metadata": {},
   "source": [
    "получаем данные по атрибуту ```train, oos, oot``` (под капотом там лежат ```property```)"
   ]
  },
  {
   "cell_type": "code",
   "execution_count": 4,
   "metadata": {},
   "outputs": [
    {
     "data": {
      "text/html": [
       "<div>\n",
       "<style scoped>\n",
       "    .dataframe tbody tr th:only-of-type {\n",
       "        vertical-align: middle;\n",
       "    }\n",
       "\n",
       "    .dataframe tbody tr th {\n",
       "        vertical-align: top;\n",
       "    }\n",
       "\n",
       "    .dataframe thead th {\n",
       "        text-align: right;\n",
       "    }\n",
       "</style>\n",
       "<table border=\"1\" class=\"dataframe\">\n",
       "  <thead>\n",
       "    <tr style=\"text-align: right;\">\n",
       "      <th></th>\n",
       "      <th>0</th>\n",
       "      <th>1</th>\n",
       "      <th>2</th>\n",
       "    </tr>\n",
       "  </thead>\n",
       "  <tbody>\n",
       "    <tr>\n",
       "      <th>290</th>\n",
       "      <td>-0.844349</td>\n",
       "      <td>0.504995</td>\n",
       "      <td>0.825358</td>\n",
       "    </tr>\n",
       "    <tr>\n",
       "      <th>662</th>\n",
       "      <td>-1.144246</td>\n",
       "      <td>1.103504</td>\n",
       "      <td>-1.392602</td>\n",
       "    </tr>\n",
       "    <tr>\n",
       "      <th>864</th>\n",
       "      <td>-0.662642</td>\n",
       "      <td>-0.256870</td>\n",
       "      <td>1.054222</td>\n",
       "    </tr>\n",
       "    <tr>\n",
       "      <th>978</th>\n",
       "      <td>-1.503873</td>\n",
       "      <td>0.655924</td>\n",
       "      <td>0.533744</td>\n",
       "    </tr>\n",
       "  </tbody>\n",
       "</table>\n",
       "</div>"
      ],
      "text/plain": [
       "            0         1         2\n",
       "290 -0.844349  0.504995  0.825358\n",
       "662 -1.144246  1.103504 -1.392602\n",
       "864 -0.662642 -0.256870  1.054222\n",
       "978 -1.503873  0.655924  0.533744"
      ]
     },
     "metadata": {},
     "output_type": "display_data"
    },
    {
     "data": {
      "text/html": [
       "<div>\n",
       "<style scoped>\n",
       "    .dataframe tbody tr th:only-of-type {\n",
       "        vertical-align: middle;\n",
       "    }\n",
       "\n",
       "    .dataframe tbody tr th {\n",
       "        vertical-align: top;\n",
       "    }\n",
       "\n",
       "    .dataframe thead th {\n",
       "        text-align: right;\n",
       "    }\n",
       "</style>\n",
       "<table border=\"1\" class=\"dataframe\">\n",
       "  <thead>\n",
       "    <tr style=\"text-align: right;\">\n",
       "      <th></th>\n",
       "      <th>0</th>\n",
       "      <th>1</th>\n",
       "      <th>2</th>\n",
       "    </tr>\n",
       "  </thead>\n",
       "  <tbody>\n",
       "    <tr>\n",
       "      <th>715</th>\n",
       "      <td>1.460184</td>\n",
       "      <td>0.789905</td>\n",
       "      <td>2.341212</td>\n",
       "    </tr>\n",
       "    <tr>\n",
       "      <th>823</th>\n",
       "      <td>0.239886</td>\n",
       "      <td>1.483129</td>\n",
       "      <td>-0.447120</td>\n",
       "    </tr>\n",
       "    <tr>\n",
       "      <th>404</th>\n",
       "      <td>0.846301</td>\n",
       "      <td>-0.152794</td>\n",
       "      <td>1.686599</td>\n",
       "    </tr>\n",
       "    <tr>\n",
       "      <th>439</th>\n",
       "      <td>-1.533187</td>\n",
       "      <td>1.320794</td>\n",
       "      <td>0.647763</td>\n",
       "    </tr>\n",
       "  </tbody>\n",
       "</table>\n",
       "</div>"
      ],
      "text/plain": [
       "            0         1         2\n",
       "715  1.460184  0.789905  2.341212\n",
       "823  0.239886  1.483129 -0.447120\n",
       "404  0.846301 -0.152794  1.686599\n",
       "439 -1.533187  1.320794  0.647763"
      ]
     },
     "metadata": {},
     "output_type": "display_data"
    }
   ],
   "source": [
    "display(sampler.train['X'][:4])\n",
    "display(sampler.oos['X'][:4])"
   ]
  },
  {
   "cell_type": "code",
   "execution_count": 5,
   "metadata": {},
   "outputs": [
    {
     "data": {
      "text/html": [
       "<div>\n",
       "<style scoped>\n",
       "    .dataframe tbody tr th:only-of-type {\n",
       "        vertical-align: middle;\n",
       "    }\n",
       "\n",
       "    .dataframe tbody tr th {\n",
       "        vertical-align: top;\n",
       "    }\n",
       "\n",
       "    .dataframe thead th {\n",
       "        text-align: right;\n",
       "    }\n",
       "</style>\n",
       "<table border=\"1\" class=\"dataframe\">\n",
       "  <thead>\n",
       "    <tr style=\"text-align: right;\">\n",
       "      <th></th>\n",
       "      <th>0</th>\n",
       "      <th>1</th>\n",
       "      <th>2</th>\n",
       "    </tr>\n",
       "  </thead>\n",
       "  <tbody>\n",
       "    <tr>\n",
       "      <th>5</th>\n",
       "      <td>0.486414</td>\n",
       "      <td>1.497715</td>\n",
       "      <td>-0.184009</td>\n",
       "    </tr>\n",
       "    <tr>\n",
       "      <th>213</th>\n",
       "      <td>1.203531</td>\n",
       "      <td>-1.320525</td>\n",
       "      <td>1.571972</td>\n",
       "    </tr>\n",
       "    <tr>\n",
       "      <th>945</th>\n",
       "      <td>1.948291</td>\n",
       "      <td>-1.093895</td>\n",
       "      <td>-2.044562</td>\n",
       "    </tr>\n",
       "    <tr>\n",
       "      <th>330</th>\n",
       "      <td>-0.789695</td>\n",
       "      <td>0.374155</td>\n",
       "      <td>-1.335048</td>\n",
       "    </tr>\n",
       "  </tbody>\n",
       "</table>\n",
       "</div>"
      ],
      "text/plain": [
       "            0         1         2\n",
       "5    0.486414  1.497715 -0.184009\n",
       "213  1.203531 -1.320525  1.571972\n",
       "945  1.948291 -1.093895 -2.044562\n",
       "330 -0.789695  0.374155 -1.335048"
      ]
     },
     "metadata": {},
     "output_type": "display_data"
    },
    {
     "data": {
      "text/html": [
       "<div>\n",
       "<style scoped>\n",
       "    .dataframe tbody tr th:only-of-type {\n",
       "        vertical-align: middle;\n",
       "    }\n",
       "\n",
       "    .dataframe tbody tr th {\n",
       "        vertical-align: top;\n",
       "    }\n",
       "\n",
       "    .dataframe thead th {\n",
       "        text-align: right;\n",
       "    }\n",
       "</style>\n",
       "<table border=\"1\" class=\"dataframe\">\n",
       "  <thead>\n",
       "    <tr style=\"text-align: right;\">\n",
       "      <th></th>\n",
       "      <th>0</th>\n",
       "      <th>1</th>\n",
       "      <th>2</th>\n",
       "    </tr>\n",
       "  </thead>\n",
       "  <tbody>\n",
       "    <tr>\n",
       "      <th>576</th>\n",
       "      <td>1.942820</td>\n",
       "      <td>0.139988</td>\n",
       "      <td>1.783529</td>\n",
       "    </tr>\n",
       "    <tr>\n",
       "      <th>362</th>\n",
       "      <td>-0.415896</td>\n",
       "      <td>0.514004</td>\n",
       "      <td>1.741516</td>\n",
       "    </tr>\n",
       "    <tr>\n",
       "      <th>238</th>\n",
       "      <td>1.220240</td>\n",
       "      <td>-1.505911</td>\n",
       "      <td>0.531213</td>\n",
       "    </tr>\n",
       "    <tr>\n",
       "      <th>373</th>\n",
       "      <td>0.722205</td>\n",
       "      <td>-1.044816</td>\n",
       "      <td>-0.348215</td>\n",
       "    </tr>\n",
       "  </tbody>\n",
       "</table>\n",
       "</div>"
      ],
      "text/plain": [
       "            0         1         2\n",
       "576  1.942820  0.139988  1.783529\n",
       "362 -0.415896  0.514004  1.741516\n",
       "238  1.220240 -1.505911  0.531213\n",
       "373  0.722205 -1.044816 -0.348215"
      ]
     },
     "metadata": {},
     "output_type": "display_data"
    }
   ],
   "source": [
    "# Фиксируем seed и способ генерации новой выборки\n",
    "sampler.set_state(seed=5, gen_method='bootstrap')\n",
    "\n",
    "#теперь по аттрибутам train, oos, oot у нас новые выборки, полученные бутстрапированием исходных\n",
    "display(sampler.train['X'][:4])\n",
    "display(sampler.oos['X'][:4])\n"
   ]
  },
  {
   "cell_type": "code",
   "execution_count": 6,
   "metadata": {},
   "outputs": [
    {
     "data": {
      "text/html": [
       "<div>\n",
       "<style scoped>\n",
       "    .dataframe tbody tr th:only-of-type {\n",
       "        vertical-align: middle;\n",
       "    }\n",
       "\n",
       "    .dataframe tbody tr th {\n",
       "        vertical-align: top;\n",
       "    }\n",
       "\n",
       "    .dataframe thead th {\n",
       "        text-align: right;\n",
       "    }\n",
       "</style>\n",
       "<table border=\"1\" class=\"dataframe\">\n",
       "  <thead>\n",
       "    <tr style=\"text-align: right;\">\n",
       "      <th></th>\n",
       "      <th>0</th>\n",
       "      <th>1</th>\n",
       "      <th>2</th>\n",
       "    </tr>\n",
       "  </thead>\n",
       "  <tbody>\n",
       "    <tr>\n",
       "      <th>290</th>\n",
       "      <td>-0.844349</td>\n",
       "      <td>0.504995</td>\n",
       "      <td>0.825358</td>\n",
       "    </tr>\n",
       "    <tr>\n",
       "      <th>662</th>\n",
       "      <td>-1.144246</td>\n",
       "      <td>1.103504</td>\n",
       "      <td>-1.392602</td>\n",
       "    </tr>\n",
       "    <tr>\n",
       "      <th>864</th>\n",
       "      <td>-0.662642</td>\n",
       "      <td>-0.256870</td>\n",
       "      <td>1.054222</td>\n",
       "    </tr>\n",
       "    <tr>\n",
       "      <th>978</th>\n",
       "      <td>-1.503873</td>\n",
       "      <td>0.655924</td>\n",
       "      <td>0.533744</td>\n",
       "    </tr>\n",
       "  </tbody>\n",
       "</table>\n",
       "</div>"
      ],
      "text/plain": [
       "            0         1         2\n",
       "290 -0.844349  0.504995  0.825358\n",
       "662 -1.144246  1.103504 -1.392602\n",
       "864 -0.662642 -0.256870  1.054222\n",
       "978 -1.503873  0.655924  0.533744"
      ]
     },
     "metadata": {},
     "output_type": "display_data"
    },
    {
     "data": {
      "text/html": [
       "<div>\n",
       "<style scoped>\n",
       "    .dataframe tbody tr th:only-of-type {\n",
       "        vertical-align: middle;\n",
       "    }\n",
       "\n",
       "    .dataframe tbody tr th {\n",
       "        vertical-align: top;\n",
       "    }\n",
       "\n",
       "    .dataframe thead th {\n",
       "        text-align: right;\n",
       "    }\n",
       "</style>\n",
       "<table border=\"1\" class=\"dataframe\">\n",
       "  <thead>\n",
       "    <tr style=\"text-align: right;\">\n",
       "      <th></th>\n",
       "      <th>0</th>\n",
       "      <th>1</th>\n",
       "      <th>2</th>\n",
       "    </tr>\n",
       "  </thead>\n",
       "  <tbody>\n",
       "    <tr>\n",
       "      <th>715</th>\n",
       "      <td>1.460184</td>\n",
       "      <td>0.789905</td>\n",
       "      <td>2.341212</td>\n",
       "    </tr>\n",
       "    <tr>\n",
       "      <th>823</th>\n",
       "      <td>0.239886</td>\n",
       "      <td>1.483129</td>\n",
       "      <td>-0.447120</td>\n",
       "    </tr>\n",
       "    <tr>\n",
       "      <th>404</th>\n",
       "      <td>0.846301</td>\n",
       "      <td>-0.152794</td>\n",
       "      <td>1.686599</td>\n",
       "    </tr>\n",
       "    <tr>\n",
       "      <th>439</th>\n",
       "      <td>-1.533187</td>\n",
       "      <td>1.320794</td>\n",
       "      <td>0.647763</td>\n",
       "    </tr>\n",
       "  </tbody>\n",
       "</table>\n",
       "</div>"
      ],
      "text/plain": [
       "            0         1         2\n",
       "715  1.460184  0.789905  2.341212\n",
       "823  0.239886  1.483129 -0.447120\n",
       "404  0.846301 -0.152794  1.686599\n",
       "439 -1.533187  1.320794  0.647763"
      ]
     },
     "metadata": {},
     "output_type": "display_data"
    }
   ],
   "source": [
    "# Перезагружаем состояние sampler, чтобы получать снова исходные выборки\n",
    "sampler.reset()\n",
    "\n",
    "display(sampler.train['X'][:4])\n",
    "display(sampler.oos['X'][:4])"
   ]
  },
  {
   "attachments": {},
   "cell_type": "markdown",
   "metadata": {},
   "source": [
    "## Scorer (идея, цель, примеры использования)\n",
    "\n",
    "### Идея:\n",
    "\n",
    "Идея этого класса - посчитать скопом заранее заданные метрики при вызове метода ```scorer.calc_metrics()```\n",
    "\n",
    "### Цель:\n",
    "\n",
    "Причина появления: модели могут оцениваются самыми разными способами, все не уложить в тип ```func(y_true, y_pred)```.Например *YOLO* или же в табличных данных ключевая метрика это сумма на ```train``` и ```oos```. С помощью этого класса абстрагируемся от этого в через подачу в скорер всего ```scorer.calc_metrics(model, sampler, **something_else)```, оставляя реализацию в нестандартных случаях на валидатора. \n"
   ]
  },
  {
   "cell_type": "code",
   "execution_count": 7,
   "metadata": {},
   "outputs": [],
   "source": [
    "# создаем scorer\n",
    "from sbe_vallib.scorer.table_scorer import BinaryScorer\n",
    "from sbe_vallib.utils.metrics import BINARY_METRICS\n",
    "\n",
    "scorer = BinaryScorer(metrics=BINARY_METRICS, cutoff=0.1)"
   ]
  },
  {
   "cell_type": "code",
   "execution_count": 8,
   "metadata": {},
   "outputs": [
    {
     "data": {
      "text/plain": [
       "['accuracy_score', 'precision_score', 'recall_score', 'f1_score', 'gini']"
      ]
     },
     "execution_count": 8,
     "metadata": {},
     "output_type": "execute_result"
    }
   ],
   "source": [
    "# есть метрики, которые работают с классом, а есть которые работают с вероятностями\n",
    "# scorer внутри себя регулирует, что куда подать\n",
    "list(BINARY_METRICS.keys())"
   ]
  },
  {
   "cell_type": "markdown",
   "metadata": {},
   "source": [
    "### Типичные примеры исполльзования"
   ]
  },
  {
   "cell_type": "code",
   "execution_count": 9,
   "metadata": {},
   "outputs": [],
   "source": [
    "# для начала создадим и обучим модель\n",
    "\n",
    "from sklearn.linear_model import LogisticRegression\n",
    "\n",
    "sampler.reset()\n",
    "model = LogisticRegression().fit(sampler.train['X'], sampler.train['y_true'])"
   ]
  },
  {
   "cell_type": "code",
   "execution_count": 10,
   "metadata": {},
   "outputs": [
    {
     "data": {
      "text/plain": [
       "{'accuracy_score': 0.8766666666666667,\n",
       " 'precision_score': 0.8121546961325967,\n",
       " 'recall_score': 0.98,\n",
       " 'f1_score': 0.8882175226586102,\n",
       " 'gini': 0.9587555555555556}"
      ]
     },
     "execution_count": 10,
     "metadata": {},
     "output_type": "execute_result"
    }
   ],
   "source": [
    "scorer.calc_metrics(model=model, sampler=sampler, data_type='oos')"
   ]
  },
  {
   "attachments": {},
   "cell_type": "markdown",
   "metadata": {},
   "source": [
    "## Test (идея, цель, примеры использования)\n",
    "\n",
    "### Идея:\n",
    "\n",
    "Функция, которая реализует подсчет теста и его оформление. На эту функцию накладываются ограничения на сигнатуру: \n",
    "\n",
    "- функция как минимум должна принимать параметры ```model, scorer, sampler, precomputed: dict=None, **kwargs``` \n",
    "- функция должна выдать результат работы в следующем формате (привет SberDS)\n",
    "    ```\n",
    "    {\n",
    "        \"semaphore\": str one of {\"gray\", \"green\", \"yellow\", \"red\"},\n",
    "        \"result_dict\": python object,\n",
    "        \"result_dataframes\": List[pd.DataFrame],\n",
    "        \"result_plots\": List[PIL.Image],\n",
    "    }\n",
    "    ```\n",
    "    где,\n",
    "    - \"semaphore\" -- светофор выставленный за тест\n",
    "    - \"result_dict\" -- python object, который валидатор посчитает полезным для дальнейшего использования\n",
    "    - \"result_dataframes\" -- список таблиц, которые будут отражены в агрегированном excel файле\n",
    "    - \"result_plots\" -- список картинок, которые будут отражены в агрегированном excel файле.\n",
    "- ```sampler``` это единственный источник данных\n",
    "- ```precomputed``` это Dict, который служит для обмена предпосчитанными значениями между тестами (зачем 5 раз считать метрику на oos, если можно 1 раз посчитать и записать это значение в dict)\n",
    "\n",
    "\n",
    "### Цель:\n",
    "\n",
    "Провести тест\n"
   ]
  },
  {
   "cell_type": "code",
   "execution_count": 11,
   "metadata": {},
   "outputs": [
    {
     "data": {
      "text/plain": [
       "{'semaphore': 'green',\n",
       " 'result_dict': {'train_shape': (700, 3)},\n",
       " 'result_dataframes': [   len semaphore\n",
       "  0  700     green],\n",
       " 'result_plots': []}"
      ]
     },
     "execution_count": 11,
     "metadata": {},
     "output_type": "execute_result"
    }
   ],
   "source": [
    "# напишем какой-то тупой тест\n",
    "# По длине train выставляет светофор\n",
    "\n",
    "def custom_test(model, scorer, sampler, threshold = 1, precomputed=None, **kwargs):\n",
    "    semaphore = 'green'\n",
    "    if len(sampler.train['X']) < threshold:\n",
    "        semaphore = 'red'\n",
    "    \n",
    "    df_table = pd.DataFrame({'len': [len(sampler.train['X'])],\n",
    "                             'semaphore': semaphore})\n",
    "    \n",
    "    return {\n",
    "        \"semaphore\": semaphore,\n",
    "        \"result_dict\": {'train_shape':sampler.train['X'].values.shape},\n",
    "        \"result_dataframes\": [df_table],\n",
    "        \"result_plots\": [],\n",
    "    }\n",
    "\n",
    "custom_test(model, scorer, sampler, threshold=5, r_u_angry='True')"
   ]
  },
  {
   "attachments": {},
   "cell_type": "markdown",
   "metadata": {},
   "source": [
    "## Pipeline (идея, цель, примеры использования)\n",
    "\n",
    "### Идея:\n",
    "\n",
    "Отражение понятия методики в нашей бибилиотеке. То есть ```Pipeline``` это список тестов с указанными параметрами и дополнительными метаданными для формирования отчета (*цель теста, интерпретация, способ агрегации блоков*).\n",
    "\n",
    "### Цель:\n",
    "\n",
    "Капсулировать всю информацию из методички\n"
   ]
  },
  {
   "attachments": {},
   "cell_type": "markdown",
   "metadata": {},
   "source": [
    "## Реализация:\n",
    "\n",
    "```Pipeline``` - это excel-файл с двумя страницами\n",
    "- первая страница -- информация о тестах\n",
    "- вторая страница -- информация о блоках."
   ]
  },
  {
   "cell_type": "code",
   "execution_count": 12,
   "metadata": {},
   "outputs": [
    {
     "name": "stderr",
     "output_type": "stream",
     "text": [
      "/Users/azatsultanov/Programming/vallib/vallib_env/lib/python3.8/site-packages/openpyxl/worksheet/_reader.py:329: UserWarning: Unknown extension is not supported and will be removed\n",
      "  warn(msg)\n"
     ]
    },
    {
     "data": {
      "text/html": [
       "<div>\n",
       "<style scoped>\n",
       "    .dataframe tbody tr th:only-of-type {\n",
       "        vertical-align: middle;\n",
       "    }\n",
       "\n",
       "    .dataframe tbody tr th {\n",
       "        vertical-align: top;\n",
       "    }\n",
       "\n",
       "    .dataframe thead th {\n",
       "        text-align: right;\n",
       "    }\n",
       "</style>\n",
       "<table border=\"1\" class=\"dataframe\">\n",
       "  <thead>\n",
       "    <tr style=\"text-align: right;\">\n",
       "      <th></th>\n",
       "      <th>import_path</th>\n",
       "      <th>test_key</th>\n",
       "      <th>block_key</th>\n",
       "      <th>informative</th>\n",
       "      <th>params</th>\n",
       "      <th>Название</th>\n",
       "      <th>Цель</th>\n",
       "      <th>Интерпретация</th>\n",
       "      <th>Границы красный</th>\n",
       "      <th>Границы желтый</th>\n",
       "      <th>Границы зеленый</th>\n",
       "    </tr>\n",
       "  </thead>\n",
       "  <tbody>\n",
       "    <tr>\n",
       "      <th>0</th>\n",
       "      <td>sbe_vallib.table.data_quality.test_psi_factor....</td>\n",
       "      <td>test_factor_psi</td>\n",
       "      <td>data_quality</td>\n",
       "      <td>0</td>\n",
       "      <td>{\"merge_upto_quantile\": 0.05,\\n \"rounding_prec...</td>\n",
       "      <td>Тест 1.2 Анализ однородности выборок out-of-sa...</td>\n",
       "      <td>Убедиться в однородности выборки (в разрезе фа...</td>\n",
       "      <td>Высокое значение PSI свидетельствует о различи...</td>\n",
       "      <td>Не выставляется</td>\n",
       "      <td>PSI ≥ 0,2</td>\n",
       "      <td>PSI &lt; 0,2</td>\n",
       "    </tr>\n",
       "    <tr>\n",
       "      <th>1</th>\n",
       "      <td>sbe_vallib.table.model_quality.test_ci.test_ci</td>\n",
       "      <td>test_ci</td>\n",
       "      <td>model_quality</td>\n",
       "      <td>1</td>\n",
       "      <td>{'metric_name': 'gini',\\n 'n_iter': 200,\\n 'ge...</td>\n",
       "      <td>Тест 2.2 Доверительный интервал ключевой метри...</td>\n",
       "      <td>Наглядно изобразить уровень статистической пог...</td>\n",
       "      <td>Данный тест позволяет оценить фактический разб...</td>\n",
       "      <td>Информативный</td>\n",
       "      <td>Информативный</td>\n",
       "      <td>Информативный</td>\n",
       "    </tr>\n",
       "    <tr>\n",
       "      <th>2</th>\n",
       "      <td>sbe_vallib.table.model_quality.test_key_metric...</td>\n",
       "      <td>test_key_metric</td>\n",
       "      <td>model_quality</td>\n",
       "      <td>0</td>\n",
       "      <td>{'metric_name': 'gini',  'thresholds': (0.2, 0...</td>\n",
       "      <td>Тест 2.1 Анализ ключевой метрики качества (Gin...</td>\n",
       "      <td>Тест проводится для определения способности мо...</td>\n",
       "      <td>Чем выше значение коэффициента Gini, тем лучше...</td>\n",
       "      <td>gini &lt; 0,2</td>\n",
       "      <td>0.2 ≤ gini ≤ 0.4</td>\n",
       "      <td>gini &gt; 0.4</td>\n",
       "    </tr>\n",
       "    <tr>\n",
       "      <th>3</th>\n",
       "      <td>sbe_vallib.table.stability.test_key_metric_sta...</td>\n",
       "      <td>test_key_metric_stability</td>\n",
       "      <td>stability</td>\n",
       "      <td>0</td>\n",
       "      <td>{'metric_name': 'gini',  'abs_thresholds': (0....</td>\n",
       "      <td>Тест 5.1 Анализ стабильности модели на выборка...</td>\n",
       "      <td>Оценить стабильность модели по ключевой метрик...</td>\n",
       "      <td>Чем слабее падает коэффициент Gini, тем стабил...</td>\n",
       "      <td>Абсолютное снижение более 25 п. п. и  относите...</td>\n",
       "      <td>Абсолютное снижение более 15 п. п. И относител...</td>\n",
       "      <td>Абсолютное снижение менее 15 п. п. ИЛИ относит...</td>\n",
       "    </tr>\n",
       "  </tbody>\n",
       "</table>\n",
       "</div>"
      ],
      "text/plain": [
       "                                         import_path  \\\n",
       "0  sbe_vallib.table.data_quality.test_psi_factor....   \n",
       "1     sbe_vallib.table.model_quality.test_ci.test_ci   \n",
       "2  sbe_vallib.table.model_quality.test_key_metric...   \n",
       "3  sbe_vallib.table.stability.test_key_metric_sta...   \n",
       "\n",
       "                    test_key      block_key  informative  \\\n",
       "0            test_factor_psi   data_quality            0   \n",
       "1                    test_ci  model_quality            1   \n",
       "2            test_key_metric  model_quality            0   \n",
       "3  test_key_metric_stability      stability            0   \n",
       "\n",
       "                                              params  \\\n",
       "0  {\"merge_upto_quantile\": 0.05,\\n \"rounding_prec...   \n",
       "1  {'metric_name': 'gini',\\n 'n_iter': 200,\\n 'ge...   \n",
       "2  {'metric_name': 'gini',  'thresholds': (0.2, 0...   \n",
       "3  {'metric_name': 'gini',  'abs_thresholds': (0....   \n",
       "\n",
       "                                            Название  \\\n",
       "0  Тест 1.2 Анализ однородности выборок out-of-sa...   \n",
       "1  Тест 2.2 Доверительный интервал ключевой метри...   \n",
       "2  Тест 2.1 Анализ ключевой метрики качества (Gin...   \n",
       "3  Тест 5.1 Анализ стабильности модели на выборка...   \n",
       "\n",
       "                                                Цель  \\\n",
       "0  Убедиться в однородности выборки (в разрезе фа...   \n",
       "1  Наглядно изобразить уровень статистической пог...   \n",
       "2  Тест проводится для определения способности мо...   \n",
       "3  Оценить стабильность модели по ключевой метрик...   \n",
       "\n",
       "                                       Интерпретация  \\\n",
       "0  Высокое значение PSI свидетельствует о различи...   \n",
       "1  Данный тест позволяет оценить фактический разб...   \n",
       "2  Чем выше значение коэффициента Gini, тем лучше...   \n",
       "3  Чем слабее падает коэффициент Gini, тем стабил...   \n",
       "\n",
       "                                     Границы красный  \\\n",
       "0                                    Не выставляется   \n",
       "1                                      Информативный   \n",
       "2                                         gini < 0,2   \n",
       "3  Абсолютное снижение более 25 п. п. и  относите...   \n",
       "\n",
       "                                      Границы желтый  \\\n",
       "0                                          PSI ≥ 0,2   \n",
       "1                                      Информативный   \n",
       "2                                   0.2 ≤ gini ≤ 0.4   \n",
       "3  Абсолютное снижение более 15 п. п. И относител...   \n",
       "\n",
       "                                     Границы зеленый  \n",
       "0                                          PSI < 0,2  \n",
       "1                                      Информативный  \n",
       "2                                         gini > 0.4  \n",
       "3  Абсолютное снижение менее 15 п. п. ИЛИ относит...  "
      ]
     },
     "execution_count": 12,
     "metadata": {},
     "output_type": "execute_result"
    }
   ],
   "source": [
    "pd.read_excel(\"../src/sbe_vallib/table/pipelines/Config_31.xlsx\", sheet_name=\"tests_config\")"
   ]
  },
  {
   "cell_type": "code",
   "execution_count": 13,
   "metadata": {},
   "outputs": [
    {
     "data": {
      "text/html": [
       "<div>\n",
       "<style scoped>\n",
       "    .dataframe tbody tr th:only-of-type {\n",
       "        vertical-align: middle;\n",
       "    }\n",
       "\n",
       "    .dataframe tbody tr th {\n",
       "        vertical-align: top;\n",
       "    }\n",
       "\n",
       "    .dataframe thead th {\n",
       "        text-align: right;\n",
       "    }\n",
       "</style>\n",
       "<table border=\"1\" class=\"dataframe\">\n",
       "  <thead>\n",
       "    <tr style=\"text-align: right;\">\n",
       "      <th></th>\n",
       "      <th>block_key</th>\n",
       "      <th>print_name</th>\n",
       "      <th>func</th>\n",
       "    </tr>\n",
       "  </thead>\n",
       "  <tbody>\n",
       "    <tr>\n",
       "      <th>0</th>\n",
       "      <td>data_quality</td>\n",
       "      <td>Качество данных</td>\n",
       "      <td>sbe_vallib.utils.report_helper.worst_semaphore</td>\n",
       "    </tr>\n",
       "    <tr>\n",
       "      <th>1</th>\n",
       "      <td>model_quality</td>\n",
       "      <td>Качество модели</td>\n",
       "      <td>sbe_vallib.utils.report_helper.worst_semaphore</td>\n",
       "    </tr>\n",
       "    <tr>\n",
       "      <th>2</th>\n",
       "      <td>calibration</td>\n",
       "      <td>Калибровка</td>\n",
       "      <td>sbe_vallib.utils.report_helper.worst_semaphore</td>\n",
       "    </tr>\n",
       "    <tr>\n",
       "      <th>3</th>\n",
       "      <td>specification</td>\n",
       "      <td>Спецификация</td>\n",
       "      <td>sbe_vallib.utils.report_helper.worst_semaphore</td>\n",
       "    </tr>\n",
       "    <tr>\n",
       "      <th>4</th>\n",
       "      <td>stability</td>\n",
       "      <td>Стабильность</td>\n",
       "      <td>sbe_vallib.utils.report_helper.worst_semaphore</td>\n",
       "    </tr>\n",
       "  </tbody>\n",
       "</table>\n",
       "</div>"
      ],
      "text/plain": [
       "       block_key       print_name  \\\n",
       "0   data_quality  Качество данных   \n",
       "1  model_quality  Качество модели   \n",
       "2    calibration       Калибровка   \n",
       "3  specification     Спецификация   \n",
       "4      stability     Стабильность   \n",
       "\n",
       "                                             func  \n",
       "0  sbe_vallib.utils.report_helper.worst_semaphore  \n",
       "1  sbe_vallib.utils.report_helper.worst_semaphore  \n",
       "2  sbe_vallib.utils.report_helper.worst_semaphore  \n",
       "3  sbe_vallib.utils.report_helper.worst_semaphore  \n",
       "4  sbe_vallib.utils.report_helper.worst_semaphore  "
      ]
     },
     "execution_count": 13,
     "metadata": {},
     "output_type": "execute_result"
    }
   ],
   "source": [
    "pd.read_excel(\"../src/sbe_vallib/table/pipelines/Config_31.xlsx\", sheet_name=\"agg_config\")"
   ]
  },
  {
   "attachments": {},
   "cell_type": "markdown",
   "metadata": {},
   "source": [
    "Excel таблицы парсят вот в такой json, в Validation можно передавать excel и dict. На excel приятно смотреть, а dict приятней редачить"
   ]
  },
  {
   "cell_type": "code",
   "execution_count": 14,
   "metadata": {},
   "outputs": [
    {
     "name": "stderr",
     "output_type": "stream",
     "text": [
      "/Users/azatsultanov/Programming/vallib/vallib_env/lib/python3.8/site-packages/openpyxl/worksheet/_reader.py:329: UserWarning: Unknown extension is not supported and will be removed\n",
      "  warn(msg)\n"
     ]
    },
    {
     "data": {
      "text/plain": [
       "({'test_factor_psi': {'Границы зеленый': 'PSI < 0,2',\n",
       "   'block_key': 'data_quality',\n",
       "   'informative': 0,\n",
       "   'Цель': 'Убедиться в однородности выборки (в разрезе факторов модели) для валидации (out-of-sample, out-of-time) относительно выборки для обучения по каждому классу',\n",
       "   'Границы желтый': 'PSI ≥ 0,2',\n",
       "   'import_path': 'sbe_vallib.table.data_quality.test_psi_factor.test_factor_psi',\n",
       "   'Границы красный': 'Не выставляется',\n",
       "   'Название': 'Тест 1.2 Анализ однородности выборок out-of-sample, out-of-time относительно train выборки (PSI) в разрезе факторов модели',\n",
       "   'Интерпретация': 'Высокое значение PSI свидетельствует о различии в распределениях фактора на тестовой выборке по сравнению с выборкой для разработки, что может в числе прочих факторов свидетельствовать о потенциальной нестабильности модели. При высоких значениях PSI эта зона риска обязательно отражается в отчете о валидации',\n",
       "   'params': {'merge_upto_quantile': 0.05,\n",
       "    'rounding_precision_bins': 5,\n",
       "    'discr_uniq_val': 10,\n",
       "    'discr_val_share': 0.8,\n",
       "    'threshold': (0.2, 10000000)}},\n",
       "  'test_ci': {'Границы зеленый': 'Информативный',\n",
       "   'block_key': 'model_quality',\n",
       "   'informative': 1,\n",
       "   'Цель': 'Наглядно изобразить уровень статистической погрешности (95% доверительный интервал) метрики качества модели и ее динамику на обучающей и на out-of-sample выборках.',\n",
       "   'Границы желтый': 'Информативный',\n",
       "   'import_path': 'sbe_vallib.table.model_quality.test_ci.test_ci',\n",
       "   'Границы красный': 'Информативный',\n",
       "   'Название': 'Тест 2.2 Доверительный интервал ключевой метрики качества Gini',\n",
       "   'Интерпретация': 'Данный тест позволяет оценить фактический разброс метрики качества модели на обучающей и на out-of-sample выборках',\n",
       "   'params': {'metric_name': 'gini',\n",
       "    'n_iter': 200,\n",
       "    'gen_method': 'resampling',\n",
       "    'quantile': 0.95}},\n",
       "  'test_key_metric': {'Границы зеленый': 'gini > 0.4',\n",
       "   'block_key': 'model_quality',\n",
       "   'informative': 0,\n",
       "   'Цель': 'Тест проводится для определения способности модели различать (ранжировать) наблюдения по критерию принадлежности к целевому событию.',\n",
       "   'Границы желтый': '0.2 ≤ gini ≤ 0.4',\n",
       "   'import_path': 'sbe_vallib.table.model_quality.test_key_metric.test_key_metric',\n",
       "   'Границы красный': 'gini < 0,2',\n",
       "   'Название': 'Тест\\xa02.1 Анализ ключевой метрики качества (Gini) модели на out-of-sample выборке',\n",
       "   'Интерпретация': 'Чем выше значение коэффициента Gini, тем лучше разделяются наблюдения и тем лучше работает модель.',\n",
       "   'params': {'metric_name': 'gini',\n",
       "    'thresholds': (0.2, 0.4),\n",
       "    'greater_is_better': True,\n",
       "    'data_type': 'oos'}},\n",
       "  'test_key_metric_stability': {'Границы зеленый': 'Абсолютное снижение менее 15 п. п. ИЛИ относительное снижение менее 20%',\n",
       "   'block_key': 'stability',\n",
       "   'informative': 0,\n",
       "   'Цель': 'Оценить стабильность модели по ключевой метрике качества Gini.',\n",
       "   'Границы желтый': 'Абсолютное снижение более 15 п. п. И относительное снижение более 20%',\n",
       "   'import_path': 'sbe_vallib.table.stability.test_key_metric_stability.test_key_metric_stability',\n",
       "   'Границы красный': 'Абсолютное снижение более 25\\xa0п.\\xa0п. и  относительное снижение более 30%',\n",
       "   'Название': 'Тест\\xa05.1 Анализ стабильности модели на выборках out-of-sample и out-of-time по Gini',\n",
       "   'Интерпретация': 'Чем слабее падает коэффициент Gini, тем стабильнее модель во времени. Красный цвет означает, что с течением времени качество модели серьезно ухудшается, и модель не рекомендуется к эксплуатации. Желтый цвет говорит о граничном случае, когда следует обратить внимание на возможность значительного ухудшения модели и провести анализ коэффициента Gini через определенный временной интервал.',\n",
       "   'params': {'metric_name': 'gini',\n",
       "    'abs_thresholds': (0.15, 0.25),\n",
       "    'rel_thresholds': (0.2, 0.3),\n",
       "    'greater_is_better': True}}},\n",
       " {'data_quality': {'print_name': 'Качество данных',\n",
       "   'func': 'sbe_vallib.utils.report_helper.worst_semaphore'},\n",
       "  'model_quality': {'print_name': 'Качество модели',\n",
       "   'func': 'sbe_vallib.utils.report_helper.worst_semaphore'},\n",
       "  'calibration': {'print_name': 'Калибровка',\n",
       "   'func': 'sbe_vallib.utils.report_helper.worst_semaphore'},\n",
       "  'specification': {'print_name': 'Спецификация',\n",
       "   'func': 'sbe_vallib.utils.report_helper.worst_semaphore'},\n",
       "  'stability': {'print_name': 'Стабильность',\n",
       "   'func': 'sbe_vallib.utils.report_helper.worst_semaphore'}})"
      ]
     },
     "execution_count": 14,
     "metadata": {},
     "output_type": "execute_result"
    }
   ],
   "source": [
    "from sbe_vallib.parser import parse_pipeline\n",
    "\n",
    "parse_pipeline(\"../src/sbe_vallib/table/pipelines/Config_31.xlsx\")"
   ]
  },
  {
   "attachments": {},
   "cell_type": "markdown",
   "metadata": {},
   "source": [
    "## Validation (идея, цель, примеры использования)\n",
    "\n",
    "### Идея:\n",
    "\n",
    "Запуск всех тестов из списка и аггрегация их результатов.\n",
    "\n",
    "### Цель:\n",
    "\n",
    "Удобный запуск тестов\n"
   ]
  },
  {
   "attachments": {},
   "cell_type": "markdown",
   "metadata": {},
   "source": [
    "<img src=\"./images/uml_vallib.jpg\" alt=\"fishy\" class=\"bg-primary mb-1\" width=\"500px\">"
   ]
  },
  {
   "attachments": {},
   "cell_type": "markdown",
   "metadata": {},
   "source": [
    "Можно добавлять в кастомные тесты в провдении валидации без внесения их в excel,\n",
    "просто напишем для теста dict на примере того который получается после парсинга excel\n",
    "\n",
    "```\n",
    "{'test_key': {'block': 'test_block', 'callable': func, 'params': {'a': 4}}, 'informative': 0}\n",
    "```"
   ]
  },
  {
   "cell_type": "code",
   "execution_count": 15,
   "metadata": {},
   "outputs": [
    {
     "name": "stderr",
     "output_type": "stream",
     "text": [
      "/Users/azatsultanov/Programming/vallib/vallib_env/lib/python3.8/site-packages/openpyxl/worksheet/_reader.py:329: UserWarning: Unknown extension is not supported and will be removed\n",
      "  warn(msg)\n"
     ]
    },
    {
     "name": "stdout",
     "output_type": "stream",
     "text": [
      "Test: test_factor_psi started\n",
      "Test: test_ci started\n",
      "Test: test_key_metric started\n",
      "Test: test_key_metric_stability started\n",
      "\tTest: test_key_metric_stability raised an exception:\n",
      "Traceback (most recent call last):\n",
      "  File \"/Users/azatsultanov/Programming/vallib/repo/vallib/src/sbe_vallib/validation.py\", line 131, in validate\n",
      "    tests_result[test_name] = test_function(\n",
      "  File \"/Users/azatsultanov/Programming/vallib/repo/vallib/src/sbe_vallib/table/stability/test_key_metric_stability.py\", line 57, in test_key_metric_stability\n",
      "    metrics_oot = get_source_metrics(\n",
      "  File \"/Users/azatsultanov/Programming/vallib/repo/vallib/src/sbe_vallib/table/model_quality/test_key_metric.py\", line 11, in get_source_metrics\n",
      "    if 'y_pred' not in data:\n",
      "TypeError: argument of type 'NoneType' is not iterable\n",
      "\n",
      "Test: custom_1 started\n",
      "done\n"
     ]
    }
   ],
   "source": [
    "# способ прокидывания custim_test'ов в validation\n",
    "\n",
    "from sbe_vallib.validation import Validation\n",
    "\n",
    "\n",
    "custom_tests = {\n",
    "    \"custom_1\": {\"block\": \"data_quality\", \"callable\": custom_test, \"params\": {\"threshold\": 5000}}\n",
    "}\n",
    "\n",
    "\n",
    "validor = Validation(model,\n",
    "                     sampler,\n",
    "                     scorer,\n",
    "                     custom_tests=custom_tests,\n",
    "                     pipeline=\"../src/sbe_vallib/table/pipelines/Config_31.xlsx\")\n",
    "res = validor.validate()\n",
    "print('done')"
   ]
  },
  {
   "cell_type": "code",
   "execution_count": 16,
   "metadata": {},
   "outputs": [
    {
     "data": {
      "text/plain": [
       "['test_factor_psi',\n",
       " 'test_ci',\n",
       " 'test_key_metric',\n",
       " 'test_key_metric_stability',\n",
       " 'custom_1']"
      ]
     },
     "execution_count": 16,
     "metadata": {},
     "output_type": "execute_result"
    }
   ],
   "source": [
    "list(res.keys())"
   ]
  },
  {
   "cell_type": "code",
   "execution_count": 17,
   "metadata": {},
   "outputs": [
    {
     "data": {
      "text/html": [
       "<div>\n",
       "<style scoped>\n",
       "    .dataframe tbody tr th:only-of-type {\n",
       "        vertical-align: middle;\n",
       "    }\n",
       "\n",
       "    .dataframe tbody tr th {\n",
       "        vertical-align: top;\n",
       "    }\n",
       "\n",
       "    .dataframe thead th {\n",
       "        text-align: right;\n",
       "    }\n",
       "</style>\n",
       "<table border=\"1\" class=\"dataframe\">\n",
       "  <thead>\n",
       "    <tr style=\"text-align: right;\">\n",
       "      <th></th>\n",
       "      <th>feature</th>\n",
       "      <th>psi</th>\n",
       "      <th>feat_type</th>\n",
       "      <th>bins</th>\n",
       "      <th>hist_train</th>\n",
       "      <th>hist_oos</th>\n",
       "      <th>semaphore</th>\n",
       "    </tr>\n",
       "  </thead>\n",
       "  <tbody>\n",
       "    <tr>\n",
       "      <th>0</th>\n",
       "      <td>0</td>\n",
       "      <td>0.046485</td>\n",
       "      <td>Continuous</td>\n",
       "      <td>-inf; -2.48; -2.02; -1.56; -1.10; -0.64; -0.18...</td>\n",
       "      <td>0.00; 0.03; 0.08; 0.29; 0.53; 0.12; 0.15; 0.21...</td>\n",
       "      <td>0.00; 0.03; 0.12; 0.28; 0.51; 0.12; 0.14; 0.21...</td>\n",
       "      <td>green</td>\n",
       "    </tr>\n",
       "    <tr>\n",
       "      <th>1</th>\n",
       "      <td>1</td>\n",
       "      <td>0.05983</td>\n",
       "      <td>Continuous</td>\n",
       "      <td>-inf; -2.75; -2.37; -2.00; -1.63; -1.26; -0.89...</td>\n",
       "      <td>0.00; 0.00; 0.04; 0.06; 0.17; 0.25; 0.33; 0.37...</td>\n",
       "      <td>0.00; 0.02; 0.07; 0.07; 0.13; 0.29; 0.23; 0.47...</td>\n",
       "      <td>green</td>\n",
       "    </tr>\n",
       "    <tr>\n",
       "      <th>2</th>\n",
       "      <td>2</td>\n",
       "      <td>0.067574</td>\n",
       "      <td>Continuous</td>\n",
       "      <td>-inf; -3.13; -2.60; -2.07; -1.54; -1.02; -0.49...</td>\n",
       "      <td>0.00; 0.05; 0.10; 0.12; 0.22; 0.22; 0.23; 0.24...</td>\n",
       "      <td>0.00; 0.02; 0.08; 0.10; 0.21; 0.19; 0.18; 0.32...</td>\n",
       "      <td>green</td>\n",
       "    </tr>\n",
       "  </tbody>\n",
       "</table>\n",
       "</div>"
      ],
      "text/plain": [
       "  feature       psi   feat_type  \\\n",
       "0       0  0.046485  Continuous   \n",
       "1       1   0.05983  Continuous   \n",
       "2       2  0.067574  Continuous   \n",
       "\n",
       "                                                bins  \\\n",
       "0  -inf; -2.48; -2.02; -1.56; -1.10; -0.64; -0.18...   \n",
       "1  -inf; -2.75; -2.37; -2.00; -1.63; -1.26; -0.89...   \n",
       "2  -inf; -3.13; -2.60; -2.07; -1.54; -1.02; -0.49...   \n",
       "\n",
       "                                          hist_train  \\\n",
       "0  0.00; 0.03; 0.08; 0.29; 0.53; 0.12; 0.15; 0.21...   \n",
       "1  0.00; 0.00; 0.04; 0.06; 0.17; 0.25; 0.33; 0.37...   \n",
       "2  0.00; 0.05; 0.10; 0.12; 0.22; 0.22; 0.23; 0.24...   \n",
       "\n",
       "                                            hist_oos semaphore  \n",
       "0  0.00; 0.03; 0.12; 0.28; 0.51; 0.12; 0.14; 0.21...     green  \n",
       "1  0.00; 0.02; 0.07; 0.07; 0.13; 0.29; 0.23; 0.47...     green  \n",
       "2  0.00; 0.02; 0.08; 0.10; 0.21; 0.19; 0.18; 0.32...     green  "
      ]
     },
     "execution_count": 17,
     "metadata": {},
     "output_type": "execute_result"
    }
   ],
   "source": [
    "res['test_factor_psi']['result_dataframes'][0]"
   ]
  },
  {
   "cell_type": "code",
   "execution_count": 18,
   "metadata": {},
   "outputs": [
    {
     "name": "stdout",
     "output_type": "stream",
     "text": [
      "Traceback (most recent call last):\n",
      "  File \"/Users/azatsultanov/Programming/vallib/repo/vallib/src/sbe_vallib/validation.py\", line 131, in validate\n",
      "    tests_result[test_name] = test_function(\n",
      "  File \"/Users/azatsultanov/Programming/vallib/repo/vallib/src/sbe_vallib/table/stability/test_key_metric_stability.py\", line 57, in test_key_metric_stability\n",
      "    metrics_oot = get_source_metrics(\n",
      "  File \"/Users/azatsultanov/Programming/vallib/repo/vallib/src/sbe_vallib/table/model_quality/test_key_metric.py\", line 11, in get_source_metrics\n",
      "    if 'y_pred' not in data:\n",
      "TypeError: argument of type 'NoneType' is not iterable\n",
      "\n"
     ]
    }
   ],
   "source": [
    "print(res['test_key_metric_stability']['result_dataframes'][0]['error'][0])"
   ]
  },
  {
   "cell_type": "code",
   "execution_count": null,
   "metadata": {},
   "outputs": [],
   "source": []
  }
 ],
 "metadata": {
  "kernelspec": {
   "display_name": "vallib_env",
   "language": "python",
   "name": "python3"
  },
  "language_info": {
   "codemirror_mode": {
    "name": "ipython",
    "version": 3
   },
   "file_extension": ".py",
   "mimetype": "text/x-python",
   "name": "python",
   "nbconvert_exporter": "python",
   "pygments_lexer": "ipython3",
   "version": "3.8.5"
  },
  "orig_nbformat": 4,
  "vscode": {
   "interpreter": {
    "hash": "d4cc85873d42337b9e9e8da282a699b0819447065cfa6c32ea38d6a740a63d56"
   }
  }
 },
 "nbformat": 4,
 "nbformat_minor": 2
}
