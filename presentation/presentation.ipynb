{
 "cells": [
  {
   "cell_type": "code",
   "execution_count": 1,
   "metadata": {},
   "outputs": [],
   "source": [
    "%load_ext autoreload\n",
    "%autoreload 2"
   ]
  },
  {
   "cell_type": "code",
   "execution_count": 3,
   "metadata": {},
   "outputs": [],
   "source": [
    "import sys\n",
    "\n",
    "sys.path.append('../')"
   ]
  },
  {
   "attachments": {},
   "cell_type": "markdown",
   "metadata": {},
   "source": [
    "## Sampler (идея, цель, примеры использования)\n",
    "\n",
    "### Идея:\n",
    "\n",
    "бесконечный источник данных из того же распределения, что и данные пришедшие на валидацию. Реализовываться это может подкапотом как угодно.\n",
    "\n",
    "### Цель:\n",
    "\n",
    "у некоторых моделей есть ограничения на *resampling* данных. Данный класс позволяет абстрагироваться от этих тонкостей, предоставляя единый интерфейс, плюс единая обертка над данными.\n"
   ]
  },
  {
   "attachments": {},
   "cell_type": "markdown",
   "metadata": {},
   "source": [
    "### Типичные примеры исполльзования"
   ]
  },
  {
   "cell_type": "code",
   "execution_count": 19,
   "metadata": {},
   "outputs": [
    {
     "data": {
      "text/html": [
       "<div>\n",
       "<style scoped>\n",
       "    .dataframe tbody tr th:only-of-type {\n",
       "        vertical-align: middle;\n",
       "    }\n",
       "\n",
       "    .dataframe tbody tr th {\n",
       "        vertical-align: top;\n",
       "    }\n",
       "\n",
       "    .dataframe thead th {\n",
       "        text-align: right;\n",
       "    }\n",
       "</style>\n",
       "<table border=\"1\" class=\"dataframe\">\n",
       "  <thead>\n",
       "    <tr style=\"text-align: right;\">\n",
       "      <th></th>\n",
       "      <th>0</th>\n",
       "      <th>1</th>\n",
       "      <th>2</th>\n",
       "    </tr>\n",
       "  </thead>\n",
       "  <tbody>\n",
       "    <tr>\n",
       "      <th>23</th>\n",
       "      <td>0.955084</td>\n",
       "      <td>1.079619</td>\n",
       "      <td>-1.621842</td>\n",
       "    </tr>\n",
       "    <tr>\n",
       "      <th>37</th>\n",
       "      <td>-0.903344</td>\n",
       "      <td>0.399046</td>\n",
       "      <td>1.794451</td>\n",
       "    </tr>\n",
       "    <tr>\n",
       "      <th>9</th>\n",
       "      <td>-1.273960</td>\n",
       "      <td>-0.466419</td>\n",
       "      <td>-0.043784</td>\n",
       "    </tr>\n",
       "  </tbody>\n",
       "</table>\n",
       "</div>"
      ],
      "text/plain": [
       "           0         1         2\n",
       "23  0.955084  1.079619 -1.621842\n",
       "37 -0.903344  0.399046  1.794451\n",
       "9  -1.273960 -0.466419 -0.043784"
      ]
     },
     "metadata": {},
     "output_type": "display_data"
    },
    {
     "data": {
      "text/html": [
       "<div>\n",
       "<style scoped>\n",
       "    .dataframe tbody tr th:only-of-type {\n",
       "        vertical-align: middle;\n",
       "    }\n",
       "\n",
       "    .dataframe tbody tr th {\n",
       "        vertical-align: top;\n",
       "    }\n",
       "\n",
       "    .dataframe thead th {\n",
       "        text-align: right;\n",
       "    }\n",
       "</style>\n",
       "<table border=\"1\" class=\"dataframe\">\n",
       "  <thead>\n",
       "    <tr style=\"text-align: right;\">\n",
       "      <th></th>\n",
       "      <th>0</th>\n",
       "      <th>1</th>\n",
       "      <th>2</th>\n",
       "    </tr>\n",
       "  </thead>\n",
       "  <tbody>\n",
       "    <tr>\n",
       "      <th>49</th>\n",
       "      <td>2.341376</td>\n",
       "      <td>0.693773</td>\n",
       "      <td>1.470499</td>\n",
       "    </tr>\n",
       "    <tr>\n",
       "      <th>61</th>\n",
       "      <td>-1.457090</td>\n",
       "      <td>2.259309</td>\n",
       "      <td>0.486681</td>\n",
       "    </tr>\n",
       "    <tr>\n",
       "      <th>5</th>\n",
       "      <td>-1.203742</td>\n",
       "      <td>0.523891</td>\n",
       "      <td>-0.289788</td>\n",
       "    </tr>\n",
       "  </tbody>\n",
       "</table>\n",
       "</div>"
      ],
      "text/plain": [
       "           0         1         2\n",
       "49  2.341376  0.693773  1.470499\n",
       "61 -1.457090  2.259309  0.486681\n",
       "5  -1.203742  0.523891 -0.289788"
      ]
     },
     "metadata": {},
     "output_type": "display_data"
    }
   ],
   "source": [
    "# Данные\n",
    "from sklearn.datasets import make_classification\n",
    "from sklearn.model_selection import train_test_split\n",
    "import pandas as pd\n",
    "import numpy as np\n",
    "from IPython.display import display\n",
    "\n",
    "\n",
    "X, y = make_classification(n_samples=100, n_classes=2,\n",
    "                           n_features=3, n_informative=2,\n",
    "                           n_redundant=0, random_state=0)\n",
    "X = pd.DataFrame(X)\n",
    "y = pd.Series(y)\n",
    "X_train, X_test,  y_train, y_test = train_test_split(X, y, test_size=0.3, stratify=y)\n",
    "\n",
    "\n",
    "display(X_train[:3])\n",
    "display(X_test[:3])"
   ]
  },
  {
   "cell_type": "code",
   "execution_count": 32,
   "metadata": {},
   "outputs": [],
   "source": [
    "# Создаем sampler\n",
    "from sbe_vallib import SupervisedSampler\n",
    "\n",
    "sampler = SupervisedSampler(train={'X': X_train, 'y_true': y_train},\n",
    "                            oos = {'X': X_test, 'y_true': y_test})"
   ]
  },
  {
   "cell_type": "code",
   "execution_count": 33,
   "metadata": {},
   "outputs": [
    {
     "data": {
      "text/html": [
       "<div>\n",
       "<style scoped>\n",
       "    .dataframe tbody tr th:only-of-type {\n",
       "        vertical-align: middle;\n",
       "    }\n",
       "\n",
       "    .dataframe tbody tr th {\n",
       "        vertical-align: top;\n",
       "    }\n",
       "\n",
       "    .dataframe thead th {\n",
       "        text-align: right;\n",
       "    }\n",
       "</style>\n",
       "<table border=\"1\" class=\"dataframe\">\n",
       "  <thead>\n",
       "    <tr style=\"text-align: right;\">\n",
       "      <th></th>\n",
       "      <th>0</th>\n",
       "      <th>1</th>\n",
       "      <th>2</th>\n",
       "    </tr>\n",
       "  </thead>\n",
       "  <tbody>\n",
       "    <tr>\n",
       "      <th>23</th>\n",
       "      <td>0.955084</td>\n",
       "      <td>1.079619</td>\n",
       "      <td>-1.621842</td>\n",
       "    </tr>\n",
       "    <tr>\n",
       "      <th>37</th>\n",
       "      <td>-0.903344</td>\n",
       "      <td>0.399046</td>\n",
       "      <td>1.794451</td>\n",
       "    </tr>\n",
       "    <tr>\n",
       "      <th>9</th>\n",
       "      <td>-1.273960</td>\n",
       "      <td>-0.466419</td>\n",
       "      <td>-0.043784</td>\n",
       "    </tr>\n",
       "    <tr>\n",
       "      <th>77</th>\n",
       "      <td>-0.136509</td>\n",
       "      <td>-0.297791</td>\n",
       "      <td>0.733900</td>\n",
       "    </tr>\n",
       "  </tbody>\n",
       "</table>\n",
       "</div>"
      ],
      "text/plain": [
       "           0         1         2\n",
       "23  0.955084  1.079619 -1.621842\n",
       "37 -0.903344  0.399046  1.794451\n",
       "9  -1.273960 -0.466419 -0.043784\n",
       "77 -0.136509 -0.297791  0.733900"
      ]
     },
     "metadata": {},
     "output_type": "display_data"
    },
    {
     "data": {
      "text/html": [
       "<div>\n",
       "<style scoped>\n",
       "    .dataframe tbody tr th:only-of-type {\n",
       "        vertical-align: middle;\n",
       "    }\n",
       "\n",
       "    .dataframe tbody tr th {\n",
       "        vertical-align: top;\n",
       "    }\n",
       "\n",
       "    .dataframe thead th {\n",
       "        text-align: right;\n",
       "    }\n",
       "</style>\n",
       "<table border=\"1\" class=\"dataframe\">\n",
       "  <thead>\n",
       "    <tr style=\"text-align: right;\">\n",
       "      <th></th>\n",
       "      <th>0</th>\n",
       "      <th>1</th>\n",
       "      <th>2</th>\n",
       "    </tr>\n",
       "  </thead>\n",
       "  <tbody>\n",
       "    <tr>\n",
       "      <th>11</th>\n",
       "      <td>0.313381</td>\n",
       "      <td>1.211145</td>\n",
       "      <td>1.120735</td>\n",
       "    </tr>\n",
       "    <tr>\n",
       "      <th>22</th>\n",
       "      <td>-1.285329</td>\n",
       "      <td>-0.944446</td>\n",
       "      <td>-1.308192</td>\n",
       "    </tr>\n",
       "    <tr>\n",
       "      <th>49</th>\n",
       "      <td>2.341376</td>\n",
       "      <td>0.693773</td>\n",
       "      <td>1.470499</td>\n",
       "    </tr>\n",
       "    <tr>\n",
       "      <th>22</th>\n",
       "      <td>-1.285329</td>\n",
       "      <td>-0.944446</td>\n",
       "      <td>-1.308192</td>\n",
       "    </tr>\n",
       "  </tbody>\n",
       "</table>\n",
       "</div>"
      ],
      "text/plain": [
       "           0         1         2\n",
       "11  0.313381  1.211145  1.120735\n",
       "22 -1.285329 -0.944446 -1.308192\n",
       "49  2.341376  0.693773  1.470499\n",
       "22 -1.285329 -0.944446 -1.308192"
      ]
     },
     "metadata": {},
     "output_type": "display_data"
    }
   ],
   "source": [
    "# Получаем resampling версию данных\n",
    "\n",
    "sampler.set_state(seed=5, gen_method='bootstrap')\n",
    "\n",
    "display(sampler.train['X'][:4])\n",
    "display(sampler.oos['X'][:4])\n"
   ]
  },
  {
   "cell_type": "code",
   "execution_count": 34,
   "metadata": {},
   "outputs": [
    {
     "data": {
      "text/html": [
       "<div>\n",
       "<style scoped>\n",
       "    .dataframe tbody tr th:only-of-type {\n",
       "        vertical-align: middle;\n",
       "    }\n",
       "\n",
       "    .dataframe tbody tr th {\n",
       "        vertical-align: top;\n",
       "    }\n",
       "\n",
       "    .dataframe thead th {\n",
       "        text-align: right;\n",
       "    }\n",
       "</style>\n",
       "<table border=\"1\" class=\"dataframe\">\n",
       "  <thead>\n",
       "    <tr style=\"text-align: right;\">\n",
       "      <th></th>\n",
       "      <th>0</th>\n",
       "      <th>1</th>\n",
       "      <th>2</th>\n",
       "    </tr>\n",
       "  </thead>\n",
       "  <tbody>\n",
       "    <tr>\n",
       "      <th>23</th>\n",
       "      <td>0.955084</td>\n",
       "      <td>1.079619</td>\n",
       "      <td>-1.621842</td>\n",
       "    </tr>\n",
       "    <tr>\n",
       "      <th>37</th>\n",
       "      <td>-0.903344</td>\n",
       "      <td>0.399046</td>\n",
       "      <td>1.794451</td>\n",
       "    </tr>\n",
       "    <tr>\n",
       "      <th>9</th>\n",
       "      <td>-1.273960</td>\n",
       "      <td>-0.466419</td>\n",
       "      <td>-0.043784</td>\n",
       "    </tr>\n",
       "    <tr>\n",
       "      <th>77</th>\n",
       "      <td>-0.136509</td>\n",
       "      <td>-0.297791</td>\n",
       "      <td>0.733900</td>\n",
       "    </tr>\n",
       "  </tbody>\n",
       "</table>\n",
       "</div>"
      ],
      "text/plain": [
       "           0         1         2\n",
       "23  0.955084  1.079619 -1.621842\n",
       "37 -0.903344  0.399046  1.794451\n",
       "9  -1.273960 -0.466419 -0.043784\n",
       "77 -0.136509 -0.297791  0.733900"
      ]
     },
     "metadata": {},
     "output_type": "display_data"
    },
    {
     "data": {
      "text/html": [
       "<div>\n",
       "<style scoped>\n",
       "    .dataframe tbody tr th:only-of-type {\n",
       "        vertical-align: middle;\n",
       "    }\n",
       "\n",
       "    .dataframe tbody tr th {\n",
       "        vertical-align: top;\n",
       "    }\n",
       "\n",
       "    .dataframe thead th {\n",
       "        text-align: right;\n",
       "    }\n",
       "</style>\n",
       "<table border=\"1\" class=\"dataframe\">\n",
       "  <thead>\n",
       "    <tr style=\"text-align: right;\">\n",
       "      <th></th>\n",
       "      <th>0</th>\n",
       "      <th>1</th>\n",
       "      <th>2</th>\n",
       "    </tr>\n",
       "  </thead>\n",
       "  <tbody>\n",
       "    <tr>\n",
       "      <th>49</th>\n",
       "      <td>2.341376</td>\n",
       "      <td>0.693773</td>\n",
       "      <td>1.470499</td>\n",
       "    </tr>\n",
       "    <tr>\n",
       "      <th>61</th>\n",
       "      <td>-1.457090</td>\n",
       "      <td>2.259309</td>\n",
       "      <td>0.486681</td>\n",
       "    </tr>\n",
       "    <tr>\n",
       "      <th>5</th>\n",
       "      <td>-1.203742</td>\n",
       "      <td>0.523891</td>\n",
       "      <td>-0.289788</td>\n",
       "    </tr>\n",
       "    <tr>\n",
       "      <th>34</th>\n",
       "      <td>0.923281</td>\n",
       "      <td>-0.132881</td>\n",
       "      <td>-1.308135</td>\n",
       "    </tr>\n",
       "  </tbody>\n",
       "</table>\n",
       "</div>"
      ],
      "text/plain": [
       "           0         1         2\n",
       "49  2.341376  0.693773  1.470499\n",
       "61 -1.457090  2.259309  0.486681\n",
       "5  -1.203742  0.523891 -0.289788\n",
       "34  0.923281 -0.132881 -1.308135"
      ]
     },
     "metadata": {},
     "output_type": "display_data"
    }
   ],
   "source": [
    "# Получаем исходные данные\n",
    "\n",
    "sampler.reset()\n",
    "\n",
    "display(sampler.train['X'][:4])\n",
    "display(sampler.oos['X'][:4])"
   ]
  },
  {
   "attachments": {},
   "cell_type": "markdown",
   "metadata": {},
   "source": [
    "## Scorer (идея, цель, примеры использования)\n",
    "\n",
    "### Идея:\n",
    "\n",
    "Идея этого класса - посчитать скопом заранее заданные метрики при вызове метода ```scorer.score()```\n",
    "\n",
    "### Цель:\n",
    "\n",
    "Причина появления: модели могут оцениваются самыми разными способами, все не уложить в тип ```func(y_true, y_pred)``` (*например YOLO*). С помощью этого класса абстрагируемся от этого, оставляя реализацию в нестандартных случаях на валидатора.\n"
   ]
  },
  {
   "cell_type": "code",
   "execution_count": 43,
   "metadata": {},
   "outputs": [],
   "source": [
    "# создаем scorer\n",
    "from sbe_vallib import BinaryScorer\n",
    "from sbe_vallib.validation.utils.metrics import BINARY_METRICS\n",
    "\n",
    "scorer = BinaryScorer(metrics=BINARY_METRICS, cutoff=0.1)"
   ]
  },
  {
   "cell_type": "code",
   "execution_count": 44,
   "metadata": {},
   "outputs": [
    {
     "data": {
      "text/plain": [
       "['accuracy_score', 'precision_score', 'recall_score', 'f1_score', 'gini']"
      ]
     },
     "execution_count": 44,
     "metadata": {},
     "output_type": "execute_result"
    }
   ],
   "source": [
    "list(BINARY_METRICS.keys())"
   ]
  },
  {
   "cell_type": "markdown",
   "metadata": {},
   "source": [
    "### Типичные примеры исполльзования"
   ]
  },
  {
   "cell_type": "code",
   "execution_count": 45,
   "metadata": {},
   "outputs": [],
   "source": [
    "# для начала создадим модель\n",
    "\n",
    "from sklearn.linear_model import LogisticRegression\n",
    "\n",
    "sampler.reset()\n",
    "model = LogisticRegression().fit(sampler.train['X'], sampler.train['y_true'])"
   ]
  },
  {
   "cell_type": "code",
   "execution_count": 46,
   "metadata": {},
   "outputs": [
    {
     "data": {
      "text/plain": [
       "{'accuracy_score': 0.7,\n",
       " 'precision_score': 0.6363636363636364,\n",
       " 'recall_score': 0.9333333333333333,\n",
       " 'f1_score': 0.7567567567567568,\n",
       " 'gini': 0.8844444444444444}"
      ]
     },
     "execution_count": 46,
     "metadata": {},
     "output_type": "execute_result"
    }
   ],
   "source": [
    "scorer.score(sampler.oos['y_true'], model.predict_proba(sampler.oos['X']))"
   ]
  },
  {
   "attachments": {},
   "cell_type": "markdown",
   "metadata": {},
   "source": [
    "## Test (идея, цель, примеры использования)\n",
    "\n",
    "### Идея:\n",
    "\n",
    "Функция, которая реализует подсчет теста и его оформление. На эту функцию накладываются ограничения на сигнатуру: \n",
    "\n",
    "- функция как минимум должна принимать параметры ```model, scorer, sampler, **kwargs``` \n",
    "- функция должна выдать результат работы в следующем формате (привет SberDS)\n",
    "    ```\n",
    "    {\n",
    "        \"semaphore\": str one of {\"gray\", \"green\", \"yellow\", \"red\"},\n",
    "        \"result_dict\": python object,\n",
    "        \"result_dataframes\": List[pd.DataFrame],\n",
    "        \"result_plots\": List[plt.figure],\n",
    "    }\n",
    "    ```\n",
    "    где,\n",
    "    - \"semaphore\" -- светофор выставленный за тест\n",
    "    - \"result_dict\" -- python object, который валидатор посчитает полезным для дальнейшего использования\n",
    "    - \"result_dataframes\" -- список таблиц, которые будут отражены в агрегированном excel файле\n",
    "    - \"result_plots\" -- список рисунков, которые будут отражены в агрегированном excel файле.\n",
    "- ```sampler``` это единственный источник данных\n",
    "\n",
    "\n",
    "### Цель:\n",
    "\n",
    "Провести кастомный тест или из методики\n"
   ]
  },
  {
   "cell_type": "code",
   "execution_count": 47,
   "metadata": {},
   "outputs": [
    {
     "data": {
      "text/plain": [
       "{'semaphore': 'green',\n",
       " 'result_dict': {'train_shape': (70, 3)},\n",
       " 'result_dataframes': [   len semaphore\n",
       "  0   70     green],\n",
       " 'result_plots': []}"
      ]
     },
     "execution_count": 47,
     "metadata": {},
     "output_type": "execute_result"
    }
   ],
   "source": [
    "# напишем какой-то тупой тест\n",
    "\n",
    "def custom_test(model, scorer, sampler, threshold = 1, **kwargs):\n",
    "    semaphore = 'green'\n",
    "    if len(sampler.train['X']) < threshold:\n",
    "        semaphore = 'red'\n",
    "    \n",
    "    df_table = pd.DataFrame({'len': [len(sampler.train['X'])],\n",
    "                             'semaphore': semaphore})\n",
    "    \n",
    "    return {\n",
    "        \"semaphore\": semaphore,\n",
    "        \"result_dict\": {'train_shape':sampler.train['X'].values.shape},\n",
    "        \"result_dataframes\": [df_table],\n",
    "        \"result_plots\": [],\n",
    "    }\n",
    "\n",
    "custom_test(model, scorer, sampler, threshold=5, r_u_angry='True')"
   ]
  },
  {
   "attachments": {},
   "cell_type": "markdown",
   "metadata": {},
   "source": [
    "## Pipeline (идея, цель, примеры использования)\n",
    "\n",
    "### Идея:\n",
    "\n",
    "Отражение понятия методики в нашей бибилиотеке. То есть ```Pipeline``` это список тестов с указанными параметрами и дополнительными метаданными для формирования отчета (*цель теста, интерпретация, способ агрегации блоков*).\n",
    "\n",
    "### Цель:\n",
    "\n",
    "Капсулировать всю информацию из методички\n"
   ]
  },
  {
   "attachments": {},
   "cell_type": "markdown",
   "metadata": {},
   "source": [
    "## Реализация:\n",
    "\n",
    "```Pipeline``` - это excel-файл с двумя страницами\n",
    "- первая страница -- информация о тестах\n",
    "- вторая страница -- информация о блоках."
   ]
  },
  {
   "cell_type": "code",
   "execution_count": 49,
   "metadata": {},
   "outputs": [
    {
     "data": {
      "text/html": [
       "<div>\n",
       "<style scoped>\n",
       "    .dataframe tbody tr th:only-of-type {\n",
       "        vertical-align: middle;\n",
       "    }\n",
       "\n",
       "    .dataframe tbody tr th {\n",
       "        vertical-align: top;\n",
       "    }\n",
       "\n",
       "    .dataframe thead th {\n",
       "        text-align: right;\n",
       "    }\n",
       "</style>\n",
       "<table border=\"1\" class=\"dataframe\">\n",
       "  <thead>\n",
       "    <tr style=\"text-align: right;\">\n",
       "      <th></th>\n",
       "      <th>import_path</th>\n",
       "      <th>test_key</th>\n",
       "      <th>block_key</th>\n",
       "      <th>Название блока</th>\n",
       "      <th>Название</th>\n",
       "      <th>Цель</th>\n",
       "      <th>Интерпретация</th>\n",
       "      <th>Границы красный</th>\n",
       "      <th>Границы желтый</th>\n",
       "      <th>Границы зеленый</th>\n",
       "      <th>params</th>\n",
       "    </tr>\n",
       "  </thead>\n",
       "  <tbody>\n",
       "    <tr>\n",
       "      <th>0</th>\n",
       "      <td>sbe_vallib.validation.table.general_tests.data...</td>\n",
       "      <td>test_factor_psi</td>\n",
       "      <td>data_quality</td>\n",
       "      <td>Качество данных</td>\n",
       "      <td>Тест 1.2 Анализ однородности выборок out-of-sa...</td>\n",
       "      <td>Убедиться в однородности выборки (в разрезе фа...</td>\n",
       "      <td>Высокое значение PSI свидетельствует о различи...</td>\n",
       "      <td>NaN</td>\n",
       "      <td>PSI ≥ 0,2</td>\n",
       "      <td>PSI &lt; 0,2</td>\n",
       "      <td>{\"merge_upto_quantile\": 0.05,\\n \"rounding_prec...</td>\n",
       "    </tr>\n",
       "    <tr>\n",
       "      <th>1</th>\n",
       "      <td>sbe_vallib.validation.table.general_tests.mode...</td>\n",
       "      <td>test_ci</td>\n",
       "      <td>model_quality</td>\n",
       "      <td>Качество модели</td>\n",
       "      <td>Тест 2.2 Доверительный интервал ключевой метри...</td>\n",
       "      <td>Наглядно изобразить уровень статистической пог...</td>\n",
       "      <td>Данный тест позволяет оценить фактический разб...</td>\n",
       "      <td>NaN</td>\n",
       "      <td>NaN</td>\n",
       "      <td>NaN</td>\n",
       "      <td>{\"n_iter\": 200, \"use_predict_proba\": True}</td>\n",
       "    </tr>\n",
       "  </tbody>\n",
       "</table>\n",
       "</div>"
      ],
      "text/plain": [
       "                                         import_path         test_key  \\\n",
       "0  sbe_vallib.validation.table.general_tests.data...  test_factor_psi   \n",
       "1  sbe_vallib.validation.table.general_tests.mode...          test_ci   \n",
       "\n",
       "       block_key   Название блока  \\\n",
       "0   data_quality  Качество данных   \n",
       "1  model_quality  Качество модели   \n",
       "\n",
       "                                            Название  \\\n",
       "0  Тест 1.2 Анализ однородности выборок out-of-sa...   \n",
       "1  Тест 2.2 Доверительный интервал ключевой метри...   \n",
       "\n",
       "                                                Цель  \\\n",
       "0  Убедиться в однородности выборки (в разрезе фа...   \n",
       "1  Наглядно изобразить уровень статистической пог...   \n",
       "\n",
       "                                       Интерпретация  Границы красный  \\\n",
       "0  Высокое значение PSI свидетельствует о различи...              NaN   \n",
       "1  Данный тест позволяет оценить фактический разб...              NaN   \n",
       "\n",
       "  Границы желтый Границы зеленый  \\\n",
       "0      PSI ≥ 0,2       PSI < 0,2   \n",
       "1            NaN             NaN   \n",
       "\n",
       "                                              params  \n",
       "0  {\"merge_upto_quantile\": 0.05,\\n \"rounding_prec...  \n",
       "1         {\"n_iter\": 200, \"use_predict_proba\": True}  "
      ]
     },
     "execution_count": 49,
     "metadata": {},
     "output_type": "execute_result"
    }
   ],
   "source": [
    "pd.read_excel('../sbe_vallib/validation/table/pipelines/Config_31.xlsx', sheet_name=\"tests_config\")"
   ]
  },
  {
   "cell_type": "code",
   "execution_count": 50,
   "metadata": {},
   "outputs": [
    {
     "data": {
      "text/html": [
       "<div>\n",
       "<style scoped>\n",
       "    .dataframe tbody tr th:only-of-type {\n",
       "        vertical-align: middle;\n",
       "    }\n",
       "\n",
       "    .dataframe tbody tr th {\n",
       "        vertical-align: top;\n",
       "    }\n",
       "\n",
       "    .dataframe thead th {\n",
       "        text-align: right;\n",
       "    }\n",
       "</style>\n",
       "<table border=\"1\" class=\"dataframe\">\n",
       "  <thead>\n",
       "    <tr style=\"text-align: right;\">\n",
       "      <th></th>\n",
       "      <th>block_key</th>\n",
       "      <th>func</th>\n",
       "    </tr>\n",
       "  </thead>\n",
       "  <tbody>\n",
       "    <tr>\n",
       "      <th>0</th>\n",
       "      <td>data_quality</td>\n",
       "      <td>sbe_vallib.validation.worst_semaphore</td>\n",
       "    </tr>\n",
       "    <tr>\n",
       "      <th>1</th>\n",
       "      <td>model_quality</td>\n",
       "      <td>sbe_vallib.validation.worst_semaphore</td>\n",
       "    </tr>\n",
       "    <tr>\n",
       "      <th>2</th>\n",
       "      <td>calibration</td>\n",
       "      <td>sbe_vallib.validation.worst_semaphore</td>\n",
       "    </tr>\n",
       "    <tr>\n",
       "      <th>3</th>\n",
       "      <td>specification</td>\n",
       "      <td>sbe_vallib.validation.worst_semaphore</td>\n",
       "    </tr>\n",
       "    <tr>\n",
       "      <th>4</th>\n",
       "      <td>stability</td>\n",
       "      <td>sbe_vallib.validation.worst_semaphore</td>\n",
       "    </tr>\n",
       "  </tbody>\n",
       "</table>\n",
       "</div>"
      ],
      "text/plain": [
       "       block_key                                   func\n",
       "0   data_quality  sbe_vallib.validation.worst_semaphore\n",
       "1  model_quality  sbe_vallib.validation.worst_semaphore\n",
       "2    calibration  sbe_vallib.validation.worst_semaphore\n",
       "3  specification  sbe_vallib.validation.worst_semaphore\n",
       "4      stability  sbe_vallib.validation.worst_semaphore"
      ]
     },
     "execution_count": 50,
     "metadata": {},
     "output_type": "execute_result"
    }
   ],
   "source": [
    "pd.read_excel('../sbe_vallib/validation/table/pipelines/Config_31.xlsx', sheet_name=\"agg_config\")"
   ]
  },
  {
   "attachments": {},
   "cell_type": "markdown",
   "metadata": {},
   "source": [
    "## Validation (идея, цель, примеры использования)\n",
    "\n",
    "### Идея:\n",
    "\n",
    "Запуск всех тестов из списка и аггрегация их результатов.\n",
    "\n",
    "### Цель:\n",
    "\n",
    "Удобный запуск тестов\n"
   ]
  },
  {
   "attachments": {},
   "cell_type": "markdown",
   "metadata": {},
   "source": [
    "<img src=\"./images/uml_vallib.jpg\" alt=\"fishy\" class=\"bg-primary mb-1\" width=\"500px\">"
   ]
  },
  {
   "cell_type": "code",
   "execution_count": 80,
   "metadata": {},
   "outputs": [],
   "source": [
    "# способ прокидывания custim_test'ов в validation\n",
    "\n",
    "from sbe_vallib import Validation\n",
    "\n",
    "custom_tests = {\n",
    "    \"custom_1\": {\"block\": \"data_quality\", \"callable\": custom_test, \"params\": {\"threshold\": 5000}}\n",
    "}\n",
    "\n",
    "\n",
    "validor = Validation(model,\n",
    "                     sampler,\n",
    "                     scorer,\n",
    "                     custom_tests=custom_tests,\n",
    "                     pipeline='../sbe_vallib/validation/table/pipelines/Config_31.xlsx')\n",
    "res = validor.validate()"
   ]
  },
  {
   "cell_type": "code",
   "execution_count": 81,
   "metadata": {},
   "outputs": [
    {
     "data": {
      "text/plain": [
       "['test_factor_psi', 'test_ci', 'custom_1']"
      ]
     },
     "execution_count": 81,
     "metadata": {},
     "output_type": "execute_result"
    }
   ],
   "source": [
    "list(res.keys())"
   ]
  },
  {
   "cell_type": "code",
   "execution_count": 82,
   "metadata": {},
   "outputs": [
    {
     "data": {
      "text/html": [
       "<div>\n",
       "<style scoped>\n",
       "    .dataframe tbody tr th:only-of-type {\n",
       "        vertical-align: middle;\n",
       "    }\n",
       "\n",
       "    .dataframe tbody tr th {\n",
       "        vertical-align: top;\n",
       "    }\n",
       "\n",
       "    .dataframe thead th {\n",
       "        text-align: right;\n",
       "    }\n",
       "</style>\n",
       "<table border=\"1\" class=\"dataframe\">\n",
       "  <thead>\n",
       "    <tr style=\"text-align: right;\">\n",
       "      <th></th>\n",
       "      <th>0</th>\n",
       "      <th>1</th>\n",
       "      <th>2</th>\n",
       "    </tr>\n",
       "  </thead>\n",
       "  <tbody>\n",
       "    <tr>\n",
       "      <th>psi</th>\n",
       "      <td>6.579536</td>\n",
       "      <td>4.066337</td>\n",
       "      <td>2.684069</td>\n",
       "    </tr>\n",
       "    <tr>\n",
       "      <th>feat_type</th>\n",
       "      <td>Continuous</td>\n",
       "      <td>Continuous</td>\n",
       "      <td>Continuous</td>\n",
       "    </tr>\n",
       "    <tr>\n",
       "      <th>bin_count</th>\n",
       "      <td>21</td>\n",
       "      <td>21</td>\n",
       "      <td>21</td>\n",
       "    </tr>\n",
       "    <tr>\n",
       "      <th>hist_train</th>\n",
       "      <td>0.000 ;4.000 ;4.000 ;4.000 ;4.000 ;4.000 ;4.00...</td>\n",
       "      <td>0.000 ;4.000 ;4.000 ;4.000 ;4.000 ;4.000 ;4.00...</td>\n",
       "      <td>0.000 ;4.000 ;4.000 ;4.000 ;4.000 ;4.000 ;4.00...</td>\n",
       "    </tr>\n",
       "    <tr>\n",
       "      <th>hist_oos</th>\n",
       "      <td>0.000 ;0.000 ;5.000 ;5.000 ;1.000 ;2.000 ;0.00...</td>\n",
       "      <td>0.000 ;1.000 ;1.000 ;0.000 ;4.000 ;2.000 ;0.00...</td>\n",
       "      <td>1.000 ;0.000 ;1.000 ;2.000 ;2.000 ;1.000 ;3.00...</td>\n",
       "    </tr>\n",
       "    <tr>\n",
       "      <th>bins</th>\n",
       "      <td>[-inf, -3.19884, -2.22186, -1.27338, -1.12875,...</td>\n",
       "      <td>[-inf, -2.77309, -1.6755, -1.38286, -1.18836, ...</td>\n",
       "      <td>[-inf, -3.58792, -2.38039, -1.62146, -1.2434, ...</td>\n",
       "    </tr>\n",
       "    <tr>\n",
       "      <th>feature</th>\n",
       "      <td>0</td>\n",
       "      <td>1</td>\n",
       "      <td>2</td>\n",
       "    </tr>\n",
       "    <tr>\n",
       "      <th>semaphore</th>\n",
       "      <td>red</td>\n",
       "      <td>red</td>\n",
       "      <td>red</td>\n",
       "    </tr>\n",
       "  </tbody>\n",
       "</table>\n",
       "</div>"
      ],
      "text/plain": [
       "                                                            0  \\\n",
       "psi                                                  6.579536   \n",
       "feat_type                                          Continuous   \n",
       "bin_count                                                  21   \n",
       "hist_train  0.000 ;4.000 ;4.000 ;4.000 ;4.000 ;4.000 ;4.00...   \n",
       "hist_oos    0.000 ;0.000 ;5.000 ;5.000 ;1.000 ;2.000 ;0.00...   \n",
       "bins        [-inf, -3.19884, -2.22186, -1.27338, -1.12875,...   \n",
       "feature                                                     0   \n",
       "semaphore                                                 red   \n",
       "\n",
       "                                                            1  \\\n",
       "psi                                                  4.066337   \n",
       "feat_type                                          Continuous   \n",
       "bin_count                                                  21   \n",
       "hist_train  0.000 ;4.000 ;4.000 ;4.000 ;4.000 ;4.000 ;4.00...   \n",
       "hist_oos    0.000 ;1.000 ;1.000 ;0.000 ;4.000 ;2.000 ;0.00...   \n",
       "bins        [-inf, -2.77309, -1.6755, -1.38286, -1.18836, ...   \n",
       "feature                                                     1   \n",
       "semaphore                                                 red   \n",
       "\n",
       "                                                            2  \n",
       "psi                                                  2.684069  \n",
       "feat_type                                          Continuous  \n",
       "bin_count                                                  21  \n",
       "hist_train  0.000 ;4.000 ;4.000 ;4.000 ;4.000 ;4.000 ;4.00...  \n",
       "hist_oos    1.000 ;0.000 ;1.000 ;2.000 ;2.000 ;1.000 ;3.00...  \n",
       "bins        [-inf, -3.58792, -2.38039, -1.62146, -1.2434, ...  \n",
       "feature                                                     2  \n",
       "semaphore                                                 red  "
      ]
     },
     "execution_count": 82,
     "metadata": {},
     "output_type": "execute_result"
    }
   ],
   "source": [
    "res['test_factor_psi']['result_dataframes'][0]"
   ]
  },
  {
   "cell_type": "code",
   "execution_count": 88,
   "metadata": {},
   "outputs": [],
   "source": []
  },
  {
   "cell_type": "code",
   "execution_count": 20,
   "metadata": {},
   "outputs": [],
   "source": [
    "import physt\n",
    "import numpy as np\n",
    "\n",
    "choice = np.random.randint(0, 2, size=1000)\n",
    "samples = choice * np.random.normal(10, 1, size=1000) + (1 - choice) * np.random.normal(10.5, 2, size=1000)"
   ]
  },
  {
   "cell_type": "code",
   "execution_count": 29,
   "metadata": {},
   "outputs": [
    {
     "data": {
      "text/plain": [
       "<AxesSubplot: xlabel='axis0'>"
      ]
     },
     "execution_count": 29,
     "metadata": {},
     "output_type": "execute_result"
    },
    {
     "data": {
      "image/png": "[encoded data removed]",
      "text/plain": [
       "<Figure size 640x480 with 1 Axes>"
      ]
     },
     "metadata": {},
     "output_type": "display_data"
    }
   ],
   "source": [
    "res = physt.histogram(samples, 'knuth')\n",
    "res.plot(density=True)"
   ]
  },
  {
   "cell_type": "code",
   "execution_count": 30,
   "metadata": {},
   "outputs": [
    {
     "data": {
      "text/plain": [
       "array([[ 4.4513002 ,  4.84626924],\n",
       "       [ 4.84626924,  5.24123828],\n",
       "       [ 5.24123828,  5.63620732],\n",
       "       [ 5.63620732,  6.03117635],\n",
       "       [ 6.03117635,  6.42614539],\n",
       "       [ 6.42614539,  6.82111443],\n",
       "       [ 6.82111443,  7.21608347],\n",
       "       [ 7.21608347,  7.61105251],\n",
       "       [ 7.61105251,  8.00602155],\n",
       "       [ 8.00602155,  8.40099058],\n",
       "       [ 8.40099058,  8.79595962],\n",
       "       [ 8.79595962,  9.19092866],\n",
       "       [ 9.19092866,  9.5858977 ],\n",
       "       [ 9.5858977 ,  9.98086674],\n",
       "       [ 9.98086674, 10.37583577],\n",
       "       [10.37583577, 10.77080481],\n",
       "       [10.77080481, 11.16577385],\n",
       "       [11.16577385, 11.56074289],\n",
       "       [11.56074289, 11.95571193],\n",
       "       [11.95571193, 12.35068096],\n",
       "       [12.35068096, 12.74565   ],\n",
       "       [12.74565   , 13.14061904],\n",
       "       [13.14061904, 13.53558808],\n",
       "       [13.53558808, 13.93055712],\n",
       "       [13.93055712, 14.32552615],\n",
       "       [14.32552615, 14.72049519],\n",
       "       [14.72049519, 15.11546423],\n",
       "       [15.11546423, 15.51043327],\n",
       "       [15.51043327, 15.90540231]])"
      ]
     },
     "execution_count": 30,
     "metadata": {},
     "output_type": "execute_result"
    }
   ],
   "source": [
    "res.bins"
   ]
  },
  {
   "cell_type": "code",
   "execution_count": null,
   "metadata": {},
   "outputs": [],
   "source": []
  }
 ],
 "metadata": {
  "kernelspec": {
   "display_name": "vallib_env",
   "language": "python",
   "name": "python3"
  },
  "language_info": {
   "codemirror_mode": {
    "name": "ipython",
    "version": 3
   },
   "file_extension": ".py",
   "mimetype": "text/x-python",
   "name": "python",
   "nbconvert_exporter": "python",
   "pygments_lexer": "ipython3",
   "version": "3.8.5"
  },
  "orig_nbformat": 4,
  "vscode": {
   "interpreter": {
    "hash": "d4cc85873d42337b9e9e8da282a699b0819447065cfa6c32ea38d6a740a63d56"
   }
  }
 },
 "nbformat": 4,
 "nbformat_minor": 2
}
