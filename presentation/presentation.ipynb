{
 "cells": [
  {
   "cell_type": "code",
   "execution_count": 1,
   "metadata": {},
   "outputs": [],
   "source": [
    "%load_ext autoreload\n",
    "%autoreload 2"
   ]
  },
  {
   "cell_type": "code",
   "execution_count": 2,
   "metadata": {},
   "outputs": [],
   "source": [
    "import sys\n",
    "\n",
    "sys.path.append('../')"
   ]
  },
  {
   "attachments": {},
   "cell_type": "markdown",
   "metadata": {},
   "source": [
    "## Sampler (идея, цель, примеры использования)\n",
    "\n",
    "### Идея:\n",
    "\n",
    "бесконечный источник данных из того же распределения, что и данные пришедшие на валидацию. Реализовываться это может подкапотом как угодно.\n",
    "\n",
    "### Цель:\n",
    "\n",
    "у некоторых моделей есть ограничения на *resampling* данных. Данный класс позволяет абстрагироваться от этих тонкостей, предоставляя единый интерфейс, плюс единая обертка над данными.\n"
   ]
  },
  {
   "attachments": {},
   "cell_type": "markdown",
   "metadata": {},
   "source": [
    "### Типичные примеры исполльзования"
   ]
  },
  {
   "cell_type": "code",
   "execution_count": 3,
   "metadata": {},
   "outputs": [
    {
     "data": {
      "text/html": [
       "<div>\n",
       "<style scoped>\n",
       "    .dataframe tbody tr th:only-of-type {\n",
       "        vertical-align: middle;\n",
       "    }\n",
       "\n",
       "    .dataframe tbody tr th {\n",
       "        vertical-align: top;\n",
       "    }\n",
       "\n",
       "    .dataframe thead th {\n",
       "        text-align: right;\n",
       "    }\n",
       "</style>\n",
       "<table border=\"1\" class=\"dataframe\">\n",
       "  <thead>\n",
       "    <tr style=\"text-align: right;\">\n",
       "      <th></th>\n",
       "      <th>0</th>\n",
       "      <th>1</th>\n",
       "      <th>2</th>\n",
       "    </tr>\n",
       "  </thead>\n",
       "  <tbody>\n",
       "    <tr>\n",
       "      <th>906</th>\n",
       "      <td>1.407099</td>\n",
       "      <td>0.936795</td>\n",
       "      <td>-1.307181</td>\n",
       "    </tr>\n",
       "    <tr>\n",
       "      <th>145</th>\n",
       "      <td>-0.830887</td>\n",
       "      <td>-0.505341</td>\n",
       "      <td>1.206138</td>\n",
       "    </tr>\n",
       "    <tr>\n",
       "      <th>58</th>\n",
       "      <td>2.097963</td>\n",
       "      <td>-0.034475</td>\n",
       "      <td>0.373189</td>\n",
       "    </tr>\n",
       "  </tbody>\n",
       "</table>\n",
       "</div>"
      ],
      "text/plain": [
       "            0         1         2\n",
       "906  1.407099  0.936795 -1.307181\n",
       "145 -0.830887 -0.505341  1.206138\n",
       "58   2.097963 -0.034475  0.373189"
      ]
     },
     "metadata": {},
     "output_type": "display_data"
    },
    {
     "data": {
      "text/html": [
       "<div>\n",
       "<style scoped>\n",
       "    .dataframe tbody tr th:only-of-type {\n",
       "        vertical-align: middle;\n",
       "    }\n",
       "\n",
       "    .dataframe tbody tr th {\n",
       "        vertical-align: top;\n",
       "    }\n",
       "\n",
       "    .dataframe thead th {\n",
       "        text-align: right;\n",
       "    }\n",
       "</style>\n",
       "<table border=\"1\" class=\"dataframe\">\n",
       "  <thead>\n",
       "    <tr style=\"text-align: right;\">\n",
       "      <th></th>\n",
       "      <th>0</th>\n",
       "      <th>1</th>\n",
       "      <th>2</th>\n",
       "    </tr>\n",
       "  </thead>\n",
       "  <tbody>\n",
       "    <tr>\n",
       "      <th>339</th>\n",
       "      <td>-1.701028</td>\n",
       "      <td>0.731294</td>\n",
       "      <td>0.373625</td>\n",
       "    </tr>\n",
       "    <tr>\n",
       "      <th>624</th>\n",
       "      <td>0.447498</td>\n",
       "      <td>1.384187</td>\n",
       "      <td>1.906693</td>\n",
       "    </tr>\n",
       "    <tr>\n",
       "      <th>241</th>\n",
       "      <td>1.292023</td>\n",
       "      <td>0.386166</td>\n",
       "      <td>-0.516310</td>\n",
       "    </tr>\n",
       "  </tbody>\n",
       "</table>\n",
       "</div>"
      ],
      "text/plain": [
       "            0         1         2\n",
       "339 -1.701028  0.731294  0.373625\n",
       "624  0.447498  1.384187  1.906693\n",
       "241  1.292023  0.386166 -0.516310"
      ]
     },
     "metadata": {},
     "output_type": "display_data"
    }
   ],
   "source": [
    "# Данные\n",
    "from sklearn.datasets import make_classification\n",
    "from sklearn.model_selection import train_test_split\n",
    "import pandas as pd\n",
    "import numpy as np\n",
    "from IPython.display import display\n",
    "\n",
    "\n",
    "X, y = make_classification(n_samples=1000, n_classes=2,\n",
    "                           n_features=3, n_informative=2,\n",
    "                           n_redundant=0, random_state=0)\n",
    "X = pd.DataFrame(X)\n",
    "y = pd.Series(y)\n",
    "X_train, X_test,  y_train, y_test = train_test_split(X, y, test_size=0.3, stratify=y)\n",
    "\n",
    "\n",
    "display(X_train[:3])\n",
    "display(X_test[:3])"
   ]
  },
  {
   "cell_type": "code",
   "execution_count": 4,
   "metadata": {},
   "outputs": [],
   "source": [
    "# Создаем sampler\n",
    "from sbe_vallib import SupervisedSampler\n",
    "\n",
    "sampler = SupervisedSampler(train={'X': X_train, 'y_true': y_train},\n",
    "                            oos = {'X': X_test, 'y_true': y_test})"
   ]
  },
  {
   "cell_type": "code",
   "execution_count": 5,
   "metadata": {},
   "outputs": [
    {
     "data": {
      "text/html": [
       "<div>\n",
       "<style scoped>\n",
       "    .dataframe tbody tr th:only-of-type {\n",
       "        vertical-align: middle;\n",
       "    }\n",
       "\n",
       "    .dataframe tbody tr th {\n",
       "        vertical-align: top;\n",
       "    }\n",
       "\n",
       "    .dataframe thead th {\n",
       "        text-align: right;\n",
       "    }\n",
       "</style>\n",
       "<table border=\"1\" class=\"dataframe\">\n",
       "  <thead>\n",
       "    <tr style=\"text-align: right;\">\n",
       "      <th></th>\n",
       "      <th>0</th>\n",
       "      <th>1</th>\n",
       "      <th>2</th>\n",
       "    </tr>\n",
       "  </thead>\n",
       "  <tbody>\n",
       "    <tr>\n",
       "      <th>906</th>\n",
       "      <td>1.407099</td>\n",
       "      <td>0.936795</td>\n",
       "      <td>-1.307181</td>\n",
       "    </tr>\n",
       "    <tr>\n",
       "      <th>145</th>\n",
       "      <td>-0.830887</td>\n",
       "      <td>-0.505341</td>\n",
       "      <td>1.206138</td>\n",
       "    </tr>\n",
       "    <tr>\n",
       "      <th>58</th>\n",
       "      <td>2.097963</td>\n",
       "      <td>-0.034475</td>\n",
       "      <td>0.373189</td>\n",
       "    </tr>\n",
       "    <tr>\n",
       "      <th>259</th>\n",
       "      <td>1.166510</td>\n",
       "      <td>0.633534</td>\n",
       "      <td>-0.116273</td>\n",
       "    </tr>\n",
       "  </tbody>\n",
       "</table>\n",
       "</div>"
      ],
      "text/plain": [
       "            0         1         2\n",
       "906  1.407099  0.936795 -1.307181\n",
       "145 -0.830887 -0.505341  1.206138\n",
       "58   2.097963 -0.034475  0.373189\n",
       "259  1.166510  0.633534 -0.116273"
      ]
     },
     "metadata": {},
     "output_type": "display_data"
    },
    {
     "data": {
      "text/html": [
       "<div>\n",
       "<style scoped>\n",
       "    .dataframe tbody tr th:only-of-type {\n",
       "        vertical-align: middle;\n",
       "    }\n",
       "\n",
       "    .dataframe tbody tr th {\n",
       "        vertical-align: top;\n",
       "    }\n",
       "\n",
       "    .dataframe thead th {\n",
       "        text-align: right;\n",
       "    }\n",
       "</style>\n",
       "<table border=\"1\" class=\"dataframe\">\n",
       "  <thead>\n",
       "    <tr style=\"text-align: right;\">\n",
       "      <th></th>\n",
       "      <th>0</th>\n",
       "      <th>1</th>\n",
       "      <th>2</th>\n",
       "    </tr>\n",
       "  </thead>\n",
       "  <tbody>\n",
       "    <tr>\n",
       "      <th>340</th>\n",
       "      <td>0.949110</td>\n",
       "      <td>-0.080599</td>\n",
       "      <td>-0.314469</td>\n",
       "    </tr>\n",
       "    <tr>\n",
       "      <th>389</th>\n",
       "      <td>1.379352</td>\n",
       "      <td>-0.767949</td>\n",
       "      <td>-1.822861</td>\n",
       "    </tr>\n",
       "    <tr>\n",
       "      <th>451</th>\n",
       "      <td>-1.515180</td>\n",
       "      <td>0.450289</td>\n",
       "      <td>0.989375</td>\n",
       "    </tr>\n",
       "    <tr>\n",
       "      <th>362</th>\n",
       "      <td>-0.415896</td>\n",
       "      <td>0.514004</td>\n",
       "      <td>1.741516</td>\n",
       "    </tr>\n",
       "  </tbody>\n",
       "</table>\n",
       "</div>"
      ],
      "text/plain": [
       "            0         1         2\n",
       "340  0.949110 -0.080599 -0.314469\n",
       "389  1.379352 -0.767949 -1.822861\n",
       "451 -1.515180  0.450289  0.989375\n",
       "362 -0.415896  0.514004  1.741516"
      ]
     },
     "metadata": {},
     "output_type": "display_data"
    }
   ],
   "source": [
    "# Получаем resampling версию данных\n",
    "\n",
    "sampler.set_state(seed=5, gen_method='bootstrap')\n",
    "\n",
    "display(sampler.train['X'][:4])\n",
    "display(sampler.oos['X'][:4])\n"
   ]
  },
  {
   "cell_type": "code",
   "execution_count": 6,
   "metadata": {},
   "outputs": [
    {
     "data": {
      "text/html": [
       "<div>\n",
       "<style scoped>\n",
       "    .dataframe tbody tr th:only-of-type {\n",
       "        vertical-align: middle;\n",
       "    }\n",
       "\n",
       "    .dataframe tbody tr th {\n",
       "        vertical-align: top;\n",
       "    }\n",
       "\n",
       "    .dataframe thead th {\n",
       "        text-align: right;\n",
       "    }\n",
       "</style>\n",
       "<table border=\"1\" class=\"dataframe\">\n",
       "  <thead>\n",
       "    <tr style=\"text-align: right;\">\n",
       "      <th></th>\n",
       "      <th>0</th>\n",
       "      <th>1</th>\n",
       "      <th>2</th>\n",
       "    </tr>\n",
       "  </thead>\n",
       "  <tbody>\n",
       "    <tr>\n",
       "      <th>906</th>\n",
       "      <td>1.407099</td>\n",
       "      <td>0.936795</td>\n",
       "      <td>-1.307181</td>\n",
       "    </tr>\n",
       "    <tr>\n",
       "      <th>145</th>\n",
       "      <td>-0.830887</td>\n",
       "      <td>-0.505341</td>\n",
       "      <td>1.206138</td>\n",
       "    </tr>\n",
       "    <tr>\n",
       "      <th>58</th>\n",
       "      <td>2.097963</td>\n",
       "      <td>-0.034475</td>\n",
       "      <td>0.373189</td>\n",
       "    </tr>\n",
       "    <tr>\n",
       "      <th>259</th>\n",
       "      <td>1.166510</td>\n",
       "      <td>0.633534</td>\n",
       "      <td>-0.116273</td>\n",
       "    </tr>\n",
       "  </tbody>\n",
       "</table>\n",
       "</div>"
      ],
      "text/plain": [
       "            0         1         2\n",
       "906  1.407099  0.936795 -1.307181\n",
       "145 -0.830887 -0.505341  1.206138\n",
       "58   2.097963 -0.034475  0.373189\n",
       "259  1.166510  0.633534 -0.116273"
      ]
     },
     "metadata": {},
     "output_type": "display_data"
    },
    {
     "data": {
      "text/html": [
       "<div>\n",
       "<style scoped>\n",
       "    .dataframe tbody tr th:only-of-type {\n",
       "        vertical-align: middle;\n",
       "    }\n",
       "\n",
       "    .dataframe tbody tr th {\n",
       "        vertical-align: top;\n",
       "    }\n",
       "\n",
       "    .dataframe thead th {\n",
       "        text-align: right;\n",
       "    }\n",
       "</style>\n",
       "<table border=\"1\" class=\"dataframe\">\n",
       "  <thead>\n",
       "    <tr style=\"text-align: right;\">\n",
       "      <th></th>\n",
       "      <th>0</th>\n",
       "      <th>1</th>\n",
       "      <th>2</th>\n",
       "    </tr>\n",
       "  </thead>\n",
       "  <tbody>\n",
       "    <tr>\n",
       "      <th>339</th>\n",
       "      <td>-1.701028</td>\n",
       "      <td>0.731294</td>\n",
       "      <td>0.373625</td>\n",
       "    </tr>\n",
       "    <tr>\n",
       "      <th>624</th>\n",
       "      <td>0.447498</td>\n",
       "      <td>1.384187</td>\n",
       "      <td>1.906693</td>\n",
       "    </tr>\n",
       "    <tr>\n",
       "      <th>241</th>\n",
       "      <td>1.292023</td>\n",
       "      <td>0.386166</td>\n",
       "      <td>-0.516310</td>\n",
       "    </tr>\n",
       "    <tr>\n",
       "      <th>309</th>\n",
       "      <td>0.195713</td>\n",
       "      <td>-0.522579</td>\n",
       "      <td>0.857511</td>\n",
       "    </tr>\n",
       "  </tbody>\n",
       "</table>\n",
       "</div>"
      ],
      "text/plain": [
       "            0         1         2\n",
       "339 -1.701028  0.731294  0.373625\n",
       "624  0.447498  1.384187  1.906693\n",
       "241  1.292023  0.386166 -0.516310\n",
       "309  0.195713 -0.522579  0.857511"
      ]
     },
     "metadata": {},
     "output_type": "display_data"
    }
   ],
   "source": [
    "# Получаем исходные данные\n",
    "\n",
    "sampler.reset()\n",
    "\n",
    "display(sampler.train['X'][:4])\n",
    "display(sampler.oos['X'][:4])"
   ]
  },
  {
   "attachments": {},
   "cell_type": "markdown",
   "metadata": {},
   "source": [
    "## Scorer (идея, цель, примеры использования)\n",
    "\n",
    "### Идея:\n",
    "\n",
    "Идея этого класса - посчитать скопом заранее заданные метрики при вызове метода ```scorer.score()```\n",
    "\n",
    "### Цель:\n",
    "\n",
    "Причина появления: модели могут оцениваются самыми разными способами, все не уложить в тип ```func(y_true, y_pred)``` (*например YOLO*). С помощью этого класса абстрагируемся от этого, оставляя реализацию в нестандартных случаях на валидатора.\n"
   ]
  },
  {
   "cell_type": "code",
   "execution_count": 7,
   "metadata": {},
   "outputs": [],
   "source": [
    "# создаем scorer\n",
    "from sbe_vallib import BinaryScorer\n",
    "from sbe_vallib.validation.utils.metrics import BINARY_METRICS\n",
    "\n",
    "scorer = BinaryScorer(metrics=BINARY_METRICS, cutoff=0.1)"
   ]
  },
  {
   "cell_type": "code",
   "execution_count": 8,
   "metadata": {},
   "outputs": [
    {
     "data": {
      "text/plain": [
       "['accuracy_score', 'precision_score', 'recall_score', 'f1_score', 'gini']"
      ]
     },
     "execution_count": 8,
     "metadata": {},
     "output_type": "execute_result"
    }
   ],
   "source": [
    "list(BINARY_METRICS.keys())"
   ]
  },
  {
   "cell_type": "markdown",
   "metadata": {},
   "source": [
    "### Типичные примеры исполльзования"
   ]
  },
  {
   "cell_type": "code",
   "execution_count": 9,
   "metadata": {},
   "outputs": [],
   "source": [
    "# для начала создадим модель\n",
    "\n",
    "from sklearn.linear_model import LogisticRegression\n",
    "\n",
    "sampler.reset()\n",
    "model = LogisticRegression().fit(sampler.train['X'], sampler.train['y_true'])"
   ]
  },
  {
   "cell_type": "code",
   "execution_count": 10,
   "metadata": {},
   "outputs": [
    {
     "data": {
      "text/plain": [
       "{'accuracy_score': 0.86,\n",
       " 'precision_score': 0.7872340425531915,\n",
       " 'recall_score': 0.9866666666666667,\n",
       " 'f1_score': 0.8757396449704142,\n",
       " 'gini': 0.9565333333333332}"
      ]
     },
     "execution_count": 10,
     "metadata": {},
     "output_type": "execute_result"
    }
   ],
   "source": [
    "scorer.score(sampler.oos['y_true'], model.predict_proba(sampler.oos['X']))"
   ]
  },
  {
   "attachments": {},
   "cell_type": "markdown",
   "metadata": {},
   "source": [
    "## Test (идея, цель, примеры использования)\n",
    "\n",
    "### Идея:\n",
    "\n",
    "Функция, которая реализует подсчет теста и его оформление. На эту функцию накладываются ограничения на сигнатуру: \n",
    "\n",
    "- функция как минимум должна принимать параметры ```model, scorer, sampler, **kwargs``` \n",
    "- функция должна выдать результат работы в следующем формате (привет SberDS)\n",
    "    ```\n",
    "    {\n",
    "        \"semaphore\": str one of {\"gray\", \"green\", \"yellow\", \"red\"},\n",
    "        \"result_dict\": python object,\n",
    "        \"result_dataframes\": List[pd.DataFrame],\n",
    "        \"result_plots\": List[plt.figure],\n",
    "    }\n",
    "    ```\n",
    "    где,\n",
    "    - \"semaphore\" -- светофор выставленный за тест\n",
    "    - \"result_dict\" -- python object, который валидатор посчитает полезным для дальнейшего использования\n",
    "    - \"result_dataframes\" -- список таблиц, которые будут отражены в агрегированном excel файле\n",
    "    - \"result_plots\" -- список рисунков, которые будут отражены в агрегированном excel файле.\n",
    "- ```sampler``` это единственный источник данных\n",
    "\n",
    "\n",
    "### Цель:\n",
    "\n",
    "Провести кастомный тест или из методики\n"
   ]
  },
  {
   "cell_type": "code",
   "execution_count": 11,
   "metadata": {},
   "outputs": [
    {
     "data": {
      "text/plain": [
       "{'semaphore': 'green',\n",
       " 'result_dict': {'train_shape': (700, 3)},\n",
       " 'result_dataframes': [   len semaphore\n",
       "  0  700     green],\n",
       " 'result_plots': []}"
      ]
     },
     "execution_count": 11,
     "metadata": {},
     "output_type": "execute_result"
    }
   ],
   "source": [
    "# напишем какой-то тупой тест\n",
    "\n",
    "def custom_test(model, scorer, sampler, threshold = 1, **kwargs):\n",
    "    semaphore = 'green'\n",
    "    if len(sampler.train['X']) < threshold:\n",
    "        semaphore = 'red'\n",
    "    \n",
    "    df_table = pd.DataFrame({'len': [len(sampler.train['X'])],\n",
    "                             'semaphore': semaphore})\n",
    "    \n",
    "    return {\n",
    "        \"semaphore\": semaphore,\n",
    "        \"result_dict\": {'train_shape':sampler.train['X'].values.shape},\n",
    "        \"result_dataframes\": [df_table],\n",
    "        \"result_plots\": [],\n",
    "    }\n",
    "\n",
    "custom_test(model, scorer, sampler, threshold=5, r_u_angry='True')"
   ]
  },
  {
   "attachments": {},
   "cell_type": "markdown",
   "metadata": {},
   "source": [
    "## Pipeline (идея, цель, примеры использования)\n",
    "\n",
    "### Идея:\n",
    "\n",
    "Отражение понятия методики в нашей бибилиотеке. То есть ```Pipeline``` это список тестов с указанными параметрами и дополнительными метаданными для формирования отчета (*цель теста, интерпретация, способ агрегации блоков*).\n",
    "\n",
    "### Цель:\n",
    "\n",
    "Капсулировать всю информацию из методички\n"
   ]
  },
  {
   "attachments": {},
   "cell_type": "markdown",
   "metadata": {},
   "source": [
    "## Реализация:\n",
    "\n",
    "```Pipeline``` - это excel-файл с двумя страницами\n",
    "- первая страница -- информация о тестах\n",
    "- вторая страница -- информация о блоках."
   ]
  },
  {
   "cell_type": "code",
   "execution_count": 12,
   "metadata": {},
   "outputs": [
    {
     "data": {
      "text/html": [
       "<div>\n",
       "<style scoped>\n",
       "    .dataframe tbody tr th:only-of-type {\n",
       "        vertical-align: middle;\n",
       "    }\n",
       "\n",
       "    .dataframe tbody tr th {\n",
       "        vertical-align: top;\n",
       "    }\n",
       "\n",
       "    .dataframe thead th {\n",
       "        text-align: right;\n",
       "    }\n",
       "</style>\n",
       "<table border=\"1\" class=\"dataframe\">\n",
       "  <thead>\n",
       "    <tr style=\"text-align: right;\">\n",
       "      <th></th>\n",
       "      <th>import_path</th>\n",
       "      <th>test_key</th>\n",
       "      <th>block_key</th>\n",
       "      <th>informative</th>\n",
       "      <th>Название блока</th>\n",
       "      <th>Название</th>\n",
       "      <th>Цель</th>\n",
       "      <th>Интерпретация</th>\n",
       "      <th>Границы красный</th>\n",
       "      <th>Границы желтый</th>\n",
       "      <th>Границы зеленый</th>\n",
       "      <th>params</th>\n",
       "    </tr>\n",
       "  </thead>\n",
       "  <tbody>\n",
       "    <tr>\n",
       "      <th>0</th>\n",
       "      <td>sbe_vallib.validation.table.general_tests.data...</td>\n",
       "      <td>test_factor_psi</td>\n",
       "      <td>data_quality</td>\n",
       "      <td>0</td>\n",
       "      <td>Качество данных</td>\n",
       "      <td>Тест 1.2 Анализ однородности выборок out-of-sa...</td>\n",
       "      <td>Убедиться в однородности выборки (в разрезе фа...</td>\n",
       "      <td>Высокое значение PSI свидетельствует о различи...</td>\n",
       "      <td>NaN</td>\n",
       "      <td>PSI ≥ 0,2</td>\n",
       "      <td>PSI &lt; 0,2</td>\n",
       "      <td>{\"merge_upto_quantile\": 0.05,\\n \"rounding_prec...</td>\n",
       "    </tr>\n",
       "    <tr>\n",
       "      <th>1</th>\n",
       "      <td>sbe_vallib.validation.table.general_tests.mode...</td>\n",
       "      <td>test_ci</td>\n",
       "      <td>model_quality</td>\n",
       "      <td>0</td>\n",
       "      <td>Качество модели</td>\n",
       "      <td>Тест 2.2 Доверительный интервал ключевой метри...</td>\n",
       "      <td>Наглядно изобразить уровень статистической пог...</td>\n",
       "      <td>Данный тест позволяет оценить фактический разб...</td>\n",
       "      <td>NaN</td>\n",
       "      <td>NaN</td>\n",
       "      <td>NaN</td>\n",
       "      <td>{\"n_iter\": 200, \"use_predict_proba\": True}</td>\n",
       "    </tr>\n",
       "  </tbody>\n",
       "</table>\n",
       "</div>"
      ],
      "text/plain": [
       "                                         import_path         test_key  \\\n",
       "0  sbe_vallib.validation.table.general_tests.data...  test_factor_psi   \n",
       "1  sbe_vallib.validation.table.general_tests.mode...          test_ci   \n",
       "\n",
       "       block_key  informative   Название блока  \\\n",
       "0   data_quality            0  Качество данных   \n",
       "1  model_quality            0  Качество модели   \n",
       "\n",
       "                                            Название  \\\n",
       "0  Тест 1.2 Анализ однородности выборок out-of-sa...   \n",
       "1  Тест 2.2 Доверительный интервал ключевой метри...   \n",
       "\n",
       "                                                Цель  \\\n",
       "0  Убедиться в однородности выборки (в разрезе фа...   \n",
       "1  Наглядно изобразить уровень статистической пог...   \n",
       "\n",
       "                                       Интерпретация  Границы красный  \\\n",
       "0  Высокое значение PSI свидетельствует о различи...              NaN   \n",
       "1  Данный тест позволяет оценить фактический разб...              NaN   \n",
       "\n",
       "  Границы желтый Границы зеленый  \\\n",
       "0      PSI ≥ 0,2       PSI < 0,2   \n",
       "1            NaN             NaN   \n",
       "\n",
       "                                              params  \n",
       "0  {\"merge_upto_quantile\": 0.05,\\n \"rounding_prec...  \n",
       "1         {\"n_iter\": 200, \"use_predict_proba\": True}  "
      ]
     },
     "execution_count": 12,
     "metadata": {},
     "output_type": "execute_result"
    }
   ],
   "source": [
    "pd.read_excel('../sbe_vallib/validation/table/pipelines/Config_31.xlsx', sheet_name=\"tests_config\")"
   ]
  },
  {
   "cell_type": "code",
   "execution_count": 13,
   "metadata": {},
   "outputs": [
    {
     "data": {
      "text/html": [
       "<div>\n",
       "<style scoped>\n",
       "    .dataframe tbody tr th:only-of-type {\n",
       "        vertical-align: middle;\n",
       "    }\n",
       "\n",
       "    .dataframe tbody tr th {\n",
       "        vertical-align: top;\n",
       "    }\n",
       "\n",
       "    .dataframe thead th {\n",
       "        text-align: right;\n",
       "    }\n",
       "</style>\n",
       "<table border=\"1\" class=\"dataframe\">\n",
       "  <thead>\n",
       "    <tr style=\"text-align: right;\">\n",
       "      <th></th>\n",
       "      <th>block_key</th>\n",
       "      <th>func</th>\n",
       "    </tr>\n",
       "  </thead>\n",
       "  <tbody>\n",
       "    <tr>\n",
       "      <th>0</th>\n",
       "      <td>data_quality</td>\n",
       "      <td>sbe_vallib.validation.worst_semaphore</td>\n",
       "    </tr>\n",
       "    <tr>\n",
       "      <th>1</th>\n",
       "      <td>model_quality</td>\n",
       "      <td>sbe_vallib.validation.worst_semaphore</td>\n",
       "    </tr>\n",
       "    <tr>\n",
       "      <th>2</th>\n",
       "      <td>calibration</td>\n",
       "      <td>sbe_vallib.validation.worst_semaphore</td>\n",
       "    </tr>\n",
       "    <tr>\n",
       "      <th>3</th>\n",
       "      <td>specification</td>\n",
       "      <td>sbe_vallib.validation.worst_semaphore</td>\n",
       "    </tr>\n",
       "    <tr>\n",
       "      <th>4</th>\n",
       "      <td>stability</td>\n",
       "      <td>sbe_vallib.validation.worst_semaphore</td>\n",
       "    </tr>\n",
       "  </tbody>\n",
       "</table>\n",
       "</div>"
      ],
      "text/plain": [
       "       block_key                                   func\n",
       "0   data_quality  sbe_vallib.validation.worst_semaphore\n",
       "1  model_quality  sbe_vallib.validation.worst_semaphore\n",
       "2    calibration  sbe_vallib.validation.worst_semaphore\n",
       "3  specification  sbe_vallib.validation.worst_semaphore\n",
       "4      stability  sbe_vallib.validation.worst_semaphore"
      ]
     },
     "execution_count": 13,
     "metadata": {},
     "output_type": "execute_result"
    }
   ],
   "source": [
    "pd.read_excel('../sbe_vallib/validation/table/pipelines/Config_31.xlsx', sheet_name=\"agg_config\")"
   ]
  },
  {
   "attachments": {},
   "cell_type": "markdown",
   "metadata": {},
   "source": [
    "## Validation (идея, цель, примеры использования)\n",
    "\n",
    "### Идея:\n",
    "\n",
    "Запуск всех тестов из списка и аггрегация их результатов.\n",
    "\n",
    "### Цель:\n",
    "\n",
    "Удобный запуск тестов\n"
   ]
  },
  {
   "attachments": {},
   "cell_type": "markdown",
   "metadata": {},
   "source": [
    "<img src=\"./images/uml_vallib.jpg\" alt=\"fishy\" class=\"bg-primary mb-1\" width=\"500px\">"
   ]
  },
  {
   "cell_type": "code",
   "execution_count": 14,
   "metadata": {},
   "outputs": [],
   "source": [
    "# способ прокидывания custim_test'ов в validation\n",
    "\n",
    "from sbe_vallib import Validation\n",
    "\n",
    "custom_tests = {\n",
    "    \"custom_1\": {\"block\": \"data_quality\", \"callable\": custom_test, \"params\": {\"threshold\": 5000}}\n",
    "}\n",
    "\n",
    "\n",
    "validor = Validation(model,\n",
    "                     sampler,\n",
    "                     scorer,\n",
    "                     custom_tests=custom_tests,\n",
    "                     pipeline='../sbe_vallib/validation/table/pipelines/Config_31.xlsx')\n",
    "res = validor.validate()"
   ]
  },
  {
   "cell_type": "code",
   "execution_count": 15,
   "metadata": {},
   "outputs": [
    {
     "data": {
      "text/plain": [
       "['test_factor_psi', 'test_ci', 'custom_1']"
      ]
     },
     "execution_count": 15,
     "metadata": {},
     "output_type": "execute_result"
    }
   ],
   "source": [
    "list(res.keys())"
   ]
  },
  {
   "cell_type": "code",
   "execution_count": 18,
   "metadata": {},
   "outputs": [
    {
     "data": {
      "text/html": [
       "<div>\n",
       "<style scoped>\n",
       "    .dataframe tbody tr th:only-of-type {\n",
       "        vertical-align: middle;\n",
       "    }\n",
       "\n",
       "    .dataframe tbody tr th {\n",
       "        vertical-align: top;\n",
       "    }\n",
       "\n",
       "    .dataframe thead th {\n",
       "        text-align: right;\n",
       "    }\n",
       "</style>\n",
       "<table border=\"1\" class=\"dataframe\">\n",
       "  <thead>\n",
       "    <tr style=\"text-align: right;\">\n",
       "      <th></th>\n",
       "      <th>len</th>\n",
       "      <th>semaphore</th>\n",
       "    </tr>\n",
       "  </thead>\n",
       "  <tbody>\n",
       "    <tr>\n",
       "      <th>0</th>\n",
       "      <td>700</td>\n",
       "      <td>red</td>\n",
       "    </tr>\n",
       "  </tbody>\n",
       "</table>\n",
       "</div>"
      ],
      "text/plain": [
       "   len semaphore\n",
       "0  700       red"
      ]
     },
     "execution_count": 18,
     "metadata": {},
     "output_type": "execute_result"
    }
   ],
   "source": [
    "res['custom_1']['result_dataframes'][0]"
   ]
  },
  {
   "cell_type": "code",
   "execution_count": null,
   "metadata": {},
   "outputs": [],
   "source": []
  }
 ],
 "metadata": {
  "kernelspec": {
   "display_name": "vallib_env",
   "language": "python",
   "name": "python3"
  },
  "language_info": {
   "codemirror_mode": {
    "name": "ipython",
    "version": 3
   },
   "file_extension": ".py",
   "mimetype": "text/x-python",
   "name": "python",
   "nbconvert_exporter": "python",
   "pygments_lexer": "ipython3",
   "version": "3.8.5"
  },
  "orig_nbformat": 4,
  "vscode": {
   "interpreter": {
    "hash": "d4cc85873d42337b9e9e8da282a699b0819447065cfa6c32ea38d6a740a63d56"
   }
  }
 },
 "nbformat": 4,
 "nbformat_minor": 2
}
