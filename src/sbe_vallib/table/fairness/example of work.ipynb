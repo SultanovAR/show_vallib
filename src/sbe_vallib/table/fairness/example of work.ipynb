{
 "cells": [
  {
   "cell_type": "markdown",
   "metadata": {},
   "source": [
    "# Подготовка инструментов"
   ]
  },
  {
   "cell_type": "raw",
   "metadata": {},
   "source": [
    "Импорт необходимых инструментовb"
   ]
  },
  {
   "cell_type": "code",
   "execution_count": 1,
   "metadata": {},
   "outputs": [],
   "source": [
    "%load_ext autoreload\n",
    "%autoreload 2"
   ]
  },
  {
   "cell_type": "code",
   "execution_count": 2,
   "metadata": {
    "tags": []
   },
   "outputs": [],
   "source": [
    "import time\n",
    "import random\n",
    "import joblib\n",
    "from sklearn.preprocessing import LabelEncoder\n",
    "import datetime\n",
    "from datetime import date\n",
    "import numpy as np\n",
    "import pandas as pd\n",
    "import warnings\n",
    "from fairness_pipeline import fairness_analysis, continuous_binning_calc\n",
    "\n",
    "warnings.filterwarnings('ignore')\n"
   ]
  },
  {
   "cell_type": "raw",
   "metadata": {},
   "source": [
    "Создадим перцептрон со случаными весами для имитации сложной функции"
   ]
  },
  {
   "cell_type": "code",
   "execution_count": 3,
   "metadata": {},
   "outputs": [],
   "source": [
    "from copy import deepcopy\n",
    "\n",
    "relu = np.vectorize(lambda x: x if x>0 else 0.)\n",
    "sigm = lambda x: 1./(1+np.exp(-x))\n",
    "\n",
    "vec_sizes = [45, 45, 45, 20, 15, 1]\n",
    "\n",
    "def perceptron(xx, vec_sizes):\n",
    "    \n",
    "    xx_ext = xx\n",
    "    generator = np.random.RandomState(43)\n",
    "    \n",
    "    for i, new_size in enumerate(vec_sizes):\n",
    "        xx_ext = np.hstack([np.ones((xx_ext.shape[0], 1)), xx_ext])\n",
    "        \n",
    "        weights = generator.normal(0., 1, size=(xx_ext.shape[1], new_size))\n",
    "        \n",
    "        xx_ext = relu(xx_ext.dot(weights))\n",
    "        \n",
    "    return np.floor(xx_ext.reshape((-1,)))"
   ]
  },
  {
   "cell_type": "markdown",
   "metadata": {},
   "source": [
    "# Генерация данных"
   ]
  },
  {
   "cell_type": "raw",
   "metadata": {},
   "source": [
    "Сгенерируем нормально распределенные фичи и с помощью случайного \n",
    "перцептрона сымитируем зависимость целевой переменной. Сгенерированный \n",
    "датафрейм состоит из признаков, которые вошли в итоговую модель.\n",
    "\n",
    "Предположим, что факторы feat_3, feat_8, feat_13, feat_27\n",
    "являются защищенными характеристиками"
   ]
  },
  {
   "cell_type": "code",
   "execution_count": 4,
   "metadata": {
    "ExecuteTime": {
     "end_time": "2022-08-08T14:04:20.992857Z",
     "start_time": "2022-08-08T14:04:12.243711Z"
    }
   },
   "outputs": [],
   "source": [
    "# Генератор \n",
    "gen = np.random.RandomState(42)\n",
    "\n",
    "\n",
    "# Генерация признаков\n",
    "X = pd.DataFrame(data=gen.normal(50., 100., size=(30000, 30)),\n",
    "                 columns=[f'feat_{i}' for i in range(30)],\n",
    "                 index=[i for i in range(30000)])\n",
    "\n",
    "\n",
    "# Имитация зависимости\n",
    "y = pd.Series(data=1*(perceptron(X.values, [60, 32, 12, 5, 1])>0),\n",
    "              index=[i for i in range(30000)],\n",
    "              name='target'\n",
    "             )\n",
    "\n",
    "# Защищенные характеристики \n",
    "fair_factors = ['feat_3', 'feat_8', 'feat_13', 'feat_27']\n",
    "\n",
    "# Остальные признаки\n",
    "no_fair_factors = list(set(X.columns) - set(fair_factors))"
   ]
  },
  {
   "cell_type": "markdown",
   "metadata": {},
   "source": [
    "Сгенеруем защищенные характеристики и \"руками\" внесем дискриминацию.\n",
    "С помощью другого случайного перцептрона сымитируем зависимость \n",
    "одного защищенного фактора от признаков, не являющихся защищенными характеристиками"
   ]
  },
  {
   "cell_type": "code",
   "execution_count": 5,
   "metadata": {},
   "outputs": [],
   "source": [
    "# Генерация\n",
    "X['feat_3'] = gen.randint(18, 40, size=(30000,))\n",
    "\n",
    "# Внесение \"руками\" дискриминации\n",
    "X['feat_3'][y>0]=gen.randint(30, 41, size=(len(X['feat_3'][y>0]),))\n",
    "\n",
    "# Генерация\n",
    "X['feat_8'] = gen.choice([0, 1], size=(30000,), p=[0.4, 0.6])\n",
    "\n",
    "# Внесение \"руками\" дискриминации\n",
    "X['feat_8'][y>0]=gen.choice([0, 1], size=(len(X['feat_8'][y>0]),), p=[0.1, 0.9])\n",
    "\n",
    "# Генерация\n",
    "X['feat_13'] = gen.uniform(0, 10, size=(30000,))\n",
    "\n",
    "# Имитация зависимости \n",
    "X['feat_27'] = perceptron(X[no_fair_factors].values, vec_sizes)\n"
   ]
  },
  {
   "cell_type": "raw",
   "metadata": {},
   "source": [
    "Разобьем данные"
   ]
  },
  {
   "cell_type": "code",
   "execution_count": 6,
   "metadata": {},
   "outputs": [],
   "source": [
    "from sklearn.model_selection import train_test_split\n",
    "\n",
    "X_train, X_oos, y_train, y_oos = train_test_split(X, y, \n",
    "                                                  test_size=0.1, \n",
    "                                                  random_state=42,\n",
    "                                                  stratify=y)"
   ]
  },
  {
   "cell_type": "markdown",
   "metadata": {},
   "source": [
    "### Fairness pipeline"
   ]
  },
  {
   "cell_type": "raw",
   "metadata": {},
   "source": [
    "Построим итоговую модель"
   ]
  },
  {
   "cell_type": "code",
   "execution_count": 7,
   "metadata": {},
   "outputs": [
    {
     "data": {
      "text/plain": [
       "RandomForestClassifier()"
      ]
     },
     "execution_count": 7,
     "metadata": {},
     "output_type": "execute_result"
    }
   ],
   "source": [
    "from sklearn.ensemble import RandomForestClassifier\n",
    "from sklearn.metrics import roc_auc_score\n",
    "\n",
    "model = RandomForestClassifier()\n",
    "model.fit(X_train, y_train)"
   ]
  },
  {
   "cell_type": "markdown",
   "metadata": {},
   "source": [
    "Качество итоговой модели"
   ]
  },
  {
   "cell_type": "code",
   "execution_count": 8,
   "metadata": {},
   "outputs": [
    {
     "data": {
      "text/plain": [
       "0.8563304113977532"
      ]
     },
     "execution_count": 8,
     "metadata": {},
     "output_type": "execute_result"
    }
   ],
   "source": [
    "-1 + 2*roc_auc_score(y_oos, model.predict_proba(X_oos)[:, 1])"
   ]
  },
  {
   "cell_type": "code",
   "execution_count": null,
   "metadata": {},
   "outputs": [],
   "source": []
  },
  {
   "cell_type": "code",
   "execution_count": 32,
   "metadata": {
    "tags": []
   },
   "outputs": [],
   "source": [
    "from myfairness import FairnessValidation\n",
    "\n",
    "val = FairnessValidation(model,\n",
    "                   train={'x': X_train, 'y': y_train},\n",
    "                   oos={'x': X_oos, 'y': y_oos},\n",
    "                   cat_features=list(X_train.columns[X_train.nunique() < 25]), \n",
    "                   protected_feats=fair_factors, n_bootstrap=64)\n",
    "# val.test_list = [val.test_list[i] for i in [1, 2, 3]]"
   ]
  },
  {
   "cell_type": "code",
   "execution_count": 33,
   "metadata": {},
   "outputs": [
    {
     "data": {
      "text/plain": [
       "[<bound method FairnessValidation.test_indirect_discrimination of <myfairness.FairnessValidation object at 0x7f272e4bbe10>>,\n",
       " <bound method FairnessValidation.test_oppressed_privileged_ci of <myfairness.FairnessValidation object at 0x7f272e4bbe10>>,\n",
       " <bound method FairnessValidation.test_target_rate_delta of <myfairness.FairnessValidation object at 0x7f272e4bbe10>>,\n",
       " <bound method FairnessValidation.test_tprd_fprd_delta of <myfairness.FairnessValidation object at 0x7f272e4bbe10>>]"
      ]
     },
     "execution_count": 33,
     "metadata": {},
     "output_type": "execute_result"
    }
   ],
   "source": [
    "val.test_list"
   ]
  },
  {
   "cell_type": "code",
   "execution_count": 34,
   "metadata": {},
   "outputs": [
    {
     "name": "stderr",
     "output_type": "stream",
     "text": [
      "  0%|          | 0/4 [02:46<?, ?it/s]\n"
     ]
    },
    {
     "ename": "NameError",
     "evalue": "name 'test_result' is not defined",
     "output_type": "error",
     "traceback": [
      "\u001b[0;31m---------------------------------------------------------------------------\u001b[0m",
      "\u001b[0;31mNameError\u001b[0m                                 Traceback (most recent call last)",
      "\u001b[0;32m/tmp/ipykernel_11076/1129929021.py\u001b[0m in \u001b[0;36m<module>\u001b[0;34m\u001b[0m\n\u001b[0;32m----> 1\u001b[0;31m \u001b[0mres\u001b[0m \u001b[0;34m=\u001b[0m \u001b[0mval\u001b[0m\u001b[0;34m.\u001b[0m\u001b[0mvalidate\u001b[0m\u001b[0;34m(\u001b[0m\u001b[0;34m)\u001b[0m\u001b[0;34m\u001b[0m\u001b[0;34m\u001b[0m\u001b[0m\n\u001b[0m\u001b[1;32m      2\u001b[0m \u001b[0mlist\u001b[0m\u001b[0;34m(\u001b[0m\u001b[0mres\u001b[0m\u001b[0;34m.\u001b[0m\u001b[0mkeys\u001b[0m\u001b[0;34m(\u001b[0m\u001b[0;34m)\u001b[0m\u001b[0;34m)\u001b[0m\u001b[0;34m\u001b[0m\u001b[0;34m\u001b[0m\u001b[0m\n",
      "\u001b[0;32m~/fairness/myfairness.py\u001b[0m in \u001b[0;36mvalidate\u001b[0;34m(self)\u001b[0m\n\u001b[1;32m    387\u001b[0m         \u001b[0mtests_result\u001b[0m \u001b[0;34m=\u001b[0m \u001b[0mdict\u001b[0m\u001b[0;34m(\u001b[0m\u001b[0;34m)\u001b[0m\u001b[0;34m\u001b[0m\u001b[0;34m\u001b[0m\u001b[0m\n\u001b[1;32m    388\u001b[0m         \u001b[0;32mfor\u001b[0m \u001b[0mtest\u001b[0m \u001b[0;32min\u001b[0m \u001b[0mtqdm\u001b[0m\u001b[0;34m(\u001b[0m\u001b[0mself\u001b[0m\u001b[0;34m.\u001b[0m\u001b[0mtest_list\u001b[0m\u001b[0;34m)\u001b[0m\u001b[0;34m:\u001b[0m\u001b[0;34m\u001b[0m\u001b[0;34m\u001b[0m\u001b[0m\n\u001b[0;32m--> 389\u001b[0;31m             \u001b[0mtests_result\u001b[0m\u001b[0;34m[\u001b[0m\u001b[0mtest\u001b[0m\u001b[0;34m.\u001b[0m\u001b[0m__name__\u001b[0m\u001b[0;34m]\u001b[0m \u001b[0;34m=\u001b[0m \u001b[0mtest\u001b[0m\u001b[0;34m(\u001b[0m\u001b[0;34m)\u001b[0m\u001b[0;34m\u001b[0m\u001b[0;34m\u001b[0m\u001b[0m\n\u001b[0m\u001b[1;32m    390\u001b[0m \u001b[0;34m\u001b[0m\u001b[0m\n\u001b[1;32m    391\u001b[0m         \u001b[0;32mreturn\u001b[0m \u001b[0mtests_result\u001b[0m\u001b[0;34m\u001b[0m\u001b[0;34m\u001b[0m\u001b[0m\n",
      "\u001b[0;32m~/fairness/myfairness.py\u001b[0m in \u001b[0;36mtest_indirect_discrimination\u001b[0;34m(self, confidence_level)\u001b[0m\n\u001b[1;32m    114\u001b[0m                                                             \u001b[0mconfidence_level\u001b[0m\u001b[0;34m=\u001b[0m\u001b[0mconfidence_level\u001b[0m\u001b[0;34m,\u001b[0m\u001b[0;34m\u001b[0m\u001b[0;34m\u001b[0m\u001b[0m\n\u001b[1;32m    115\u001b[0m                                                             n_bootstrap=self.n_bootstrap)\n\u001b[0;32m--> 116\u001b[0;31m         \u001b[0mresult\u001b[0m \u001b[0;34m=\u001b[0m \u001b[0mself\u001b[0m\u001b[0;34m.\u001b[0m\u001b[0mreport_indirect_discrimination\u001b[0m\u001b[0;34m(\u001b[0m\u001b[0mgini_ci_by_feat\u001b[0m\u001b[0;34m)\u001b[0m\u001b[0;34m\u001b[0m\u001b[0;34m\u001b[0m\u001b[0m\n\u001b[0m\u001b[1;32m    117\u001b[0m         \u001b[0;32mreturn\u001b[0m \u001b[0mresult\u001b[0m\u001b[0;34m\u001b[0m\u001b[0;34m\u001b[0m\u001b[0m\n\u001b[1;32m    118\u001b[0m \u001b[0;34m\u001b[0m\u001b[0m\n",
      "\u001b[0;32m~/fairness/myfairness.py\u001b[0m in \u001b[0;36mreport_indirect_discrimination\u001b[0;34m(self, gini_ci_by_feat)\u001b[0m\n\u001b[1;32m     86\u001b[0m         \u001b[0mlower_bounds\u001b[0m\u001b[0;34m,\u001b[0m \u001b[0mupper_bounds\u001b[0m \u001b[0;34m=\u001b[0m \u001b[0mzip\u001b[0m\u001b[0;34m(\u001b[0m\u001b[0;34m*\u001b[0m\u001b[0mgini_ci_by_feat\u001b[0m\u001b[0;34m.\u001b[0m\u001b[0mvalues\u001b[0m\u001b[0;34m(\u001b[0m\u001b[0;34m)\u001b[0m\u001b[0;34m)\u001b[0m\u001b[0;34m\u001b[0m\u001b[0;34m\u001b[0m\u001b[0m\n\u001b[1;32m     87\u001b[0m         \u001b[0mis_check_feat\u001b[0m \u001b[0;34m=\u001b[0m \u001b[0;34m[\u001b[0m\u001b[0;34m'yes'\u001b[0m \u001b[0;32mif\u001b[0m \u001b[0mci_u\u001b[0m \u001b[0;34m>\u001b[0m \u001b[0;36m0.5\u001b[0m \u001b[0;32melse\u001b[0m \u001b[0;34m'no'\u001b[0m \u001b[0;32mfor\u001b[0m \u001b[0mci_u\u001b[0m \u001b[0;32min\u001b[0m \u001b[0mupper_bounds\u001b[0m\u001b[0;34m]\u001b[0m\u001b[0;34m\u001b[0m\u001b[0;34m\u001b[0m\u001b[0m\n\u001b[0;32m---> 88\u001b[0;31m         \u001b[0mreport\u001b[0m\u001b[0;34m[\u001b[0m\u001b[0;34m'Защищенная характеристика'\u001b[0m\u001b[0;34m]\u001b[0m \u001b[0;34m=\u001b[0m \u001b[0mlist\u001b[0m\u001b[0;34m(\u001b[0m\u001b[0mtest_result\u001b[0m\u001b[0;34m.\u001b[0m\u001b[0mkeys\u001b[0m\u001b[0;34m(\u001b[0m\u001b[0;34m)\u001b[0m\u001b[0;34m)\u001b[0m\u001b[0;34m\u001b[0m\u001b[0;34m\u001b[0m\u001b[0m\n\u001b[0m\u001b[1;32m     89\u001b[0m         \u001b[0mreport\u001b[0m\u001b[0;34m[\u001b[0m\u001b[0;34mf'Левая граница CI_{confidence_level} Gini'\u001b[0m\u001b[0;34m]\u001b[0m \u001b[0;34m=\u001b[0m \u001b[0mlower_bounds\u001b[0m\u001b[0;34m\u001b[0m\u001b[0;34m\u001b[0m\u001b[0m\n\u001b[1;32m     90\u001b[0m         \u001b[0mreport\u001b[0m\u001b[0;34m[\u001b[0m\u001b[0;34mf'Правая граница CI_{confidence_level} Gini'\u001b[0m\u001b[0;34m]\u001b[0m \u001b[0;34m=\u001b[0m \u001b[0mupper_bounds\u001b[0m\u001b[0;34m\u001b[0m\u001b[0;34m\u001b[0m\u001b[0m\n",
      "\u001b[0;31mNameError\u001b[0m: name 'test_result' is not defined"
     ]
    }
   ],
   "source": [
    "res = val.validate()\n",
    "list(res.keys())"
   ]
  },
  {
   "cell_type": "code",
   "execution_count": null,
   "metadata": {},
   "outputs": [],
   "source": []
  },
  {
   "cell_type": "code",
   "execution_count": null,
   "metadata": {},
   "outputs": [],
   "source": []
  },
  {
   "cell_type": "code",
   "execution_count": null,
   "metadata": {},
   "outputs": [],
   "source": []
  },
  {
   "cell_type": "code",
   "execution_count": null,
   "metadata": {},
   "outputs": [],
   "source": []
  },
  {
   "cell_type": "code",
   "execution_count": null,
   "metadata": {},
   "outputs": [],
   "source": []
  },
  {
   "cell_type": "code",
   "execution_count": 12,
   "metadata": {},
   "outputs": [],
   "source": [
    "train = pd.concat([X_train, y_train], axis=1)\n",
    "train['score'] = model.predict_proba(X_train)[:, 1]\n",
    "\n",
    "oos = pd.concat([X_oos, y_oos], axis=1)\n",
    "oos['score'] = model.predict_proba(X_oos)[:, 1]"
   ]
  },
  {
   "cell_type": "code",
   "execution_count": null,
   "metadata": {},
   "outputs": [],
   "source": []
  },
  {
   "cell_type": "markdown",
   "metadata": {
    "tags": []
   },
   "source": [
    "# Без разбиения на сегменты"
   ]
  },
  {
   "cell_type": "code",
   "execution_count": 13,
   "metadata": {
    "tags": []
   },
   "outputs": [
    {
     "name": "stdout",
     "output_type": "stream",
     "text": [
      "short_list ['feat_0', 'feat_1', 'feat_2', 'feat_3', 'feat_4', 'feat_5', 'feat_6', 'feat_7', 'feat_8', 'feat_9', 'feat_10', 'feat_11', 'feat_12', 'feat_13', 'feat_14', 'feat_15', 'feat_16', 'feat_17', 'feat_18', 'feat_19', 'feat_20', 'feat_21', 'feat_22', 'feat_23', 'feat_24', 'feat_25', 'feat_26', 'feat_27', 'feat_28', 'feat_29']\n",
      "features_to_analyse:  ['feat_3', 'feat_8', 'feat_13', 'feat_27']\n",
      "Количество уникальных значений в фиче feat_3_gr =  12\n",
      "Количество пропусков =  0.0\n",
      "Количество уникальных значений в фиче feat_8_gr =  2\n",
      "Количество пропусков =  0.0\n",
      "Количество уникальных значений в фиче feat_13_gr =  20\n",
      "Количество пропусков =  0.0\n",
      "Количество уникальных значений в фиче feat_27_gr =  21\n",
      "Количество пропусков =  0.0\n",
      "Калибровка скора\n",
      "Калибровка скора заняла: 0.0 минут\n",
      "Применение библиотеки fairlearn\n",
      "feat_3_gr Wed Dec  7 10:29:04 2022\n",
      "feat_8_gr Wed Dec  7 10:29:06 2022\n",
      "feat_13_gr Wed Dec  7 10:29:07 2022\n",
      "feat_27_gr Wed Dec  7 10:29:09 2022\n",
      "Применение библиотеки fairlearn заняло: 0.12 минут\n",
      "Косвенная дискриминация\n",
      "Conf interval Gini\n",
      "feat_3_gr\n",
      "Вывчисление конф.интервала Gini заняло: 0.0 минут\n",
      "dd FEATURES: Index(['feat_0', 'feat_1', 'feat_2', 'feat_3', 'feat_4', 'feat_5', 'feat_6',\n",
      "       'feat_7', 'feat_8', 'feat_9', 'feat_10', 'feat_11', 'feat_12',\n",
      "       'feat_13', 'feat_14', 'feat_15', 'feat_16', 'feat_17', 'feat_18',\n",
      "       'feat_19', 'feat_20', 'feat_21', 'feat_22', 'feat_23', 'feat_24',\n",
      "       'feat_25', 'feat_26', 'feat_27', 'feat_28', 'feat_29', 'target',\n",
      "       'score', 'feat_3_gr', 'feat_8_gr', 'feat_13_gr', 'feat_27_gr', 'bin',\n",
      "       'score_calibr'],\n",
      "      dtype='object')\n",
      "FEATURES: Index(['feat_0', 'feat_1', 'feat_2', 'feat_4', 'feat_5', 'feat_6', 'feat_7',\n",
      "       'feat_9', 'feat_10', 'feat_11', 'feat_12', 'feat_14', 'feat_15',\n",
      "       'feat_16', 'feat_17', 'feat_18', 'feat_19', 'feat_20', 'feat_21',\n",
      "       'feat_22', 'feat_23', 'feat_24', 'feat_25', 'feat_26', 'feat_28',\n",
      "       'feat_29'],\n",
      "      dtype='object')\n"
     ]
    },
    {
     "name": "stderr",
     "output_type": "stream",
     "text": [
      "100%|██████████| 100/100 [00:05<00:00, 17.28it/s]\n"
     ]
    },
    {
     "name": "stdout",
     "output_type": "stream",
     "text": [
      "Conf interval Gini\n",
      "feat_8_gr\n",
      "Вывчисление конф.интервала Gini заняло: 0.0 минут\n",
      "dd FEATURES: Index(['feat_0', 'feat_1', 'feat_2', 'feat_3', 'feat_4', 'feat_5', 'feat_6',\n",
      "       'feat_7', 'feat_8', 'feat_9', 'feat_10', 'feat_11', 'feat_12',\n",
      "       'feat_13', 'feat_14', 'feat_15', 'feat_16', 'feat_17', 'feat_18',\n",
      "       'feat_19', 'feat_20', 'feat_21', 'feat_22', 'feat_23', 'feat_24',\n",
      "       'feat_25', 'feat_26', 'feat_27', 'feat_28', 'feat_29', 'target',\n",
      "       'score', 'feat_3_gr', 'feat_8_gr', 'feat_13_gr', 'feat_27_gr', 'bin',\n",
      "       'score_calibr'],\n",
      "      dtype='object')\n",
      "FEATURES: Index(['feat_0', 'feat_1', 'feat_2', 'feat_4', 'feat_5', 'feat_6', 'feat_7',\n",
      "       'feat_9', 'feat_10', 'feat_11', 'feat_12', 'feat_14', 'feat_15',\n",
      "       'feat_16', 'feat_17', 'feat_18', 'feat_19', 'feat_20', 'feat_21',\n",
      "       'feat_22', 'feat_23', 'feat_24', 'feat_25', 'feat_26', 'feat_28',\n",
      "       'feat_29'],\n",
      "      dtype='object')\n"
     ]
    },
    {
     "name": "stderr",
     "output_type": "stream",
     "text": [
      "100%|██████████| 100/100 [00:01<00:00, 76.87it/s]\n"
     ]
    },
    {
     "name": "stdout",
     "output_type": "stream",
     "text": [
      "Conf interval Gini\n",
      "feat_13_gr\n",
      "Вывчисление конф.интервала Gini заняло: 0.0 минут\n",
      "dd FEATURES: Index(['feat_0', 'feat_1', 'feat_2', 'feat_3', 'feat_4', 'feat_5', 'feat_6',\n",
      "       'feat_7', 'feat_8', 'feat_9', 'feat_10', 'feat_11', 'feat_12',\n",
      "       'feat_13', 'feat_14', 'feat_15', 'feat_16', 'feat_17', 'feat_18',\n",
      "       'feat_19', 'feat_20', 'feat_21', 'feat_22', 'feat_23', 'feat_24',\n",
      "       'feat_25', 'feat_26', 'feat_27', 'feat_28', 'feat_29', 'target',\n",
      "       'score', 'feat_3_gr', 'feat_8_gr', 'feat_13_gr', 'feat_27_gr', 'bin',\n",
      "       'score_calibr'],\n",
      "      dtype='object')\n",
      "FEATURES: Index(['feat_0', 'feat_1', 'feat_2', 'feat_4', 'feat_5', 'feat_6', 'feat_7',\n",
      "       'feat_9', 'feat_10', 'feat_11', 'feat_12', 'feat_14', 'feat_15',\n",
      "       'feat_16', 'feat_17', 'feat_18', 'feat_19', 'feat_20', 'feat_21',\n",
      "       'feat_22', 'feat_23', 'feat_24', 'feat_25', 'feat_26', 'feat_28',\n",
      "       'feat_29'],\n",
      "      dtype='object')\n"
     ]
    },
    {
     "name": "stderr",
     "output_type": "stream",
     "text": [
      "100%|██████████| 100/100 [00:08<00:00, 11.87it/s]\n"
     ]
    },
    {
     "name": "stdout",
     "output_type": "stream",
     "text": [
      "Conf interval Gini\n",
      "feat_27_gr\n",
      "Вывчисление конф.интервала Gini заняло: 0.0 минут\n",
      "dd FEATURES: Index(['feat_0', 'feat_1', 'feat_2', 'feat_3', 'feat_4', 'feat_5', 'feat_6',\n",
      "       'feat_7', 'feat_8', 'feat_9', 'feat_10', 'feat_11', 'feat_12',\n",
      "       'feat_13', 'feat_14', 'feat_15', 'feat_16', 'feat_17', 'feat_18',\n",
      "       'feat_19', 'feat_20', 'feat_21', 'feat_22', 'feat_23', 'feat_24',\n",
      "       'feat_25', 'feat_26', 'feat_27', 'feat_28', 'feat_29', 'target',\n",
      "       'score', 'feat_3_gr', 'feat_8_gr', 'feat_13_gr', 'feat_27_gr', 'bin',\n",
      "       'score_calibr'],\n",
      "      dtype='object')\n",
      "FEATURES: Index(['feat_0', 'feat_1', 'feat_2', 'feat_4', 'feat_5', 'feat_6', 'feat_7',\n",
      "       'feat_9', 'feat_10', 'feat_11', 'feat_12', 'feat_14', 'feat_15',\n",
      "       'feat_16', 'feat_17', 'feat_18', 'feat_19', 'feat_20', 'feat_21',\n",
      "       'feat_22', 'feat_23', 'feat_24', 'feat_25', 'feat_26', 'feat_28',\n",
      "       'feat_29'],\n",
      "      dtype='object')\n"
     ]
    },
    {
     "name": "stderr",
     "output_type": "stream",
     "text": [
      "100%|██████████| 100/100 [00:08<00:00, 11.36it/s]\n"
     ]
    },
    {
     "name": "stdout",
     "output_type": "stream",
     "text": [
      "Косвенная дискриминация заняла: 0.82 минут\n",
      "Feature swap\n",
      "cat_feats []\n",
      "Gini initial:  0.8563304113977532\n",
      "Swap и новый предикт заняли: 0.01 минут\n",
      "\n",
      "shape_sw (152, 4)\n",
      "shape_old (152, 39)\n",
      "Вспомогательные вычисления заняли 0.0 минут\n",
      "Swap и новый предикт заняли: 0.01 минут\n",
      "\n",
      "shape_sw (415, 4)\n",
      "shape_old (415, 40)\n",
      "Вспомогательные вычисления заняли 0.0 минут\n",
      "Swap и новый предикт заняли: 0.01 минут\n",
      "\n",
      "shape_sw (150, 4)\n",
      "shape_old (150, 40)\n",
      "Вспомогательные вычисления заняли 0.0 минут\n",
      "Swap и новый предикт заняли: 0.01 минут\n",
      "\n",
      "shape_sw (32, 4)\n",
      "shape_old (32, 40)\n",
      "Вспомогательные вычисления заняли 0.0 минут\n"
     ]
    }
   ],
   "source": [
    "from fairness_pipeline import fairness_analysis, continuous_binning_calc\n",
    "\n",
    "\n",
    "result =  fairness_analysis(score = 'score',\n",
    "                            target = 'target',\n",
    "                            short_list = list(X_train.columns),\n",
    "                            features_to_analyse = fair_factors, \n",
    "                            model_obj = model,\n",
    "                            train = train, \n",
    "                            oos = oos, \n",
    "                            segm = None,  # в случае если модель разбивается по сегментам, сделать цикл по ним\n",
    "                            logreg = None,  # задать не None, если это логрег\n",
    "                            ) "
   ]
  },
  {
   "cell_type": "markdown",
   "metadata": {},
   "source": [
    "# Результаты"
   ]
  },
  {
   "cell_type": "code",
   "execution_count": 14,
   "metadata": {},
   "outputs": [],
   "source": [
    "from result_aggs import result_aggr\n",
    "\n",
    "test_1, test_2, test_3, test_4 = result_aggr(result)"
   ]
  },
  {
   "cell_type": "code",
   "execution_count": 15,
   "metadata": {},
   "outputs": [],
   "source": [
    "pass"
   ]
  },
  {
   "cell_type": "code",
   "execution_count": 16,
   "metadata": {},
   "outputs": [
    {
     "data": {
      "text/html": [
       "<div>\n",
       "<style scoped>\n",
       "    .dataframe tbody tr th:only-of-type {\n",
       "        vertical-align: middle;\n",
       "    }\n",
       "\n",
       "    .dataframe tbody tr th {\n",
       "        vertical-align: top;\n",
       "    }\n",
       "\n",
       "    .dataframe thead th {\n",
       "        text-align: right;\n",
       "    }\n",
       "</style>\n",
       "<table border=\"1\" class=\"dataframe\">\n",
       "  <thead>\n",
       "    <tr style=\"text-align: right;\">\n",
       "      <th></th>\n",
       "      <th>Защищенная характеристика</th>\n",
       "      <th>Правая граница CI_95 Gini</th>\n",
       "      <th>Защищенная характеристика не проверяется на дискриминацию</th>\n",
       "      <th>Защищенная характеристика проверяется на дискриминацию</th>\n",
       "    </tr>\n",
       "  </thead>\n",
       "  <tbody>\n",
       "    <tr>\n",
       "      <th>0</th>\n",
       "      <td>feat_3_gr</td>\n",
       "      <td>0.258489</td>\n",
       "      <td>NaN</td>\n",
       "      <td>no</td>\n",
       "    </tr>\n",
       "    <tr>\n",
       "      <th>1</th>\n",
       "      <td>feat_8_gr</td>\n",
       "      <td>0.29311</td>\n",
       "      <td>NaN</td>\n",
       "      <td>no</td>\n",
       "    </tr>\n",
       "    <tr>\n",
       "      <th>2</th>\n",
       "      <td>feat_13_gr</td>\n",
       "      <td>0.24749</td>\n",
       "      <td>NaN</td>\n",
       "      <td>no</td>\n",
       "    </tr>\n",
       "    <tr>\n",
       "      <th>3</th>\n",
       "      <td>feat_27_gr</td>\n",
       "      <td>0.737881</td>\n",
       "      <td>NaN</td>\n",
       "      <td>yes</td>\n",
       "    </tr>\n",
       "  </tbody>\n",
       "</table>\n",
       "</div>"
      ],
      "text/plain": [
       "  Защищенная характеристика Правая граница CI_95 Gini  \\\n",
       "0                 feat_3_gr                  0.258489   \n",
       "1                 feat_8_gr                   0.29311   \n",
       "2                feat_13_gr                   0.24749   \n",
       "3                feat_27_gr                  0.737881   \n",
       "\n",
       "  Защищенная характеристика не проверяется на дискриминацию  \\\n",
       "0                                                NaN          \n",
       "1                                                NaN          \n",
       "2                                                NaN          \n",
       "3                                                NaN          \n",
       "\n",
       "  Защищенная характеристика проверяется на дискриминацию  \n",
       "0                                                 no      \n",
       "1                                                 no      \n",
       "2                                                 no      \n",
       "3                                                yes      "
      ]
     },
     "execution_count": 16,
     "metadata": {},
     "output_type": "execute_result"
    }
   ],
   "source": [
    "test_1"
   ]
  },
  {
   "cell_type": "code",
   "execution_count": 17,
   "metadata": {},
   "outputs": [
    {
     "data": {
      "text/html": [
       "<div>\n",
       "<style scoped>\n",
       "    .dataframe tbody tr th:only-of-type {\n",
       "        vertical-align: middle;\n",
       "    }\n",
       "\n",
       "    .dataframe tbody tr th {\n",
       "        vertical-align: top;\n",
       "    }\n",
       "\n",
       "    .dataframe thead th {\n",
       "        text-align: right;\n",
       "    }\n",
       "</style>\n",
       "<table border=\"1\" class=\"dataframe\">\n",
       "  <thead>\n",
       "    <tr style=\"text-align: right;\">\n",
       "      <th></th>\n",
       "      <th>Защищенная характеристика</th>\n",
       "      <th>Минимальное относительное изменение прогнозного значения</th>\n",
       "      <th>Максимальное относительное изменение прогнозного значения</th>\n",
       "      <th>Результат теста</th>\n",
       "    </tr>\n",
       "  </thead>\n",
       "  <tbody>\n",
       "    <tr>\n",
       "      <th>0</th>\n",
       "      <td>feat_3</td>\n",
       "      <td>-0.022222</td>\n",
       "      <td>0.017778</td>\n",
       "      <td>green</td>\n",
       "    </tr>\n",
       "    <tr>\n",
       "      <th>1</th>\n",
       "      <td>feat_8</td>\n",
       "      <td>-0.549296</td>\n",
       "      <td>1.330579</td>\n",
       "      <td>yellow</td>\n",
       "    </tr>\n",
       "    <tr>\n",
       "      <th>2</th>\n",
       "      <td>feat_13</td>\n",
       "      <td>0.000000</td>\n",
       "      <td>0.000000</td>\n",
       "      <td>green</td>\n",
       "    </tr>\n",
       "    <tr>\n",
       "      <th>3</th>\n",
       "      <td>feat_27</td>\n",
       "      <td>-0.079646</td>\n",
       "      <td>0.071429</td>\n",
       "      <td>green</td>\n",
       "    </tr>\n",
       "  </tbody>\n",
       "</table>\n",
       "</div>"
      ],
      "text/plain": [
       "  Защищенная характеристика  \\\n",
       "0                    feat_3   \n",
       "1                    feat_8   \n",
       "2                   feat_13   \n",
       "3                   feat_27   \n",
       "\n",
       "   Минимальное относительное изменение прогнозного значения  \\\n",
       "0                                          -0.022222          \n",
       "1                                          -0.549296          \n",
       "2                                           0.000000          \n",
       "3                                          -0.079646          \n",
       "\n",
       "   Максимальное относительное изменение прогнозного значения Результат теста  \n",
       "0                                           0.017778                   green  \n",
       "1                                           1.330579                  yellow  \n",
       "2                                           0.000000                   green  \n",
       "3                                           0.071429                   green  "
      ]
     },
     "execution_count": 17,
     "metadata": {},
     "output_type": "execute_result"
    }
   ],
   "source": [
    "res['test_target_rate_delta']"
   ]
  },
  {
   "cell_type": "code",
   "execution_count": 18,
   "metadata": {},
   "outputs": [
    {
     "data": {
      "text/html": [
       "<div>\n",
       "<style scoped>\n",
       "    .dataframe tbody tr th:only-of-type {\n",
       "        vertical-align: middle;\n",
       "    }\n",
       "\n",
       "    .dataframe tbody tr th {\n",
       "        vertical-align: top;\n",
       "    }\n",
       "\n",
       "    .dataframe thead th {\n",
       "        text-align: right;\n",
       "    }\n",
       "</style>\n",
       "<table border=\"1\" class=\"dataframe\">\n",
       "  <thead>\n",
       "    <tr style=\"text-align: right;\">\n",
       "      <th></th>\n",
       "      <th>Защищенная характеристика</th>\n",
       "      <th>Минимальное относительное изменение прогнозного значения</th>\n",
       "      <th>Максимальное относительное изменение прогнозного значения</th>\n",
       "      <th>Результат теста</th>\n",
       "    </tr>\n",
       "  </thead>\n",
       "  <tbody>\n",
       "    <tr>\n",
       "      <th>0</th>\n",
       "      <td>feat_3_gr</td>\n",
       "      <td>-0.999999</td>\n",
       "      <td>848684</td>\n",
       "      <td>red</td>\n",
       "    </tr>\n",
       "    <tr>\n",
       "      <th>1</th>\n",
       "      <td>feat_8_gr</td>\n",
       "      <td>-0.0696638</td>\n",
       "      <td>0.151203</td>\n",
       "      <td>green</td>\n",
       "    </tr>\n",
       "    <tr>\n",
       "      <th>2</th>\n",
       "      <td>feat_13_gr</td>\n",
       "      <td>0</td>\n",
       "      <td>0</td>\n",
       "      <td>green</td>\n",
       "    </tr>\n",
       "    <tr>\n",
       "      <th>3</th>\n",
       "      <td>feat_27_gr</td>\n",
       "      <td>0</td>\n",
       "      <td>0</td>\n",
       "      <td>green</td>\n",
       "    </tr>\n",
       "  </tbody>\n",
       "</table>\n",
       "</div>"
      ],
      "text/plain": [
       "  Защищенная характеристика  \\\n",
       "0                 feat_3_gr   \n",
       "1                 feat_8_gr   \n",
       "2                feat_13_gr   \n",
       "3                feat_27_gr   \n",
       "\n",
       "  Минимальное относительное изменение прогнозного значения  \\\n",
       "0                                          -0.999999         \n",
       "1                                         -0.0696638         \n",
       "2                                                  0         \n",
       "3                                                  0         \n",
       "\n",
       "  Максимальное относительное изменение прогнозного значения Результат теста  \n",
       "0                                             848684                    red  \n",
       "1                                           0.151203                  green  \n",
       "2                                                  0                  green  \n",
       "3                                                  0                  green  "
      ]
     },
     "execution_count": 18,
     "metadata": {},
     "output_type": "execute_result"
    }
   ],
   "source": [
    "test_2"
   ]
  },
  {
   "cell_type": "code",
   "execution_count": 19,
   "metadata": {},
   "outputs": [
    {
     "data": {
      "text/html": [
       "<div>\n",
       "<style scoped>\n",
       "    .dataframe tbody tr th:only-of-type {\n",
       "        vertical-align: middle;\n",
       "    }\n",
       "\n",
       "    .dataframe tbody tr th {\n",
       "        vertical-align: top;\n",
       "    }\n",
       "\n",
       "    .dataframe thead th {\n",
       "        text-align: right;\n",
       "    }\n",
       "</style>\n",
       "<table border=\"1\" class=\"dataframe\">\n",
       "  <thead>\n",
       "    <tr style=\"text-align: right;\">\n",
       "      <th></th>\n",
       "      <th>Защищенная характеристика</th>\n",
       "      <th>Изменение TPRD после перестановки значений</th>\n",
       "      <th>Изменение FPRD после перестановки значений</th>\n",
       "      <th>Результат теста</th>\n",
       "    </tr>\n",
       "  </thead>\n",
       "  <tbody>\n",
       "    <tr>\n",
       "      <th>0</th>\n",
       "      <td>feat_3</td>\n",
       "      <td>0.005857</td>\n",
       "      <td>0.000000</td>\n",
       "      <td>green</td>\n",
       "    </tr>\n",
       "    <tr>\n",
       "      <th>1</th>\n",
       "      <td>feat_8</td>\n",
       "      <td>0.044392</td>\n",
       "      <td>0.014562</td>\n",
       "      <td>green</td>\n",
       "    </tr>\n",
       "    <tr>\n",
       "      <th>2</th>\n",
       "      <td>feat_13</td>\n",
       "      <td>0.000000</td>\n",
       "      <td>0.100000</td>\n",
       "      <td>yellow</td>\n",
       "    </tr>\n",
       "    <tr>\n",
       "      <th>3</th>\n",
       "      <td>feat_27</td>\n",
       "      <td>0.130994</td>\n",
       "      <td>0.000000</td>\n",
       "      <td>yellow</td>\n",
       "    </tr>\n",
       "  </tbody>\n",
       "</table>\n",
       "</div>"
      ],
      "text/plain": [
       "  Защищенная характеристика  Изменение TPRD после перестановки значений  \\\n",
       "0                    feat_3                                    0.005857   \n",
       "1                    feat_8                                    0.044392   \n",
       "2                   feat_13                                    0.000000   \n",
       "3                   feat_27                                    0.130994   \n",
       "\n",
       "   Изменение FPRD после перестановки значений Результат теста  \n",
       "0                                    0.000000           green  \n",
       "1                                    0.014562           green  \n",
       "2                                    0.100000          yellow  \n",
       "3                                    0.000000          yellow  "
      ]
     },
     "execution_count": 19,
     "metadata": {},
     "output_type": "execute_result"
    }
   ],
   "source": [
    "res['test_tprd_fprd_delta']"
   ]
  },
  {
   "cell_type": "code",
   "execution_count": 20,
   "metadata": {},
   "outputs": [
    {
     "data": {
      "text/html": [
       "<div>\n",
       "<style scoped>\n",
       "    .dataframe tbody tr th:only-of-type {\n",
       "        vertical-align: middle;\n",
       "    }\n",
       "\n",
       "    .dataframe tbody tr th {\n",
       "        vertical-align: top;\n",
       "    }\n",
       "\n",
       "    .dataframe thead th {\n",
       "        text-align: right;\n",
       "    }\n",
       "</style>\n",
       "<table border=\"1\" class=\"dataframe\">\n",
       "  <thead>\n",
       "    <tr style=\"text-align: right;\">\n",
       "      <th></th>\n",
       "      <th>Защищенная характеристика</th>\n",
       "      <th>Изменение TPRD после перестановки значений</th>\n",
       "      <th>Изменение FPRD после перестановки значений</th>\n",
       "      <th>Результат теста</th>\n",
       "    </tr>\n",
       "  </thead>\n",
       "  <tbody>\n",
       "    <tr>\n",
       "      <th>0</th>\n",
       "      <td>feat_3_gr</td>\n",
       "      <td>-1</td>\n",
       "      <td>0.848684</td>\n",
       "      <td>grey</td>\n",
       "    </tr>\n",
       "    <tr>\n",
       "      <th>1</th>\n",
       "      <td>feat_8_gr</td>\n",
       "      <td>0.0180651</td>\n",
       "      <td>-0.054736</td>\n",
       "      <td>grey</td>\n",
       "    </tr>\n",
       "    <tr>\n",
       "      <th>2</th>\n",
       "      <td>feat_13_gr</td>\n",
       "      <td>0</td>\n",
       "      <td>0</td>\n",
       "      <td>grey</td>\n",
       "    </tr>\n",
       "    <tr>\n",
       "      <th>3</th>\n",
       "      <td>feat_27_gr</td>\n",
       "      <td>0</td>\n",
       "      <td>0</td>\n",
       "      <td>grey</td>\n",
       "    </tr>\n",
       "  </tbody>\n",
       "</table>\n",
       "</div>"
      ],
      "text/plain": [
       "  Защищенная характеристика Изменение TPRD после перестановки значений  \\\n",
       "0                 feat_3_gr                                         -1   \n",
       "1                 feat_8_gr                                  0.0180651   \n",
       "2                feat_13_gr                                          0   \n",
       "3                feat_27_gr                                          0   \n",
       "\n",
       "  Изменение FPRD после перестановки значений Результат теста  \n",
       "0                                   0.848684            grey  \n",
       "1                                  -0.054736            grey  \n",
       "2                                          0            grey  \n",
       "3                                          0            grey  "
      ]
     },
     "execution_count": 20,
     "metadata": {},
     "output_type": "execute_result"
    }
   ],
   "source": [
    "test_3"
   ]
  },
  {
   "cell_type": "code",
   "execution_count": 21,
   "metadata": {},
   "outputs": [
    {
     "data": {
      "text/html": [
       "<div>\n",
       "<style scoped>\n",
       "    .dataframe tbody tr th:only-of-type {\n",
       "        vertical-align: middle;\n",
       "    }\n",
       "\n",
       "    .dataframe tbody tr th {\n",
       "        vertical-align: top;\n",
       "    }\n",
       "\n",
       "    .dataframe thead th {\n",
       "        text-align: right;\n",
       "    }\n",
       "</style>\n",
       "<table border=\"1\" class=\"dataframe\">\n",
       "  <thead>\n",
       "    <tr style=\"text-align: right;\">\n",
       "      <th></th>\n",
       "      <th>Защищенная характеристика</th>\n",
       "      <th>95.0%-ый доверительный интервал для угнетаемой группы</th>\n",
       "      <th>95.0%-ый доверительный интервал для привелегированной группы</th>\n",
       "      <th>99.0%-ый доверительный интервал для угнетаемой группы</th>\n",
       "      <th>99.0%-ый доверительный интервал для привелегированной группы</th>\n",
       "      <th>Результат теста</th>\n",
       "    </tr>\n",
       "  </thead>\n",
       "  <tbody>\n",
       "    <tr>\n",
       "      <th>0</th>\n",
       "      <td>feat_3</td>\n",
       "      <td>(0.5435168731860663, 0.8030770363369052)</td>\n",
       "      <td>невозможно расчитать, в группе один класс</td>\n",
       "      <td>(0.5027370160198662, 0.8438568935031053)</td>\n",
       "      <td>невозможно расчитать, в группе один класс</td>\n",
       "      <td>gray</td>\n",
       "    </tr>\n",
       "    <tr>\n",
       "      <th>1</th>\n",
       "      <td>feat_8</td>\n",
       "      <td>(0.8567995728101081, 0.9374679752546846)</td>\n",
       "      <td>(0.7758958093784335, 0.8338251870515293)</td>\n",
       "      <td>(0.844125648238703, 0.9501418998260898)</td>\n",
       "      <td>(0.7667944445212121, 0.8429265519087507)</td>\n",
       "      <td>green</td>\n",
       "    </tr>\n",
       "    <tr>\n",
       "      <th>2</th>\n",
       "      <td>feat_13</td>\n",
       "      <td>(0.8043289210620156, 0.9503330835999891)</td>\n",
       "      <td>(0.4055082663681193, 0.8417644609046078)</td>\n",
       "      <td>(0.7813900046208623, 0.9732720000411424)</td>\n",
       "      <td>(0.33696745068551637, 0.9103052765872107)</td>\n",
       "      <td>green</td>\n",
       "    </tr>\n",
       "    <tr>\n",
       "      <th>3</th>\n",
       "      <td>feat_27</td>\n",
       "      <td>(0.8454680522363367, 0.9679647835845586)</td>\n",
       "      <td>(0.6408432901328749, 0.9122071077451093)</td>\n",
       "      <td>(0.8262224209072953, 0.9872104149136001)</td>\n",
       "      <td>(0.5982089444460493, 0.9548414534319348)</td>\n",
       "      <td>green</td>\n",
       "    </tr>\n",
       "  </tbody>\n",
       "</table>\n",
       "</div>"
      ],
      "text/plain": [
       "  Защищенная характеристика  \\\n",
       "0                    feat_3   \n",
       "1                    feat_8   \n",
       "2                   feat_13   \n",
       "3                   feat_27   \n",
       "\n",
       "  95.0%-ый доверительный интервал для угнетаемой группы  \\\n",
       "0           (0.5435168731860663, 0.8030770363369052)      \n",
       "1           (0.8567995728101081, 0.9374679752546846)      \n",
       "2           (0.8043289210620156, 0.9503330835999891)      \n",
       "3           (0.8454680522363367, 0.9679647835845586)      \n",
       "\n",
       "  95.0%-ый доверительный интервал для привелегированной группы  \\\n",
       "0          невозможно расчитать, в группе один класс             \n",
       "1           (0.7758958093784335, 0.8338251870515293)             \n",
       "2           (0.4055082663681193, 0.8417644609046078)             \n",
       "3           (0.6408432901328749, 0.9122071077451093)             \n",
       "\n",
       "  99.0%-ый доверительный интервал для угнетаемой группы  \\\n",
       "0           (0.5027370160198662, 0.8438568935031053)      \n",
       "1            (0.844125648238703, 0.9501418998260898)      \n",
       "2           (0.7813900046208623, 0.9732720000411424)      \n",
       "3           (0.8262224209072953, 0.9872104149136001)      \n",
       "\n",
       "  99.0%-ый доверительный интервал для привелегированной группы Результат теста  \n",
       "0          невозможно расчитать, в группе один класс                      gray  \n",
       "1           (0.7667944445212121, 0.8429265519087507)                     green  \n",
       "2          (0.33696745068551637, 0.9103052765872107)                     green  \n",
       "3           (0.5982089444460493, 0.9548414534319348)                     green  "
      ]
     },
     "execution_count": 21,
     "metadata": {},
     "output_type": "execute_result"
    }
   ],
   "source": [
    "res['test_oppressed_privileged_ci']"
   ]
  },
  {
   "cell_type": "code",
   "execution_count": 22,
   "metadata": {},
   "outputs": [
    {
     "data": {
      "text/html": [
       "<div>\n",
       "<style scoped>\n",
       "    .dataframe tbody tr th:only-of-type {\n",
       "        vertical-align: middle;\n",
       "    }\n",
       "\n",
       "    .dataframe tbody tr th {\n",
       "        vertical-align: top;\n",
       "    }\n",
       "\n",
       "    .dataframe thead th {\n",
       "        text-align: right;\n",
       "    }\n",
       "</style>\n",
       "<table border=\"1\" class=\"dataframe\">\n",
       "  <thead>\n",
       "    <tr style=\"text-align: right;\">\n",
       "      <th></th>\n",
       "      <th>Защищенная характеристика</th>\n",
       "      <th>95%-ый доверительный интервал для угнетаемой группы</th>\n",
       "      <th>99%-ый доверительный интервал для угнетаемой группы</th>\n",
       "      <th>95%-ый доверительный интервал для привелегированной группы</th>\n",
       "      <th>99%-ый доверительный интервал для привелегированной группы</th>\n",
       "      <th>Результат теста</th>\n",
       "    </tr>\n",
       "  </thead>\n",
       "  <tbody>\n",
       "    <tr>\n",
       "      <th>0</th>\n",
       "      <td>feat_3_gr</td>\n",
       "      <td>невозможно рассчитать_0.0</td>\n",
       "      <td>невозможно рассчитать_0.0</td>\n",
       "      <td>невозможно рассчитать_1.0</td>\n",
       "      <td>невозможно рассчитать_1.0</td>\n",
       "      <td>one_ex</td>\n",
       "    </tr>\n",
       "    <tr>\n",
       "      <th>1</th>\n",
       "      <td>feat_8_gr</td>\n",
       "      <td>[0.8567988316460765, 0.9374687164187162]</td>\n",
       "      <td>[0.8441221354675189, 0.9501454125972738]</td>\n",
       "      <td>[0.7758952771356991, 0.8338257192942637]</td>\n",
       "      <td>[0.7667919219393532, 0.8429290744906096]</td>\n",
       "      <td>green</td>\n",
       "    </tr>\n",
       "    <tr>\n",
       "      <th>2</th>\n",
       "      <td>feat_13_gr</td>\n",
       "      <td>[0.8245544461706559, 0.9614257027127185]</td>\n",
       "      <td>[0.8030461058569032, 0.9829340430264712]</td>\n",
       "      <td>[0.5494168009222644, 0.8688875224915478]</td>\n",
       "      <td>[0.49921425896137706, 0.9190900644524351]</td>\n",
       "      <td>green</td>\n",
       "    </tr>\n",
       "    <tr>\n",
       "      <th>3</th>\n",
       "      <td>feat_27_gr</td>\n",
       "      <td>[0.6112646629519518, 1.0297609780736896]</td>\n",
       "      <td>[0.5455009562899644, 1.095524684735677]</td>\n",
       "      <td>[1.0, 1.0]</td>\n",
       "      <td>[1.0, 1.0]</td>\n",
       "      <td>green</td>\n",
       "    </tr>\n",
       "  </tbody>\n",
       "</table>\n",
       "</div>"
      ],
      "text/plain": [
       "  Защищенная характеристика  \\\n",
       "0                 feat_3_gr   \n",
       "1                 feat_8_gr   \n",
       "2                feat_13_gr   \n",
       "3                feat_27_gr   \n",
       "\n",
       "  95%-ый доверительный интервал для угнетаемой группы  \\\n",
       "0                          невозможно рассчитать_0.0    \n",
       "1           [0.8567988316460765, 0.9374687164187162]    \n",
       "2           [0.8245544461706559, 0.9614257027127185]    \n",
       "3           [0.6112646629519518, 1.0297609780736896]    \n",
       "\n",
       "  99%-ый доверительный интервал для угнетаемой группы  \\\n",
       "0                          невозможно рассчитать_0.0    \n",
       "1           [0.8441221354675189, 0.9501454125972738]    \n",
       "2           [0.8030461058569032, 0.9829340430264712]    \n",
       "3            [0.5455009562899644, 1.095524684735677]    \n",
       "\n",
       "  95%-ый доверительный интервал для привелегированной группы  \\\n",
       "0                          невозможно рассчитать_1.0           \n",
       "1           [0.7758952771356991, 0.8338257192942637]           \n",
       "2           [0.5494168009222644, 0.8688875224915478]           \n",
       "3                                         [1.0, 1.0]           \n",
       "\n",
       "  99%-ый доверительный интервал для привелегированной группы Результат теста  \n",
       "0                          невозможно рассчитать_1.0                  one_ex  \n",
       "1           [0.7667919219393532, 0.8429290744906096]                   green  \n",
       "2          [0.49921425896137706, 0.9190900644524351]                   green  \n",
       "3                                         [1.0, 1.0]                   green  "
      ]
     },
     "execution_count": 22,
     "metadata": {},
     "output_type": "execute_result"
    }
   ],
   "source": [
    "test_4"
   ]
  },
  {
   "cell_type": "markdown",
   "metadata": {},
   "source": [
    "## В случае разбиения на сегменты:"
   ]
  },
  {
   "cell_type": "code",
   "execution_count": 23,
   "metadata": {
    "ExecuteTime": {
     "end_time": "2022-07-18T09:03:24.850519Z",
     "start_time": "2022-07-18T08:48:35.427Z"
    }
   },
   "outputs": [
    {
     "ename": "NameError",
     "evalue": "name 'score_name' is not defined",
     "output_type": "error",
     "traceback": [
      "\u001b[0;31m---------------------------------------------------------------------------\u001b[0m",
      "\u001b[0;31mNameError\u001b[0m                                 Traceback (most recent call last)",
      "\u001b[0;32m/tmp/ipykernel_11076/406884945.py\u001b[0m in \u001b[0;36m<module>\u001b[0;34m\u001b[0m\n\u001b[1;32m      5\u001b[0m          'EMAIL_MORT', 'LETTER_MORT_CASH_CARD']:\n\u001b[1;32m      6\u001b[0m \u001b[0;34m\u001b[0m\u001b[0m\n\u001b[0;32m----> 7\u001b[0;31m     result = fairness_analysis(score = score_name,\n\u001b[0m\u001b[1;32m      8\u001b[0m                             \u001b[0mtarget\u001b[0m \u001b[0;34m=\u001b[0m \u001b[0mtarget_name\u001b[0m\u001b[0;34m,\u001b[0m\u001b[0;34m\u001b[0m\u001b[0;34m\u001b[0m\u001b[0m\n\u001b[1;32m      9\u001b[0m                             \u001b[0mshort_list\u001b[0m \u001b[0;34m=\u001b[0m \u001b[0mshort_list\u001b[0m\u001b[0;34m,\u001b[0m\u001b[0;34m\u001b[0m\u001b[0;34m\u001b[0m\u001b[0m\n",
      "\u001b[0;31mNameError\u001b[0m: name 'score_name' is not defined"
     ]
    }
   ],
   "source": [
    "# колонка с сегментом должна быть названа как 'segment'! \n",
    "\n",
    "for seg in ['VOICE_CASH', 'ROBOT_CASH', 'WAIT_CARD', 'WAIT_CASH', 'CALL_CARD', 'VOICE_CARD', 'SMS_CASH', 'SMS_CARD',\n",
    "         'ROBOT_CARD', 'WAIT_MORT', 'VOICE_MORT', 'SMS_MORT', 'EMAIL_CARD', 'CALL_CASH', 'CALL_MORT', 'EMAIL_CASH',\n",
    "         'EMAIL_MORT', 'LETTER_MORT_CASH_CARD']:\n",
    "    \n",
    "    result = fairness_analysis(score = score_name,\n",
    "                            target = target_name,\n",
    "                            short_list = short_list,\n",
    "                            features_to_analyse = fair_features, \n",
    "                            model_obj = model_obj,\n",
    "                            train = train, \n",
    "                            oos = oot_or_oos, \n",
    "                            segm = seg,  # в случае если модель разбивается по сегментам, сделать цикл по ним\n",
    "                            logreg = None,  # задать не None, если это логрег\n",
    "                            ) \n",
    "    result['N_model'] = f'{model_number}_{seg}'\n",
    "    result['date'] = date.today()\n",
    "    result.to_csv(f'result_fair_{model_number}_{seg}.csv', index = False)"
   ]
  },
  {
   "cell_type": "markdown",
   "metadata": {},
   "source": [
    "### Записать значение uplift для каждой фичи"
   ]
  },
  {
   "cell_type": "code",
   "execution_count": null,
   "metadata": {
    "ExecuteTime": {
     "end_time": "2022-07-18T08:48:31.837717Z",
     "start_time": "2022-07-18T08:48:26.828Z"
    }
   },
   "outputs": [],
   "source": [
    "res_uplift = {}\n",
    "result['Uplift'] = '-'\n",
    "for k in res_uplift.keys():\n",
    "    result.loc[result[''] == k, 'Uplift'] = res_uplift[k]"
   ]
  },
  {
   "cell_type": "markdown",
   "metadata": {
    "ExecuteTime": {
     "end_time": "2022-07-06T12:31:12.570071Z",
     "start_time": "2022-07-06T12:30:36.318Z"
    }
   },
   "source": [
    "# В случае отсутствия дискриминационных фичей в модели: "
   ]
  },
  {
   "cell_type": "code",
   "execution_count": null,
   "metadata": {
    "ExecuteTime": {
     "end_time": "2022-07-18T08:48:31.838504Z",
     "start_time": "2022-07-18T08:48:26.830Z"
    }
   },
   "outputs": [],
   "source": [
    "result = no_discrimination_save(model_number)\n",
    "result.to_csv(f'result_fair_{model_number}_{seg}.csv', index = False)"
   ]
  }
 ],
 "metadata": {
  "hide_input": false,
  "kernelspec": {
   "display_name": "Python 3 (ipykernel)",
   "language": "python",
   "name": "python3"
  },
  "language_info": {
   "codemirror_mode": {
    "name": "ipython",
    "version": 3
   },
   "file_extension": ".py",
   "mimetype": "text/x-python",
   "name": "python",
   "nbconvert_exporter": "python",
   "pygments_lexer": "ipython3",
   "version": "3.7.12"
  },
  "latex_envs": {
   "LaTeX_envs_menu_present": true,
   "autoclose": false,
   "autocomplete": true,
   "bibliofile": "biblio.bib",
   "cite_by": "apalike",
   "current_citInitial": 1,
   "eqLabelWithNumbers": true,
   "eqNumInitial": 1,
   "hotkeys": {
    "equation": "Ctrl-E",
    "itemize": "Ctrl-I"
   },
   "labels_anchors": false,
   "latex_user_defs": false,
   "report_style_numbering": false,
   "user_envs_cfg": false
  },
  "toc": {
   "base_numbering": 1,
   "nav_menu": {},
   "number_sections": true,
   "sideBar": true,
   "skip_h1_title": false,
   "title_cell": "Table of Contents",
   "title_sidebar": "Contents",
   "toc_cell": false,
   "toc_position": {},
   "toc_section_display": true,
   "toc_window_display": false
  }
 },
 "nbformat": 4,
 "nbformat_minor": 4
}
