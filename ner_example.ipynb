{
 "cells": [
  {
   "cell_type": "code",
   "execution_count": 1,
   "metadata": {},
   "outputs": [],
   "source": [
    "%load_ext autoreload\n",
    "%autoreload 2"
   ]
  },
  {
   "cell_type": "code",
   "execution_count": 2,
   "metadata": {},
   "outputs": [
    {
     "name": "stderr",
     "output_type": "stream",
     "text": [
      "Found cached dataset conll2003 (C:/Users/kiril/.cache/huggingface/datasets/conll2003/conll2003/1.0.0/9a4d16a94f8674ba3466315300359b0acd891b68b6c8743ddf60b9c702adce98)\n"
     ]
    },
    {
     "data": {
      "application/vnd.jupyter.widget-view+json": {
       "model_id": "0ff170321aa74de683a69f9f5067ca4a",
       "version_major": 2,
       "version_minor": 0
      },
      "text/plain": [
       "  0%|          | 0/3 [00:00<?, ?it/s]"
      ]
     },
     "metadata": {},
     "output_type": "display_data"
    },
    {
     "data": {
      "text/plain": [
       "dict_keys(['train', 'validation', 'test'])"
      ]
     },
     "execution_count": 2,
     "metadata": {},
     "output_type": "execute_result"
    }
   ],
   "source": [
    "import datasets\n",
    "conll = datasets.load_dataset(\"conll2003\")\n",
    "conll.keys()"
   ]
  },
  {
   "cell_type": "code",
   "execution_count": 3,
   "metadata": {},
   "outputs": [
    {
     "data": {
      "text/plain": [
       "{'id': '1',\n",
       " 'tokens': ['Nadim', 'Ladki'],\n",
       " 'pos_tags': [22, 22],\n",
       " 'chunk_tags': [11, 12],\n",
       " 'ner_tags': [1, 2]}"
      ]
     },
     "execution_count": 3,
     "metadata": {},
     "output_type": "execute_result"
    }
   ],
   "source": [
    "conll[\"test\"][1]"
   ]
  },
  {
   "cell_type": "code",
   "execution_count": 4,
   "metadata": {},
   "outputs": [
    {
     "name": "stdout",
     "output_type": "stream",
     "text": [
      "['O', 'B-PER', 'I-PER', 'B-ORG', 'I-ORG', 'B-LOC', 'I-LOC', 'B-MISC', 'I-MISC']\n"
     ]
    }
   ],
   "source": [
    "CONLL_NER_TAGS = conll['train'].features['ner_tags'].feature.names\n",
    "print(CONLL_NER_TAGS)"
   ]
  },
  {
   "cell_type": "code",
   "execution_count": 5,
   "metadata": {},
   "outputs": [],
   "source": [
    "from sbe_vallib import NerSampler"
   ]
  },
  {
   "cell_type": "code",
   "execution_count": 6,
   "metadata": {},
   "outputs": [],
   "source": [
    "train = {'X': [' '.join(i['tokens']) for i in conll['train']],\n",
    "         'y_true': [i['ner_tags'] for i in conll['train']],\n",
    "         'y_pred': [i['ner_tags'] for i in conll['train']]}\n",
    "\n",
    "oos = {'X': [' '.join(i['tokens']) for i in conll['test']],\n",
    "         'y_true': [i['ner_tags'] for i in conll['test']],\n",
    "         'y_pred': [i['ner_tags'] for i in conll['test']]}"
   ]
  },
  {
   "cell_type": "code",
   "execution_count": 7,
   "metadata": {},
   "outputs": [
    {
     "data": {
      "text/plain": [
       "(['EU rejects German call to boycott British lamb .',\n",
       "  'Peter Blackburn',\n",
       "  'BRUSSELS 1996-08-22'],\n",
       " [[3, 0, 7, 0, 0, 0, 7, 0, 0], [1, 2], [5, 0]])"
      ]
     },
     "execution_count": 7,
     "metadata": {},
     "output_type": "execute_result"
    }
   ],
   "source": [
    "train['X'][:3], train['y_true'][:3]"
   ]
  },
  {
   "cell_type": "code",
   "execution_count": 8,
   "metadata": {},
   "outputs": [],
   "source": [
    "sampler = NerSampler(train = train,\n",
    "                     oos = oos)"
   ]
  },
  {
   "cell_type": "code",
   "execution_count": 9,
   "metadata": {},
   "outputs": [
    {
     "data": {
      "text/plain": [
       "['RE : $ 25,000,000',\n",
       " '- Five barges , 30-day open , mid-Mississippi ( McGregor and south ) bid at 160 percent , offered at 170 percent , no comparisons .',\n",
       " 'Blanc collected his seventh career World Cup win with a two jump combined score of 238.36 points , easily beating Foucras , the overall World Cup aerials champion , who was a distant second with 223.60 .',\n",
       " 'DALLAS 6 11 .353 9 1/2',\n",
       " 'C. Cairns b Saqlain 10',\n",
       " 'NY JETS 1 12 0 221 368',\n",
       " 'Halftime 1-1 .',\n",
       " 'WESTERN CONFERENCE',\n",
       " 'Group D',\n",
       " 'Rain earlier delayed the start of play by 30 minutes .']"
      ]
     },
     "execution_count": 9,
     "metadata": {},
     "output_type": "execute_result"
    }
   ],
   "source": [
    "sampler.set_seed(1, bootstrap=True)\n",
    "sampler.oos['X'][:10]"
   ]
  },
  {
   "cell_type": "code",
   "execution_count": 10,
   "metadata": {},
   "outputs": [],
   "source": [
    "from transformers import (pipeline, \n",
    "        AutoModelForTokenClassification, AutoTokenizer, \n",
    "        BertForTokenClassification, BertTokenizer)\n",
    "\n",
    "# Load pretrained model and tokenizer for English NER task (dslim/bert-base-NER)\n",
    "model_name = \"dslim/bert-base-NER\"\n",
    "tokenizer = AutoTokenizer.from_pretrained(model_name)\n",
    "model = BertForTokenClassification.from_pretrained(model_name)"
   ]
  },
  {
   "cell_type": "code",
   "execution_count": 11,
   "metadata": {},
   "outputs": [],
   "source": [
    "pipe = pipeline(task='ner', model=model, tokenizer=tokenizer)"
   ]
  },
  {
   "cell_type": "code",
   "execution_count": 12,
   "metadata": {},
   "outputs": [
    {
     "data": {
      "text/plain": [
       "[[],\n",
       " [{'entity': 'B-LOC',\n",
       "   'score': 0.8496239,\n",
       "   'index': 11,\n",
       "   'word': 'mid',\n",
       "   'start': 30,\n",
       "   'end': 33},\n",
       "  {'entity': 'B-LOC',\n",
       "   'score': 0.99894613,\n",
       "   'index': 13,\n",
       "   'word': 'Mississippi',\n",
       "   'start': 34,\n",
       "   'end': 45},\n",
       "  {'entity': 'B-LOC',\n",
       "   'score': 0.98926777,\n",
       "   'index': 15,\n",
       "   'word': 'McGregor',\n",
       "   'start': 48,\n",
       "   'end': 56}],\n",
       " [{'entity': 'B-PER',\n",
       "   'score': 0.9988147,\n",
       "   'index': 1,\n",
       "   'word': 'Blanc',\n",
       "   'start': 0,\n",
       "   'end': 5},\n",
       "  {'entity': 'B-MISC',\n",
       "   'score': 0.99777263,\n",
       "   'index': 6,\n",
       "   'word': 'World',\n",
       "   'start': 35,\n",
       "   'end': 40},\n",
       "  {'entity': 'I-MISC',\n",
       "   'score': 0.9987795,\n",
       "   'index': 7,\n",
       "   'word': 'Cup',\n",
       "   'start': 41,\n",
       "   'end': 44},\n",
       "  {'entity': 'B-PER',\n",
       "   'score': 0.9993482,\n",
       "   'index': 23,\n",
       "   'word': 'F',\n",
       "   'start': 114,\n",
       "   'end': 115},\n",
       "  {'entity': 'I-PER',\n",
       "   'score': 0.94976074,\n",
       "   'index': 24,\n",
       "   'word': '##ou',\n",
       "   'start': 115,\n",
       "   'end': 117},\n",
       "  {'entity': 'I-PER',\n",
       "   'score': 0.97224516,\n",
       "   'index': 25,\n",
       "   'word': '##c',\n",
       "   'start': 117,\n",
       "   'end': 118},\n",
       "  {'entity': 'I-PER',\n",
       "   'score': 0.9873515,\n",
       "   'index': 26,\n",
       "   'word': '##ras',\n",
       "   'start': 118,\n",
       "   'end': 121},\n",
       "  {'entity': 'B-MISC',\n",
       "   'score': 0.9977952,\n",
       "   'index': 30,\n",
       "   'word': 'World',\n",
       "   'start': 136,\n",
       "   'end': 141},\n",
       "  {'entity': 'I-MISC',\n",
       "   'score': 0.9987238,\n",
       "   'index': 31,\n",
       "   'word': 'Cup',\n",
       "   'start': 142,\n",
       "   'end': 145}],\n",
       " [{'entity': 'B-ORG',\n",
       "   'score': 0.9996458,\n",
       "   'index': 1,\n",
       "   'word': 'D',\n",
       "   'start': 0,\n",
       "   'end': 1},\n",
       "  {'entity': 'B-ORG',\n",
       "   'score': 0.7960423,\n",
       "   'index': 2,\n",
       "   'word': '##AL',\n",
       "   'start': 1,\n",
       "   'end': 3},\n",
       "  {'entity': 'I-ORG',\n",
       "   'score': 0.99850357,\n",
       "   'index': 3,\n",
       "   'word': '##LA',\n",
       "   'start': 3,\n",
       "   'end': 5},\n",
       "  {'entity': 'I-ORG',\n",
       "   'score': 0.9973411,\n",
       "   'index': 4,\n",
       "   'word': '##S',\n",
       "   'start': 5,\n",
       "   'end': 6}],\n",
       " [{'entity': 'B-PER',\n",
       "   'score': 0.9997764,\n",
       "   'index': 1,\n",
       "   'word': 'C',\n",
       "   'start': 0,\n",
       "   'end': 1},\n",
       "  {'entity': 'B-PER',\n",
       "   'score': 0.90854126,\n",
       "   'index': 2,\n",
       "   'word': '.',\n",
       "   'start': 1,\n",
       "   'end': 2},\n",
       "  {'entity': 'I-PER',\n",
       "   'score': 0.999686,\n",
       "   'index': 3,\n",
       "   'word': 'Cairns',\n",
       "   'start': 3,\n",
       "   'end': 9},\n",
       "  {'entity': 'B-PER',\n",
       "   'score': 0.9997515,\n",
       "   'index': 5,\n",
       "   'word': 'Sa',\n",
       "   'start': 12,\n",
       "   'end': 14},\n",
       "  {'entity': 'I-PER',\n",
       "   'score': 0.9186561,\n",
       "   'index': 6,\n",
       "   'word': '##q',\n",
       "   'start': 14,\n",
       "   'end': 15},\n",
       "  {'entity': 'I-PER',\n",
       "   'score': 0.99832827,\n",
       "   'index': 7,\n",
       "   'word': '##lain',\n",
       "   'start': 15,\n",
       "   'end': 19}],\n",
       " [{'entity': 'B-ORG',\n",
       "   'score': 0.9995933,\n",
       "   'index': 1,\n",
       "   'word': 'NY',\n",
       "   'start': 0,\n",
       "   'end': 2},\n",
       "  {'entity': 'I-ORG',\n",
       "   'score': 0.9988445,\n",
       "   'index': 2,\n",
       "   'word': 'J',\n",
       "   'start': 3,\n",
       "   'end': 4},\n",
       "  {'entity': 'I-ORG',\n",
       "   'score': 0.9934684,\n",
       "   'index': 3,\n",
       "   'word': '##ET',\n",
       "   'start': 4,\n",
       "   'end': 6},\n",
       "  {'entity': 'I-ORG',\n",
       "   'score': 0.9976846,\n",
       "   'index': 4,\n",
       "   'word': '##S',\n",
       "   'start': 6,\n",
       "   'end': 7}],\n",
       " [],\n",
       " [{'entity': 'B-MISC',\n",
       "   'score': 0.5759976,\n",
       "   'index': 1,\n",
       "   'word': 'W',\n",
       "   'start': 0,\n",
       "   'end': 1},\n",
       "  {'entity': 'B-MISC',\n",
       "   'score': 0.6820716,\n",
       "   'index': 2,\n",
       "   'word': '##ES',\n",
       "   'start': 1,\n",
       "   'end': 3},\n",
       "  {'entity': 'I-MISC',\n",
       "   'score': 0.92872447,\n",
       "   'index': 3,\n",
       "   'word': '##TE',\n",
       "   'start': 3,\n",
       "   'end': 5}],\n",
       " [],\n",
       " []]"
      ]
     },
     "execution_count": 12,
     "metadata": {},
     "output_type": "execute_result"
    }
   ],
   "source": [
    "pipe(sampler.oos['X'][:10])"
   ]
  },
  {
   "cell_type": "code",
   "execution_count": 13,
   "metadata": {},
   "outputs": [],
   "source": [
    "from sbe_vallib.validation.nlp.general_tests.data_quality.test_train_test_independence import train_test_independence_test"
   ]
  },
  {
   "cell_type": "code",
   "execution_count": 15,
   "metadata": {},
   "outputs": [
    {
     "name": "stdout",
     "output_type": "stream",
     "text": [
      "\tTrain/oos samples are too huge for independence test, calculating on 0.4287 fraction\n",
      "7499 7499\n",
      "(7499, 85)\n"
     ]
    },
    {
     "name": "stderr",
     "output_type": "stream",
     "text": [
      "100%|██████████| 200/200 [00:08<00:00, 24.76it/s]\n"
     ]
    },
    {
     "data": {
      "text/plain": [
       "{'semaphore': 'grey',\n",
       " 'result_dict': {'result': {'Фактический gini': 0.18245832161197367,\n",
       "   'Квантиль': 1,\n",
       "   'Результат теста': 'Grey'}},\n",
       " 'result_dataframes': [   Фактический gini  Квантиль Результат теста\n",
       "  0          0.182458         1            Grey],\n",
       " 'result_plots': []}"
      ]
     },
     "execution_count": 15,
     "metadata": {},
     "output_type": "execute_result"
    }
   ],
   "source": [
    "train_test_independence_test(sampler)"
   ]
  },
  {
   "cell_type": "code",
   "execution_count": null,
   "metadata": {},
   "outputs": [],
   "source": []
  }
 ],
 "metadata": {
  "kernelspec": {
   "display_name": "torch_env",
   "language": "python",
   "name": "python3"
  },
  "language_info": {
   "codemirror_mode": {
    "name": "ipython",
    "version": 3
   },
   "file_extension": ".py",
   "mimetype": "text/x-python",
   "name": "python",
   "nbconvert_exporter": "python",
   "pygments_lexer": "ipython3",
   "version": "3.9.13"
  },
  "orig_nbformat": 4,
  "vscode": {
   "interpreter": {
    "hash": "ad11b0633eac21df8b44aced314248d71a0a7e9e2dce861d42259df212f0fd51"
   }
  }
 },
 "nbformat": 4,
 "nbformat_minor": 2
}
