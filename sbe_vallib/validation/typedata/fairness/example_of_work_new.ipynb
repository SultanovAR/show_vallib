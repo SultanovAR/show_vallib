{
 "cells": [
  {
   "cell_type": "markdown",
   "metadata": {},
   "source": [
    "# Подготовка инструментов"
   ]
  },
  {
   "cell_type": "markdown",
   "metadata": {},
   "source": [
    "Импорт необходимых инструментов"
   ]
  },
  {
   "cell_type": "code",
   "execution_count": 1,
   "metadata": {},
   "outputs": [],
   "source": [
    "%load_ext autoreload\n",
    "%autoreload 2"
   ]
  },
  {
   "cell_type": "code",
   "execution_count": 2,
   "metadata": {
    "tags": []
   },
   "outputs": [],
   "source": [
    "import time\n",
    "import random\n",
    "import joblib\n",
    "from sklearn.preprocessing import LabelEncoder\n",
    "import datetime\n",
    "from datetime import date\n",
    "import numpy as np\n",
    "import pandas as pd\n",
    "import warnings\n",
    "\n",
    "warnings.filterwarnings('ignore')"
   ]
  },
  {
   "cell_type": "markdown",
   "metadata": {},
   "source": [
    "Создадим перцептрон со случаными весами для имитации сложной функции"
   ]
  },
  {
   "cell_type": "code",
   "execution_count": 3,
   "metadata": {},
   "outputs": [],
   "source": [
    "from copy import deepcopy\n",
    "\n",
    "relu = np.vectorize(lambda x: x if x>0 else 0.)\n",
    "sigm = lambda x: 1./(1+np.exp(-x))\n",
    "\n",
    "vec_sizes = [45, 45, 45, 20, 15, 1]\n",
    "\n",
    "def perceptron(xx, vec_sizes):\n",
    "    \n",
    "    xx_ext = xx\n",
    "    generator = np.random.RandomState(43)\n",
    "    \n",
    "    for i, new_size in enumerate(vec_sizes):\n",
    "        xx_ext = np.hstack([np.ones((xx_ext.shape[0], 1)), xx_ext])\n",
    "        \n",
    "        weights = generator.normal(0., 1, size=(xx_ext.shape[1], new_size))\n",
    "        \n",
    "        xx_ext = relu(xx_ext.dot(weights))\n",
    "        \n",
    "    return np.floor(xx_ext.reshape((-1,)))"
   ]
  },
  {
   "cell_type": "markdown",
   "metadata": {},
   "source": [
    "# Генерация данных, построение модели"
   ]
  },
  {
   "cell_type": "markdown",
   "metadata": {},
   "source": [
    "Сгенерируем нормально распределенные фичи и с помощью случайного \n",
    "перцептрона сымитируем зависимость целевой переменной. Сгенерированный \n",
    "датафрейм состоит из признаков, которые вошли в итоговую модель.\n",
    "\n",
    "Предположим, что факторы feat_3, feat_8, feat_13, feat_27\n",
    "являются защищенными характеристиками"
   ]
  },
  {
   "cell_type": "code",
   "execution_count": 5,
   "metadata": {
    "ExecuteTime": {
     "end_time": "2022-08-08T14:04:20.992857Z",
     "start_time": "2022-08-08T14:04:12.243711Z"
    },
    "tags": []
   },
   "outputs": [],
   "source": [
    "# Генератор \n",
    "gen = np.random.RandomState(42)\n",
    "\n",
    "\n",
    "# Генерация признаков\n",
    "X = pd.DataFrame(data=gen.normal(50., 100., size=(30000, 30)),\n",
    "                 columns=[f'feat_{i}' for i in range(30)],\n",
    "                 index=[i for i in range(30000)])\n",
    "\n",
    "\n",
    "# Имитация зависимости\n",
    "y = pd.Series(data=1*(perceptron(X.values, [60, 32, 12, 5, 1])>0),\n",
    "              index=[i for i in range(30000)],\n",
    "              name='target'\n",
    "             )\n",
    "\n",
    "# Защищенные характеристики \n",
    "fair_factors = ['feat_3', 'feat_8', 'feat_13', 'feat_27']\n",
    "\n",
    "# Остальные признаки\n",
    "no_fair_factors = list(set(X.columns) - set(fair_factors))"
   ]
  },
  {
   "cell_type": "markdown",
   "metadata": {},
   "source": [
    "Сгенеруем защищенные характеристики и \"руками\" внесем дискриминацию.\n",
    "С помощью другого случайного перцептрона сымитируем зависимость \n",
    "одного защищенного фактора от признаков, не являющихся защищенными характеристиками"
   ]
  },
  {
   "cell_type": "code",
   "execution_count": 6,
   "metadata": {},
   "outputs": [],
   "source": [
    "# Генерация\n",
    "X['feat_3'] = gen.randint(18, 40, size=(30000,))\n",
    "\n",
    "# Внесение \"руками\" дискриминации\n",
    "X['feat_3'][y>0]=gen.randint(30, 41, size=(len(X['feat_3'][y>0]),))\n",
    "\n",
    "# Генерация\n",
    "X['feat_8'] = gen.choice([0, 1], size=(30000,), p=[0.4, 0.6])\n",
    "\n",
    "# Внесение \"руками\" дискриминации\n",
    "X['feat_8'][y>0]=gen.choice([0, 1], size=(len(X['feat_8'][y>0]),), p=[0.1, 0.9])\n",
    "\n",
    "# Генерация\n",
    "X['feat_13'] = gen.uniform(0, 10, size=(30000,))\n",
    "\n",
    "# Имитация зависимости \n",
    "X['feat_27'] = perceptron(X[no_fair_factors].values, vec_sizes)\n"
   ]
  },
  {
   "cell_type": "markdown",
   "metadata": {},
   "source": [
    "Разобьем данные"
   ]
  },
  {
   "cell_type": "code",
   "execution_count": 7,
   "metadata": {},
   "outputs": [],
   "source": [
    "from sklearn.model_selection import train_test_split\n",
    "\n",
    "X_train, X_oos, y_train, y_oos = train_test_split(X, y, \n",
    "                                                  test_size=0.1, \n",
    "                                                  random_state=42,\n",
    "                                                  stratify=y)"
   ]
  },
  {
   "cell_type": "markdown",
   "metadata": {},
   "source": [
    "Построим итоговую модель"
   ]
  },
  {
   "cell_type": "code",
   "execution_count": 8,
   "metadata": {},
   "outputs": [
    {
     "data": {
      "text/html": [
       "<style>#sk-container-id-1 {color: black;background-color: white;}#sk-container-id-1 pre{padding: 0;}#sk-container-id-1 div.sk-toggleable {background-color: white;}#sk-container-id-1 label.sk-toggleable__label {cursor: pointer;display: block;width: 100%;margin-bottom: 0;padding: 0.3em;box-sizing: border-box;text-align: center;}#sk-container-id-1 label.sk-toggleable__label-arrow:before {content: \"▸\";float: left;margin-right: 0.25em;color: #696969;}#sk-container-id-1 label.sk-toggleable__label-arrow:hover:before {color: black;}#sk-container-id-1 div.sk-estimator:hover label.sk-toggleable__label-arrow:before {color: black;}#sk-container-id-1 div.sk-toggleable__content {max-height: 0;max-width: 0;overflow: hidden;text-align: left;background-color: #f0f8ff;}#sk-container-id-1 div.sk-toggleable__content pre {margin: 0.2em;color: black;border-radius: 0.25em;background-color: #f0f8ff;}#sk-container-id-1 input.sk-toggleable__control:checked~div.sk-toggleable__content {max-height: 200px;max-width: 100%;overflow: auto;}#sk-container-id-1 input.sk-toggleable__control:checked~label.sk-toggleable__label-arrow:before {content: \"▾\";}#sk-container-id-1 div.sk-estimator input.sk-toggleable__control:checked~label.sk-toggleable__label {background-color: #d4ebff;}#sk-container-id-1 div.sk-label input.sk-toggleable__control:checked~label.sk-toggleable__label {background-color: #d4ebff;}#sk-container-id-1 input.sk-hidden--visually {border: 0;clip: rect(1px 1px 1px 1px);clip: rect(1px, 1px, 1px, 1px);height: 1px;margin: -1px;overflow: hidden;padding: 0;position: absolute;width: 1px;}#sk-container-id-1 div.sk-estimator {font-family: monospace;background-color: #f0f8ff;border: 1px dotted black;border-radius: 0.25em;box-sizing: border-box;margin-bottom: 0.5em;}#sk-container-id-1 div.sk-estimator:hover {background-color: #d4ebff;}#sk-container-id-1 div.sk-parallel-item::after {content: \"\";width: 100%;border-bottom: 1px solid gray;flex-grow: 1;}#sk-container-id-1 div.sk-label:hover label.sk-toggleable__label {background-color: #d4ebff;}#sk-container-id-1 div.sk-serial::before {content: \"\";position: absolute;border-left: 1px solid gray;box-sizing: border-box;top: 0;bottom: 0;left: 50%;z-index: 0;}#sk-container-id-1 div.sk-serial {display: flex;flex-direction: column;align-items: center;background-color: white;padding-right: 0.2em;padding-left: 0.2em;position: relative;}#sk-container-id-1 div.sk-item {position: relative;z-index: 1;}#sk-container-id-1 div.sk-parallel {display: flex;align-items: stretch;justify-content: center;background-color: white;position: relative;}#sk-container-id-1 div.sk-item::before, #sk-container-id-1 div.sk-parallel-item::before {content: \"\";position: absolute;border-left: 1px solid gray;box-sizing: border-box;top: 0;bottom: 0;left: 50%;z-index: -1;}#sk-container-id-1 div.sk-parallel-item {display: flex;flex-direction: column;z-index: 1;position: relative;background-color: white;}#sk-container-id-1 div.sk-parallel-item:first-child::after {align-self: flex-end;width: 50%;}#sk-container-id-1 div.sk-parallel-item:last-child::after {align-self: flex-start;width: 50%;}#sk-container-id-1 div.sk-parallel-item:only-child::after {width: 0;}#sk-container-id-1 div.sk-dashed-wrapped {border: 1px dashed gray;margin: 0 0.4em 0.5em 0.4em;box-sizing: border-box;padding-bottom: 0.4em;background-color: white;}#sk-container-id-1 div.sk-label label {font-family: monospace;font-weight: bold;display: inline-block;line-height: 1.2em;}#sk-container-id-1 div.sk-label-container {text-align: center;}#sk-container-id-1 div.sk-container {/* jupyter's `normalize.less` sets `[hidden] { display: none; }` but bootstrap.min.css set `[hidden] { display: none !important; }` so we also need the `!important` here to be able to override the default hidden behavior on the sphinx rendered scikit-learn.org. See: https://github.com/scikit-learn/scikit-learn/issues/21755 */display: inline-block !important;position: relative;}#sk-container-id-1 div.sk-text-repr-fallback {display: none;}</style><div id=\"sk-container-id-1\" class=\"sk-top-container\"><div class=\"sk-text-repr-fallback\"><pre>RandomForestClassifier()</pre><b>In a Jupyter environment, please rerun this cell to show the HTML representation or trust the notebook. <br />On GitHub, the HTML representation is unable to render, please try loading this page with nbviewer.org.</b></div><div class=\"sk-container\" hidden><div class=\"sk-item\"><div class=\"sk-estimator sk-toggleable\"><input class=\"sk-toggleable__control sk-hidden--visually\" id=\"sk-estimator-id-1\" type=\"checkbox\" checked><label for=\"sk-estimator-id-1\" class=\"sk-toggleable__label sk-toggleable__label-arrow\">RandomForestClassifier</label><div class=\"sk-toggleable__content\"><pre>RandomForestClassifier()</pre></div></div></div></div></div>"
      ],
      "text/plain": [
       "RandomForestClassifier()"
      ]
     },
     "execution_count": 8,
     "metadata": {},
     "output_type": "execute_result"
    }
   ],
   "source": [
    "from sklearn.ensemble import RandomForestClassifier\n",
    "from sklearn.metrics import roc_auc_score\n",
    "\n",
    "model = RandomForestClassifier()\n",
    "model.fit(X_train, y_train)"
   ]
  },
  {
   "cell_type": "markdown",
   "metadata": {},
   "source": [
    "Качество итоговой модели"
   ]
  },
  {
   "cell_type": "code",
   "execution_count": 9,
   "metadata": {},
   "outputs": [
    {
     "data": {
      "text/plain": [
       "0.8616679910022158"
      ]
     },
     "execution_count": 9,
     "metadata": {},
     "output_type": "execute_result"
    }
   ],
   "source": [
    "-1 + 2*roc_auc_score(y_oos, model.predict_proba(X_oos)[:, 1])"
   ]
  },
  {
   "cell_type": "markdown",
   "metadata": {},
   "source": [
    "# Пайплайн fairness"
   ]
  },
  {
   "cell_type": "code",
   "execution_count": 10,
   "metadata": {},
   "outputs": [],
   "source": [
    "import sys\n",
    "sys.path.append('fairness')"
   ]
  },
  {
   "cell_type": "code",
   "execution_count": 11,
   "metadata": {},
   "outputs": [
    {
     "data": {
      "text/html": [
       "<style>#sk-container-id-2 {color: black;background-color: white;}#sk-container-id-2 pre{padding: 0;}#sk-container-id-2 div.sk-toggleable {background-color: white;}#sk-container-id-2 label.sk-toggleable__label {cursor: pointer;display: block;width: 100%;margin-bottom: 0;padding: 0.3em;box-sizing: border-box;text-align: center;}#sk-container-id-2 label.sk-toggleable__label-arrow:before {content: \"▸\";float: left;margin-right: 0.25em;color: #696969;}#sk-container-id-2 label.sk-toggleable__label-arrow:hover:before {color: black;}#sk-container-id-2 div.sk-estimator:hover label.sk-toggleable__label-arrow:before {color: black;}#sk-container-id-2 div.sk-toggleable__content {max-height: 0;max-width: 0;overflow: hidden;text-align: left;background-color: #f0f8ff;}#sk-container-id-2 div.sk-toggleable__content pre {margin: 0.2em;color: black;border-radius: 0.25em;background-color: #f0f8ff;}#sk-container-id-2 input.sk-toggleable__control:checked~div.sk-toggleable__content {max-height: 200px;max-width: 100%;overflow: auto;}#sk-container-id-2 input.sk-toggleable__control:checked~label.sk-toggleable__label-arrow:before {content: \"▾\";}#sk-container-id-2 div.sk-estimator input.sk-toggleable__control:checked~label.sk-toggleable__label {background-color: #d4ebff;}#sk-container-id-2 div.sk-label input.sk-toggleable__control:checked~label.sk-toggleable__label {background-color: #d4ebff;}#sk-container-id-2 input.sk-hidden--visually {border: 0;clip: rect(1px 1px 1px 1px);clip: rect(1px, 1px, 1px, 1px);height: 1px;margin: -1px;overflow: hidden;padding: 0;position: absolute;width: 1px;}#sk-container-id-2 div.sk-estimator {font-family: monospace;background-color: #f0f8ff;border: 1px dotted black;border-radius: 0.25em;box-sizing: border-box;margin-bottom: 0.5em;}#sk-container-id-2 div.sk-estimator:hover {background-color: #d4ebff;}#sk-container-id-2 div.sk-parallel-item::after {content: \"\";width: 100%;border-bottom: 1px solid gray;flex-grow: 1;}#sk-container-id-2 div.sk-label:hover label.sk-toggleable__label {background-color: #d4ebff;}#sk-container-id-2 div.sk-serial::before {content: \"\";position: absolute;border-left: 1px solid gray;box-sizing: border-box;top: 0;bottom: 0;left: 50%;z-index: 0;}#sk-container-id-2 div.sk-serial {display: flex;flex-direction: column;align-items: center;background-color: white;padding-right: 0.2em;padding-left: 0.2em;position: relative;}#sk-container-id-2 div.sk-item {position: relative;z-index: 1;}#sk-container-id-2 div.sk-parallel {display: flex;align-items: stretch;justify-content: center;background-color: white;position: relative;}#sk-container-id-2 div.sk-item::before, #sk-container-id-2 div.sk-parallel-item::before {content: \"\";position: absolute;border-left: 1px solid gray;box-sizing: border-box;top: 0;bottom: 0;left: 50%;z-index: -1;}#sk-container-id-2 div.sk-parallel-item {display: flex;flex-direction: column;z-index: 1;position: relative;background-color: white;}#sk-container-id-2 div.sk-parallel-item:first-child::after {align-self: flex-end;width: 50%;}#sk-container-id-2 div.sk-parallel-item:last-child::after {align-self: flex-start;width: 50%;}#sk-container-id-2 div.sk-parallel-item:only-child::after {width: 0;}#sk-container-id-2 div.sk-dashed-wrapped {border: 1px dashed gray;margin: 0 0.4em 0.5em 0.4em;box-sizing: border-box;padding-bottom: 0.4em;background-color: white;}#sk-container-id-2 div.sk-label label {font-family: monospace;font-weight: bold;display: inline-block;line-height: 1.2em;}#sk-container-id-2 div.sk-label-container {text-align: center;}#sk-container-id-2 div.sk-container {/* jupyter's `normalize.less` sets `[hidden] { display: none; }` but bootstrap.min.css set `[hidden] { display: none !important; }` so we also need the `!important` here to be able to override the default hidden behavior on the sphinx rendered scikit-learn.org. See: https://github.com/scikit-learn/scikit-learn/issues/21755 */display: inline-block !important;position: relative;}#sk-container-id-2 div.sk-text-repr-fallback {display: none;}</style><div id=\"sk-container-id-2\" class=\"sk-top-container\"><div class=\"sk-text-repr-fallback\"><pre>RandomForestClassifier()</pre><b>In a Jupyter environment, please rerun this cell to show the HTML representation or trust the notebook. <br />On GitHub, the HTML representation is unable to render, please try loading this page with nbviewer.org.</b></div><div class=\"sk-container\" hidden><div class=\"sk-item\"><div class=\"sk-estimator sk-toggleable\"><input class=\"sk-toggleable__control sk-hidden--visually\" id=\"sk-estimator-id-2\" type=\"checkbox\" checked><label for=\"sk-estimator-id-2\" class=\"sk-toggleable__label sk-toggleable__label-arrow\">RandomForestClassifier</label><div class=\"sk-toggleable__content\"><pre>RandomForestClassifier()</pre></div></div></div></div></div>"
      ],
      "text/plain": [
       "RandomForestClassifier()"
      ]
     },
     "execution_count": 11,
     "metadata": {},
     "output_type": "execute_result"
    }
   ],
   "source": [
    "model"
   ]
  },
  {
   "cell_type": "code",
   "execution_count": 12,
   "metadata": {},
   "outputs": [
    {
     "data": {
      "text/plain": [
       "array([0, 1])"
      ]
     },
     "execution_count": 12,
     "metadata": {},
     "output_type": "execute_result"
    }
   ],
   "source": [
    "X['feat_8'].unique()"
   ]
  },
  {
   "cell_type": "code",
   "execution_count": 34,
   "metadata": {
    "tags": []
   },
   "outputs": [],
   "source": [
    "from fairness_main import FairnessValidation\n",
    "\n",
    "val = FairnessValidation(model,\n",
    "                   train={'x': X_train, 'y': y_train},\n",
    "                   oos={'x': X_oos, 'y': y_oos},\n",
    "                   cat_features=list(X_train.columns[X_train.nunique() < 25]), \n",
    "                   protected_feats=fair_factors, n_bootstrap=64)"
   ]
  },
  {
   "cell_type": "code",
   "execution_count": 35,
   "metadata": {},
   "outputs": [
    {
     "name": "stderr",
     "output_type": "stream",
     "text": [
      "100%|██████████| 4/4 [01:02<00:00, 15.73s/it]\n"
     ]
    }
   ],
   "source": [
    "res = val.validate()"
   ]
  },
  {
   "cell_type": "code",
   "execution_count": 36,
   "metadata": {},
   "outputs": [],
   "source": [
    "test_1, test_2, test_3, test_4 = res.values()\n",
    "result_fair = pd.merge(pd.merge(pd.merge(test_1, test_2), test_3), test_4)"
   ]
  },
  {
   "cell_type": "code",
   "execution_count": 37,
   "metadata": {},
   "outputs": [
    {
     "data": {
      "text/html": [
       "<div>\n",
       "<style scoped>\n",
       "    .dataframe tbody tr th:only-of-type {\n",
       "        vertical-align: middle;\n",
       "    }\n",
       "\n",
       "    .dataframe tbody tr th {\n",
       "        vertical-align: top;\n",
       "    }\n",
       "\n",
       "    .dataframe thead th {\n",
       "        text-align: right;\n",
       "    }\n",
       "</style>\n",
       "<table border=\"1\" class=\"dataframe\">\n",
       "  <thead>\n",
       "    <tr style=\"text-align: right;\">\n",
       "      <th></th>\n",
       "      <th>Защищенная характеристика</th>\n",
       "      <th>Левая граница CI_0.95 Gini</th>\n",
       "      <th>Правая граница CI_0.95 Gini</th>\n",
       "      <th>Защищенная характеристика не проверяется на дискриминацию</th>\n",
       "      <th>Минимальное относительное изменение прогнозного значения</th>\n",
       "      <th>Максимальное относительное изменение прогнозного значения</th>\n",
       "      <th>Результат теста 2</th>\n",
       "      <th>Изменение TPRD после перестановки значений</th>\n",
       "      <th>Изменение FPRD после перестановки значений</th>\n",
       "      <th>Результат теста 3</th>\n",
       "      <th>95.0%-ый доверительный интервал для угнетаемой группы</th>\n",
       "      <th>95.0%-ый доверительный интервал для привелегированной группы</th>\n",
       "      <th>99.0%-ый доверительный интервал для угнетаемой группы</th>\n",
       "      <th>99.0%-ый доверительный интервал для привелегированной группы</th>\n",
       "      <th>Результат теста 4</th>\n",
       "    </tr>\n",
       "  </thead>\n",
       "  <tbody>\n",
       "    <tr>\n",
       "      <th>0</th>\n",
       "      <td>feat_3</td>\n",
       "      <td>0.100913</td>\n",
       "      <td>0.141981</td>\n",
       "      <td>no</td>\n",
       "      <td>-0.044643</td>\n",
       "      <td>0.013274</td>\n",
       "      <td>green</td>\n",
       "      <td>0.042054</td>\n",
       "      <td>0.000000</td>\n",
       "      <td>green</td>\n",
       "      <td>(0.5600540533549749, 0.812239556924905)</td>\n",
       "      <td>невозможно расчитать, в группе один класс</td>\n",
       "      <td>(0.5204328391820143, 0.8518607710978656)</td>\n",
       "      <td>невозможно расчитать, в группе один класс</td>\n",
       "      <td>gray</td>\n",
       "    </tr>\n",
       "    <tr>\n",
       "      <th>1</th>\n",
       "      <td>feat_8</td>\n",
       "      <td>0.142903</td>\n",
       "      <td>0.266571</td>\n",
       "      <td>no</td>\n",
       "      <td>-0.563067</td>\n",
       "      <td>1.400000</td>\n",
       "      <td>yellow</td>\n",
       "      <td>0.043649</td>\n",
       "      <td>0.070248</td>\n",
       "      <td>green</td>\n",
       "      <td>(0.8274208478527604, 0.9178483654489501)</td>\n",
       "      <td>(0.7897192055410251, 0.8448767600784837)</td>\n",
       "      <td>(0.8132136551668641, 0.9320555581348464)</td>\n",
       "      <td>(0.7810533256603468, 0.853542639959162)</td>\n",
       "      <td>green</td>\n",
       "    </tr>\n",
       "    <tr>\n",
       "      <th>2</th>\n",
       "      <td>feat_13</td>\n",
       "      <td>-0.013842</td>\n",
       "      <td>0.028165</td>\n",
       "      <td>no</td>\n",
       "      <td>0.000000</td>\n",
       "      <td>0.025424</td>\n",
       "      <td>green</td>\n",
       "      <td>0.006061</td>\n",
       "      <td>0.038462</td>\n",
       "      <td>green</td>\n",
       "      <td>(0.7915459084246634, 0.9444680775893224)</td>\n",
       "      <td>(0.4440166945009294, 0.8578014873172524)</td>\n",
       "      <td>(0.767520094369152, 0.9684938916448338)</td>\n",
       "      <td>(0.3790063919038037, 0.9228117899143781)</td>\n",
       "      <td>green</td>\n",
       "    </tr>\n",
       "    <tr>\n",
       "      <th>3</th>\n",
       "      <td>feat_27</td>\n",
       "      <td>0.649177</td>\n",
       "      <td>0.693736</td>\n",
       "      <td>yes</td>\n",
       "      <td>-0.026786</td>\n",
       "      <td>0.000000</td>\n",
       "      <td>green</td>\n",
       "      <td>0.022901</td>\n",
       "      <td>0.000000</td>\n",
       "      <td>green</td>\n",
       "      <td>(0.7003603968097872, 0.9687901247997511)</td>\n",
       "      <td>(0.8365909830542141, 0.9751138515513836)</td>\n",
       "      <td>(0.6581870300122356, 1.0109634915973027)</td>\n",
       "      <td>(0.8148274630941649, 0.9968773715114329)</td>\n",
       "      <td>green</td>\n",
       "    </tr>\n",
       "  </tbody>\n",
       "</table>\n",
       "</div>"
      ],
      "text/plain": [
       "  Защищенная характеристика  Левая граница CI_0.95 Gini  \\\n",
       "0                    feat_3                    0.100913   \n",
       "1                    feat_8                    0.142903   \n",
       "2                   feat_13                   -0.013842   \n",
       "3                   feat_27                    0.649177   \n",
       "\n",
       "   Правая граница CI_0.95 Gini  \\\n",
       "0                     0.141981   \n",
       "1                     0.266571   \n",
       "2                     0.028165   \n",
       "3                     0.693736   \n",
       "\n",
       "  Защищенная характеристика не проверяется на дискриминацию  \\\n",
       "0                                                 no          \n",
       "1                                                 no          \n",
       "2                                                 no          \n",
       "3                                                yes          \n",
       "\n",
       "   Минимальное относительное изменение прогнозного значения  \\\n",
       "0                                          -0.044643          \n",
       "1                                          -0.563067          \n",
       "2                                           0.000000          \n",
       "3                                          -0.026786          \n",
       "\n",
       "   Максимальное относительное изменение прогнозного значения  \\\n",
       "0                                           0.013274           \n",
       "1                                           1.400000           \n",
       "2                                           0.025424           \n",
       "3                                           0.000000           \n",
       "\n",
       "  Результат теста 2  Изменение TPRD после перестановки значений  \\\n",
       "0             green                                    0.042054   \n",
       "1            yellow                                    0.043649   \n",
       "2             green                                    0.006061   \n",
       "3             green                                    0.022901   \n",
       "\n",
       "   Изменение FPRD после перестановки значений Результат теста 3  \\\n",
       "0                                    0.000000             green   \n",
       "1                                    0.070248             green   \n",
       "2                                    0.038462             green   \n",
       "3                                    0.000000             green   \n",
       "\n",
       "  95.0%-ый доверительный интервал для угнетаемой группы  \\\n",
       "0            (0.5600540533549749, 0.812239556924905)      \n",
       "1           (0.8274208478527604, 0.9178483654489501)      \n",
       "2           (0.7915459084246634, 0.9444680775893224)      \n",
       "3           (0.7003603968097872, 0.9687901247997511)      \n",
       "\n",
       "  95.0%-ый доверительный интервал для привелегированной группы  \\\n",
       "0          невозможно расчитать, в группе один класс             \n",
       "1           (0.7897192055410251, 0.8448767600784837)             \n",
       "2           (0.4440166945009294, 0.8578014873172524)             \n",
       "3           (0.8365909830542141, 0.9751138515513836)             \n",
       "\n",
       "  99.0%-ый доверительный интервал для угнетаемой группы  \\\n",
       "0           (0.5204328391820143, 0.8518607710978656)      \n",
       "1           (0.8132136551668641, 0.9320555581348464)      \n",
       "2            (0.767520094369152, 0.9684938916448338)      \n",
       "3           (0.6581870300122356, 1.0109634915973027)      \n",
       "\n",
       "  99.0%-ый доверительный интервал для привелегированной группы  \\\n",
       "0          невозможно расчитать, в группе один класс             \n",
       "1            (0.7810533256603468, 0.853542639959162)             \n",
       "2           (0.3790063919038037, 0.9228117899143781)             \n",
       "3           (0.8148274630941649, 0.9968773715114329)             \n",
       "\n",
       "  Результат теста 4  \n",
       "0              gray  \n",
       "1             green  \n",
       "2             green  \n",
       "3             green  "
      ]
     },
     "execution_count": 37,
     "metadata": {},
     "output_type": "execute_result"
    }
   ],
   "source": [
    "result_fair"
   ]
  },
  {
   "cell_type": "code",
   "execution_count": 18,
   "metadata": {},
   "outputs": [],
   "source": [
    "result_fair.to_csv(f'Result_fairness_11111.csv', index = False, sep=';')\n",
    "#result_fair.to_excel(f'Result_fairness_11111.xlsx', index = False)"
   ]
  },
  {
   "cell_type": "markdown",
   "metadata": {},
   "source": [
    "# Пайплайн fairness для реальных данных "
   ]
  },
  {
   "cell_type": "code",
   "execution_count": null,
   "metadata": {},
   "outputs": [],
   "source": [
    "# import sys\n",
    "# sys.path.append('fairness')"
   ]
  },
  {
   "cell_type": "markdown",
   "metadata": {},
   "source": [
    "У вас должны быть:\n",
    "1) выборки train и OOS\n",
    "2) используемые признаки - здесь я взял их из модели разработчика\n",
    "3) обученная вами модель valid_model с методом predict_proba\n",
    "4) категориальные признаки - если не уверены, оставляйте в вызове метода FairnessValidation cat_features=[]"
   ]
  },
  {
   "cell_type": "code",
   "execution_count": null,
   "metadata": {},
   "outputs": [],
   "source": [
    "fair_factors = ['sd_gender_cd',\n",
    "'sd_age_yrs_frac_nv',\n",
    "'sd_age_yrs_comp_nv',\n",
    "'sd_client_valid_nflag',\n",
    "'sd_stlmnt_type_cd',\n",
    "'sd_russian_citizen_nflag',\n",
    "'sd_resident_nflag',\n",
    "'sd_sbrf_employee_nflag',\n",
    "'dep_social_client_nflag',\n",
    "'lne_coborrower_nflag',\n",
    "'lne_loan_overdue_nflag',\n",
    "'prl_employee_dzo_nflag',\n",
    "'prl_social_disab_pension_nflag',\n",
    "'seg_client_mp_segment_cd',\n",
    "'seg_crd_pos_cat_group',\n",
    "'seg_crd_trx_segm',\n",
    "'seg_crd_trx_subsegm',\n",
    "'seg_age_segment',\n",
    "'sd_name_age_segment_cd',\n",
    "'sd_age_mnth_comp_nv',\n",
    "'sd_cb_staff_nflag',\n",
    "'client_region']\n",
    "feats_for_analyse = list(set(model.used_features) & set(fair_factors))"
   ]
  },
  {
   "cell_type": "code",
   "execution_count": null,
   "metadata": {},
   "outputs": [],
   "source": [
    "from fairness_main import FairnessValidation\n",
    "\n",
    "X_train_ = train[model.used_features].reset_index(drop=True)\n",
    "X_oos_ = oos[model.used_features].reset_index(drop=True)\n",
    "y_train_ = train['target'].reset_index(drop=True)\n",
    "y_oos_ = oos['target'].reset_index(drop=True)\n",
    "val = FairnessValidation(valid_model,\n",
    "                   train={'x': X_train_, 'y': y_train_},\n",
    "                   oos={'x': X_oos_, 'y': y_oos_},\n",
    "                   cat_features=model.categorical_features, \n",
    "                   protected_feats=feats_for_analyse, n_bootstrap=64)"
   ]
  },
  {
   "cell_type": "code",
   "execution_count": null,
   "metadata": {},
   "outputs": [],
   "source": [
    "res = val.validate()"
   ]
  },
  {
   "cell_type": "code",
   "execution_count": null,
   "metadata": {},
   "outputs": [],
   "source": [
    "test_1, test_2, test_3, test_4 = res.values()\n",
    "result_fair = pd.merge(pd.merge(pd.merge(test_1, test_2), test_3), test_4)"
   ]
  },
  {
   "cell_type": "code",
   "execution_count": null,
   "metadata": {},
   "outputs": [],
   "source": [
    "result_fair"
   ]
  },
  {
   "cell_type": "code",
   "execution_count": null,
   "metadata": {},
   "outputs": [],
   "source": [
    "#result_fair.to_csv(f'Result_fairness_108426.csv', index = False, sep=';')\n",
    "result_fair.to_excel(f'Result_fairness_108426.xlsx', index = False)"
   ]
  }
 ],
 "metadata": {
  "hide_input": false,
  "kernelspec": {
   "display_name": "base",
   "language": "python",
   "name": "python3"
  },
  "language_info": {
   "codemirror_mode": {
    "name": "ipython",
    "version": 3
   },
   "file_extension": ".py",
   "mimetype": "text/x-python",
   "name": "python",
   "nbconvert_exporter": "python",
   "pygments_lexer": "ipython3",
   "version": "3.9.13 (main, Aug 25 2022, 23:51:50) [MSC v.1916 64 bit (AMD64)]"
  },
  "latex_envs": {
   "LaTeX_envs_menu_present": true,
   "autoclose": false,
   "autocomplete": true,
   "bibliofile": "biblio.bib",
   "cite_by": "apalike",
   "current_citInitial": 1,
   "eqLabelWithNumbers": true,
   "eqNumInitial": 1,
   "hotkeys": {
    "equation": "Ctrl-E",
    "itemize": "Ctrl-I"
   },
   "labels_anchors": false,
   "latex_user_defs": false,
   "report_style_numbering": false,
   "user_envs_cfg": false
  },
  "toc": {
   "base_numbering": 1,
   "nav_menu": {},
   "number_sections": true,
   "sideBar": true,
   "skip_h1_title": false,
   "title_cell": "Table of Contents",
   "title_sidebar": "Contents",
   "toc_cell": false,
   "toc_position": {},
   "toc_section_display": true,
   "toc_window_display": false
  },
  "vscode": {
   "interpreter": {
    "hash": "5706a67963694452c319b60dc31d857a4746ad2127af76ef31bb2e4886d1178d"
   }
  }
 },
 "nbformat": 4,
 "nbformat_minor": 4
}
