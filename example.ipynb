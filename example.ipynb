{
 "cells": [
  {
   "cell_type": "code",
   "execution_count": 1,
   "metadata": {},
   "outputs": [],
   "source": [
    "%load_ext autoreload\n",
    "%autoreload 2"
   ]
  },
  {
   "cell_type": "code",
   "execution_count": 2,
   "metadata": {},
   "outputs": [],
   "source": [
    "from sbe_vallib import BaseValidation, BinaryScorer, BinarySampler, parse_pipeline"
   ]
  },
  {
   "cell_type": "code",
   "execution_count": 3,
   "metadata": {},
   "outputs": [],
   "source": [
    "pipeline_for_coding, pipeline_for_excel, agg_config = parse_pipeline('sbe_vallib/validation/table/pipelines/Config_31.xlsx')"
   ]
  },
  {
   "cell_type": "code",
   "execution_count": 4,
   "metadata": {},
   "outputs": [
    {
     "data": {
      "text/html": [
       "<div>\n",
       "<style scoped>\n",
       "    .dataframe tbody tr th:only-of-type {\n",
       "        vertical-align: middle;\n",
       "    }\n",
       "\n",
       "    .dataframe tbody tr th {\n",
       "        vertical-align: top;\n",
       "    }\n",
       "\n",
       "    .dataframe thead th {\n",
       "        text-align: right;\n",
       "    }\n",
       "</style>\n",
       "<table border=\"1\" class=\"dataframe\">\n",
       "  <thead>\n",
       "    <tr style=\"text-align: right;\">\n",
       "      <th></th>\n",
       "      <th>block_key</th>\n",
       "      <th>func</th>\n",
       "    </tr>\n",
       "  </thead>\n",
       "  <tbody>\n",
       "    <tr>\n",
       "      <th>0</th>\n",
       "      <td>data_quality</td>\n",
       "      <td>sbe_vallib.validation.worst_semaphore</td>\n",
       "    </tr>\n",
       "    <tr>\n",
       "      <th>1</th>\n",
       "      <td>model_quality</td>\n",
       "      <td>sbe_vallib.validation.worst_semaphore</td>\n",
       "    </tr>\n",
       "    <tr>\n",
       "      <th>2</th>\n",
       "      <td>calibration</td>\n",
       "      <td>sbe_vallib.validation.worst_semaphore</td>\n",
       "    </tr>\n",
       "    <tr>\n",
       "      <th>3</th>\n",
       "      <td>specification</td>\n",
       "      <td>sbe_vallib.validation.worst_semaphore</td>\n",
       "    </tr>\n",
       "    <tr>\n",
       "      <th>4</th>\n",
       "      <td>stability</td>\n",
       "      <td>sbe_vallib.validation.worst_semaphore</td>\n",
       "    </tr>\n",
       "  </tbody>\n",
       "</table>\n",
       "</div>"
      ],
      "text/plain": [
       "       block_key                                   func\n",
       "0   data_quality  sbe_vallib.validation.worst_semaphore\n",
       "1  model_quality  sbe_vallib.validation.worst_semaphore\n",
       "2    calibration  sbe_vallib.validation.worst_semaphore\n",
       "3  specification  sbe_vallib.validation.worst_semaphore\n",
       "4      stability  sbe_vallib.validation.worst_semaphore"
      ]
     },
     "execution_count": 4,
     "metadata": {},
     "output_type": "execute_result"
    }
   ],
   "source": [
    "agg_config"
   ]
  },
  {
   "cell_type": "code",
   "execution_count": 5,
   "metadata": {},
   "outputs": [],
   "source": [
    "from sklearn.metrics import recall_score, f1_score\n",
    "from sklearn.linear_model import LogisticRegression\n",
    "from sklearn.datasets import make_classification\n",
    "from sklearn.model_selection import train_test_split\n",
    "import pandas as pd\n",
    "import numpy as np\n",
    "\n",
    "\n",
    "def recall_at_10(true, preds):\n",
    "    return recall_score(true, preds)\n",
    "\n",
    "def custom_test(sampler, scorer):\n",
    "    pass\n",
    "    \n",
    "\n",
    "X, y = make_classification(n_samples=1000, n_classes=2,\n",
    "                               n_features=5, n_informative=3, n_redundant=0,\n",
    "                               random_state=0)\n",
    "\n",
    "X = pd.DataFrame(X)\n",
    "y = pd.Series(y)\n",
    "\n",
    "X_train, X_test,  y_train, y_test = train_test_split(X, y, test_size=0.3, stratify=y)\n",
    "\n",
    "model = LogisticRegression().fit(X_train, y_train)\n",
    "\n",
    "\n",
    "sampler = BinarySampler(train={'X': X_train, 'y_true': y_train, 'y_pred': model.predict_proba(X_train)},\n",
    "                        oos = {'X': X_test, 'y_true': y_test, 'y_pred': model.predict_proba(X_test)}, bootstrap=True)\n",
    "\n",
    "sampler.source_state = False"
   ]
  },
  {
   "cell_type": "code",
   "execution_count": 6,
   "metadata": {},
   "outputs": [
    {
     "data": {
      "text/plain": [
       "{'accuracy_score': 0.6666666666666666,\n",
       " 'precision_score': 0.6623376623376623,\n",
       " 'recall_score': 0.68,\n",
       " 'f1_score': 0.6710526315789473,\n",
       " 'gini': 0.5457777777777777}"
      ]
     },
     "execution_count": 6,
     "metadata": {},
     "output_type": "execute_result"
    }
   ],
   "source": [
    "scorer = BinaryScorer()\n",
    "scorer.score(y_test, model.predict_proba(X_test))"
   ]
  },
  {
   "cell_type": "code",
   "execution_count": 7,
   "metadata": {},
   "outputs": [
    {
     "data": {
      "image/png": "[encoded data removed]",
      "text/plain": [
       "<Figure size 432x288 with 1 Axes>"
      ]
     },
     "metadata": {
      "needs_background": "light"
     },
     "output_type": "display_data"
    },
    {
     "data": {
      "image/png": "[encoded data removed]",
      "text/plain": [
       "<Figure size 432x288 with 1 Axes>"
      ]
     },
     "metadata": {
      "needs_background": "light"
     },
     "output_type": "display_data"
    }
   ],
   "source": [
    "from sbe_vallib.validation.table.general_tests.model_quality import test_ci\n",
    "import matplotlib.pyplot as plt\n",
    "\n",
    "sampler_boot = BinarySampler(train={'X': X_train, 'y_true': y_train, 'y_pred': model.predict_proba(X_train)},\n",
    "                        oos = {'X': X_test, 'y_true': y_test, 'y_pred': model.predict_proba(X_test)}, bootstrap=True)\n",
    "sampler_no_boot = BinarySampler(train={'X': X_train, 'y_true': y_train, 'y_pred': model.predict_proba(X_train)},\n",
    "                        oos = {'X': X_test, 'y_true': y_test, 'y_pred': model.predict_proba(X_test)}, bootstrap=False)\n",
    "\n",
    "sampler_resampling = BinarySampler(train={'X': X_train, 'y_true': y_train, 'y_pred': model.predict_proba(X_train)},\n",
    "                        oos = {'X': X_test, 'y_true': y_test, 'y_pred': model.predict_proba(X_test)}, bootstrap=False)\n",
    "\n",
    "\n",
    "stats = test_ci(model, sampler_resampling, scorer)\n",
    "plt.hist([i['f1_score'] for i in stats['result_dict']['metrics']], bins=20)\n",
    "plt.show()\n",
    "stats = test_ci(model, sampler_boot, scorer)\n",
    "plt.hist([i['f1_score'] for i in stats['result_dict']['metrics']], bins=20)\n",
    "plt.show()"
   ]
  },
  {
   "attachments": {},
   "cell_type": "markdown",
   "metadata": {},
   "source": [
    "Семплер работает стабильно "
   ]
  },
  {
   "cell_type": "code",
   "execution_count": 9,
   "metadata": {},
   "outputs": [
    {
     "data": {
      "text/plain": [
       "{'train_test_independence_test': {'import_path': 'sbe_vallib.validation.table.general_tests.data_quality.test_psi_factor.test_factor_psi',\n",
       "  'block_key': 'data_quality',\n",
       "  'params': {},\n",
       "  'informative': 1},\n",
       " 'test_extremal_missing_values': {'import_path': 'sbe_vallib.validation.table.general_tests.model_quality.test_ci',\n",
       "  'block_key': 'data_quality',\n",
       "  'params': {'n_iter': 200, 'use_predict_proba': True},\n",
       "  'informative': 0},\n",
       " 'psi_factor_classes_test_oos': {'import_path': 'sbe_vallib.validation.table.general_tests.data_quality.test_psi_factor.test_factor_psi',\n",
       "  'block_key': 'data_quality',\n",
       "  'params': {},\n",
       "  'informative': 1},\n",
       " 'psi_factor_classes_test_oot': {'import_path': 'sbe_vallib.validation.table.general_tests.model_quality.test_ci',\n",
       "  'block_key': 'data_quality',\n",
       "  'params': {'n_iter': 200, 'use_predict_proba': True},\n",
       "  'informative': 0},\n",
       " 'test_key_metric': {'import_path': 'sbe_vallib.validation.table.general_tests.data_quality.test_psi_factor.test_factor_psi',\n",
       "  'block_key': 'model_quality',\n",
       "  'params': {},\n",
       "  'informative': 1},\n",
       " 'test_confidence_inteval': {'import_path': 'sbe_vallib.validation.table.general_tests.model_quality.test_ci',\n",
       "  'block_key': 'model_quality',\n",
       "  'params': {'n_iter': 200, 'use_predict_proba': True},\n",
       "  'informative': 0},\n",
       " 'test_presicion': {'import_path': 'sbe_vallib.validation.table.general_tests.data_quality.test_psi_factor.test_factor_psi',\n",
       "  'block_key': 'model_quality',\n",
       "  'params': {},\n",
       "  'informative': 1},\n",
       " 'test_recall': {'import_path': 'sbe_vallib.validation.table.general_tests.model_quality.test_ci',\n",
       "  'block_key': 'model_quality',\n",
       "  'params': {'n_iter': 200, 'use_predict_proba': True},\n",
       "  'informative': 0},\n",
       " 'test_2_5': {'import_path': 'sbe_vallib.validation.table.general_tests.data_quality.test_psi_factor.test_factor_psi',\n",
       "  'block_key': 'model_quality',\n",
       "  'params': {},\n",
       "  'informative': 1},\n",
       " 'test_3_1': {'import_path': 'sbe_vallib.validation.table.general_tests.model_quality.test_ci',\n",
       "  'block_key': 'calibration',\n",
       "  'params': {'n_iter': 200, 'use_predict_proba': True},\n",
       "  'informative': 0},\n",
       " 'test_3_2': {'import_path': 'sbe_vallib.validation.table.general_tests.data_quality.test_psi_factor.test_factor_psi',\n",
       "  'block_key': 'calibration',\n",
       "  'params': {},\n",
       "  'informative': 1},\n",
       " 'test_feature_importance': {'import_path': 'sbe_vallib.validation.table.general_tests.model_quality.test_ci',\n",
       "  'block_key': 'specification',\n",
       "  'params': {'n_iter': 200, 'use_predict_proba': True},\n",
       "  'informative': 0},\n",
       " 'test_4_2': {'import_path': 'sbe_vallib.validation.table.general_tests.data_quality.test_psi_factor.test_factor_psi',\n",
       "  'block_key': 'specification',\n",
       "  'params': {},\n",
       "  'informative': 1},\n",
       " 'test_key_metric_stability': {'import_path': 'sbe_vallib.validation.table.general_tests.model_quality.test_ci',\n",
       "  'block_key': 'stability',\n",
       "  'params': {'n_iter': 200, 'use_predict_proba': True},\n",
       "  'informative': 0},\n",
       " 'test_presicion_stability': {'import_path': 'sbe_vallib.validation.table.general_tests.data_quality.test_psi_factor.test_factor_psi',\n",
       "  'block_key': 'stability',\n",
       "  'params': {},\n",
       "  'informative': 1},\n",
       " 'test_recall_stability': {'import_path': 'sbe_vallib.validation.table.general_tests.model_quality.test_ci',\n",
       "  'block_key': 'stability',\n",
       "  'params': {'n_iter': 200, 'use_predict_proba': True},\n",
       "  'informative': 0},\n",
       " 'test_5_4': {'import_path': 'sbe_vallib.validation.table.general_tests.data_quality.test_psi_factor.test_factor_psi',\n",
       "  'block_key': 'stability',\n",
       "  'params': {},\n",
       "  'informative': 1},\n",
       " 'test_5_6': {'import_path': 'sbe_vallib.validation.table.general_tests.model_quality.test_ci',\n",
       "  'block_key': 'stability',\n",
       "  'params': {'n_iter': 200, 'use_predict_proba': True},\n",
       "  'informative': 0},\n",
       " 'test_5_7': {'import_path': 'sbe_vallib.validation.table.general_tests.data_quality.test_psi_factor.test_factor_psi',\n",
       "  'block_key': 'stability',\n",
       "  'params': {},\n",
       "  'informative': 1},\n",
       " 'test_0_0': {'block': 'model_stability',\n",
       "  'callable': <function __main__.custom_test(model, scorer, sampler, a=10, **kwargs)>,\n",
       "  'params': {}},\n",
       " 'test_0_0_1': {'block': 'model_stability',\n",
       "  'callable': <function __main__.custom_test(model, scorer, sampler, a=10, **kwargs)>,\n",
       "  'params': {'a': 100}}}"
      ]
     },
     "execution_count": 9,
     "metadata": {},
     "output_type": "execute_result"
    }
   ],
   "source": [
    "def custom_test(model, scorer, sampler, a = 10, **kwargs):\n",
    "    metrics = []\n",
    "    for i in range(a):\n",
    "        sampler.set_seed(i)\n",
    "        train = sampler.train\n",
    "        oos = sampler.oos\n",
    "        model.fit(X=train[\"X\"], y=train[\"y_true\"])\n",
    "        y_pred = model.predict_proba(oos['X'])\n",
    "        metrics.append(scorer.score(oos['y_true'], y_pred))\n",
    "    \n",
    "    return {\n",
    "        \"semaphore\": \"grey\",\n",
    "        \"result_dict\": {'mean_f1': np.mean([i['f1_score'] for i in metrics])},\n",
    "        \"result_dataframes\": [pd.DataFrame(metrics)],\n",
    "        \"result_plots\": [],\n",
    "    }\n",
    "\n",
    "\n",
    "custom_tests = {\n",
    "    \"test_0_0\": {\"block\": \"model_stability\", \"callable\": custom_test, \"params\": {}},\n",
    "    \"test_0_0_1\": {\n",
    "        \"block\": \"model_stability\",\n",
    "        \"callable\": custom_test,\n",
    "        \"params\": {\"a\": 100},\n",
    "    },\n",
    "}\n",
    "\n",
    "\n",
    "validor = BaseValidation(model, sampler, scorer, custom_tests=custom_tests)\n",
    "validor.pipeline['tests']"
   ]
  },
  {
   "cell_type": "code",
   "execution_count": 10,
   "metadata": {},
   "outputs": [
    {
     "name": "stdout",
     "output_type": "stream",
     "text": [
      "[36 36 36 36 37 36 36 36 37 36 36 36 36 36 36 36 37 36 36 13]\n",
      "[36 36 36 36 36 36 36 36 36 36 36 36 36 36 36 36 36 36 36 16]\n",
      "[36 36 36 36 36 36 36 36 36 36 36 36 36 36 36 36 36 36 36 16]\n",
      "[36 36 36 36 36 36 36 36 36 36 36 36 36 36 36 36 36 36 36 16]\n",
      "[36 36 36 36 36 36 37 36 36 36 36 36 37 36 36 36 37 36 36 11]\n",
      "[36 36 36 36 37 36 36 36 37 36 36 36 36 36 36 36 37 36 36 13]\n",
      "[36 36 36 36 36 36 36 36 36 36 36 36 36 36 36 36 36 36 36 16]\n",
      "[36 36 36 36 36 36 36 36 36 36 36 36 36 36 36 36 36 36 36 16]\n",
      "[36 36 36 36 36 36 36 36 36 36 36 36 36 36 36 36 36 36 36 16]\n",
      "[36 36 36 36 36 36 37 36 36 36 36 36 37 36 36 36 37 36 36 11]\n",
      "[36 36 36 36 37 36 36 36 37 36 36 36 36 36 36 36 37 36 36 13]\n",
      "[36 36 36 36 36 36 36 36 36 36 36 36 36 36 36 36 36 36 36 16]\n",
      "[36 36 36 36 36 36 36 36 36 36 36 36 36 36 36 36 36 36 36 16]\n",
      "[36 36 36 36 36 36 36 36 36 36 36 36 36 36 36 36 36 36 36 16]\n",
      "[36 36 36 36 36 36 37 36 36 36 36 36 37 36 36 36 37 36 36 11]\n",
      "[36 36 36 36 37 36 36 36 37 36 36 36 36 36 36 36 37 36 36 13]\n",
      "[36 36 36 36 36 36 36 36 36 36 36 36 36 36 36 36 36 36 36 16]\n",
      "[36 36 36 36 36 36 36 36 36 36 36 36 36 36 36 36 36 36 36 16]\n",
      "[36 36 36 36 36 36 36 36 36 36 36 36 36 36 36 36 36 36 36 16]\n",
      "[36 36 36 36 36 36 37 36 36 36 36 36 37 36 36 36 37 36 36 11]\n",
      "[36 36 36 36 37 36 36 36 37 36 36 36 36 36 36 36 37 36 36 13]\n",
      "[36 36 36 36 36 36 36 36 36 36 36 36 36 36 36 36 36 36 36 16]\n",
      "[36 36 36 36 36 36 36 36 36 36 36 36 36 36 36 36 36 36 36 16]\n",
      "[36 36 36 36 36 36 36 36 36 36 36 36 36 36 36 36 36 36 36 16]\n",
      "[36 36 36 36 36 36 37 36 36 36 36 36 37 36 36 36 37 36 36 11]\n",
      "[36 36 36 36 37 36 36 36 37 36 36 36 36 36 36 36 37 36 36 13]\n",
      "[36 36 36 36 36 36 36 36 36 36 36 36 36 36 36 36 36 36 36 16]\n",
      "[36 36 36 36 36 36 36 36 36 36 36 36 36 36 36 36 36 36 36 16]\n",
      "[36 36 36 36 36 36 36 36 36 36 36 36 36 36 36 36 36 36 36 16]\n",
      "[36 36 36 36 36 36 37 36 36 36 36 36 37 36 36 36 37 36 36 11]\n",
      "[36 36 36 36 37 36 36 36 37 36 36 36 36 36 36 36 37 36 36 13]\n",
      "[36 36 36 36 36 36 36 36 36 36 36 36 36 36 36 36 36 36 36 16]\n",
      "[36 36 36 36 36 36 36 36 36 36 36 36 36 36 36 36 36 36 36 16]\n",
      "[36 36 36 36 36 36 36 36 36 36 36 36 36 36 36 36 36 36 36 16]\n",
      "[36 36 36 36 36 36 37 36 36 36 36 36 37 36 36 36 37 36 36 11]\n",
      "[36 36 36 36 37 36 36 36 37 36 36 36 36 36 36 36 37 36 36 13]\n",
      "[36 36 36 36 36 36 36 36 36 36 36 36 36 36 36 36 36 36 36 16]\n",
      "[36 36 36 36 36 36 36 36 36 36 36 36 36 36 36 36 36 36 36 16]\n",
      "[36 36 36 36 36 36 36 36 36 36 36 36 36 36 36 36 36 36 36 16]\n",
      "[36 36 36 36 36 36 37 36 36 36 36 36 37 36 36 36 37 36 36 11]\n",
      "[36 36 36 36 37 36 36 36 37 36 36 36 36 36 36 36 37 36 36 13]\n",
      "[36 36 36 36 36 36 36 36 36 36 36 36 36 36 36 36 36 36 36 16]\n",
      "[36 36 36 36 36 36 36 36 36 36 36 36 36 36 36 36 36 36 36 16]\n",
      "[36 36 36 36 36 36 36 36 36 36 36 36 36 36 36 36 36 36 36 16]\n",
      "[36 36 36 36 36 36 37 36 36 36 36 36 37 36 36 36 37 36 36 11]\n",
      "[36 36 36 36 37 36 36 36 37 36 36 36 36 36 36 36 37 36 36 13]\n",
      "[36 36 36 36 36 36 36 36 36 36 36 36 36 36 36 36 36 36 36 16]\n",
      "[36 36 36 36 36 36 36 36 36 36 36 36 36 36 36 36 36 36 36 16]\n",
      "[36 36 36 36 36 36 36 36 36 36 36 36 36 36 36 36 36 36 36 16]\n",
      "[36 36 36 36 36 36 37 36 36 36 36 36 37 36 36 36 37 36 36 11]\n"
     ]
    },
    {
     "data": {
      "text/plain": [
       "dict_keys(['train_test_independence_test', 'test_extremal_missing_values', 'psi_factor_classes_test_oos', 'psi_factor_classes_test_oot', 'test_key_metric', 'test_confidence_inteval', 'test_presicion', 'test_recall', 'test_2_5', 'test_3_1', 'test_3_2', 'test_feature_importance', 'test_4_2', 'test_key_metric_stability', 'test_presicion_stability', 'test_recall_stability', 'test_5_4', 'test_5_6', 'test_5_7', 'test_0_0', 'test_0_0_1'])"
      ]
     },
     "execution_count": 10,
     "metadata": {},
     "output_type": "execute_result"
    }
   ],
   "source": [
    "res = validor.validate()\n",
    "res.keys()"
   ]
  },
  {
   "cell_type": "code",
   "execution_count": 11,
   "metadata": {},
   "outputs": [
    {
     "data": {
      "text/html": [
       "<div>\n",
       "<style scoped>\n",
       "    .dataframe tbody tr th:only-of-type {\n",
       "        vertical-align: middle;\n",
       "    }\n",
       "\n",
       "    .dataframe tbody tr th {\n",
       "        vertical-align: top;\n",
       "    }\n",
       "\n",
       "    .dataframe thead th {\n",
       "        text-align: right;\n",
       "    }\n",
       "</style>\n",
       "<table border=\"1\" class=\"dataframe\">\n",
       "  <thead>\n",
       "    <tr style=\"text-align: right;\">\n",
       "      <th></th>\n",
       "      <th>0</th>\n",
       "      <th>1</th>\n",
       "      <th>2</th>\n",
       "      <th>3</th>\n",
       "      <th>4</th>\n",
       "    </tr>\n",
       "  </thead>\n",
       "  <tbody>\n",
       "    <tr>\n",
       "      <th>psi</th>\n",
       "      <td>0.079801</td>\n",
       "      <td>0.12549</td>\n",
       "      <td>0.178843</td>\n",
       "      <td>0.174012</td>\n",
       "      <td>0.137362</td>\n",
       "    </tr>\n",
       "    <tr>\n",
       "      <th>feat_type</th>\n",
       "      <td>Continuous</td>\n",
       "      <td>Continuous</td>\n",
       "      <td>Continuous</td>\n",
       "      <td>Continuous</td>\n",
       "      <td>Continuous</td>\n",
       "    </tr>\n",
       "    <tr>\n",
       "      <th>bin_count</th>\n",
       "      <td>23</td>\n",
       "      <td>23</td>\n",
       "      <td>23</td>\n",
       "      <td>23</td>\n",
       "      <td>23</td>\n",
       "    </tr>\n",
       "    <tr>\n",
       "      <th>hist_train</th>\n",
       "      <td>[0.000, 36.000, 36.000, 36.000, 36.000, 37.000...</td>\n",
       "      <td>[0.000, 36.000, 36.000, 36.000, 36.000, 36.000...</td>\n",
       "      <td>[0.000, 36.000, 36.000, 36.000, 36.000, 36.000...</td>\n",
       "      <td>[0.000, 36.000, 36.000, 36.000, 36.000, 36.000...</td>\n",
       "      <td>[1.000, 36.000, 36.000, 36.000, 36.000, 36.000...</td>\n",
       "    </tr>\n",
       "    <tr>\n",
       "      <th>hist_oos</th>\n",
       "      <td>[0.000, 15.000, 12.000, 11.000, 22.000, 17.000...</td>\n",
       "      <td>[0.000, 15.000, 4.000, 12.000, 18.000, 19.000,...</td>\n",
       "      <td>[1.000, 8.000, 13.000, 15.000, 15.000, 13.000,...</td>\n",
       "      <td>[0.000, 12.000, 7.000, 18.000, 8.000, 17.000, ...</td>\n",
       "      <td>[0.000, 26.000, 15.000, 12.000, 13.000, 20.000...</td>\n",
       "    </tr>\n",
       "    <tr>\n",
       "      <th>bins</th>\n",
       "      <td>[-inf, -4.06049, -2.28113, -1.79909, -1.54068,...</td>\n",
       "      <td>[-inf, -4.57499, -2.22574, -1.81918, -1.5337, ...</td>\n",
       "      <td>[-inf, -1.98659, -1.33592, -1.14846, -0.92486,...</td>\n",
       "      <td>[-inf, -3.11697, -1.65445, -1.31996, -1.04323,...</td>\n",
       "      <td>[-inf, -3.82494, -1.54575, -1.15434, -0.95165,...</td>\n",
       "    </tr>\n",
       "    <tr>\n",
       "      <th>feature</th>\n",
       "      <td>0</td>\n",
       "      <td>1</td>\n",
       "      <td>2</td>\n",
       "      <td>3</td>\n",
       "      <td>4</td>\n",
       "    </tr>\n",
       "    <tr>\n",
       "      <th>semaphore</th>\n",
       "      <td>green</td>\n",
       "      <td>yellow</td>\n",
       "      <td>yellow</td>\n",
       "      <td>yellow</td>\n",
       "      <td>yellow</td>\n",
       "    </tr>\n",
       "  </tbody>\n",
       "</table>\n",
       "</div>"
      ],
      "text/plain": [
       "                                                            0  \\\n",
       "psi                                                  0.079801   \n",
       "feat_type                                          Continuous   \n",
       "bin_count                                                  23   \n",
       "hist_train  [0.000, 36.000, 36.000, 36.000, 36.000, 37.000...   \n",
       "hist_oos    [0.000, 15.000, 12.000, 11.000, 22.000, 17.000...   \n",
       "bins        [-inf, -4.06049, -2.28113, -1.79909, -1.54068,...   \n",
       "feature                                                     0   \n",
       "semaphore                                               green   \n",
       "\n",
       "                                                            1  \\\n",
       "psi                                                   0.12549   \n",
       "feat_type                                          Continuous   \n",
       "bin_count                                                  23   \n",
       "hist_train  [0.000, 36.000, 36.000, 36.000, 36.000, 36.000...   \n",
       "hist_oos    [0.000, 15.000, 4.000, 12.000, 18.000, 19.000,...   \n",
       "bins        [-inf, -4.57499, -2.22574, -1.81918, -1.5337, ...   \n",
       "feature                                                     1   \n",
       "semaphore                                              yellow   \n",
       "\n",
       "                                                            2  \\\n",
       "psi                                                  0.178843   \n",
       "feat_type                                          Continuous   \n",
       "bin_count                                                  23   \n",
       "hist_train  [0.000, 36.000, 36.000, 36.000, 36.000, 36.000...   \n",
       "hist_oos    [1.000, 8.000, 13.000, 15.000, 15.000, 13.000,...   \n",
       "bins        [-inf, -1.98659, -1.33592, -1.14846, -0.92486,...   \n",
       "feature                                                     2   \n",
       "semaphore                                              yellow   \n",
       "\n",
       "                                                            3  \\\n",
       "psi                                                  0.174012   \n",
       "feat_type                                          Continuous   \n",
       "bin_count                                                  23   \n",
       "hist_train  [0.000, 36.000, 36.000, 36.000, 36.000, 36.000...   \n",
       "hist_oos    [0.000, 12.000, 7.000, 18.000, 8.000, 17.000, ...   \n",
       "bins        [-inf, -3.11697, -1.65445, -1.31996, -1.04323,...   \n",
       "feature                                                     3   \n",
       "semaphore                                              yellow   \n",
       "\n",
       "                                                            4  \n",
       "psi                                                  0.137362  \n",
       "feat_type                                          Continuous  \n",
       "bin_count                                                  23  \n",
       "hist_train  [1.000, 36.000, 36.000, 36.000, 36.000, 36.000...  \n",
       "hist_oos    [0.000, 26.000, 15.000, 12.000, 13.000, 20.000...  \n",
       "bins        [-inf, -3.82494, -1.54575, -1.15434, -0.95165,...  \n",
       "feature                                                     4  \n",
       "semaphore                                              yellow  "
      ]
     },
     "execution_count": 11,
     "metadata": {},
     "output_type": "execute_result"
    }
   ],
   "source": [
    "res['test_4_2']['result_dataframes']"
   ]
  },
  {
   "cell_type": "code",
   "execution_count": 13,
   "metadata": {},
   "outputs": [
    {
     "data": {
      "text/html": [
       "<div>\n",
       "<style scoped>\n",
       "    .dataframe tbody tr th:only-of-type {\n",
       "        vertical-align: middle;\n",
       "    }\n",
       "\n",
       "    .dataframe tbody tr th {\n",
       "        vertical-align: top;\n",
       "    }\n",
       "\n",
       "    .dataframe thead th {\n",
       "        text-align: right;\n",
       "    }\n",
       "</style>\n",
       "<table border=\"1\" class=\"dataframe\">\n",
       "  <thead>\n",
       "    <tr style=\"text-align: right;\">\n",
       "      <th></th>\n",
       "      <th>accuracy_score</th>\n",
       "      <th>precision_score</th>\n",
       "      <th>recall_score</th>\n",
       "      <th>f1_score</th>\n",
       "      <th>gini</th>\n",
       "    </tr>\n",
       "  </thead>\n",
       "  <tbody>\n",
       "    <tr>\n",
       "      <th>0</th>\n",
       "      <td>0.673333</td>\n",
       "      <td>0.718121</td>\n",
       "      <td>0.656442</td>\n",
       "      <td>0.685897</td>\n",
       "      <td>0.568224</td>\n",
       "    </tr>\n",
       "    <tr>\n",
       "      <th>1</th>\n",
       "      <td>0.666667</td>\n",
       "      <td>0.679245</td>\n",
       "      <td>0.687898</td>\n",
       "      <td>0.683544</td>\n",
       "      <td>0.524743</td>\n",
       "    </tr>\n",
       "    <tr>\n",
       "      <th>2</th>\n",
       "      <td>0.660000</td>\n",
       "      <td>0.662500</td>\n",
       "      <td>0.688312</td>\n",
       "      <td>0.675159</td>\n",
       "      <td>0.552660</td>\n",
       "    </tr>\n",
       "    <tr>\n",
       "      <th>3</th>\n",
       "      <td>0.660000</td>\n",
       "      <td>0.636364</td>\n",
       "      <td>0.680556</td>\n",
       "      <td>0.657718</td>\n",
       "      <td>0.563212</td>\n",
       "    </tr>\n",
       "    <tr>\n",
       "      <th>4</th>\n",
       "      <td>0.660000</td>\n",
       "      <td>0.630137</td>\n",
       "      <td>0.657143</td>\n",
       "      <td>0.643357</td>\n",
       "      <td>0.546786</td>\n",
       "    </tr>\n",
       "    <tr>\n",
       "      <th>...</th>\n",
       "      <td>...</td>\n",
       "      <td>...</td>\n",
       "      <td>...</td>\n",
       "      <td>...</td>\n",
       "      <td>...</td>\n",
       "    </tr>\n",
       "    <tr>\n",
       "      <th>95</th>\n",
       "      <td>0.666667</td>\n",
       "      <td>0.698718</td>\n",
       "      <td>0.672840</td>\n",
       "      <td>0.685535</td>\n",
       "      <td>0.551798</td>\n",
       "    </tr>\n",
       "    <tr>\n",
       "      <th>96</th>\n",
       "      <td>0.643333</td>\n",
       "      <td>0.627907</td>\n",
       "      <td>0.715232</td>\n",
       "      <td>0.668731</td>\n",
       "      <td>0.545491</td>\n",
       "    </tr>\n",
       "    <tr>\n",
       "      <th>97</th>\n",
       "      <td>0.660000</td>\n",
       "      <td>0.658228</td>\n",
       "      <td>0.684211</td>\n",
       "      <td>0.670968</td>\n",
       "      <td>0.547742</td>\n",
       "    </tr>\n",
       "    <tr>\n",
       "      <th>98</th>\n",
       "      <td>0.646667</td>\n",
       "      <td>0.666667</td>\n",
       "      <td>0.683230</td>\n",
       "      <td>0.674847</td>\n",
       "      <td>0.499263</td>\n",
       "    </tr>\n",
       "    <tr>\n",
       "      <th>99</th>\n",
       "      <td>0.663333</td>\n",
       "      <td>0.662500</td>\n",
       "      <td>0.692810</td>\n",
       "      <td>0.677316</td>\n",
       "      <td>0.584278</td>\n",
       "    </tr>\n",
       "  </tbody>\n",
       "</table>\n",
       "<p>100 rows × 5 columns</p>\n",
       "</div>"
      ],
      "text/plain": [
       "    accuracy_score  precision_score  recall_score  f1_score      gini\n",
       "0         0.673333         0.718121      0.656442  0.685897  0.568224\n",
       "1         0.666667         0.679245      0.687898  0.683544  0.524743\n",
       "2         0.660000         0.662500      0.688312  0.675159  0.552660\n",
       "3         0.660000         0.636364      0.680556  0.657718  0.563212\n",
       "4         0.660000         0.630137      0.657143  0.643357  0.546786\n",
       "..             ...              ...           ...       ...       ...\n",
       "95        0.666667         0.698718      0.672840  0.685535  0.551798\n",
       "96        0.643333         0.627907      0.715232  0.668731  0.545491\n",
       "97        0.660000         0.658228      0.684211  0.670968  0.547742\n",
       "98        0.646667         0.666667      0.683230  0.674847  0.499263\n",
       "99        0.663333         0.662500      0.692810  0.677316  0.584278\n",
       "\n",
       "[100 rows x 5 columns]"
      ]
     },
     "execution_count": 13,
     "metadata": {},
     "output_type": "execute_result"
    }
   ],
   "source": [
    "res['test_0_0_1']['result_dataframes'][0]"
   ]
  },
  {
   "cell_type": "code",
   "execution_count": 13,
   "metadata": {},
   "outputs": [],
   "source": [
    "from scipy.special import rel_entr"
   ]
  },
  {
   "cell_type": "code",
   "execution_count": 183,
   "metadata": {},
   "outputs": [
    {
     "data": {
      "text/plain": [
       "array([ 0.        ,  0.        , 37.83461326])"
      ]
     },
     "execution_count": 183,
     "metadata": {},
     "output_type": "execute_result"
    }
   ],
   "source": [
    "rel_entr(np.array([1, 2, 3]), np.array([1, 2, 1e-5]))"
   ]
  },
  {
   "cell_type": "code",
   "execution_count": 184,
   "metadata": {},
   "outputs": [],
   "source": [
    "from sbe_vallib.validation.table.general_tests.data_quality.test_psi_factor import test_factor_psi"
   ]
  },
  {
   "cell_type": "code",
   "execution_count": 197,
   "metadata": {},
   "outputs": [
    {
     "name": "stdout",
     "output_type": "stream",
     "text": [
      "[53 53 54 53 53 54 53 53 53 53 53 53 54  8]\n",
      "[53 53 53 53 53 53 53 53 53 53 53 53 53 11]\n",
      "[53 53 53 53 53 53 53 53 53 53 53 53 53 11]\n",
      "[54 53 53 53 53 53 53 53 53 53 53 53 53 10]\n",
      "[53 53 53 53 53 53 53 53 53 53 53 53 53 11]\n"
     ]
    }
   ],
   "source": [
    "sampler_boot = BinarySampler(train={'X': X_train, 'y_true': y_train, 'y_pred': model.predict_proba(X_train)},\n",
    "                             oos = {'X': X_test, 'y_true': y_test, 'y_pred': model.predict_proba(X_test)}, bootstrap=True)\n",
    "results = test_factor_psi(sampler_boot, merge_upto_quantile=0.075)"
   ]
  },
  {
   "cell_type": "code",
   "execution_count": 198,
   "metadata": {},
   "outputs": [
    {
     "data": {
      "text/html": [
       "<div>\n",
       "<style scoped>\n",
       "    .dataframe tbody tr th:only-of-type {\n",
       "        vertical-align: middle;\n",
       "    }\n",
       "\n",
       "    .dataframe tbody tr th {\n",
       "        vertical-align: top;\n",
       "    }\n",
       "\n",
       "    .dataframe thead th {\n",
       "        text-align: right;\n",
       "    }\n",
       "</style>\n",
       "<table border=\"1\" class=\"dataframe\">\n",
       "  <thead>\n",
       "    <tr style=\"text-align: right;\">\n",
       "      <th></th>\n",
       "      <th>0</th>\n",
       "      <th>1</th>\n",
       "      <th>2</th>\n",
       "      <th>3</th>\n",
       "      <th>4</th>\n",
       "    </tr>\n",
       "  </thead>\n",
       "  <tbody>\n",
       "    <tr>\n",
       "      <th>psi</th>\n",
       "      <td>0.053377</td>\n",
       "      <td>0.157847</td>\n",
       "      <td>0.076086</td>\n",
       "      <td>0.098411</td>\n",
       "      <td>0.114026</td>\n",
       "    </tr>\n",
       "    <tr>\n",
       "      <th>feat_type</th>\n",
       "      <td>Continuous</td>\n",
       "      <td>Continuous</td>\n",
       "      <td>Continuous</td>\n",
       "      <td>Continuous</td>\n",
       "      <td>Continuous</td>\n",
       "    </tr>\n",
       "    <tr>\n",
       "      <th>bin_count</th>\n",
       "      <td>17</td>\n",
       "      <td>17</td>\n",
       "      <td>17</td>\n",
       "      <td>17</td>\n",
       "      <td>17</td>\n",
       "    </tr>\n",
       "    <tr>\n",
       "      <th>hist_train</th>\n",
       "      <td>[0.000, 53.000, 53.000, 54.000, 53.000, 53.000...</td>\n",
       "      <td>[0.000, 53.000, 53.000, 53.000, 53.000, 53.000...</td>\n",
       "      <td>[0.000, 53.000, 53.000, 53.000, 53.000, 53.000...</td>\n",
       "      <td>[0.000, 54.000, 53.000, 53.000, 53.000, 53.000...</td>\n",
       "      <td>[0.000, 53.000, 53.000, 53.000, 53.000, 53.000...</td>\n",
       "    </tr>\n",
       "    <tr>\n",
       "      <th>hist_oos</th>\n",
       "      <td>[0.000, 26.000, 25.000, 27.000, 20.000, 17.000...</td>\n",
       "      <td>[2.000, 21.000, 18.000, 32.000, 10.000, 26.000...</td>\n",
       "      <td>[0.000, 23.000, 19.000, 22.000, 23.000, 34.000...</td>\n",
       "      <td>[0.000, 33.000, 28.000, 20.000, 22.000, 30.000...</td>\n",
       "      <td>[0.000, 34.000, 26.000, 25.000, 37.000, 11.000...</td>\n",
       "    </tr>\n",
       "    <tr>\n",
       "      <th>bins</th>\n",
       "      <td>[-inf, -4.06049, -2.00164, -1.49913, -1.04345,...</td>\n",
       "      <td>[-inf, -3.79651, -1.9582, -1.48804, -1.06203, ...</td>\n",
       "      <td>[-inf, -2.06933, -1.21815, -0.91757, -0.5612, ...</td>\n",
       "      <td>[-inf, -3.11696, -1.3541, -0.93572, -0.67664, ...</td>\n",
       "      <td>[-inf, -3.82495, -1.31814, -0.92793, -0.69203,...</td>\n",
       "    </tr>\n",
       "    <tr>\n",
       "      <th>feature</th>\n",
       "      <td>0</td>\n",
       "      <td>1</td>\n",
       "      <td>2</td>\n",
       "      <td>3</td>\n",
       "      <td>4</td>\n",
       "    </tr>\n",
       "    <tr>\n",
       "      <th>semaphore</th>\n",
       "      <td>green</td>\n",
       "      <td>yellow</td>\n",
       "      <td>green</td>\n",
       "      <td>green</td>\n",
       "      <td>yellow</td>\n",
       "    </tr>\n",
       "  </tbody>\n",
       "</table>\n",
       "</div>"
      ],
      "text/plain": [
       "                                                            0  \\\n",
       "psi                                                  0.053377   \n",
       "feat_type                                          Continuous   \n",
       "bin_count                                                  17   \n",
       "hist_train  [0.000, 53.000, 53.000, 54.000, 53.000, 53.000...   \n",
       "hist_oos    [0.000, 26.000, 25.000, 27.000, 20.000, 17.000...   \n",
       "bins        [-inf, -4.06049, -2.00164, -1.49913, -1.04345,...   \n",
       "feature                                                     0   \n",
       "semaphore                                               green   \n",
       "\n",
       "                                                            1  \\\n",
       "psi                                                  0.157847   \n",
       "feat_type                                          Continuous   \n",
       "bin_count                                                  17   \n",
       "hist_train  [0.000, 53.000, 53.000, 53.000, 53.000, 53.000...   \n",
       "hist_oos    [2.000, 21.000, 18.000, 32.000, 10.000, 26.000...   \n",
       "bins        [-inf, -3.79651, -1.9582, -1.48804, -1.06203, ...   \n",
       "feature                                                     1   \n",
       "semaphore                                              yellow   \n",
       "\n",
       "                                                            2  \\\n",
       "psi                                                  0.076086   \n",
       "feat_type                                          Continuous   \n",
       "bin_count                                                  17   \n",
       "hist_train  [0.000, 53.000, 53.000, 53.000, 53.000, 53.000...   \n",
       "hist_oos    [0.000, 23.000, 19.000, 22.000, 23.000, 34.000...   \n",
       "bins        [-inf, -2.06933, -1.21815, -0.91757, -0.5612, ...   \n",
       "feature                                                     2   \n",
       "semaphore                                               green   \n",
       "\n",
       "                                                            3  \\\n",
       "psi                                                  0.098411   \n",
       "feat_type                                          Continuous   \n",
       "bin_count                                                  17   \n",
       "hist_train  [0.000, 54.000, 53.000, 53.000, 53.000, 53.000...   \n",
       "hist_oos    [0.000, 33.000, 28.000, 20.000, 22.000, 30.000...   \n",
       "bins        [-inf, -3.11696, -1.3541, -0.93572, -0.67664, ...   \n",
       "feature                                                     3   \n",
       "semaphore                                               green   \n",
       "\n",
       "                                                            4  \n",
       "psi                                                  0.114026  \n",
       "feat_type                                          Continuous  \n",
       "bin_count                                                  17  \n",
       "hist_train  [0.000, 53.000, 53.000, 53.000, 53.000, 53.000...  \n",
       "hist_oos    [0.000, 34.000, 26.000, 25.000, 37.000, 11.000...  \n",
       "bins        [-inf, -3.82495, -1.31814, -0.92793, -0.69203,...  \n",
       "feature                                                     4  \n",
       "semaphore                                              yellow  "
      ]
     },
     "execution_count": 198,
     "metadata": {},
     "output_type": "execute_result"
    }
   ],
   "source": [
    "results['result_dataframes']"
   ]
  },
  {
   "cell_type": "code",
   "execution_count": 199,
   "metadata": {},
   "outputs": [],
   "source": [
    "a, b = results['result_dataframes'][1]['hist_train'], results['result_dataframes'][1]['hist_oos']\n",
    "a, b = np.array(a).astype(float), np.array(b).astype(float)\n"
   ]
  },
  {
   "cell_type": "code",
   "execution_count": 200,
   "metadata": {},
   "outputs": [
    {
     "data": {
      "text/plain": [
       "array([0.        , 0.07571429, 0.07571429, 0.07571429, 0.07571429,\n",
       "       0.07571429, 0.07571429, 0.07571429, 0.07571429, 0.07571429,\n",
       "       0.07571429, 0.07571429, 0.07571429, 0.07571429, 0.01571429,\n",
       "       0.        ])"
      ]
     },
     "execution_count": 200,
     "metadata": {},
     "output_type": "execute_result"
    }
   ],
   "source": [
    "a / np.sum(a)"
   ]
  },
  {
   "cell_type": "code",
   "execution_count": 196,
   "metadata": {},
   "outputs": [
    {
     "data": {
      "text/plain": [
       "array([0.00666667, 0.07      , 0.04666667, 0.1       , 0.04666667,\n",
       "       0.06666667, 0.07666667, 0.05      , 0.08      , 0.08666667,\n",
       "       0.08333333, 0.03333333, 0.07      , 0.09666667, 0.08666667,\n",
       "       0.        ])"
      ]
     },
     "execution_count": 196,
     "metadata": {},
     "output_type": "execute_result"
    }
   ],
   "source": [
    "b / np.sum(b)"
   ]
  },
  {
   "cell_type": "code",
   "execution_count": null,
   "metadata": {},
   "outputs": [],
   "source": []
  }
 ],
 "metadata": {
  "kernelspec": {
   "display_name": "myenv",
   "language": "python",
   "name": "python3"
  },
  "language_info": {
   "codemirror_mode": {
    "name": "ipython",
    "version": 3
   },
   "file_extension": ".py",
   "mimetype": "text/x-python",
   "name": "python",
   "nbconvert_exporter": "python",
   "pygments_lexer": "ipython3",
   "version": "3.9.12 | packaged by conda-forge | (main, Mar 24 2022, 23:27:05) \n[Clang 12.0.1 ]"
  },
  "orig_nbformat": 4,
  "vscode": {
   "interpreter": {
    "hash": "ea1ba28ca3080e0412ec99e1bb1a997d4a43b70d799a956f8141a171308cbcce"
   }
  }
 },
 "nbformat": 4,
 "nbformat_minor": 2
}
