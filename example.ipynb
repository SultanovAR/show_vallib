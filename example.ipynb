{
 "cells": [
  {
   "cell_type": "code",
   "execution_count": 1,
   "metadata": {},
   "outputs": [],
   "source": [
    "%load_ext autoreload\n",
    "%autoreload 2"
   ]
  },
  {
   "cell_type": "code",
   "execution_count": 2,
   "metadata": {},
   "outputs": [],
   "source": [
    "from sbe_vallib import BinaryValidation, BinaryScorer, BinarySampler"
   ]
  },
  {
   "cell_type": "code",
   "execution_count": 11,
   "metadata": {},
   "outputs": [],
   "source": [
    "from sklearn.metrics import recall_score, f1_score\n",
    "from sklearn.linear_model import LogisticRegression\n",
    "from sklearn.datasets import make_classification\n",
    "from sklearn.model_selection import train_test_split\n",
    "import pandas as pd\n",
    "import numpy as np\n",
    "\n",
    "\n",
    "def recall_at_10(true, preds):\n",
    "    return recall_score(true, preds)\n",
    "\n",
    "def custom_test(sampler, scorer):\n",
    "    pass\n",
    "    \n",
    "\n",
    "X, y = make_classification(n_samples=1000, n_classes=2,\n",
    "                               n_features=5, n_informative=3, n_redundant=0,\n",
    "                               random_state=0)\n",
    "\n",
    "# X = pd.DataFrame(X)\n",
    "# y = pd.Series(y)\n",
    "\n",
    "X_train, X_test,  y_train, y_test = train_test_split(X, y, test_size=0.3, stratify=y)\n",
    "\n",
    "model = LogisticRegression().fit(X_train, y_train)\n",
    "\n",
    "\n",
    "sampler = BinarySampler(train={'X': X_train, 'y_true': y_train, 'y_pred': model.predict_proba(X_train)},\n",
    "                        oos = {'X': X_test, 'y_true': y_test, 'y_pred': model.predict_proba(X_test)}, bootstrap=False)\n",
    "\n",
    "sampler.source_state = False"
   ]
  },
  {
   "cell_type": "code",
   "execution_count": 12,
   "metadata": {},
   "outputs": [
    {
     "data": {
      "text/plain": [
       "(array([[ 0.46143972, -1.69537569, -1.5182626 ,  0.82442795, -0.08336402],\n",
       "        [-0.69246144,  2.23704828,  0.38583402,  0.00227872,  1.47992117],\n",
       "        [-1.32491248,  0.07720959,  1.29029141,  0.45219062, -1.10471679],\n",
       "        [-0.8766521 ,  1.61032686,  1.0745504 , -0.57405855, -0.16117053],\n",
       "        [-1.84569454, -2.20248017,  1.70882929,  0.79824373,  0.36967722]]),\n",
       " array([0, 0, 0, 0, 1]),\n",
       " array([[0.89007993, 0.10992007],\n",
       "        [0.70509165, 0.29490835],\n",
       "        [0.34827256, 0.65172744],\n",
       "        [0.48784982, 0.51215018],\n",
       "        [0.14806622, 0.85193378]]),\n",
       " array([[ 0.57940749, -1.15709265, -0.65231463,  0.96757756,  0.85335123],\n",
       "        [ 0.73363465,  3.00893782, -0.04292515, -0.27560993, -0.87936897],\n",
       "        [-0.94300875,  0.949227  ,  0.53087666,  1.61447824,  0.54396227],\n",
       "        [ 1.70654605, -0.15092923,  1.22477658, -1.37527906,  0.85749959],\n",
       "        [ 0.30151611,  0.3975208 ,  2.75245527,  0.60540001, -0.60815928]]),\n",
       " array([0, 0, 0, 1, 1]),\n",
       " array([[0.71690493, 0.28309507],\n",
       "        [0.79261552, 0.20738448],\n",
       "        [0.58530667, 0.41469333],\n",
       "        [0.16595599, 0.83404401],\n",
       "        [0.04040502, 0.95959498]]))"
      ]
     },
     "execution_count": 12,
     "metadata": {},
     "output_type": "execute_result"
    }
   ],
   "source": [
    "sampler.set_seed(17)\n",
    "sampler.oos['X'][:5], sampler.oos['y_true'][:5], sampler.oos['y_pred'][:5], sampler.train['X'][:5], sampler.train['y_true'][:5], sampler.train['y_pred'][:5]"
   ]
  },
  {
   "cell_type": "code",
   "execution_count": 6,
   "metadata": {},
   "outputs": [
    {
     "data": {
      "text/plain": [
       "(array([[[ 2.33430351,  0.38273635, -0.12588233,  1.88957625,\n",
       "          -0.66384185],\n",
       "         [-1.73958053, -0.43645606,  1.27700304, -0.01665359,\n",
       "          -0.29144691],\n",
       "         [-0.09291869, -1.41670321,  2.39070834,  0.13449038,\n",
       "           0.16464823],\n",
       "         ...,\n",
       "         [-0.53051614,  3.49799885,  0.88001123,  0.92378365,\n",
       "           1.62205746],\n",
       "         [ 0.64171797,  0.44712849, -0.7812042 , -0.49433701,\n",
       "          -1.51270351],\n",
       "         [ 0.70908585,  4.27660871, -0.16326807, -0.5274204 ,\n",
       "          -1.59466283]]]),\n",
       " array([1, 1, 1, 1, 0]),\n",
       " array([[0.16169078, 0.83830922],\n",
       "        [0.41276071, 0.58723929],\n",
       "        [0.25701003, 0.74298997],\n",
       "        [0.4154409 , 0.5845591 ],\n",
       "        [0.77705339, 0.22294661]]),\n",
       " array([[-0.11693823, -1.56520668,  2.34834444,  0.97938353, -0.64896087],\n",
       "        [-0.1420048 , -0.77715488,  1.57503639,  0.14245346, -1.42557847],\n",
       "        [-0.34398586,  1.9920793 ,  0.42360526, -0.21832428, -0.81040176],\n",
       "        [ 1.00294896, -0.66963678, -1.05146441, -0.12195011, -0.17421057],\n",
       "        [ 2.51030858, -3.00694364, -1.04472174, -0.57153336,  1.48598004]]),\n",
       " array([1, 1, 0, 0, 0]),\n",
       " array([[0.03156631, 0.96843369],\n",
       "        [0.1317492 , 0.8682508 ],\n",
       "        [0.71458733, 0.28541267],\n",
       "        [0.8539266 , 0.1460734 ],\n",
       "        [0.60868758, 0.39131242]]))"
      ]
     },
     "execution_count": 6,
     "metadata": {},
     "output_type": "execute_result"
    }
   ],
   "source": [
    "sampler = BinarySampler(train={'X': X_train, 'y_true': y_train, 'y_pred': model.predict_proba(X_train)},\n",
    "                        oos = {'X': X_test, 'y_true': y_test, 'y_pred': model.predict_proba(X_test)}, bootstrap=True)\n",
    "sampler.source_state = False\n",
    "sampler.set_seed(10)\n",
    "sampler.oos['X'][:5], sampler.oos['y_true'][:5], sampler.oos['y_pred'][:5], sampler.train['X'][:5], sampler.train['y_true'][:5], sampler.train['y_pred'][:5]"
   ]
  },
  {
   "cell_type": "code",
   "execution_count": 8,
   "metadata": {},
   "outputs": [
    {
     "data": {
      "text/plain": [
       "(array([[ 2.33430351,  0.38273635, -0.12588233,  1.88957625, -0.66384185],\n",
       "        [-1.73958053, -0.43645606,  1.27700304, -0.01665359, -0.29144691],\n",
       "        [-0.09291869, -1.41670321,  2.39070834,  0.13449038,  0.16464823],\n",
       "        [ 0.78980481,  0.61461687,  1.19314586,  1.1571356 ,  0.04564895],\n",
       "        [-2.69250435, -2.4062265 ,  1.14381774,  1.76774978,  1.67422915]]),\n",
       " array([0, 0, 1, 1, 1]),\n",
       " array([[0.52920199, 0.47079801],\n",
       "        [0.31548146, 0.68451854],\n",
       "        [0.03259623, 0.96740377],\n",
       "        [0.22446524, 0.77553476],\n",
       "        [0.24936442, 0.75063558]]),\n",
       " array([[-0.11693823, -1.56520668,  2.34834444,  0.97938353, -0.64896087],\n",
       "        [-0.1420048 , -0.77715488,  1.57503639,  0.14245346, -1.42557847],\n",
       "        [-0.34398586,  1.9920793 ,  0.42360526, -0.21832428, -0.81040176],\n",
       "        [ 1.00294896, -0.66963678, -1.05146441, -0.12195011, -0.17421057],\n",
       "        [ 2.51030858, -3.00694364, -1.04472174, -0.57153336,  1.48598004]]),\n",
       " array([1, 1, 0, 0, 0]),\n",
       " array([[0.03156631, 0.96843369],\n",
       "        [0.1317492 , 0.8682508 ],\n",
       "        [0.71458733, 0.28541267],\n",
       "        [0.8539266 , 0.1460734 ],\n",
       "        [0.60868758, 0.39131242]]))"
      ]
     },
     "execution_count": 8,
     "metadata": {},
     "output_type": "execute_result"
    }
   ],
   "source": [
    "sampler = BinarySampler(train={'X': X_train, 'y_true': y_train, 'y_pred': model.predict_proba(X_train)},\n",
    "                        oos = {'X': X_test, 'y_true': y_test, 'y_pred': model.predict_proba(X_test)}, bootstrap=False)\n",
    "sampler.oos['X'][:5], sampler.oos['y_true'][:5], sampler.oos['y_pred'][:5], sampler.train['X'][:5], sampler.train['y_true'][:5], sampler.train['y_pred'][:5]"
   ]
  },
  {
   "cell_type": "code",
   "execution_count": 15,
   "metadata": {},
   "outputs": [
    {
     "data": {
      "text/plain": [
       "[True, True, True, True, True, True]"
      ]
     },
     "execution_count": 15,
     "metadata": {},
     "output_type": "execute_result"
    }
   ],
   "source": [
    "sampler_boot = BinarySampler(train={'X': X_train, 'y_true': y_train, 'y_pred': model.predict_proba(X_train)},\n",
    "                        oos = {'X': X_test, 'y_true': y_test, 'y_pred': model.predict_proba(X_test)}, bootstrap=True)\n",
    "sampler_no_boot = BinarySampler(train={'X': X_train, 'y_true': y_train, 'y_pred': model.predict_proba(X_train)},\n",
    "                        oos = {'X': X_test, 'y_true': y_test, 'y_pred': model.predict_proba(X_test)}, bootstrap=True)\n",
    "\n",
    "[np.array_equal(sampler_boot.oos['X'][:5], sampler_no_boot.oos['X'][:5]),\n",
    " np.array_equal(sampler_boot.oos['y_true'][:5], sampler_no_boot.oos['y_true'][:5]), \n",
    " np.array_equal(sampler_boot.oos['y_pred'][:5],sampler_boot.oos['y_pred'][:5]),\n",
    " np.array_equal(sampler_boot.train['X'][:5],sampler_boot.train['X'][:5]),\n",
    " np.array_equal(sampler_boot.train['y_true'][:5],sampler_boot.train['y_true'][:5]),\n",
    " np.array_equal(sampler_boot.train['y_pred'][:5], sampler_boot.train['y_pred'][:5])]"
   ]
  },
  {
   "cell_type": "code",
   "execution_count": null,
   "metadata": {},
   "outputs": [],
   "source": []
  }
 ],
 "metadata": {
  "kernelspec": {
   "display_name": "myenv",
   "language": "python",
   "name": "python3"
  },
  "language_info": {
   "codemirror_mode": {
    "name": "ipython",
    "version": 3
   },
   "file_extension": ".py",
   "mimetype": "text/x-python",
   "name": "python",
   "nbconvert_exporter": "python",
   "pygments_lexer": "ipython3",
   "version": "3.9.12 | packaged by conda-forge | (main, Mar 24 2022, 23:27:05) \n[Clang 12.0.1 ]"
  },
  "orig_nbformat": 4,
  "vscode": {
   "interpreter": {
    "hash": "ea1ba28ca3080e0412ec99e1bb1a997d4a43b70d799a956f8141a171308cbcce"
   }
  }
 },
 "nbformat": 4,
 "nbformat_minor": 2
}
