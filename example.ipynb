{
 "cells": [
  {
   "cell_type": "code",
   "execution_count": 1,
   "metadata": {},
   "outputs": [],
   "source": [
    "%load_ext autoreload\n",
    "%autoreload 2"
   ]
  },
  {
   "cell_type": "code",
   "execution_count": 2,
   "metadata": {},
   "outputs": [],
   "source": [
    "from sbe_vallib import BinaryValidation, BinaryScorer, BinarySampler"
   ]
  },
  {
   "cell_type": "code",
   "execution_count": 3,
   "metadata": {},
   "outputs": [],
   "source": [
    "from sklearn.metrics import recall_score, f1_score\n",
    "from sklearn.linear_model import LogisticRegression\n",
    "from sklearn.datasets import make_classification\n",
    "from sklearn.model_selection import train_test_split\n",
    "import pandas as pd\n",
    "import numpy as np\n",
    "\n",
    "\n",
    "def recall_at_10(true, preds):\n",
    "    return recall_score(true, preds)\n",
    "\n",
    "def custom_test(sampler, scorer):\n",
    "    pass\n",
    "    \n",
    "\n",
    "X, y = make_classification(n_samples=1000, n_classes=2,\n",
    "                               n_features=5, n_informative=3, n_redundant=0,\n",
    "                               random_state=0)\n",
    "\n",
    "# X = pd.DataFrame(X)\n",
    "# y = pd.Series(y)\n",
    "\n",
    "X_train, X_test,  y_train, y_test = train_test_split(X, y, test_size=0.3, stratify=y)\n",
    "\n",
    "model = LogisticRegression().fit(X_train, y_train)\n",
    "\n",
    "\n",
    "sampler = BinarySampler(train={'X': X_train, 'y_true': y_train, 'y_pred': model.predict_proba(X_train)},\n",
    "                        oos = {'X': X_test, 'y_true': y_test, 'y_pred': model.predict_proba(X_test)}, bootstrap=False)\n",
    "\n",
    "sampler.source_state = False"
   ]
  },
  {
   "cell_type": "code",
   "execution_count": 5,
   "metadata": {},
   "outputs": [
    {
     "data": {
      "text/plain": [
       "(array([[-2.17494019, -1.94882167,  1.51645859, -0.07984927,  0.36288949],\n",
       "        [-0.29589373, -0.60658754,  1.3077079 , -0.96369018, -0.36141957],\n",
       "        [ 0.90220379, -0.73748739,  2.22030551,  0.13522097, -1.15197079],\n",
       "        [ 0.85614706, -1.46948688, -0.89728366, -0.67901244, -0.25092918],\n",
       "        [ 1.62796243,  0.76685632,  0.76080776,  0.6368111 ,  0.27275829]]),\n",
       " array([1, 1, 1, 0, 1]),\n",
       " array([[0.20805274, 0.79194726],\n",
       "        [0.2338746 , 0.7661254 ],\n",
       "        [0.05374312, 0.94625688],\n",
       "        [0.78686938, 0.21313062],\n",
       "        [0.31976163, 0.68023837]]),\n",
       " array([[ 0.91198054,  0.50023103,  1.99986692, -0.99729165,  0.15365226],\n",
       "        [-1.39793602,  1.06997912,  0.71315234, -0.65700197, -2.46928164],\n",
       "        [-0.9710823 , -1.05232521,  1.19846279, -1.13319911,  0.07803667],\n",
       "        [ 0.12770901,  2.96796354,  0.62891825,  0.57968663, -0.12095324],\n",
       "        [-0.5096907 , -0.09935072, -1.06533583,  0.98910109, -0.13231792]]),\n",
       " array([1, 0, 1, 0, 0]),\n",
       " array([[0.0906229 , 0.9093771 ],\n",
       "        [0.66889794, 0.33110206],\n",
       "        [0.27413526, 0.72586474],\n",
       "        [0.64516556, 0.35483444],\n",
       "        [0.91187084, 0.08812916]]))"
      ]
     },
     "execution_count": 5,
     "metadata": {},
     "output_type": "execute_result"
    }
   ],
   "source": [
    "sampler.set_seed(17)\n",
    "sampler.oos['X'][:5], sampler.oos['y_true'][:5], sampler.oos['y_pred'][:5], sampler.train['X'][:5], sampler.train['y_true'][:5], sampler.train['y_pred'][:5]"
   ]
  },
  {
   "cell_type": "code",
   "execution_count": 6,
   "metadata": {},
   "outputs": [
    {
     "data": {
      "text/plain": [
       "(array([[-2.40496885, -1.81918034,  0.83077319,  0.14462519, -0.89298611],\n",
       "        [ 0.95901739,  0.75327655,  1.73804534,  1.02667522,  0.54307603],\n",
       "        [-2.31069337, -0.65141381, -0.55146407, -0.08948511,  0.48757919],\n",
       "        [ 0.86694933,  0.7423848 ,  0.50661052, -1.22479637, -0.80471875],\n",
       "        [ 0.62240996, -0.41502841,  1.7575855 ,  0.26581643, -0.84589129]]),\n",
       " array([1, 1, 1, 1, 1]),\n",
       " array([[0.46771723, 0.53228277],\n",
       "        [0.12303249, 0.87696751],\n",
       "        [0.88178655, 0.11821345],\n",
       "        [0.50077952, 0.49922048],\n",
       "        [0.11320953, 0.88679047]]),\n",
       " array([[-2.11797381, -2.65643153,  1.98797812, -0.83611109,  1.9991244 ],\n",
       "        [ 1.22302727,  3.28963287, -0.19194977,  1.0505019 , -0.28810814],\n",
       "        [-1.26218091, -1.69659881,  1.48195458, -0.16440693,  1.13496002],\n",
       "        [-0.10637598, -1.53370503, -1.06392014,  0.71386447, -0.98088364],\n",
       "        [-0.90313707, -0.31791572,  0.41308821,  0.30952743,  0.37529998]]),\n",
       " array([1, 0, 1, 0, 1]),\n",
       " array([[0.08537598, 0.91462402],\n",
       "        [0.81759736, 0.18240264],\n",
       "        [0.16909489, 0.83090511],\n",
       "        [0.86786091, 0.13213909],\n",
       "        [0.56633577, 0.43366423]]))"
      ]
     },
     "execution_count": 6,
     "metadata": {},
     "output_type": "execute_result"
    }
   ],
   "source": [
    "sampler = BinarySampler(train={'X': X_train, 'y_true': y_train, 'y_pred': model.predict_proba(X_train)},\n",
    "                        oos = {'X': X_test, 'y_true': y_test, 'y_pred': model.predict_proba(X_test)}, bootstrap=True)\n",
    "sampler.source_state = False\n",
    "sampler.set_seed(10)\n",
    "sampler.oos['X'][:5], sampler.oos['y_true'][:5], sampler.oos['y_pred'][:5], sampler.train['X'][:5], sampler.train['y_true'][:5], sampler.train['y_pred'][:5]"
   ]
  },
  {
   "cell_type": "code",
   "execution_count": 7,
   "metadata": {},
   "outputs": [
    {
     "data": {
      "text/plain": [
       "(array([[-1.02926877, -1.37725543,  1.13479799,  0.25541285,  0.53175481],\n",
       "        [ 0.41405846, -3.04211036, -1.74482642, -0.31495099,  0.04021318],\n",
       "        [ 1.1881111 ,  1.61352461,  0.18361962,  0.83598963, -1.39500325],\n",
       "        [ 1.30772546,  0.45192686,  1.0399803 ,  0.1326134 , -2.16841434],\n",
       "        [-0.81768414,  0.12410398,  0.89148861, -1.11590759,  1.18990366]]),\n",
       " array([1, 0, 1, 1, 0]),\n",
       " array([[0.2621659 , 0.7378341 ],\n",
       "        [0.8977842 , 0.1022158 ],\n",
       "        [0.64869929, 0.35130071],\n",
       "        [0.2924985 , 0.7075015 ],\n",
       "        [0.41046284, 0.58953716]]),\n",
       " array([[-2.11797381, -2.65643153,  1.98797812, -0.83611109,  1.9991244 ],\n",
       "        [ 1.22302727,  3.28963287, -0.19194977,  1.0505019 , -0.28810814],\n",
       "        [-1.26218091, -1.69659881,  1.48195458, -0.16440693,  1.13496002],\n",
       "        [-0.10637598, -1.53370503, -1.06392014,  0.71386447, -0.98088364],\n",
       "        [-0.90313707, -0.31791572,  0.41308821,  0.30952743,  0.37529998]]),\n",
       " array([1, 0, 1, 0, 1]),\n",
       " array([[0.08537598, 0.91462402],\n",
       "        [0.81759736, 0.18240264],\n",
       "        [0.16909489, 0.83090511],\n",
       "        [0.86786091, 0.13213909],\n",
       "        [0.56633577, 0.43366423]]))"
      ]
     },
     "execution_count": 7,
     "metadata": {},
     "output_type": "execute_result"
    }
   ],
   "source": [
    "sampler = BinarySampler(train={'X': X_train, 'y_true': y_train, 'y_pred': model.predict_proba(X_train)},\n",
    "                        oos = {'X': X_test, 'y_true': y_test, 'y_pred': model.predict_proba(X_test)}, bootstrap=False)\n",
    "sampler.oos['X'][:5], sampler.oos['y_true'][:5], sampler.oos['y_pred'][:5], sampler.train['X'][:5], sampler.train['y_true'][:5], sampler.train['y_pred'][:5]"
   ]
  },
  {
   "cell_type": "code",
   "execution_count": 9,
   "metadata": {},
   "outputs": [
    {
     "data": {
      "text/plain": [
       "[True, True, True, True, True, True]"
      ]
     },
     "execution_count": 9,
     "metadata": {},
     "output_type": "execute_result"
    }
   ],
   "source": [
    "sampler_boot = BinarySampler(train={'X': X_train, 'y_true': y_train, 'y_pred': model.predict_proba(X_train)},\n",
    "                        oos = {'X': X_test, 'y_true': y_test, 'y_pred': model.predict_proba(X_test)}, bootstrap=True)\n",
    "sampler_no_boot = BinarySampler(train={'X': X_train, 'y_true': y_train, 'y_pred': model.predict_proba(X_train)},\n",
    "                        oos = {'X': X_test, 'y_true': y_test, 'y_pred': model.predict_proba(X_test)}, bootstrap=False)\n",
    "\n",
    "[np.array_equal(sampler_boot.oos['X'][:5], sampler_no_boot.oos['X'][:5]),\n",
    " np.array_equal(sampler_boot.oos['y_true'][:5], sampler_no_boot.oos['y_true'][:5]), \n",
    " np.array_equal(sampler_boot.oos['y_pred'][:5],sampler_boot.oos['y_pred'][:5]),\n",
    " np.array_equal(sampler_boot.train['X'][:5],sampler_boot.train['X'][:5]),\n",
    " np.array_equal(sampler_boot.train['y_true'][:5],sampler_boot.train['y_true'][:5]),\n",
    " np.array_equal(sampler_boot.train['y_pred'][:5], sampler_boot.train['y_pred'][:5])]"
   ]
  },
  {
   "cell_type": "code",
   "execution_count": 181,
   "metadata": {},
   "outputs": [],
   "source": [
    "from scipy.special import rel_entr"
   ]
  },
  {
   "cell_type": "code",
   "execution_count": 183,
   "metadata": {},
   "outputs": [
    {
     "data": {
      "text/plain": [
       "array([ 0.        ,  0.        , 37.83461326])"
      ]
     },
     "execution_count": 183,
     "metadata": {},
     "output_type": "execute_result"
    }
   ],
   "source": [
    "rel_entr(np.array([1, 2, 3]), np.array([1, 2, 1e-5]))"
   ]
  },
  {
   "cell_type": "code",
   "execution_count": 184,
   "metadata": {},
   "outputs": [],
   "source": [
    "from sbe_vallib.validation.table.general_tests.data_quality.test_psi_factor import test_factor_psi"
   ]
  },
  {
   "cell_type": "code",
   "execution_count": 197,
   "metadata": {},
   "outputs": [
    {
     "name": "stdout",
     "output_type": "stream",
     "text": [
      "[53 53 54 53 53 54 53 53 53 53 53 53 54  8]\n",
      "[53 53 53 53 53 53 53 53 53 53 53 53 53 11]\n",
      "[53 53 53 53 53 53 53 53 53 53 53 53 53 11]\n",
      "[54 53 53 53 53 53 53 53 53 53 53 53 53 10]\n",
      "[53 53 53 53 53 53 53 53 53 53 53 53 53 11]\n"
     ]
    }
   ],
   "source": [
    "sampler_boot = BinarySampler(train={'X': X_train, 'y_true': y_train, 'y_pred': model.predict_proba(X_train)},\n",
    "                             oos = {'X': X_test, 'y_true': y_test, 'y_pred': model.predict_proba(X_test)}, bootstrap=True)\n",
    "results = test_factor_psi(sampler_boot, merge_upto_quantile=0.075)"
   ]
  },
  {
   "cell_type": "code",
   "execution_count": 198,
   "metadata": {},
   "outputs": [
    {
     "data": {
      "text/html": [
       "<div>\n",
       "<style scoped>\n",
       "    .dataframe tbody tr th:only-of-type {\n",
       "        vertical-align: middle;\n",
       "    }\n",
       "\n",
       "    .dataframe tbody tr th {\n",
       "        vertical-align: top;\n",
       "    }\n",
       "\n",
       "    .dataframe thead th {\n",
       "        text-align: right;\n",
       "    }\n",
       "</style>\n",
       "<table border=\"1\" class=\"dataframe\">\n",
       "  <thead>\n",
       "    <tr style=\"text-align: right;\">\n",
       "      <th></th>\n",
       "      <th>0</th>\n",
       "      <th>1</th>\n",
       "      <th>2</th>\n",
       "      <th>3</th>\n",
       "      <th>4</th>\n",
       "    </tr>\n",
       "  </thead>\n",
       "  <tbody>\n",
       "    <tr>\n",
       "      <th>psi</th>\n",
       "      <td>0.053377</td>\n",
       "      <td>0.157847</td>\n",
       "      <td>0.076086</td>\n",
       "      <td>0.098411</td>\n",
       "      <td>0.114026</td>\n",
       "    </tr>\n",
       "    <tr>\n",
       "      <th>feat_type</th>\n",
       "      <td>Continuous</td>\n",
       "      <td>Continuous</td>\n",
       "      <td>Continuous</td>\n",
       "      <td>Continuous</td>\n",
       "      <td>Continuous</td>\n",
       "    </tr>\n",
       "    <tr>\n",
       "      <th>bin_count</th>\n",
       "      <td>17</td>\n",
       "      <td>17</td>\n",
       "      <td>17</td>\n",
       "      <td>17</td>\n",
       "      <td>17</td>\n",
       "    </tr>\n",
       "    <tr>\n",
       "      <th>hist_train</th>\n",
       "      <td>[0.000, 53.000, 53.000, 54.000, 53.000, 53.000...</td>\n",
       "      <td>[0.000, 53.000, 53.000, 53.000, 53.000, 53.000...</td>\n",
       "      <td>[0.000, 53.000, 53.000, 53.000, 53.000, 53.000...</td>\n",
       "      <td>[0.000, 54.000, 53.000, 53.000, 53.000, 53.000...</td>\n",
       "      <td>[0.000, 53.000, 53.000, 53.000, 53.000, 53.000...</td>\n",
       "    </tr>\n",
       "    <tr>\n",
       "      <th>hist_oos</th>\n",
       "      <td>[0.000, 26.000, 25.000, 27.000, 20.000, 17.000...</td>\n",
       "      <td>[2.000, 21.000, 18.000, 32.000, 10.000, 26.000...</td>\n",
       "      <td>[0.000, 23.000, 19.000, 22.000, 23.000, 34.000...</td>\n",
       "      <td>[0.000, 33.000, 28.000, 20.000, 22.000, 30.000...</td>\n",
       "      <td>[0.000, 34.000, 26.000, 25.000, 37.000, 11.000...</td>\n",
       "    </tr>\n",
       "    <tr>\n",
       "      <th>bins</th>\n",
       "      <td>[-inf, -4.06049, -2.00164, -1.49913, -1.04345,...</td>\n",
       "      <td>[-inf, -3.79651, -1.9582, -1.48804, -1.06203, ...</td>\n",
       "      <td>[-inf, -2.06933, -1.21815, -0.91757, -0.5612, ...</td>\n",
       "      <td>[-inf, -3.11696, -1.3541, -0.93572, -0.67664, ...</td>\n",
       "      <td>[-inf, -3.82495, -1.31814, -0.92793, -0.69203,...</td>\n",
       "    </tr>\n",
       "    <tr>\n",
       "      <th>feature</th>\n",
       "      <td>0</td>\n",
       "      <td>1</td>\n",
       "      <td>2</td>\n",
       "      <td>3</td>\n",
       "      <td>4</td>\n",
       "    </tr>\n",
       "    <tr>\n",
       "      <th>semaphore</th>\n",
       "      <td>green</td>\n",
       "      <td>yellow</td>\n",
       "      <td>green</td>\n",
       "      <td>green</td>\n",
       "      <td>yellow</td>\n",
       "    </tr>\n",
       "  </tbody>\n",
       "</table>\n",
       "</div>"
      ],
      "text/plain": [
       "                                                            0  \\\n",
       "psi                                                  0.053377   \n",
       "feat_type                                          Continuous   \n",
       "bin_count                                                  17   \n",
       "hist_train  [0.000, 53.000, 53.000, 54.000, 53.000, 53.000...   \n",
       "hist_oos    [0.000, 26.000, 25.000, 27.000, 20.000, 17.000...   \n",
       "bins        [-inf, -4.06049, -2.00164, -1.49913, -1.04345,...   \n",
       "feature                                                     0   \n",
       "semaphore                                               green   \n",
       "\n",
       "                                                            1  \\\n",
       "psi                                                  0.157847   \n",
       "feat_type                                          Continuous   \n",
       "bin_count                                                  17   \n",
       "hist_train  [0.000, 53.000, 53.000, 53.000, 53.000, 53.000...   \n",
       "hist_oos    [2.000, 21.000, 18.000, 32.000, 10.000, 26.000...   \n",
       "bins        [-inf, -3.79651, -1.9582, -1.48804, -1.06203, ...   \n",
       "feature                                                     1   \n",
       "semaphore                                              yellow   \n",
       "\n",
       "                                                            2  \\\n",
       "psi                                                  0.076086   \n",
       "feat_type                                          Continuous   \n",
       "bin_count                                                  17   \n",
       "hist_train  [0.000, 53.000, 53.000, 53.000, 53.000, 53.000...   \n",
       "hist_oos    [0.000, 23.000, 19.000, 22.000, 23.000, 34.000...   \n",
       "bins        [-inf, -2.06933, -1.21815, -0.91757, -0.5612, ...   \n",
       "feature                                                     2   \n",
       "semaphore                                               green   \n",
       "\n",
       "                                                            3  \\\n",
       "psi                                                  0.098411   \n",
       "feat_type                                          Continuous   \n",
       "bin_count                                                  17   \n",
       "hist_train  [0.000, 54.000, 53.000, 53.000, 53.000, 53.000...   \n",
       "hist_oos    [0.000, 33.000, 28.000, 20.000, 22.000, 30.000...   \n",
       "bins        [-inf, -3.11696, -1.3541, -0.93572, -0.67664, ...   \n",
       "feature                                                     3   \n",
       "semaphore                                               green   \n",
       "\n",
       "                                                            4  \n",
       "psi                                                  0.114026  \n",
       "feat_type                                          Continuous  \n",
       "bin_count                                                  17  \n",
       "hist_train  [0.000, 53.000, 53.000, 53.000, 53.000, 53.000...  \n",
       "hist_oos    [0.000, 34.000, 26.000, 25.000, 37.000, 11.000...  \n",
       "bins        [-inf, -3.82495, -1.31814, -0.92793, -0.69203,...  \n",
       "feature                                                     4  \n",
       "semaphore                                              yellow  "
      ]
     },
     "execution_count": 198,
     "metadata": {},
     "output_type": "execute_result"
    }
   ],
   "source": [
    "results['result_dataframes']"
   ]
  },
  {
   "cell_type": "code",
   "execution_count": 199,
   "metadata": {},
   "outputs": [],
   "source": [
    "a, b = results['result_dataframes'][1]['hist_train'], results['result_dataframes'][1]['hist_oos']\n",
    "a, b = np.array(a).astype(float), np.array(b).astype(float)\n"
   ]
  },
  {
   "cell_type": "code",
   "execution_count": 200,
   "metadata": {},
   "outputs": [
    {
     "data": {
      "text/plain": [
       "array([0.        , 0.07571429, 0.07571429, 0.07571429, 0.07571429,\n",
       "       0.07571429, 0.07571429, 0.07571429, 0.07571429, 0.07571429,\n",
       "       0.07571429, 0.07571429, 0.07571429, 0.07571429, 0.01571429,\n",
       "       0.        ])"
      ]
     },
     "execution_count": 200,
     "metadata": {},
     "output_type": "execute_result"
    }
   ],
   "source": [
    "a / np.sum(a)"
   ]
  },
  {
   "cell_type": "code",
   "execution_count": 196,
   "metadata": {},
   "outputs": [
    {
     "data": {
      "text/plain": [
       "array([0.00666667, 0.07      , 0.04666667, 0.1       , 0.04666667,\n",
       "       0.06666667, 0.07666667, 0.05      , 0.08      , 0.08666667,\n",
       "       0.08333333, 0.03333333, 0.07      , 0.09666667, 0.08666667,\n",
       "       0.        ])"
      ]
     },
     "execution_count": 196,
     "metadata": {},
     "output_type": "execute_result"
    }
   ],
   "source": [
    "b / np.sum(b)"
   ]
  },
  {
   "cell_type": "code",
   "execution_count": null,
   "metadata": {},
   "outputs": [],
   "source": []
  }
 ],
 "metadata": {
  "kernelspec": {
   "display_name": "vallib",
   "language": "python",
   "name": "python3"
  },
  "language_info": {
   "codemirror_mode": {
    "name": "ipython",
    "version": 3
   },
   "file_extension": ".py",
   "mimetype": "text/x-python",
   "name": "python",
   "nbconvert_exporter": "python",
   "pygments_lexer": "ipython3",
   "version": "3.8.2"
  },
  "orig_nbformat": 4,
  "vscode": {
   "interpreter": {
    "hash": "93ca0bf2fbb6d7d2c5c715dd7949d8cc47c63d54396f036c5105c0edeb3d8e03"
   }
  }
 },
 "nbformat": 4,
 "nbformat_minor": 2
}
