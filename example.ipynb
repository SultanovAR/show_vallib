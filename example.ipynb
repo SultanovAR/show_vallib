{
 "cells": [
  {
   "cell_type": "code",
   "execution_count": 1,
   "metadata": {},
   "outputs": [],
   "source": [
    "from sbe_vallib import BinaryValidation, Scorer, Sampler"
   ]
  },
  {
   "cell_type": "code",
   "execution_count": 13,
   "metadata": {},
   "outputs": [
    {
     "name": "stdout",
     "output_type": "stream",
     "text": [
      "{'f1': 0.7098976109215017}\n"
     ]
    }
   ],
   "source": [
    "from sklearn.metrics import recall_score, f1_score\n",
    "from sklearn.linear_model import LogisticRegression\n",
    "from sklearn.datasets import make_classification\n",
    "from sklearn.model_selection import train_test_split\n",
    "import pandas as pd\n",
    "\n",
    "\n",
    "def recall_at_10(true, preds):\n",
    "    return recall_score(true, preds)\n",
    "\n",
    "def custom_test(sampler, scorer):\n",
    "    pass\n",
    "\n",
    "class CustomSampler(Sampler):\n",
    "    def __init__(self, X_train, y_train, X_oos, y_oos, **kwargs):\n",
    "        super().__init__(X_train, y_train, X_oos, y_oos, **kwargs)\n",
    "        \n",
    "        self.samplers = {\n",
    "            \"train\": (X_train, y_train),\n",
    "            \"oos\": (X_oos, y_oos),\n",
    "        }\n",
    "    \n",
    "\n",
    "X, y = make_classification(n_samples=1000, n_classes=2,\n",
    "                               n_features=5, n_informative=3, n_redundant=0,\n",
    "                               random_state=0)\n",
    "\n",
    "X = pd.DataFrame(X)\n",
    "y = pd.Series(y)\n",
    "\n",
    "X_train, X_test,  y_train, y_test = train_test_split(X, y, test_size=0.3, stratify=y)\n",
    "\n",
    "model = LogisticRegression().fit(X_train, y_train)\n",
    "\n",
    "\n",
    "sampler = CustomSampler(X_train, y_train, X_test, y_test)\n",
    "scorer = Scorer(metrics={'f1': f1_score}, custom_metric={'recall_at_10': recall_at_10})\n",
    "print(scorer.score(y_target=y_test, y_pred=model.predict(X_test)))\n",
    "\n",
    "validator = BinaryValidation(model, sampler, scorer, custom_tests=[custom_test], exclude_list=[])\n",
    "\n",
    "# validator.validate()"
   ]
  },
  {
   "cell_type": "code",
   "execution_count": null,
   "metadata": {},
   "outputs": [],
   "source": []
  }
 ],
 "metadata": {
  "kernelspec": {
   "display_name": "myenv",
   "language": "python",
   "name": "python3"
  },
  "language_info": {
   "codemirror_mode": {
    "name": "ipython",
    "version": 3
   },
   "file_extension": ".py",
   "mimetype": "text/x-python",
   "name": "python",
   "nbconvert_exporter": "python",
   "pygments_lexer": "ipython3",
   "version": "3.9.12"
  },
  "orig_nbformat": 4,
  "vscode": {
   "interpreter": {
    "hash": "ea1ba28ca3080e0412ec99e1bb1a997d4a43b70d799a956f8141a171308cbcce"
   }
  }
 },
 "nbformat": 4,
 "nbformat_minor": 2
}
