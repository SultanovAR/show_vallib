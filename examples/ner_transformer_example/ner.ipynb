{
 "cells": [
  {
   "cell_type": "code",
   "execution_count": 1,
   "metadata": {},
   "outputs": [],
   "source": [
    "%load_ext autoreload\n",
    "%autoreload 2"
   ]
  },
  {
   "cell_type": "code",
   "execution_count": 2,
   "metadata": {},
   "outputs": [],
   "source": [
    "import sys\n",
    "\n",
    "sys.path.append('../')"
   ]
  },
  {
   "attachments": {},
   "cell_type": "markdown",
   "metadata": {},
   "source": [
    "## Dataset"
   ]
  },
  {
   "cell_type": "code",
   "execution_count": 3,
   "metadata": {},
   "outputs": [
    {
     "name": "stderr",
     "output_type": "stream",
     "text": [
      "Found cached dataset conll2003 (/Users/azatsultanov/.cache/huggingface/datasets/conll2003/conll2003/1.0.0/9a4d16a94f8674ba3466315300359b0acd891b68b6c8743ddf60b9c702adce98)\n"
     ]
    },
    {
     "data": {
      "application/vnd.jupyter.widget-view+json": {
       "model_id": "6a46d749657040329114b7ae30e6ceb1",
       "version_major": 2,
       "version_minor": 0
      },
      "text/plain": [
       "  0%|          | 0/3 [00:00<?, ?it/s]"
      ]
     },
     "metadata": {},
     "output_type": "display_data"
    },
    {
     "name": "stdout",
     "output_type": "stream",
     "text": [
      "['O', 'B-PER', 'I-PER', 'B-ORG', 'I-ORG', 'B-LOC', 'I-LOC', 'B-MISC', 'I-MISC']\n"
     ]
    },
    {
     "data": {
      "text/plain": [
       "{'id': '2',\n",
       " 'tokens': ['AL-AIN', ',', 'United', 'Arab', 'Emirates', '1996-12-06'],\n",
       " 'pos_tags': [22, 6, 22, 22, 23, 11],\n",
       " 'chunk_tags': [11, 0, 11, 12, 12, 12],\n",
       " 'ner_tags': [5, 0, 5, 6, 6, 0]}"
      ]
     },
     "execution_count": 3,
     "metadata": {},
     "output_type": "execute_result"
    }
   ],
   "source": [
    "import datasets\n",
    "conll = datasets.load_dataset(\"conll2003\")\n",
    "CONLL_NER_TAGS = conll['train'].features['ner_tags'].feature.names\n",
    "print(CONLL_NER_TAGS)\n",
    "conll[\"test\"][2]"
   ]
  },
  {
   "cell_type": "code",
   "execution_count": 4,
   "metadata": {},
   "outputs": [
    {
     "data": {
      "text/plain": [
       "['LOC', 'MISC', 'ORG', 'PER']"
      ]
     },
     "execution_count": 4,
     "metadata": {},
     "output_type": "execute_result"
    }
   ],
   "source": [
    "sorted(list(set([tag.split('-')[-1] for tag in CONLL_NER_TAGS]) - set(['O'])))"
   ]
  },
  {
   "cell_type": "code",
   "execution_count": 5,
   "metadata": {},
   "outputs": [],
   "source": [
    "def preprocessing_dataset(dataset):\n",
    "    result = {'X': [], 'y_true': []}\n",
    "    for sample in dataset:\n",
    "        result['X'].append(' '.join(sample['tokens']))\n",
    "        result['y_true'].append([CONLL_NER_TAGS[tag] for tag in sample['ner_tags']])\n",
    "    return result"
   ]
  },
  {
   "cell_type": "code",
   "execution_count": 6,
   "metadata": {},
   "outputs": [],
   "source": [
    "from itertools import islice\n",
    "\n",
    "train_data = preprocessing_dataset(conll['train'])\n",
    "oos_data = preprocessing_dataset(conll['test'])"
   ]
  },
  {
   "cell_type": "code",
   "execution_count": 7,
   "metadata": {},
   "outputs": [],
   "source": [
    "import numpy as np\n",
    "import torch\n",
    "from tqdm import tqdm\n",
    "from transformers import (pipeline, \n",
    "        AutoModelForTokenClassification, AutoTokenizer, \n",
    "        BertForTokenClassification, BertTokenizer)\n",
    "\n",
    "\n",
    "class ModelWrapper():\n",
    "    def __init__(self, model, tokenizer, classes):\n",
    "        self.model = pipeline('ner', model=model, tokenizer=tokenizer, aggregation_strategy=None)\n",
    "        self.classes_ = classes\n",
    "\n",
    "    def _unite_entities(self, entities):\n",
    "        if len(entities) <= 1:\n",
    "            return entities\n",
    "\n",
    "        united_result = []\n",
    "        cur_entity = {key: entities[0][key] for key in ['entity', 'word', 'start', 'end']}\n",
    "        for entity in entities[1:]:\n",
    "            if entity['word'].startswith('##'):\n",
    "                cur_entity['word'] += entity['word'].lstrip('#')\n",
    "                cur_entity['end'] = entity['end']\n",
    "            else:\n",
    "                united_result.append(cur_entity)\n",
    "                cur_entity = {key: entity[key] for key in ['entity', 'word', 'start', 'end']}\n",
    "        united_result.append(cur_entity)\n",
    "        return united_result\n",
    "\n",
    "    def _convert_entities_to_bio(self, tokens, entities):\n",
    "        bio_tags = []\n",
    "        cur_entity_idx = 0\n",
    "        for token in tokens:\n",
    "            if (cur_entity_idx < len(entities))\\\n",
    "                    and (token == entities[cur_entity_idx]['word']):\n",
    "                bio_tags.append(entities[cur_entity_idx]['entity'])\n",
    "                cur_entity_idx += 1\n",
    "            else:\n",
    "                bio_tags.append('O')\n",
    "        return bio_tags\n",
    "\n",
    "    def _postprocessing(self, tokens, model_output):\n",
    "        entities = self._unite_entities(model_output)\n",
    "        bio_tags = self._convert_entities_to_bio(tokens, entities)\n",
    "        return bio_tags\n",
    "\n",
    "    def predict(self, X):\n",
    "        with torch.no_grad():\n",
    "            ner_entitites = self.model(X)\n",
    "            tags = []\n",
    "            for text, entities in tqdm(zip(X, ner_entitites)):\n",
    "                tags.append(self._postprocessing(text.split(), entities))\n",
    "            return tags\n",
    "\n",
    "\n",
    "# Load pretrained model and tokenizer for English NER task (dslim/bert-base-NER)\n",
    "model_name = \"dslim/bert-base-NER\"\n",
    "tokenizer = AutoTokenizer.from_pretrained(model_name)\n",
    "model = BertForTokenClassification.from_pretrained(model_name)\n",
    "wrapped_model = ModelWrapper(model, tokenizer, ['LOC', 'MISC', 'ORG', 'PER'])"
   ]
  },
  {
   "cell_type": "code",
   "execution_count": 8,
   "metadata": {},
   "outputs": [],
   "source": [
    "# train_data['y_pred'] = wrapped_model.predict(train_data['X'])\n",
    "# oos_data['y_pred'] = wrapped_model.predict(oos_data['X'])"
   ]
  },
  {
   "cell_type": "code",
   "execution_count": 9,
   "metadata": {},
   "outputs": [],
   "source": [
    "# import pickle\n",
    "\n",
    "# with open('./train_data.pkl', 'wb') as f:\n",
    "#     pickle.dump(train_data, f)\n",
    "# with open('./oos_data.pkl', 'wb') as f:\n",
    "#     pickle.dump(oos_data, f)"
   ]
  },
  {
   "cell_type": "code",
   "execution_count": 10,
   "metadata": {},
   "outputs": [],
   "source": [
    "import pickle\n",
    "\n",
    "with open('./train_data.pkl', 'rb') as f:\n",
    "    train_data = pickle.load(f)\n",
    "\n",
    "with open('./oos_data.pkl', 'rb') as f:\n",
    "    oos_data = pickle.load(f)"
   ]
  },
  {
   "cell_type": "code",
   "execution_count": 16,
   "metadata": {},
   "outputs": [
    {
     "data": {
      "text/plain": [
       "{'precision_score': {'LOC': 0.9363057324840764,\n",
       "  'MISC': 0.804920913884007,\n",
       "  'ORG': 0.8944262295081967,\n",
       "  'PER': 0.9319965126416739,\n",
       "  'micro': 0.9043806982432733,\n",
       "  'macro': 0.8919123471294885,\n",
       "  'weighted': 0.9064257739880867},\n",
       " 'f1_score': {'LOC': 0.8043775649794801,\n",
       "  'MISC': 0.7206923682140047,\n",
       "  'ORG': 0.8562460765850596,\n",
       "  'PER': 0.7735166425470332,\n",
       "  'micro': 0.8017742730409069,\n",
       "  'macro': 0.7887081630813945,\n",
       "  'weighted': 0.800394646791491},\n",
       " 'recall_score': {'LOC': 0.7050359712230215,\n",
       "  'MISC': 0.6524216524216524,\n",
       "  'ORG': 0.8211920529801324,\n",
       "  'PER': 0.6611008039579468,\n",
       "  'micro': 0.7200779036827195,\n",
       "  'macro': 0.7099376201456882,\n",
       "  'weighted': 0.7200779036827195},\n",
       " 'support': {'LOC': 1668,\n",
       "  'MISC': 702,\n",
       "  'ORG': 1661,\n",
       "  'PER': 1617,\n",
       "  'micro': 5648,\n",
       "  'macro': 5648,\n",
       "  'weighted': 5648}}"
      ]
     },
     "execution_count": 16,
     "metadata": {},
     "output_type": "execute_result"
    }
   ],
   "source": [
    "from sbe_vallib.sampler.supervised_sampler import SupervisedSampler\n",
    "from sbe_vallib.scorer.nlp_scorer import NerScorer\n",
    "from sbe_vallib.utils.metrics import NER_IOB_METRICS\n",
    "\n",
    "\n",
    "sampler = SupervisedSampler(train=train_data, oos=oos_data)\n",
    "\n",
    "\n",
    "scorer = NerScorer(metrics=NER_IOB_METRICS)\n",
    "scores = scorer.calc_metrics(model=wrapped_model, sampler=sampler, data_type='oos')\n",
    "scores"
   ]
  },
  {
   "cell_type": "code",
   "execution_count": 18,
   "metadata": {},
   "outputs": [
    {
     "name": "stderr",
     "output_type": "stream",
     "text": [
      "/Users/azatsultanov/Programming/vallib/repo/vallib/src/sbe_vallib/parser.py:64: FutureWarning: Passing a set as an indexer is deprecated and will raise in a future version. Use a list instead.\n",
      "  full_pipeline_df[set(code_columns) | set(\n"
     ]
    },
    {
     "name": "stdout",
     "output_type": "stream",
     "text": [
      "\tTrain/oos samples are too huge for independence test, calculating on 0.4287 fraction\n",
      "(7499, 85)\n"
     ]
    },
    {
     "name": "stderr",
     "output_type": "stream",
     "text": [
      "100%|██████████| 20/20 [00:02<00:00,  9.80it/s]\n"
     ]
    }
   ],
   "source": [
    "from sbe_vallib import Validation\n",
    "\n",
    "ner_validation = Validation(model=wrapped_model,\n",
    "                            scorer=scorer,\n",
    "                            sampler=sampler,\n",
    "                            pipeline='../../src/sbe_vallib/nlp/pipelines/Config_44.xlsx')\n",
    "res = ner_validation.validate()"
   ]
  },
  {
   "cell_type": "code",
   "execution_count": 28,
   "metadata": {},
   "outputs": [
    {
     "data": {
      "text/plain": [
       "dict_keys(['train_test_independence_test', 'test_key_metric', 'test_ner_metric'])"
      ]
     },
     "execution_count": 28,
     "metadata": {},
     "output_type": "execute_result"
    }
   ],
   "source": [
    "res.keys()"
   ]
  },
  {
   "cell_type": "code",
   "execution_count": null,
   "metadata": {},
   "outputs": [],
   "source": []
  }
 ],
 "metadata": {
  "kernelspec": {
   "display_name": "vallib_env",
   "language": "python",
   "name": "python3"
  },
  "language_info": {
   "codemirror_mode": {
    "name": "ipython",
    "version": 3
   },
   "file_extension": ".py",
   "mimetype": "text/x-python",
   "name": "python",
   "nbconvert_exporter": "python",
   "pygments_lexer": "ipython3",
   "version": "3.8.5"
  },
  "orig_nbformat": 4,
  "vscode": {
   "interpreter": {
    "hash": "d4cc85873d42337b9e9e8da282a699b0819447065cfa6c32ea38d6a740a63d56"
   }
  }
 },
 "nbformat": 4,
 "nbformat_minor": 2
}
