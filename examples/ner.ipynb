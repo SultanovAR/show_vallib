{
 "cells": [
  {
   "cell_type": "code",
   "execution_count": null,
   "metadata": {},
   "outputs": [],
   "source": [
    "%load_ext autoreload\n",
    "%autoreload 2"
   ]
  },
  {
   "attachments": {},
   "cell_type": "markdown",
   "metadata": {},
   "source": [
    "## Dataset"
   ]
  },
  {
   "cell_type": "code",
   "execution_count": null,
   "metadata": {},
   "outputs": [],
   "source": [
    "import datasets\n",
    "conll = datasets.load_dataset(\"conll2003\")\n",
    "CONLL_NER_TAGS = conll['train'].features['ner_tags'].feature.names\n",
    "print(CONLL_NER_TAGS)\n",
    "conll[\"test\"][2]"
   ]
  },
  {
   "cell_type": "code",
   "execution_count": null,
   "metadata": {},
   "outputs": [],
   "source": [
    "sorted(list(set([tag.split('-')[-1] for tag in CONLL_NER_TAGS]) - set(['O'])))"
   ]
  },
  {
   "cell_type": "code",
   "execution_count": null,
   "metadata": {},
   "outputs": [],
   "source": [
    "def preprocessing_dataset(dataset):\n",
    "    result = {'X': [], 'y_true': []}\n",
    "    for sample in dataset:\n",
    "        result['X'].append(' '.join(sample['tokens']))\n",
    "        result['y_true'].append([CONLL_NER_TAGS[tag] for tag in sample['ner_tags']])\n",
    "    return result"
   ]
  },
  {
   "cell_type": "code",
   "execution_count": null,
   "metadata": {},
   "outputs": [],
   "source": [
    "from itertools import islice\n",
    "\n",
    "train_data = preprocessing_dataset(conll['train'])\n",
    "oos_data = preprocessing_dataset(conll['test'])"
   ]
  },
  {
   "cell_type": "code",
   "execution_count": null,
   "metadata": {},
   "outputs": [],
   "source": [
    "import numpy as np\n",
    "import torch\n",
    "from tqdm import tqdm\n",
    "from transformers import (pipeline, \n",
    "        AutoModelForTokenClassification, AutoTokenizer, \n",
    "        BertForTokenClassification, BertTokenizer)\n",
    "\n",
    "\n",
    "class ModelWrapper():\n",
    "    def __init__(self, model, tokenizer, classes):\n",
    "        self.model = pipeline('ner', model=model, tokenizer=tokenizer, aggregation_strategy=None)\n",
    "        self.classes_ = classes\n",
    "\n",
    "    def _unite_entities(self, entities):\n",
    "        if len(entities) <= 1:\n",
    "            return entities\n",
    "\n",
    "        united_result = []\n",
    "        cur_entity = {key: entities[0][key] for key in ['entity', 'word', 'start', 'end']}\n",
    "        for entity in entities[1:]:\n",
    "            if entity['word'].startswith('##'):\n",
    "                cur_entity['word'] += entity['word'].lstrip('#')\n",
    "                cur_entity['end'] = entity['end']\n",
    "            else:\n",
    "                united_result.append(cur_entity)\n",
    "                cur_entity = {key: entity[key] for key in ['entity', 'word', 'start', 'end']}\n",
    "        united_result.append(cur_entity)\n",
    "        return united_result\n",
    "\n",
    "    def _convert_entities_to_bio(self, tokens, entities):\n",
    "        bio_tags = []\n",
    "        cur_entity_idx = 0\n",
    "        for token in tokens:\n",
    "            if (cur_entity_idx < len(entities))\\\n",
    "                    and (token == entities[cur_entity_idx]['word']):\n",
    "                bio_tags.append(entities[cur_entity_idx]['entity'])\n",
    "                cur_entity_idx += 1\n",
    "            else:\n",
    "                bio_tags.append('O')\n",
    "        return bio_tags\n",
    "\n",
    "    def _postprocessing(self, tokens, model_output):\n",
    "        entities = self._unite_entities(model_output)\n",
    "        bio_tags = self._convert_entities_to_bio(tokens, entities)\n",
    "        return bio_tags\n",
    "\n",
    "    def predict(self, X):\n",
    "        with torch.no_grad():\n",
    "            ner_entitites = self.model(X)\n",
    "            tags = []\n",
    "            for text, entities in tqdm(zip(X, ner_entitites)):\n",
    "                tags.append(self._postprocessing(text.split(), entities))\n",
    "            return tags\n",
    "\n",
    "\n",
    "# Load pretrained model and tokenizer for English NER task (dslim/bert-base-NER)\n",
    "model_name = \"dslim/bert-base-NER\"\n",
    "tokenizer = AutoTokenizer.from_pretrained(model_name)\n",
    "model = BertForTokenClassification.from_pretrained(model_name)\n",
    "wrapped_model = ModelWrapper(model, tokenizer, ['LOC', 'MISC', 'ORG', 'PER'])"
   ]
  },
  {
   "cell_type": "code",
   "execution_count": null,
   "metadata": {},
   "outputs": [],
   "source": [
    "train_data['y_pred'] = wrapped_model.predict(train_data['X'])\n",
    "oos_data['y_pred'] = wrapped_model.predict(oos_data['X'])"
   ]
  },
  {
   "cell_type": "code",
   "execution_count": null,
   "metadata": {},
   "outputs": [],
   "source": [
    "# import pickle\n",
    "\n",
    "# with open('./train_data.pkl', 'wb') as f:\n",
    "#     pickle.dump(train_data, f)\n",
    "# with open('./oos_data.pkl', 'wb') as f:\n",
    "#     pickle.dump(oos_data, f)"
   ]
  },
  {
   "cell_type": "code",
   "execution_count": null,
   "metadata": {},
   "outputs": [],
   "source": [
    "import pickle\n",
    "\n",
    "with open('./train_data.pkl', 'rb') as f:\n",
    "    train_data = pickle.load(f)\n",
    "\n",
    "with open('./oos_data.pkl', 'rb') as f:\n",
    "    oos_data = pickle.load(f)"
   ]
  },
  {
   "cell_type": "code",
   "execution_count": null,
   "metadata": {},
   "outputs": [],
   "source": [
    "from sbe_vallib.validation.sampler.ner_sampler import NerSampler\n",
    "from sbe_vallib.validation.scorer.ner_scorer import NerScorer\n",
    "from sbe_vallib.validation.utils.metrics import NER_IOB_METRICS\n",
    "\n",
    "\n",
    "sampler = NerSampler(train=train_data, oos=oos_data)\n",
    "\n",
    "\n",
    "scorer = NerScorer(metrics=NER_IOB_METRICS)\n",
    "scores = scorer.score(oos_data['y_true'], oos_data['y_pred'])\n",
    "scores"
   ]
  },
  {
   "cell_type": "code",
   "execution_count": null,
   "metadata": {},
   "outputs": [],
   "source": [
    "from sbe_vallib import Validation\n",
    "\n",
    "ner_validation = Validation(model = wrapped_model, scorer=scorer, sampler=sampler, pipeline='sbe_vallib/validation/nlp/pipelines/Config_45.xlsx')\n",
    "res = ner_validation.validate()"
   ]
  },
  {
   "cell_type": "code",
   "execution_count": null,
   "metadata": {},
   "outputs": [],
   "source": [
    "res.keys()"
   ]
  },
  {
   "cell_type": "code",
   "execution_count": null,
   "metadata": {},
   "outputs": [],
   "source": []
  }
 ],
 "metadata": {
  "kernelspec": {
   "display_name": "vallib_env",
   "language": "python",
   "name": "python3"
  },
  "language_info": {
   "codemirror_mode": {
    "name": "ipython",
    "version": 3
   },
   "file_extension": ".py",
   "mimetype": "text/x-python",
   "name": "python",
   "nbconvert_exporter": "python",
   "pygments_lexer": "ipython3",
   "version": "3.8.5"
  },
  "orig_nbformat": 4,
  "vscode": {
   "interpreter": {
    "hash": "d4cc85873d42337b9e9e8da282a699b0819447065cfa6c32ea38d6a740a63d56"
   }
  }
 },
 "nbformat": 4,
 "nbformat_minor": 2
}
