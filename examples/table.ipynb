{
 "cells": [
  {
   "cell_type": "code",
   "execution_count": 1,
   "metadata": {},
   "outputs": [],
   "source": [
    "%load_ext autoreload\n",
    "%autoreload 2"
   ]
  },
  {
   "cell_type": "code",
   "execution_count": 2,
   "metadata": {},
   "outputs": [],
   "source": [
    "from sbe_vallib import Validation, BinaryScorer, SupervisedSampler"
   ]
  },
  {
   "attachments": {},
   "cell_type": "markdown",
   "metadata": {},
   "source": [
    "## Dataset"
   ]
  },
  {
   "cell_type": "code",
   "execution_count": 3,
   "metadata": {},
   "outputs": [],
   "source": [
    "from sklearn.datasets import make_classification\n",
    "from sklearn.model_selection import train_test_split\n",
    "import pandas as pd\n",
    "import numpy as np\n",
    "\n",
    "X, y = make_classification(n_samples=120, n_classes=2,\n",
    "                               n_features=5, n_informative=3, n_redundant=0,\n",
    "                               random_state=0)\n",
    "\n",
    "X = pd.DataFrame(X)\n",
    "y = pd.Series(y)\n",
    "\n",
    "X_train, X_test,  y_train, y_test = train_test_split(X, y, test_size=0.1, stratify=y)\n",
    "X_train, X_val, y_train, y_val = train_test_split(X_train, y_train, test_size=0.3, stratify=y_train)\n"
   ]
  },
  {
   "cell_type": "code",
   "execution_count": 4,
   "metadata": {},
   "outputs": [
    {
     "data": {
      "text/plain": [
       "(75, 12, 33)"
      ]
     },
     "execution_count": 4,
     "metadata": {},
     "output_type": "execute_result"
    }
   ],
   "source": [
    "len(X_train), len(X_test), len(X_val)"
   ]
  },
  {
   "attachments": {},
   "cell_type": "markdown",
   "metadata": {},
   "source": [
    "## Model"
   ]
  },
  {
   "cell_type": "code",
   "execution_count": 5,
   "metadata": {},
   "outputs": [],
   "source": [
    "from sklearn.linear_model import LogisticRegression\n",
    "\n",
    "model = LogisticRegression().fit(X_train, y_train)"
   ]
  },
  {
   "attachments": {},
   "cell_type": "markdown",
   "metadata": {},
   "source": [
    "## Sampler Scorer"
   ]
  },
  {
   "cell_type": "code",
   "execution_count": 6,
   "metadata": {},
   "outputs": [],
   "source": [
    "from sbe_vallib import SupervisedSampler, BinaryScorer\n",
    "\n",
    "sampler = SupervisedSampler(train={'X': X_train, 'y_true': y_train, 'y_pred': model.predict_proba(X_train)},\n",
    "                            oos={'X': X_test, 'y_true': y_test, 'y_pred': model.predict_proba(X_test)},\n",
    "                            oot={'X': X_val, 'y_true': y_val, 'y_pred': model.predict_proba(X_val)})\n",
    "\n",
    "scorer = BinaryScorer()"
   ]
  },
  {
   "cell_type": "code",
   "execution_count": null,
   "metadata": {},
   "outputs": [],
   "source": []
  },
  {
   "cell_type": "code",
   "execution_count": 11,
   "metadata": {},
   "outputs": [
    {
     "name": "stderr",
     "output_type": "stream",
     "text": [
      "/Users/azatsultanov/Programming/vallib/vallib_env/lib/python3.8/site-packages/openpyxl/worksheet/_reader.py:329: UserWarning: Unknown extension is not supported and will be removed\n",
      "  warn(msg)\n",
      "/Users/azatsultanov/Programming/vallib/repo/vallib/src/sbe_vallib/parser.py:33: FutureWarning: Passing a set as an indexer is deprecated and will raise in a future version. Use a list instead.\n",
      "  full_pipeline_df[set(code_columns) | set(\n",
      "/Users/azatsultanov/Programming/vallib/vallib_env/lib/python3.8/site-packages/sklearn/metrics/_classification.py:1344: UndefinedMetricWarning: Precision is ill-defined and being set to 0.0 due to no predicted samples. Use `zero_division` parameter to control this behavior.\n",
      "  _warn_prf(average, modifier, msg_start, len(result))\n"
     ]
    },
    {
     "data": {
      "text/plain": [
       "dict_keys(['test_factor_psi', 'test_ci', 'test_key_metric', 'test_key_metric_stability', 'custom_1', 'custom_test_ci'])"
      ]
     },
     "execution_count": 11,
     "metadata": {},
     "output_type": "execute_result"
    }
   ],
   "source": [
    "from sbe_vallib.table.model_quality.test_ci import test_ci\n",
    "\n",
    "def custom_test(model, scorer, sampler, threshold = 1, **kwargs):\n",
    "    semaphore = 'green'\n",
    "    if len(sampler.train['X']) < threshold:\n",
    "        semaphore = 'red'\n",
    "    \n",
    "    df_table = pd.DataFrame({'len': [len(sampler.train['X'])],\n",
    "                             'semaphore': semaphore})\n",
    "    \n",
    "    return {\n",
    "        \"semaphore\": semaphore,\n",
    "        \"result_dict\": {'train_shape': sampler.train['X'].values.shape},\n",
    "        \"result_dataframes\": [df_table],\n",
    "        \"result_plots\": [],\n",
    "    }\n",
    "\n",
    "\n",
    "custom_tests = {\n",
    "    \"custom_1\": {\"block\": \"data_quality\", \"callable\": custom_test, \"params\": {\"threshold\": 5000}},\n",
    "    \"custom_test_ci\": {\"block\": \"model_quality\", \"callable\": test_ci, \"params\": {\"gen_method\": \"bootstrap\"}},\n",
    "}\n",
    "\n",
    "\n",
    "\n",
    "validor = Validation(model, sampler, scorer, custom_tests=custom_tests,\n",
    "                         pipeline='../src/sbe_vallib/table/pipelines/Config_31.xlsx')\n",
    "res = validor.validate()\n",
    "res.keys()"
   ]
  },
  {
   "cell_type": "code",
   "execution_count": null,
   "metadata": {},
   "outputs": [],
   "source": []
  }
 ],
 "metadata": {
  "kernelspec": {
   "display_name": "vallib_env",
   "language": "python",
   "name": "python3"
  },
  "language_info": {
   "codemirror_mode": {
    "name": "ipython",
    "version": 3
   },
   "file_extension": ".py",
   "mimetype": "text/x-python",
   "name": "python",
   "nbconvert_exporter": "python",
   "pygments_lexer": "ipython3",
   "version": "3.8.5"
  },
  "orig_nbformat": 4,
  "vscode": {
   "interpreter": {
    "hash": "d4cc85873d42337b9e9e8da282a699b0819447065cfa6c32ea38d6a740a63d56"
   }
  }
 },
 "nbformat": 4,
 "nbformat_minor": 2
}
