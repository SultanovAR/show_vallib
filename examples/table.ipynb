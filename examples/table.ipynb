{
 "cells": [
  {
   "cell_type": "code",
   "execution_count": 1,
   "metadata": {},
   "outputs": [],
   "source": [
    "%load_ext autoreload\n",
    "%autoreload 2"
   ]
  },
  {
   "cell_type": "code",
   "execution_count": 2,
   "metadata": {},
   "outputs": [],
   "source": [
    "from sbe_vallib import Validation, BinaryScorer, SupervisedSampler"
   ]
  },
  {
   "attachments": {},
   "cell_type": "markdown",
   "metadata": {},
   "source": [
    "## Dataset"
   ]
  },
  {
   "cell_type": "code",
   "execution_count": 3,
   "metadata": {},
   "outputs": [],
   "source": [
    "from sklearn.datasets import make_classification\n",
    "from sklearn.model_selection import train_test_split\n",
    "import pandas as pd\n",
    "import numpy as np\n",
    "\n",
    "X, y = make_classification(n_samples=1000, n_classes=2,\n",
    "                               n_features=5, n_informative=3, n_redundant=0,\n",
    "                               random_state=0)\n",
    "\n",
    "X = pd.DataFrame(X)\n",
    "y = pd.Series(y)\n",
    "\n",
    "X_train, X_test,  y_train, y_test = train_test_split(X, y, test_size=0.3, stratify=y)\n"
   ]
  },
  {
   "attachments": {},
   "cell_type": "markdown",
   "metadata": {},
   "source": [
    "## Model"
   ]
  },
  {
   "cell_type": "code",
   "execution_count": 4,
   "metadata": {},
   "outputs": [],
   "source": [
    "from sklearn.linear_model import LogisticRegression\n",
    "\n",
    "model = LogisticRegression().fit(X_train, y_train)"
   ]
  },
  {
   "attachments": {},
   "cell_type": "markdown",
   "metadata": {},
   "source": [
    "## Sampler Scorer"
   ]
  },
  {
   "cell_type": "code",
   "execution_count": 5,
   "metadata": {},
   "outputs": [],
   "source": [
    "from sbe_vallib import SupervisedSampler, BinaryScorer\n",
    "\n",
    "sampler = SupervisedSampler(train={'X': X_train, 'y_true': y_train, 'y_pred': model.predict_proba(X_train)},\n",
    "                        oos = {'X': X_test, 'y_true': y_test, 'y_pred': model.predict_proba(X_test)})\n",
    "\n",
    "scorer = BinaryScorer()"
   ]
  },
  {
   "cell_type": "code",
   "execution_count": 10,
   "metadata": {},
   "outputs": [
    {
     "name": "stderr",
     "output_type": "stream",
     "text": [
      "/Users/azatsultanov/Programming/vallib/vallib_env/lib/python3.8/site-packages/openpyxl/worksheet/_reader.py:329: UserWarning: Unknown extension is not supported and will be removed\n",
      "  warn(msg)\n"
     ]
    },
    {
     "data": {
      "text/plain": [
       "dict_keys(['test_factor_psi', 'test_ci', 'test_0_0', 'test_0_0_1'])"
      ]
     },
     "execution_count": 10,
     "metadata": {},
     "output_type": "execute_result"
    }
   ],
   "source": [
    "def custom_test(model, scorer, sampler, a = 10, **kwargs):\n",
    "    metrics = []\n",
    "    for i in range(a):\n",
    "        sampler.set_state(i)\n",
    "        train = sampler.train\n",
    "        oos = sampler.oos\n",
    "        model.fit(X=train[\"X\"], y=train[\"y_true\"])\n",
    "        y_pred = model.predict_proba(oos['X'])\n",
    "        metrics.append(scorer.calc_metrics(oos['y_true'], y_pred))\n",
    "    \n",
    "    return {\n",
    "        \"semaphore\": \"grey\",\n",
    "        \"result_dict\": {'mean_f1': np.mean([i['f1_score'] for i in metrics])},\n",
    "        \"result_dataframes\": [pd.DataFrame(metrics)],\n",
    "        \"result_plots\": [],\n",
    "    }\n",
    "\n",
    "\n",
    "custom_tests = {\n",
    "    \"test_0_0\": {\"block\": \"model_stability\", \"callable\": custom_test, \"params\": {}},\n",
    "    \"test_0_0_1\": {\n",
    "        \"block\": \"model_stability\",\n",
    "        \"callable\": custom_test,\n",
    "        \"params\": {\"a\": 100},\n",
    "    },\n",
    "}\n",
    "\n",
    "\n",
    "validor = Validation(model, sampler, scorer, custom_tests=custom_tests,\n",
    "                         pipeline='../src/sbe_vallib/table/pipelines/Config_31.xlsx')\n",
    "res = validor.validate()\n",
    "res.keys()"
   ]
  },
  {
   "cell_type": "code",
   "execution_count": 11,
   "metadata": {},
   "outputs": [
    {
     "data": {
      "text/html": [
       "<div>\n",
       "<style scoped>\n",
       "    .dataframe tbody tr th:only-of-type {\n",
       "        vertical-align: middle;\n",
       "    }\n",
       "\n",
       "    .dataframe tbody tr th {\n",
       "        vertical-align: top;\n",
       "    }\n",
       "\n",
       "    .dataframe thead th {\n",
       "        text-align: right;\n",
       "    }\n",
       "</style>\n",
       "<table border=\"1\" class=\"dataframe\">\n",
       "  <thead>\n",
       "    <tr style=\"text-align: right;\">\n",
       "      <th></th>\n",
       "      <th>accuracy_score</th>\n",
       "      <th>precision_score</th>\n",
       "      <th>recall_score</th>\n",
       "      <th>f1_score</th>\n",
       "      <th>gini</th>\n",
       "    </tr>\n",
       "  </thead>\n",
       "  <tbody>\n",
       "    <tr>\n",
       "      <th>0</th>\n",
       "      <td>0.713333</td>\n",
       "      <td>0.723684</td>\n",
       "      <td>0.714286</td>\n",
       "      <td>0.718954</td>\n",
       "      <td>0.594912</td>\n",
       "    </tr>\n",
       "    <tr>\n",
       "      <th>1</th>\n",
       "      <td>0.713333</td>\n",
       "      <td>0.709091</td>\n",
       "      <td>0.754839</td>\n",
       "      <td>0.731250</td>\n",
       "      <td>0.573838</td>\n",
       "    </tr>\n",
       "    <tr>\n",
       "      <th>2</th>\n",
       "      <td>0.766667</td>\n",
       "      <td>0.785714</td>\n",
       "      <td>0.733333</td>\n",
       "      <td>0.758621</td>\n",
       "      <td>0.669156</td>\n",
       "    </tr>\n",
       "    <tr>\n",
       "      <th>3</th>\n",
       "      <td>0.733333</td>\n",
       "      <td>0.742857</td>\n",
       "      <td>0.702703</td>\n",
       "      <td>0.722222</td>\n",
       "      <td>0.620377</td>\n",
       "    </tr>\n",
       "    <tr>\n",
       "      <th>4</th>\n",
       "      <td>0.713333</td>\n",
       "      <td>0.750000</td>\n",
       "      <td>0.713415</td>\n",
       "      <td>0.731250</td>\n",
       "      <td>0.552636</td>\n",
       "    </tr>\n",
       "    <tr>\n",
       "      <th>...</th>\n",
       "      <td>...</td>\n",
       "      <td>...</td>\n",
       "      <td>...</td>\n",
       "      <td>...</td>\n",
       "      <td>...</td>\n",
       "    </tr>\n",
       "    <tr>\n",
       "      <th>95</th>\n",
       "      <td>0.726667</td>\n",
       "      <td>0.729167</td>\n",
       "      <td>0.709459</td>\n",
       "      <td>0.719178</td>\n",
       "      <td>0.584015</td>\n",
       "    </tr>\n",
       "    <tr>\n",
       "      <th>96</th>\n",
       "      <td>0.723333</td>\n",
       "      <td>0.737179</td>\n",
       "      <td>0.732484</td>\n",
       "      <td>0.734824</td>\n",
       "      <td>0.613737</td>\n",
       "    </tr>\n",
       "    <tr>\n",
       "      <th>97</th>\n",
       "      <td>0.710000</td>\n",
       "      <td>0.693333</td>\n",
       "      <td>0.717241</td>\n",
       "      <td>0.705085</td>\n",
       "      <td>0.570990</td>\n",
       "    </tr>\n",
       "    <tr>\n",
       "      <th>98</th>\n",
       "      <td>0.676667</td>\n",
       "      <td>0.691729</td>\n",
       "      <td>0.621622</td>\n",
       "      <td>0.654804</td>\n",
       "      <td>0.480263</td>\n",
       "    </tr>\n",
       "    <tr>\n",
       "      <th>99</th>\n",
       "      <td>0.716667</td>\n",
       "      <td>0.733813</td>\n",
       "      <td>0.680000</td>\n",
       "      <td>0.705882</td>\n",
       "      <td>0.626133</td>\n",
       "    </tr>\n",
       "  </tbody>\n",
       "</table>\n",
       "<p>100 rows × 5 columns</p>\n",
       "</div>"
      ],
      "text/plain": [
       "    accuracy_score  precision_score  recall_score  f1_score      gini\n",
       "0         0.713333         0.723684      0.714286  0.718954  0.594912\n",
       "1         0.713333         0.709091      0.754839  0.731250  0.573838\n",
       "2         0.766667         0.785714      0.733333  0.758621  0.669156\n",
       "3         0.733333         0.742857      0.702703  0.722222  0.620377\n",
       "4         0.713333         0.750000      0.713415  0.731250  0.552636\n",
       "..             ...              ...           ...       ...       ...\n",
       "95        0.726667         0.729167      0.709459  0.719178  0.584015\n",
       "96        0.723333         0.737179      0.732484  0.734824  0.613737\n",
       "97        0.710000         0.693333      0.717241  0.705085  0.570990\n",
       "98        0.676667         0.691729      0.621622  0.654804  0.480263\n",
       "99        0.716667         0.733813      0.680000  0.705882  0.626133\n",
       "\n",
       "[100 rows x 5 columns]"
      ]
     },
     "execution_count": 11,
     "metadata": {},
     "output_type": "execute_result"
    }
   ],
   "source": [
    "res['test_0_0_1']['result_dataframes'][0]"
   ]
  }
 ],
 "metadata": {
  "kernelspec": {
   "display_name": "vallib_env",
   "language": "python",
   "name": "python3"
  },
  "language_info": {
   "codemirror_mode": {
    "name": "ipython",
    "version": 3
   },
   "file_extension": ".py",
   "mimetype": "text/x-python",
   "name": "python",
   "nbconvert_exporter": "python",
   "pygments_lexer": "ipython3",
   "version": "3.8.5"
  },
  "orig_nbformat": 4,
  "vscode": {
   "interpreter": {
    "hash": "d4cc85873d42337b9e9e8da282a699b0819447065cfa6c32ea38d6a740a63d56"
   }
  }
 },
 "nbformat": 4,
 "nbformat_minor": 2
}
