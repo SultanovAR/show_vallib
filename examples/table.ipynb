{
 "cells": [
  {
   "cell_type": "code",
   "execution_count": 1,
   "metadata": {},
   "outputs": [],
   "source": [
    "%load_ext autoreload\n",
    "%autoreload 2"
   ]
  },
  {
   "cell_type": "code",
   "execution_count": 2,
   "metadata": {},
   "outputs": [],
   "source": [
    "from sbe_vallib import Validation, BinaryScorer, SupervisedSampler"
   ]
  },
  {
   "attachments": {},
   "cell_type": "markdown",
   "metadata": {},
   "source": [
    "## Dataset"
   ]
  },
  {
   "cell_type": "code",
   "execution_count": 35,
   "metadata": {},
   "outputs": [],
   "source": [
    "from sklearn.datasets import make_classification\n",
    "from sklearn.model_selection import train_test_split\n",
    "import pandas as pd\n",
    "import numpy as np\n",
    "\n",
    "X, y = make_classification(n_samples=120, n_classes=2,\n",
    "                               n_features=5, n_informative=3, n_redundant=0,\n",
    "                               random_state=0)\n",
    "\n",
    "X = pd.DataFrame(X)\n",
    "y = pd.Series(y)\n",
    "\n",
    "X_train, X_test,  y_train, y_test = train_test_split(X, y, test_size=0.1, stratify=y)\n",
    "X_train, X_val, y_train, y_val = train_test_split(X_train, y_train, test_size=0.3, stratify=y_train)\n"
   ]
  },
  {
   "cell_type": "code",
   "execution_count": 36,
   "metadata": {},
   "outputs": [
    {
     "data": {
      "text/plain": [
       "(75, 12, 33)"
      ]
     },
     "execution_count": 36,
     "metadata": {},
     "output_type": "execute_result"
    }
   ],
   "source": [
    "len(X_train), len(X_test), len(X_val)"
   ]
  },
  {
   "attachments": {},
   "cell_type": "markdown",
   "metadata": {},
   "source": [
    "## Model"
   ]
  },
  {
   "cell_type": "code",
   "execution_count": 37,
   "metadata": {},
   "outputs": [],
   "source": [
    "from sklearn.linear_model import LogisticRegression\n",
    "\n",
    "model = LogisticRegression().fit(X_train, y_train)"
   ]
  },
  {
   "attachments": {},
   "cell_type": "markdown",
   "metadata": {},
   "source": [
    "## Sampler Scorer"
   ]
  },
  {
   "cell_type": "code",
   "execution_count": 38,
   "metadata": {},
   "outputs": [],
   "source": [
    "from sbe_vallib import SupervisedSampler, BinaryScorer\n",
    "\n",
    "sampler = SupervisedSampler(train={'X': X_train, 'y_true': y_train, 'y_pred': model.predict_proba(X_train)},\n",
    "                            oos={'X': X_test, 'y_true': y_test, 'y_pred': model.predict_proba(X_test)},\n",
    "                            oot={'X': X_val, 'y_true': y_val, 'y_pred': model.predict_proba(X_val)})\n",
    "\n",
    "scorer = BinaryScorer()"
   ]
  },
  {
   "cell_type": "code",
   "execution_count": 50,
   "metadata": {},
   "outputs": [
    {
     "name": "stderr",
     "output_type": "stream",
     "text": [
      "/Users/azatsultanov/Programming/vallib/vallib_env/lib/python3.8/site-packages/openpyxl/worksheet/_reader.py:329: UserWarning: Unknown extension is not supported and will be removed\n",
      "  warn(msg)\n"
     ]
    },
    {
     "ename": "TypeError",
     "evalue": "Cannot index by location index with a non-integer key",
     "output_type": "error",
     "traceback": [
      "\u001b[0;31m---------------------------------------------------------------------------\u001b[0m",
      "\u001b[0;31mTypeError\u001b[0m                                 Traceback (most recent call last)",
      "Cell \u001b[0;32mIn[50], line 28\u001b[0m\n\u001b[1;32m     19\u001b[0m custom_tests \u001b[39m=\u001b[39m {\n\u001b[1;32m     20\u001b[0m     \u001b[39m\"\u001b[39m\u001b[39mcustom_1\u001b[39m\u001b[39m\"\u001b[39m: {\u001b[39m\"\u001b[39m\u001b[39mblock\u001b[39m\u001b[39m\"\u001b[39m: \u001b[39m\"\u001b[39m\u001b[39mdata_quality\u001b[39m\u001b[39m\"\u001b[39m, \u001b[39m\"\u001b[39m\u001b[39mcallable\u001b[39m\u001b[39m\"\u001b[39m: custom_test, \u001b[39m\"\u001b[39m\u001b[39mparams\u001b[39m\u001b[39m\"\u001b[39m: {\u001b[39m\"\u001b[39m\u001b[39mthreshold\u001b[39m\u001b[39m\"\u001b[39m: \u001b[39m5000\u001b[39m}},\n\u001b[1;32m     21\u001b[0m     \u001b[39m\"\u001b[39m\u001b[39mcustom_test_ci\u001b[39m\u001b[39m\"\u001b[39m: {\u001b[39m\"\u001b[39m\u001b[39mblock\u001b[39m\u001b[39m\"\u001b[39m: \u001b[39m\"\u001b[39m\u001b[39mmodel_quality\u001b[39m\u001b[39m\"\u001b[39m, \u001b[39m\"\u001b[39m\u001b[39mcallable\u001b[39m\u001b[39m\"\u001b[39m: test_ci, \u001b[39m\"\u001b[39m\u001b[39mparams\u001b[39m\u001b[39m\"\u001b[39m: {\u001b[39m\"\u001b[39m\u001b[39mgen_method\u001b[39m\u001b[39m\"\u001b[39m: \u001b[39m\"\u001b[39m\u001b[39mbootstrap\u001b[39m\u001b[39m\"\u001b[39m}},\n\u001b[1;32m     22\u001b[0m }\n\u001b[1;32m     26\u001b[0m validor \u001b[39m=\u001b[39m Validation(model, sampler, scorer, custom_tests\u001b[39m=\u001b[39mcustom_tests,\n\u001b[1;32m     27\u001b[0m                          pipeline\u001b[39m=\u001b[39m\u001b[39m'\u001b[39m\u001b[39m../src/sbe_vallib/table/pipelines/Config_31.xlsx\u001b[39m\u001b[39m'\u001b[39m)\n\u001b[0;32m---> 28\u001b[0m res \u001b[39m=\u001b[39m validor\u001b[39m.\u001b[39;49mvalidate()\n\u001b[1;32m     29\u001b[0m res\u001b[39m.\u001b[39mkeys()\n",
      "File \u001b[0;32m~/Programming/vallib/repo/vallib/src/sbe_vallib/validation.py:68\u001b[0m, in \u001b[0;36mValidation.validate\u001b[0;34m(self)\u001b[0m\n\u001b[1;32m     65\u001b[0m         test_function \u001b[39m=\u001b[39m \u001b[39mself\u001b[39m\u001b[39m.\u001b[39mpipeline[\u001b[39m\"\u001b[39m\u001b[39mtests\u001b[39m\u001b[39m\"\u001b[39m][test_name][\u001b[39m\"\u001b[39m\u001b[39mcallable\u001b[39m\u001b[39m\"\u001b[39m]\n\u001b[1;32m     66\u001b[0m     test_params \u001b[39m=\u001b[39m \u001b[39mself\u001b[39m\u001b[39m.\u001b[39mpipeline[\u001b[39m\"\u001b[39m\u001b[39mtests\u001b[39m\u001b[39m\"\u001b[39m][test_name]\u001b[39m.\u001b[39mget(\n\u001b[1;32m     67\u001b[0m         \u001b[39m\"\u001b[39m\u001b[39mparams\u001b[39m\u001b[39m\"\u001b[39m, {})\n\u001b[0;32m---> 68\u001b[0m     tests_result[test_name] \u001b[39m=\u001b[39m test_function(\n\u001b[1;32m     69\u001b[0m         model\u001b[39m=\u001b[39;49m\u001b[39mself\u001b[39;49m\u001b[39m.\u001b[39;49mmodel,\n\u001b[1;32m     70\u001b[0m         sampler\u001b[39m=\u001b[39;49m\u001b[39mself\u001b[39;49m\u001b[39m.\u001b[39;49msampler,\n\u001b[1;32m     71\u001b[0m         scorer\u001b[39m=\u001b[39;49m\u001b[39mself\u001b[39;49m\u001b[39m.\u001b[39;49mscorer,\n\u001b[1;32m     72\u001b[0m         precomputed\u001b[39m=\u001b[39;49mprecomputed,\n\u001b[1;32m     73\u001b[0m         \u001b[39m*\u001b[39;49m\u001b[39m*\u001b[39;49mtest_params\n\u001b[1;32m     74\u001b[0m     )\n\u001b[1;32m     76\u001b[0m result_of_validation \u001b[39m=\u001b[39m \u001b[39mself\u001b[39m\u001b[39m.\u001b[39maggregate_results(tests_result)\n\u001b[1;32m     77\u001b[0m \u001b[39mreturn\u001b[39;00m result_of_validation\n",
      "File \u001b[0;32m~/Programming/vallib/repo/vallib/src/sbe_vallib/table/model_quality/test_ci.py:133\u001b[0m, in \u001b[0;36mtest_ci\u001b[0;34m(model, sampler, scorer, metric_name, n_iter, gen_method, quantile, **kwargs)\u001b[0m\n\u001b[1;32m    130\u001b[0m sampler\u001b[39m.\u001b[39mset_state(seed\u001b[39m=\u001b[39mi, gen_method\u001b[39m=\u001b[39mgen_method, stratify\u001b[39m=\u001b[39m\u001b[39mTrue\u001b[39;00m)\n\u001b[1;32m    131\u001b[0m \u001b[39mif\u001b[39;00m sampler\u001b[39m.\u001b[39m_gen_method \u001b[39m==\u001b[39m \u001b[39m'\u001b[39m\u001b[39mbootstrap\u001b[39m\u001b[39m'\u001b[39m:\n\u001b[1;32m    132\u001b[0m     train_metrics \u001b[39m=\u001b[39m scorer\u001b[39m.\u001b[39mcalc_metrics(\n\u001b[0;32m--> 133\u001b[0m         y_true\u001b[39m=\u001b[39msampler\u001b[39m.\u001b[39;49mtrain[\u001b[39m'\u001b[39m\u001b[39my_true\u001b[39m\u001b[39m'\u001b[39m], y_proba\u001b[39m=\u001b[39msampler\u001b[39m.\u001b[39mtrain[\u001b[39m'\u001b[39m\u001b[39my_pred\u001b[39m\u001b[39m'\u001b[39m])\n\u001b[1;32m    134\u001b[0m     oos_metrics \u001b[39m=\u001b[39m scorer\u001b[39m.\u001b[39mcalc_metrics(\n\u001b[1;32m    135\u001b[0m         y_true\u001b[39m=\u001b[39msampler\u001b[39m.\u001b[39moos[\u001b[39m'\u001b[39m\u001b[39my_true\u001b[39m\u001b[39m'\u001b[39m], y_proba\u001b[39m=\u001b[39msampler\u001b[39m.\u001b[39moos[\u001b[39m'\u001b[39m\u001b[39my_pred\u001b[39m\u001b[39m'\u001b[39m])\n\u001b[1;32m    136\u001b[0m \u001b[39melse\u001b[39;00m:\n",
      "File \u001b[0;32m~/Programming/vallib/repo/vallib/src/sbe_vallib/sampler/supervised_sampler.py:89\u001b[0m, in \u001b[0;36mSupervisedSampler.train\u001b[0;34m(self)\u001b[0m\n\u001b[1;32m     87\u001b[0m \u001b[39m@property\u001b[39m\n\u001b[1;32m     88\u001b[0m \u001b[39mdef\u001b[39;00m \u001b[39mtrain\u001b[39m(\u001b[39mself\u001b[39m):\n\u001b[0;32m---> 89\u001b[0m     \u001b[39mreturn\u001b[39;00m \u001b[39mself\u001b[39;49m\u001b[39m.\u001b[39;49m_get_data_by_gen_method(\u001b[39mself\u001b[39;49m\u001b[39m.\u001b[39;49msource_train, \u001b[39mself\u001b[39;49m\u001b[39m.\u001b[39;49mindex[\u001b[39m'\u001b[39;49m\u001b[39mtrain\u001b[39;49m\u001b[39m'\u001b[39;49m])\n",
      "File \u001b[0;32m~/Programming/vallib/repo/vallib/src/sbe_vallib/sampler/supervised_sampler.py:79\u001b[0m, in \u001b[0;36mSupervisedSampler._get_data_by_gen_method\u001b[0;34m(self, data, indexes)\u001b[0m\n\u001b[1;32m     77\u001b[0m \u001b[39mif\u001b[39;00m (\u001b[39mself\u001b[39m\u001b[39m.\u001b[39m_gen_method \u001b[39m==\u001b[39m \u001b[39m'\u001b[39m\u001b[39mbootstrap\u001b[39m\u001b[39m'\u001b[39m):\n\u001b[1;32m     78\u001b[0m     \u001b[39mfor\u001b[39;00m key \u001b[39min\u001b[39;00m data:\n\u001b[0;32m---> 79\u001b[0m         result[key] \u001b[39m=\u001b[39m get_index(data[key], indexes)\n\u001b[1;32m     80\u001b[0m \u001b[39melif\u001b[39;00m (\u001b[39mself\u001b[39m\u001b[39m.\u001b[39m_gen_method \u001b[39m==\u001b[39m \u001b[39m'\u001b[39m\u001b[39mresampling\u001b[39m\u001b[39m'\u001b[39m):\n\u001b[1;32m     81\u001b[0m     \u001b[39mfor\u001b[39;00m key \u001b[39min\u001b[39;00m \u001b[39mself\u001b[39m\u001b[39m.\u001b[39msource_train:\n",
      "File \u001b[0;32m~/Programming/vallib/repo/vallib/src/sbe_vallib/utils/pd_np_interface.py:24\u001b[0m, in \u001b[0;36mget_index\u001b[0;34m(data, index)\u001b[0m\n\u001b[1;32m     22\u001b[0m \u001b[39m\u001b[39m\u001b[39m\"\"\"A function to deal with pd.DataFrame and np.array in the same manner\"\"\"\u001b[39;00m\n\u001b[1;32m     23\u001b[0m \u001b[39mif\u001b[39;00m is_pandas(data):\n\u001b[0;32m---> 24\u001b[0m     \u001b[39mreturn\u001b[39;00m data\u001b[39m.\u001b[39;49miloc[index]\n\u001b[1;32m     25\u001b[0m \u001b[39melif\u001b[39;00m \u001b[39misinstance\u001b[39m(data, \u001b[39mlist\u001b[39m):\n\u001b[1;32m     26\u001b[0m     \u001b[39mreturn\u001b[39;00m [data[i] \u001b[39mfor\u001b[39;00m i \u001b[39min\u001b[39;00m index]\n",
      "File \u001b[0;32m~/Programming/vallib/vallib_env/lib/python3.8/site-packages/pandas/core/indexing.py:1073\u001b[0m, in \u001b[0;36m_LocationIndexer.__getitem__\u001b[0;34m(self, key)\u001b[0m\n\u001b[1;32m   1070\u001b[0m axis \u001b[39m=\u001b[39m \u001b[39mself\u001b[39m\u001b[39m.\u001b[39maxis \u001b[39mor\u001b[39;00m \u001b[39m0\u001b[39m\n\u001b[1;32m   1072\u001b[0m maybe_callable \u001b[39m=\u001b[39m com\u001b[39m.\u001b[39mapply_if_callable(key, \u001b[39mself\u001b[39m\u001b[39m.\u001b[39mobj)\n\u001b[0;32m-> 1073\u001b[0m \u001b[39mreturn\u001b[39;00m \u001b[39mself\u001b[39;49m\u001b[39m.\u001b[39;49m_getitem_axis(maybe_callable, axis\u001b[39m=\u001b[39;49maxis)\n",
      "File \u001b[0;32m~/Programming/vallib/vallib_env/lib/python3.8/site-packages/pandas/core/indexing.py:1622\u001b[0m, in \u001b[0;36m_iLocIndexer._getitem_axis\u001b[0;34m(self, key, axis)\u001b[0m\n\u001b[1;32m   1620\u001b[0m key \u001b[39m=\u001b[39m item_from_zerodim(key)\n\u001b[1;32m   1621\u001b[0m \u001b[39mif\u001b[39;00m \u001b[39mnot\u001b[39;00m is_integer(key):\n\u001b[0;32m-> 1622\u001b[0m     \u001b[39mraise\u001b[39;00m \u001b[39mTypeError\u001b[39;00m(\u001b[39m\"\u001b[39m\u001b[39mCannot index by location index with a non-integer key\u001b[39m\u001b[39m\"\u001b[39m)\n\u001b[1;32m   1624\u001b[0m \u001b[39m# validate the location\u001b[39;00m\n\u001b[1;32m   1625\u001b[0m \u001b[39mself\u001b[39m\u001b[39m.\u001b[39m_validate_integer(key, axis)\n",
      "\u001b[0;31mTypeError\u001b[0m: Cannot index by location index with a non-integer key"
     ]
    }
   ],
   "source": [
    "from sbe_vallib.table.model_quality.test_ci import test_ci\n",
    "\n",
    "def custom_test(model, scorer, sampler, threshold = 1, **kwargs):\n",
    "    semaphore = 'green'\n",
    "    if len(sampler.train['X']) < threshold:\n",
    "        semaphore = 'red'\n",
    "    \n",
    "    df_table = pd.DataFrame({'len': [len(sampler.train['X'])],\n",
    "                             'semaphore': semaphore})\n",
    "    \n",
    "    return {\n",
    "        \"semaphore\": semaphore,\n",
    "        \"result_dict\": {'train_shape':sampler.train['X'].values.shape},\n",
    "        \"result_dataframes\": [df_table],\n",
    "        \"result_plots\": [],\n",
    "    }\n",
    "\n",
    "\n",
    "custom_tests = {\n",
    "    \"custom_1\": {\"block\": \"data_quality\", \"callable\": custom_test, \"params\": {\"threshold\": 5000}},\n",
    "    \"custom_test_ci\": {\"block\": \"model_quality\", \"callable\": test_ci, \"params\": {\"gen_method\": \"bootstrap\"}},\n",
    "}\n",
    "\n",
    "\n",
    "\n",
    "validor = Validation(model, sampler, scorer, custom_tests=custom_tests,\n",
    "                         pipeline='../src/sbe_vallib/table/pipelines/Config_31.xlsx')\n",
    "res = validor.validate()\n",
    "res.keys()"
   ]
  },
  {
   "cell_type": "code",
   "execution_count": 49,
   "metadata": {},
   "outputs": [
    {
     "data": {
      "image/png": "[encoded data removed]",
      "text/plain": [
       "<PIL.Image.Image image mode=RGB size=1500x500>"
      ]
     },
     "execution_count": 49,
     "metadata": {},
     "output_type": "execute_result"
    }
   ],
   "source": [
    "res['test_ci']['result_plots'][0]"
   ]
  },
  {
   "cell_type": "code",
   "execution_count": null,
   "metadata": {},
   "outputs": [],
   "source": []
  }
 ],
 "metadata": {
  "kernelspec": {
   "display_name": "vallib_env",
   "language": "python",
   "name": "python3"
  },
  "language_info": {
   "codemirror_mode": {
    "name": "ipython",
    "version": 3
   },
   "file_extension": ".py",
   "mimetype": "text/x-python",
   "name": "python",
   "nbconvert_exporter": "python",
   "pygments_lexer": "ipython3",
   "version": "3.8.5"
  },
  "orig_nbformat": 4,
  "vscode": {
   "interpreter": {
    "hash": "d4cc85873d42337b9e9e8da282a699b0819447065cfa6c32ea38d6a740a63d56"
   }
  }
 },
 "nbformat": 4,
 "nbformat_minor": 2
}
