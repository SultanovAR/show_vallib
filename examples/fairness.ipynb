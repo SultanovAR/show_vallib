{
 "cells": [
  {
   "cell_type": "markdown",
   "metadata": {},
   "source": [
    "# Подготовка инструментов"
   ]
  },
  {
   "cell_type": "markdown",
   "metadata": {},
   "source": [
    "Импорт необходимых инструментов"
   ]
  },
  {
   "cell_type": "code",
   "execution_count": 1,
   "metadata": {},
   "outputs": [],
   "source": [
    "%load_ext autoreload\n",
    "%autoreload 2"
   ]
  },
  {
   "cell_type": "markdown",
   "metadata": {},
   "source": [
    "Создадим перцептрон со случаными весами для имитации сложной функции"
   ]
  },
  {
   "cell_type": "code",
   "execution_count": 2,
   "metadata": {},
   "outputs": [],
   "source": [
    "import numpy as np\n",
    "import pandas as pd\n",
    "\n",
    "relu = np.vectorize(lambda x: x if x>0 else 0.)\n",
    "sigm = lambda x: 1./(1+np.exp(-x))\n",
    "\n",
    "vec_sizes = [45, 45, 45, 20, 15, 1]\n",
    "\n",
    "def perceptron(xx, vec_sizes):\n",
    "    \n",
    "    xx_ext = xx\n",
    "    generator = np.random.RandomState(43)\n",
    "    \n",
    "    for i, new_size in enumerate(vec_sizes):\n",
    "        xx_ext = np.hstack([np.ones((xx_ext.shape[0], 1)), xx_ext])\n",
    "        \n",
    "        weights = generator.normal(0., 1, size=(xx_ext.shape[1], new_size))\n",
    "        \n",
    "        xx_ext = relu(xx_ext.dot(weights))\n",
    "        \n",
    "    return np.floor(xx_ext.reshape((-1,)))"
   ]
  },
  {
   "cell_type": "markdown",
   "metadata": {},
   "source": [
    "# Генерация данных, построение модели"
   ]
  },
  {
   "cell_type": "markdown",
   "metadata": {},
   "source": [
    "Сгенерируем нормально распределенные фичи и с помощью случайного \n",
    "перцептрона сымитируем зависимость целевой переменной. Сгенерированный \n",
    "датафрейм состоит из признаков, которые вошли в итоговую модель.\n",
    "\n",
    "Предположим, что факторы feat_3, feat_8, feat_13, feat_27\n",
    "являются защищенными характеристиками"
   ]
  },
  {
   "cell_type": "code",
   "execution_count": 3,
   "metadata": {
    "ExecuteTime": {
     "end_time": "2022-08-08T14:04:20.992857Z",
     "start_time": "2022-08-08T14:04:12.243711Z"
    },
    "tags": []
   },
   "outputs": [],
   "source": [
    "# Генератор \n",
    "gen = np.random.RandomState(42)\n",
    "\n",
    "\n",
    "# Генерация признаков\n",
    "X = pd.DataFrame(data=gen.normal(50., 100., size=(30000, 30)),\n",
    "                 columns=[f'feat_{i}' for i in range(30)],\n",
    "                 index=[i for i in range(30000)])\n",
    "\n",
    "\n",
    "# Имитация зависимости\n",
    "y = pd.Series(data=1*(perceptron(X.values, [60, 32, 12, 5, 1])>0),\n",
    "              index=[i for i in range(30000)],\n",
    "              name='target'\n",
    "             )\n",
    "\n",
    "# Защищенные характеристики \n",
    "fair_factors = ['feat_3', 'feat_8', 'feat_13', 'feat_27']\n",
    "\n",
    "# Остальные признаки\n",
    "no_fair_factors = list(set(X.columns) - set(fair_factors))"
   ]
  },
  {
   "cell_type": "markdown",
   "metadata": {},
   "source": [
    "Сгенеруем защищенные характеристики и \"руками\" внесем дискриминацию.\n",
    "С помощью другого случайного перцептрона сымитируем зависимость \n",
    "одного защищенного фактора от признаков, не являющихся защищенными характеристиками"
   ]
  },
  {
   "cell_type": "code",
   "execution_count": 4,
   "metadata": {},
   "outputs": [
    {
     "name": "stderr",
     "output_type": "stream",
     "text": [
      "/var/folders/th/9030k3h14s3ffm4831c1n0mm0000gn/T/ipykernel_3175/739543630.py:5: SettingWithCopyWarning: \n",
      "A value is trying to be set on a copy of a slice from a DataFrame\n",
      "\n",
      "See the caveats in the documentation: https://pandas.pydata.org/pandas-docs/stable/user_guide/indexing.html#returning-a-view-versus-a-copy\n",
      "  X['feat_3'][y>0]=gen.randint(30, 41, size=(len(X['feat_3'][y>0]),))\n",
      "/var/folders/th/9030k3h14s3ffm4831c1n0mm0000gn/T/ipykernel_3175/739543630.py:11: SettingWithCopyWarning: \n",
      "A value is trying to be set on a copy of a slice from a DataFrame\n",
      "\n",
      "See the caveats in the documentation: https://pandas.pydata.org/pandas-docs/stable/user_guide/indexing.html#returning-a-view-versus-a-copy\n",
      "  X['feat_8'][y>0]=gen.choice([0, 1], size=(len(X['feat_8'][y>0]),), p=[0.1, 0.9])\n"
     ]
    }
   ],
   "source": [
    "# Генерация\n",
    "X['feat_3'] = gen.randint(18, 40, size=(30000,))\n",
    "\n",
    "# Внесение \"руками\" дискриминации\n",
    "X['feat_3'][y>0]=gen.randint(30, 41, size=(len(X['feat_3'][y>0]),))\n",
    "\n",
    "# Генерация\n",
    "X['feat_8'] = gen.choice([0, 1], size=(30000,), p=[0.4, 0.6])\n",
    "\n",
    "# Внесение \"руками\" дискриминации\n",
    "X['feat_8'][y>0]=gen.choice([0, 1], size=(len(X['feat_8'][y>0]),), p=[0.1, 0.9])\n",
    "\n",
    "# Генерация\n",
    "X['feat_13'] = gen.uniform(0, 10, size=(30000,))\n",
    "\n",
    "# Имитация зависимости \n",
    "X['feat_27'] = perceptron(X[no_fair_factors].values, vec_sizes)\n"
   ]
  },
  {
   "attachments": {},
   "cell_type": "markdown",
   "metadata": {},
   "source": [
    "Разобьем данные и закинем их в sampler, также создадим scorer(он необходим для любой валидации, но имеено в тестах по fairness он не используется, поэтому выберем самый обычный)"
   ]
  },
  {
   "cell_type": "code",
   "execution_count": 5,
   "metadata": {},
   "outputs": [],
   "source": [
    "from sklearn.model_selection import train_test_split\n",
    "from sbe_vallib.sampler.supervised_sampler import SupervisedSampler\n",
    "from sbe_vallib.scorer.table_scorer import BinaryScorer\n",
    "\n",
    "X_train, X_oos, y_train, y_oos = train_test_split(X, y, \n",
    "                                                  test_size=0.1, \n",
    "                                                  random_state=42,\n",
    "                                                  stratify=y)\n",
    "sampler = SupervisedSampler(train={'X': X_train, 'y_true': y_train}, oos={'X': X_oos, 'y_true': y_oos})\n",
    "scorer = BinaryScorer()"
   ]
  },
  {
   "attachments": {},
   "cell_type": "markdown",
   "metadata": {},
   "source": [
    "Построим итоговую модель, она должны быть в sklearn-like формате, то есть реализовать методы predict_proba, fit, predict И АТРИБУТ classes_"
   ]
  },
  {
   "cell_type": "code",
   "execution_count": 6,
   "metadata": {},
   "outputs": [
    {
     "data": {
      "text/plain": [
       "0.8493994304482411"
      ]
     },
     "execution_count": 6,
     "metadata": {},
     "output_type": "execute_result"
    }
   ],
   "source": [
    "from sklearn.ensemble import RandomForestClassifier\n",
    "from sklearn.metrics import roc_auc_score\n",
    "\n",
    "model = RandomForestClassifier()\n",
    "model.fit(sampler.train['X'], sampler.train['y_true'])\n",
    "-1 + 2 * roc_auc_score(sampler.oos['y_true'], model.predict_proba(sampler.oos['X'])[:, 1])"
   ]
  },
  {
   "cell_type": "markdown",
   "metadata": {},
   "source": [
    "# Пайплайн fairness"
   ]
  },
  {
   "cell_type": "markdown",
   "metadata": {},
   "source": [
    "Создадим object validation и передадим в него конфиг для fairness анализа"
   ]
  },
  {
   "cell_type": "code",
   "execution_count": 7,
   "metadata": {},
   "outputs": [],
   "source": [
    "from sbe_vallib.validation import Validation"
   ]
  },
  {
   "cell_type": "code",
   "execution_count": 8,
   "metadata": {},
   "outputs": [],
   "source": [
    "# Первый способ, это передать, просто путь до конфига, но тогда придется, для каждого теста прописать значения для параметра protected_feats\n",
    "# Не думаю, что это удобно\n",
    "val = Validation(model=model,\n",
    "                 sampler=sampler,\n",
    "                 scorer=scorer,\n",
    "                 pipeline='../src/sbe_vallib/table/pipelines/fairness_config.xlsx')"
   ]
  },
  {
   "cell_type": "code",
   "execution_count": 9,
   "metadata": {},
   "outputs": [
    {
     "data": {
      "text/plain": [
       "{'conf_lvl': 0.95,\n",
       " 'n_bootstrap': 200,\n",
       " 'random_seed': 1,\n",
       " 'protected_feats': ['feat_3', 'feat_8', 'feat_13', 'feat_27']}"
      ]
     },
     "execution_count": 9,
     "metadata": {},
     "output_type": "execute_result"
    }
   ],
   "source": [
    "# второй способ это считать config.xlxs из файла и затем дополнить получившийся json тем, что нам надо\n",
    "\n",
    "val = Validation(model=model,\n",
    "                 sampler=sampler,\n",
    "                 scorer=scorer,\n",
    "                 pipeline='../src/sbe_vallib/table/pipelines/fairness_config.xlsx')\n",
    "\n",
    "for test_key in val.pipeline['tests_desc']:\n",
    "    val.pipeline['tests_desc'][test_key]['params'].update({'protected_feats': fair_factors})\n",
    "val.pipeline['tests_desc']['test_indirect_discr']['params']"
   ]
  },
  {
   "cell_type": "code",
   "execution_count": 10,
   "metadata": {},
   "outputs": [
    {
     "name": "stdout",
     "output_type": "stream",
     "text": [
      "fair_facotrs: ['feat_3', 'feat_8', 'feat_13', 'feat_27']\n"
     ]
    }
   ],
   "source": [
    "#третий наиболее удобный это воспользоваться агрументом валидации tests_params. этот словарь будет передаваться в каждый тест с наивысшим приоритетом.\n",
    "# перед этим конфиг считается, поэтому абсолютно все параметры передавать не надо.\n",
    "\n",
    "val = Validation(model=model,\n",
    "                 sampler=sampler,\n",
    "                 scorer=scorer,\n",
    "                 pipeline='../src/sbe_vallib/table/pipelines/fairness_config.xlsx',\n",
    "                 tests_params={'protected_feats': fair_factors, 'min_freq_pos': 0.00, 'min_freq_value': 0.03, 'cat_features': None},\n",
    "                 exclude_tests=[],\n",
    "                 store_path='./fairness_results')\n",
    "print(f'fair_facotrs: {fair_factors}')"
   ]
  },
  {
   "cell_type": "code",
   "execution_count": 11,
   "metadata": {},
   "outputs": [
    {
     "name": "stdout",
     "output_type": "stream",
     "text": [
      "Test: test_indirect_discr started\n",
      "Test: test_target_rate_delta started\n",
      "Test: test_tprd_fprd_delta started\n",
      "Test: test_oppr_priv_ci started\n",
      "Test: test_delete_protected started\n"
     ]
    },
    {
     "name": "stderr",
     "output_type": "stream",
     "text": [
      "/Users/azatsultanov/Programming/vallib/repo/vallib/src/sbe_vallib/table/fairness/test_tprd_fprd_delta.py:133: RuntimeWarning: Mean of empty slice.\n",
      "  groups_metric['fpr'].append(source_preds[target == 0].mean())\n",
      "/Users/azatsultanov/Programming/vallib/vallib_env/lib/python3.8/site-packages/numpy/core/_methods.py:192: RuntimeWarning: invalid value encountered in scalar divide\n",
      "  ret = ret.dtype.type(ret / rcount)\n",
      "/Users/azatsultanov/Programming/vallib/repo/vallib/src/sbe_vallib/table/fairness/test_tprd_fprd_delta.py:137: RuntimeWarning: Mean of empty slice.\n",
      "  swap_preds[target == 0].mean())\n"
     ]
    }
   ],
   "source": [
    "#Возможны warning по поводу, взятия среднего по пустому списку - это нормально, просто при подсчете TPR FPR, получилось так, что есть только один класс\n",
    "res = val.validate(save_excel=True)"
   ]
  },
  {
   "cell_type": "code",
   "execution_count": 12,
   "metadata": {},
   "outputs": [
    {
     "data": {
      "text/plain": [
       "dict_keys(['test_indirect_discr', 'test_target_rate_delta', 'test_tprd_fprd_delta', 'test_oppr_priv_ci', 'test_delete_protected'])"
      ]
     },
     "execution_count": 12,
     "metadata": {},
     "output_type": "execute_result"
    }
   ],
   "source": [
    "#Итак у нас получились следующие тесты их же можно увидеть в excel\n",
    "res.keys()"
   ]
  },
  {
   "cell_type": "code",
   "execution_count": 13,
   "metadata": {},
   "outputs": [
    {
     "data": {
      "text/html": [
       "<div>\n",
       "<style scoped>\n",
       "    .dataframe tbody tr th:only-of-type {\n",
       "        vertical-align: middle;\n",
       "    }\n",
       "\n",
       "    .dataframe tbody tr th {\n",
       "        vertical-align: top;\n",
       "    }\n",
       "\n",
       "    .dataframe thead th {\n",
       "        text-align: right;\n",
       "    }\n",
       "</style>\n",
       "<table border=\"1\" class=\"dataframe\">\n",
       "  <thead>\n",
       "    <tr style=\"text-align: right;\">\n",
       "      <th></th>\n",
       "      <th>Защищенная характеристика</th>\n",
       "      <th>Левая граница CI_0.95 Gini</th>\n",
       "      <th>Правая граница CI_0.95 Gini</th>\n",
       "      <th>Защищенная характеристика не проверяется на дискриминацию</th>\n",
       "      <th>Результат теста</th>\n",
       "    </tr>\n",
       "  </thead>\n",
       "  <tbody>\n",
       "    <tr>\n",
       "      <th>0</th>\n",
       "      <td>feat_3</td>\n",
       "      <td>0.273020</td>\n",
       "      <td>0.334902</td>\n",
       "      <td>no</td>\n",
       "      <td>green</td>\n",
       "    </tr>\n",
       "    <tr>\n",
       "      <th>1</th>\n",
       "      <td>feat_8</td>\n",
       "      <td>0.108708</td>\n",
       "      <td>0.223950</td>\n",
       "      <td>no</td>\n",
       "      <td>green</td>\n",
       "    </tr>\n",
       "    <tr>\n",
       "      <th>2</th>\n",
       "      <td>feat_13</td>\n",
       "      <td>-0.012842</td>\n",
       "      <td>0.026937</td>\n",
       "      <td>no</td>\n",
       "      <td>green</td>\n",
       "    </tr>\n",
       "    <tr>\n",
       "      <th>3</th>\n",
       "      <td>feat_27</td>\n",
       "      <td>0.611863</td>\n",
       "      <td>0.659740</td>\n",
       "      <td>yes</td>\n",
       "      <td>red</td>\n",
       "    </tr>\n",
       "  </tbody>\n",
       "</table>\n",
       "</div>"
      ],
      "text/plain": [
       "  Защищенная характеристика  Левая граница CI_0.95 Gini  \\\n",
       "0                    feat_3                    0.273020   \n",
       "1                    feat_8                    0.108708   \n",
       "2                   feat_13                   -0.012842   \n",
       "3                   feat_27                    0.611863   \n",
       "\n",
       "   Правая граница CI_0.95 Gini  \\\n",
       "0                     0.334902   \n",
       "1                     0.223950   \n",
       "2                     0.026937   \n",
       "3                     0.659740   \n",
       "\n",
       "  Защищенная характеристика не проверяется на дискриминацию Результат теста  \n",
       "0                                                 no                  green  \n",
       "1                                                 no                  green  \n",
       "2                                                 no                  green  \n",
       "3                                                yes                    red  "
      ]
     },
     "execution_count": 13,
     "metadata": {},
     "output_type": "execute_result"
    }
   ],
   "source": [
    "res['test_indirect_discr']['result_dataframes'][0]"
   ]
  },
  {
   "cell_type": "code",
   "execution_count": 14,
   "metadata": {},
   "outputs": [
    {
     "data": {
      "text/html": [
       "<div>\n",
       "<style scoped>\n",
       "    .dataframe tbody tr th:only-of-type {\n",
       "        vertical-align: middle;\n",
       "    }\n",
       "\n",
       "    .dataframe tbody tr th {\n",
       "        vertical-align: top;\n",
       "    }\n",
       "\n",
       "    .dataframe thead th {\n",
       "        text-align: right;\n",
       "    }\n",
       "</style>\n",
       "<table border=\"1\" class=\"dataframe\">\n",
       "  <thead>\n",
       "    <tr style=\"text-align: right;\">\n",
       "      <th></th>\n",
       "      <th>Защищенная характеристика</th>\n",
       "      <th>Отн. изменение частоты таргета у угнетаемой группы</th>\n",
       "      <th>Отн. изменение частоты таргета у привилигированной группы</th>\n",
       "      <th>Интервал значений признака угнетаемой группы</th>\n",
       "      <th>Интервал значений признака привилегированной группы</th>\n",
       "      <th>Результат теста</th>\n",
       "    </tr>\n",
       "  </thead>\n",
       "  <tbody>\n",
       "    <tr>\n",
       "      <th>0</th>\n",
       "      <td>feat_3</td>\n",
       "      <td>0.008850</td>\n",
       "      <td>-0.018349</td>\n",
       "      <td>[39-39]</td>\n",
       "      <td>[40-40]</td>\n",
       "      <td>green</td>\n",
       "    </tr>\n",
       "    <tr>\n",
       "      <th>1</th>\n",
       "      <td>feat_8</td>\n",
       "      <td>1.280992</td>\n",
       "      <td>-0.563694</td>\n",
       "      <td>[0-0]</td>\n",
       "      <td>[1-1]</td>\n",
       "      <td>yellow</td>\n",
       "    </tr>\n",
       "    <tr>\n",
       "      <th>2</th>\n",
       "      <td>feat_13</td>\n",
       "      <td>0.000000</td>\n",
       "      <td>0.000000</td>\n",
       "      <td>[3.036-3.3715]</td>\n",
       "      <td>[0.3399-0.6682]</td>\n",
       "      <td>green</td>\n",
       "    </tr>\n",
       "    <tr>\n",
       "      <th>3</th>\n",
       "      <td>feat_27</td>\n",
       "      <td>0.000000</td>\n",
       "      <td>0.000000</td>\n",
       "      <td>[0.0-5207.0]</td>\n",
       "      <td>[0.0-5207.0]</td>\n",
       "      <td>green</td>\n",
       "    </tr>\n",
       "  </tbody>\n",
       "</table>\n",
       "</div>"
      ],
      "text/plain": [
       "  Защищенная характеристика  \\\n",
       "0                    feat_3   \n",
       "1                    feat_8   \n",
       "2                   feat_13   \n",
       "3                   feat_27   \n",
       "\n",
       "   Отн. изменение частоты таргета у угнетаемой группы  \\\n",
       "0                                           0.008850    \n",
       "1                                           1.280992    \n",
       "2                                           0.000000    \n",
       "3                                           0.000000    \n",
       "\n",
       "   Отн. изменение частоты таргета у привилигированной группы  \\\n",
       "0                                          -0.018349           \n",
       "1                                          -0.563694           \n",
       "2                                           0.000000           \n",
       "3                                           0.000000           \n",
       "\n",
       "  Интервал значений признака угнетаемой группы  \\\n",
       "0                                      [39-39]   \n",
       "1                                        [0-0]   \n",
       "2                               [3.036-3.3715]   \n",
       "3                                 [0.0-5207.0]   \n",
       "\n",
       "  Интервал значений признака привилегированной группы Результат теста  \n",
       "0                                            [40-40]            green  \n",
       "1                                              [1-1]           yellow  \n",
       "2                                    [0.3399-0.6682]            green  \n",
       "3                                       [0.0-5207.0]            green  "
      ]
     },
     "execution_count": 14,
     "metadata": {},
     "output_type": "execute_result"
    }
   ],
   "source": [
    "res['test_target_rate_delta']['result_dataframes'][0]"
   ]
  },
  {
   "cell_type": "code",
   "execution_count": 15,
   "metadata": {},
   "outputs": [
    {
     "data": {
      "text/html": [
       "<div>\n",
       "<style scoped>\n",
       "    .dataframe tbody tr th:only-of-type {\n",
       "        vertical-align: middle;\n",
       "    }\n",
       "\n",
       "    .dataframe tbody tr th {\n",
       "        vertical-align: top;\n",
       "    }\n",
       "\n",
       "    .dataframe thead th {\n",
       "        text-align: right;\n",
       "    }\n",
       "</style>\n",
       "<table border=\"1\" class=\"dataframe\">\n",
       "  <thead>\n",
       "    <tr style=\"text-align: right;\">\n",
       "      <th></th>\n",
       "      <th>Защищенная характеристика</th>\n",
       "      <th>Абс. изменение TPRD после перестановки значений</th>\n",
       "      <th>Абс. изменение FPRD после перестановки значений</th>\n",
       "      <th>Интервал значений признака угнетаемой группы</th>\n",
       "      <th>Интервал значений признака привилегированной группы</th>\n",
       "      <th>Результат теста</th>\n",
       "    </tr>\n",
       "  </thead>\n",
       "  <tbody>\n",
       "    <tr>\n",
       "      <th>0</th>\n",
       "      <td>feat_3</td>\n",
       "      <td>0.023907</td>\n",
       "      <td>0.00000</td>\n",
       "      <td>[39-39]</td>\n",
       "      <td>[40-40]</td>\n",
       "      <td>green</td>\n",
       "    </tr>\n",
       "    <tr>\n",
       "      <th>1</th>\n",
       "      <td>feat_8</td>\n",
       "      <td>0.057067</td>\n",
       "      <td>0.06227</td>\n",
       "      <td>[0-0]</td>\n",
       "      <td>[1-1]</td>\n",
       "      <td>green</td>\n",
       "    </tr>\n",
       "    <tr>\n",
       "      <th>2</th>\n",
       "      <td>feat_13</td>\n",
       "      <td>0.000000</td>\n",
       "      <td>0.00000</td>\n",
       "      <td>[3.036-3.3715]</td>\n",
       "      <td>[0.3399-0.6682]</td>\n",
       "      <td>green</td>\n",
       "    </tr>\n",
       "    <tr>\n",
       "      <th>3</th>\n",
       "      <td>feat_27</td>\n",
       "      <td>0.000000</td>\n",
       "      <td>0.00000</td>\n",
       "      <td>[0.0-5207.0]</td>\n",
       "      <td>[0.0-5207.0]</td>\n",
       "      <td>green</td>\n",
       "    </tr>\n",
       "  </tbody>\n",
       "</table>\n",
       "</div>"
      ],
      "text/plain": [
       "  Защищенная характеристика  Абс. изменение TPRD после перестановки значений  \\\n",
       "0                    feat_3                                         0.023907   \n",
       "1                    feat_8                                         0.057067   \n",
       "2                   feat_13                                         0.000000   \n",
       "3                   feat_27                                         0.000000   \n",
       "\n",
       "   Абс. изменение FPRD после перестановки значений  \\\n",
       "0                                          0.00000   \n",
       "1                                          0.06227   \n",
       "2                                          0.00000   \n",
       "3                                          0.00000   \n",
       "\n",
       "  Интервал значений признака угнетаемой группы  \\\n",
       "0                                      [39-39]   \n",
       "1                                        [0-0]   \n",
       "2                               [3.036-3.3715]   \n",
       "3                                 [0.0-5207.0]   \n",
       "\n",
       "  Интервал значений признака привилегированной группы Результат теста  \n",
       "0                                            [40-40]            green  \n",
       "1                                              [1-1]            green  \n",
       "2                                    [0.3399-0.6682]            green  \n",
       "3                                       [0.0-5207.0]            green  "
      ]
     },
     "execution_count": 15,
     "metadata": {},
     "output_type": "execute_result"
    }
   ],
   "source": [
    "res['test_tprd_fprd_delta']['result_dataframes'][0]"
   ]
  },
  {
   "cell_type": "code",
   "execution_count": 16,
   "metadata": {},
   "outputs": [
    {
     "data": {
      "text/html": [
       "<div>\n",
       "<style scoped>\n",
       "    .dataframe tbody tr th:only-of-type {\n",
       "        vertical-align: middle;\n",
       "    }\n",
       "\n",
       "    .dataframe tbody tr th {\n",
       "        vertical-align: top;\n",
       "    }\n",
       "\n",
       "    .dataframe thead th {\n",
       "        text-align: right;\n",
       "    }\n",
       "</style>\n",
       "<table border=\"1\" class=\"dataframe\">\n",
       "  <thead>\n",
       "    <tr style=\"text-align: right;\">\n",
       "      <th></th>\n",
       "      <th>Защищенная характеристика</th>\n",
       "      <th>95.0%-ый дов. интервал для угнетаемой группы</th>\n",
       "      <th>95.0%-ый дов. интервал для привелегированной группы</th>\n",
       "      <th>99.0%-ый дов. интервал для угнетаемой группы</th>\n",
       "      <th>99.0%-ый дов. интервал для привелегированной группы</th>\n",
       "      <th>Интервал значений признака угнетаемой группы</th>\n",
       "      <th>Интервал значений признака привилегированной группы</th>\n",
       "      <th>Результат теста</th>\n",
       "    </tr>\n",
       "  </thead>\n",
       "  <tbody>\n",
       "    <tr>\n",
       "      <th>0</th>\n",
       "      <td>feat_3</td>\n",
       "      <td>[0.436, 0.741]</td>\n",
       "      <td>невозможно рассчитать, в группе один класс</td>\n",
       "      <td>[0.388, 0.789]</td>\n",
       "      <td>невозможно рассчитать, в группе один класс</td>\n",
       "      <td>[39-39]</td>\n",
       "      <td>[40-40]</td>\n",
       "      <td>gray</td>\n",
       "    </tr>\n",
       "    <tr>\n",
       "      <th>1</th>\n",
       "      <td>feat_8</td>\n",
       "      <td>[0.838, 0.925]</td>\n",
       "      <td>[0.768, 0.828]</td>\n",
       "      <td>[0.824, 0.939]</td>\n",
       "      <td>[0.759, 0.837]</td>\n",
       "      <td>[0-0]</td>\n",
       "      <td>[1-1]</td>\n",
       "      <td>green</td>\n",
       "    </tr>\n",
       "    <tr>\n",
       "      <th>2</th>\n",
       "      <td>feat_13</td>\n",
       "      <td>[0.744, 0.95]</td>\n",
       "      <td>[1.0, 1.0]</td>\n",
       "      <td>[0.711, 0.982]</td>\n",
       "      <td>[1.0, 1.0]</td>\n",
       "      <td>[3.036-3.3715]</td>\n",
       "      <td>[0.3399-0.6682]</td>\n",
       "      <td>green</td>\n",
       "    </tr>\n",
       "    <tr>\n",
       "      <th>3</th>\n",
       "      <td>feat_27</td>\n",
       "      <td>[0.824, 0.871]</td>\n",
       "      <td>[0.824, 0.871]</td>\n",
       "      <td>[0.817, 0.878]</td>\n",
       "      <td>[0.817, 0.878]</td>\n",
       "      <td>[0.0-5207.0]</td>\n",
       "      <td>[0.0-5207.0]</td>\n",
       "      <td>green</td>\n",
       "    </tr>\n",
       "  </tbody>\n",
       "</table>\n",
       "</div>"
      ],
      "text/plain": [
       "  Защищенная характеристика 95.0%-ый дов. интервал для угнетаемой группы  \\\n",
       "0                    feat_3                               [0.436, 0.741]   \n",
       "1                    feat_8                               [0.838, 0.925]   \n",
       "2                   feat_13                                [0.744, 0.95]   \n",
       "3                   feat_27                               [0.824, 0.871]   \n",
       "\n",
       "  95.0%-ый дов. интервал для привелегированной группы  \\\n",
       "0         невозможно рассчитать, в группе один класс    \n",
       "1                                     [0.768, 0.828]    \n",
       "2                                         [1.0, 1.0]    \n",
       "3                                     [0.824, 0.871]    \n",
       "\n",
       "  99.0%-ый дов. интервал для угнетаемой группы  \\\n",
       "0                               [0.388, 0.789]   \n",
       "1                               [0.824, 0.939]   \n",
       "2                               [0.711, 0.982]   \n",
       "3                               [0.817, 0.878]   \n",
       "\n",
       "  99.0%-ый дов. интервал для привелегированной группы  \\\n",
       "0         невозможно рассчитать, в группе один класс    \n",
       "1                                     [0.759, 0.837]    \n",
       "2                                         [1.0, 1.0]    \n",
       "3                                     [0.817, 0.878]    \n",
       "\n",
       "  Интервал значений признака угнетаемой группы  \\\n",
       "0                                      [39-39]   \n",
       "1                                        [0-0]   \n",
       "2                               [3.036-3.3715]   \n",
       "3                                 [0.0-5207.0]   \n",
       "\n",
       "  Интервал значений признака привилегированной группы Результат теста  \n",
       "0                                            [40-40]             gray  \n",
       "1                                              [1-1]            green  \n",
       "2                                    [0.3399-0.6682]            green  \n",
       "3                                       [0.0-5207.0]            green  "
      ]
     },
     "execution_count": 16,
     "metadata": {},
     "output_type": "execute_result"
    }
   ],
   "source": [
    "res['test_oppr_priv_ci']['result_dataframes'][0]"
   ]
  },
  {
   "cell_type": "code",
   "execution_count": 17,
   "metadata": {},
   "outputs": [
    {
     "data": {
      "text/html": [
       "<div>\n",
       "<style scoped>\n",
       "    .dataframe tbody tr th:only-of-type {\n",
       "        vertical-align: middle;\n",
       "    }\n",
       "\n",
       "    .dataframe tbody tr th {\n",
       "        vertical-align: top;\n",
       "    }\n",
       "\n",
       "    .dataframe thead th {\n",
       "        text-align: right;\n",
       "    }\n",
       "</style>\n",
       "<table border=\"1\" class=\"dataframe\">\n",
       "  <thead>\n",
       "    <tr style=\"text-align: right;\">\n",
       "      <th></th>\n",
       "      <th>Исходная метрика gini</th>\n",
       "      <th>Метрика gini после удаления</th>\n",
       "      <th>Удаленные признаки</th>\n",
       "      <th>Абс. изменение</th>\n",
       "      <th>Отн. изменение</th>\n",
       "    </tr>\n",
       "  </thead>\n",
       "  <tbody>\n",
       "    <tr>\n",
       "      <th>0</th>\n",
       "      <td>0.849399</td>\n",
       "      <td>0.848257</td>\n",
       "      <td>feat_27 feat_8</td>\n",
       "      <td>-0.001142</td>\n",
       "      <td>-0.001345</td>\n",
       "    </tr>\n",
       "  </tbody>\n",
       "</table>\n",
       "</div>"
      ],
      "text/plain": [
       "   Исходная метрика gini  Метрика gini после удаления Удаленные признаки  \\\n",
       "0               0.849399                     0.848257     feat_27 feat_8   \n",
       "\n",
       "   Абс. изменение  Отн. изменение  \n",
       "0       -0.001142       -0.001345  "
      ]
     },
     "execution_count": 17,
     "metadata": {},
     "output_type": "execute_result"
    }
   ],
   "source": [
    "res['test_delete_protected']['result_dataframes'][0]"
   ]
  },
  {
   "cell_type": "markdown",
   "metadata": {},
   "source": [
    "# Пайплайн fairness для реальных данных "
   ]
  },
  {
   "cell_type": "markdown",
   "metadata": {},
   "source": [
    "У вас должны быть:\n",
    "1) выборки train и OOS\n",
    "2) используемые признаки - здесь я взял их из модели разработчика\n",
    "3) обученная вами модель valid_model с методом predict_proba\n",
    "4) категориальные признаки - если не уверены, оставляйте в вызове метода FairnessValidation cat_features=[]"
   ]
  },
  {
   "cell_type": "code",
   "execution_count": 18,
   "metadata": {},
   "outputs": [
    {
     "ename": "AttributeError",
     "evalue": "'RandomForestClassifier' object has no attribute 'used_features'",
     "output_type": "error",
     "traceback": [
      "\u001b[0;31m---------------------------------------------------------------------------\u001b[0m",
      "\u001b[0;31mAttributeError\u001b[0m                            Traceback (most recent call last)",
      "Cell \u001b[0;32mIn[18], line 24\u001b[0m\n\u001b[1;32m      1\u001b[0m fair_factors \u001b[39m=\u001b[39m [\n\u001b[1;32m      2\u001b[0m     \u001b[39m'\u001b[39m\u001b[39msd_gender_cd\u001b[39m\u001b[39m'\u001b[39m,\n\u001b[1;32m      3\u001b[0m     \u001b[39m'\u001b[39m\u001b[39msd_age_yrs_frac_nv\u001b[39m\u001b[39m'\u001b[39m,\n\u001b[0;32m   (...)\u001b[0m\n\u001b[1;32m     22\u001b[0m     \u001b[39m'\u001b[39m\u001b[39msd_cb_staff_nflag\u001b[39m\u001b[39m'\u001b[39m,\n\u001b[1;32m     23\u001b[0m     \u001b[39m'\u001b[39m\u001b[39mclient_region\u001b[39m\u001b[39m'\u001b[39m]\n\u001b[0;32m---> 24\u001b[0m feats_for_analyse \u001b[39m=\u001b[39m \u001b[39mlist\u001b[39m(\u001b[39mset\u001b[39m(model\u001b[39m.\u001b[39;49mused_features) \u001b[39m&\u001b[39m \u001b[39mset\u001b[39m(fair_factors))\n",
      "\u001b[0;31mAttributeError\u001b[0m: 'RandomForestClassifier' object has no attribute 'used_features'"
     ]
    }
   ],
   "source": [
    "fair_factors = [\n",
    "    'sd_gender_cd',\n",
    "    'sd_age_yrs_frac_nv',\n",
    "    'sd_age_yrs_comp_nv',\n",
    "    'sd_client_valid_nflag',\n",
    "    'sd_stlmnt_type_cd',\n",
    "    'sd_russian_citizen_nflag',\n",
    "    'sd_resident_nflag',\n",
    "    'sd_sbrf_employee_nflag',\n",
    "    'dep_social_client_nflag',\n",
    "    'lne_coborrower_nflag',\n",
    "    'lne_loan_overdue_nflag',\n",
    "    'prl_employee_dzo_nflag',\n",
    "    'prl_social_disab_pension_nflag',\n",
    "    'seg_client_mp_segment_cd',\n",
    "    'seg_crd_pos_cat_group',\n",
    "    'seg_crd_trx_segm',\n",
    "    'seg_crd_trx_subsegm',\n",
    "    'seg_age_segment',\n",
    "    'sd_name_age_segment_cd',\n",
    "    'sd_age_mnth_comp_nv',\n",
    "    'sd_cb_staff_nflag',\n",
    "    'client_region']\n",
    "feats_for_analyse = list(set(model.used_features) & set(fair_factors))"
   ]
  },
  {
   "cell_type": "code",
   "execution_count": null,
   "metadata": {},
   "outputs": [],
   "source": []
  }
 ],
 "metadata": {
  "hide_input": false,
  "kernelspec": {
   "display_name": "base",
   "language": "python",
   "name": "python3"
  },
  "language_info": {
   "codemirror_mode": {
    "name": "ipython",
    "version": 3
   },
   "file_extension": ".py",
   "mimetype": "text/x-python",
   "name": "python",
   "nbconvert_exporter": "python",
   "pygments_lexer": "ipython3",
   "version": "3.8.5"
  },
  "latex_envs": {
   "LaTeX_envs_menu_present": true,
   "autoclose": false,
   "autocomplete": true,
   "bibliofile": "biblio.bib",
   "cite_by": "apalike",
   "current_citInitial": 1,
   "eqLabelWithNumbers": true,
   "eqNumInitial": 1,
   "hotkeys": {
    "equation": "Ctrl-E",
    "itemize": "Ctrl-I"
   },
   "labels_anchors": false,
   "latex_user_defs": false,
   "report_style_numbering": false,
   "user_envs_cfg": false
  },
  "toc": {
   "base_numbering": 1,
   "nav_menu": {},
   "number_sections": true,
   "sideBar": true,
   "skip_h1_title": false,
   "title_cell": "Table of Contents",
   "title_sidebar": "Contents",
   "toc_cell": false,
   "toc_position": {},
   "toc_section_display": true,
   "toc_window_display": false
  },
  "vscode": {
   "interpreter": {
    "hash": "5706a67963694452c319b60dc31d857a4746ad2127af76ef31bb2e4886d1178d"
   }
  }
 },
 "nbformat": 4,
 "nbformat_minor": 4
}
