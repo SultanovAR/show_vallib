{
 "cells": [
  {
   "cell_type": "code",
   "execution_count": 1,
   "metadata": {},
   "outputs": [],
   "source": [
    "%load_ext autoreload\n",
    "%autoreload 2"
   ]
  },
  {
   "cell_type": "code",
   "execution_count": 2,
   "metadata": {},
   "outputs": [
    {
     "name": "stderr",
     "output_type": "stream",
     "text": [
      "/Users/kirillsergeev/opt/anaconda3/envs/myenv/lib/python3.9/site-packages/scipy/__init__.py:146: UserWarning: A NumPy version >=1.16.5 and <1.23.0 is required for this version of SciPy (detected version 1.24.2\n",
      "  warnings.warn(f\"A NumPy version >={np_minversion} and <{np_maxversion}\"\n",
      "Found cached dataset conll2003 (/Users/kirillsergeev/.cache/huggingface/datasets/conll2003/conll2003/1.0.0/9a4d16a94f8674ba3466315300359b0acd891b68b6c8743ddf60b9c702adce98)\n",
      "100%|██████████| 3/3 [00:00<00:00, 143.09it/s]"
     ]
    },
    {
     "name": "stdout",
     "output_type": "stream",
     "text": [
      "['O', 'B-PER', 'I-PER', 'B-ORG', 'I-ORG', 'B-LOC', 'I-LOC', 'B-MISC', 'I-MISC']\n"
     ]
    },
    {
     "name": "stderr",
     "output_type": "stream",
     "text": [
      "\n"
     ]
    },
    {
     "data": {
      "text/plain": [
       "{'id': '2',\n",
       " 'tokens': ['AL-AIN', ',', 'United', 'Arab', 'Emirates', '1996-12-06'],\n",
       " 'pos_tags': [22, 6, 22, 22, 23, 11],\n",
       " 'chunk_tags': [11, 0, 11, 12, 12, 12],\n",
       " 'ner_tags': [5, 0, 5, 6, 6, 0]}"
      ]
     },
     "execution_count": 2,
     "metadata": {},
     "output_type": "execute_result"
    }
   ],
   "source": [
    "import datasets\n",
    "conll = datasets.load_dataset(\"conll2003\")\n",
    "CONLL_NER_TAGS = conll['train'].features['ner_tags'].feature.names\n",
    "print(CONLL_NER_TAGS)\n",
    "conll[\"test\"][2]"
   ]
  },
  {
   "cell_type": "code",
   "execution_count": 3,
   "metadata": {},
   "outputs": [],
   "source": [
    "from transformers import (pipeline, \n",
    "        AutoModelForTokenClassification, AutoTokenizer, \n",
    "        BertForTokenClassification, BertTokenizer)\n",
    "\n",
    "# Load pretrained model and tokenizer for English NER task (dslim/bert-base-NER)\n",
    "model_name = \"dslim/bert-base-NER\"\n",
    "tokenizer = AutoTokenizer.from_pretrained(model_name)\n",
    "model = BertForTokenClassification.from_pretrained(model_name)"
   ]
  },
  {
   "cell_type": "code",
   "execution_count": 4,
   "metadata": {},
   "outputs": [
    {
     "data": {
      "text/plain": [
       "['LOC', 'MISC', 'ORG', 'PER']"
      ]
     },
     "execution_count": 4,
     "metadata": {},
     "output_type": "execute_result"
    }
   ],
   "source": [
    "sorted(list(set([tag.split('-')[-1] for tag in CONLL_NER_TAGS]) - set(['O'])))"
   ]
  },
  {
   "cell_type": "code",
   "execution_count": 5,
   "metadata": {},
   "outputs": [],
   "source": [
    "import numpy as np\n",
    "import torch\n",
    "from tqdm import tqdm\n",
    "\n",
    "class ModelWrapper():\n",
    "    def __init__(self, model, tokenizer, classes):\n",
    "        self.model = pipeline('ner', model=model, tokenizer=tokenizer, aggregation_strategy=None)\n",
    "        self.classes_ = classes\n",
    "\n",
    "    def _unite_entities(self, entities):\n",
    "        if len(entities) <= 1:\n",
    "            return entities\n",
    "\n",
    "        united_result = []\n",
    "        cur_entity = {key: entities[0][key] for key in ['entity', 'word', 'start', 'end']}\n",
    "        for entity in entities[1:]:\n",
    "            if entity['word'].startswith('##'):\n",
    "                cur_entity['word'] += entity['word'].lstrip('#')\n",
    "                cur_entity['end'] = entity['end']\n",
    "            else:\n",
    "                united_result.append(cur_entity)\n",
    "                cur_entity = {key: entity[key] for key in ['entity', 'word', 'start', 'end']}\n",
    "        united_result.append(cur_entity)\n",
    "        return united_result\n",
    "\n",
    "    def _convert_entities_to_bio(self, tokens, entities):\n",
    "        bio_tags = []\n",
    "        cur_entity_idx = 0\n",
    "        for token in tokens:\n",
    "            if (cur_entity_idx < len(entities))\\\n",
    "                    and (token == entities[cur_entity_idx]['word']):\n",
    "                bio_tags.append(entities[cur_entity_idx]['entity'])\n",
    "                cur_entity_idx += 1\n",
    "            else:\n",
    "                bio_tags.append('O')\n",
    "        return bio_tags\n",
    "\n",
    "    def _postprocessing(self, tokens, model_output):\n",
    "        entities = self._unite_entities(model_output)\n",
    "        bio_tags = self._convert_entities_to_bio(tokens, entities)\n",
    "        return bio_tags\n",
    "\n",
    "    def predict(self, X):\n",
    "        with torch.no_grad():\n",
    "            ner_entitites = self.model(X)\n",
    "            tags = []\n",
    "            for text, entities in tqdm(zip(X, ner_entitites)):\n",
    "                tags.append(self._postprocessing(text.split(), entities))\n",
    "            return tags\n",
    "\n",
    "wrapped_model = ModelWrapper(model, tokenizer, ['LOC', 'MISC', 'ORG', 'PER'])"
   ]
  },
  {
   "cell_type": "code",
   "execution_count": 6,
   "metadata": {},
   "outputs": [],
   "source": [
    "def preprocessing_dataset(dataset):\n",
    "    result = {'X': [], 'y_true': []}\n",
    "    for sample in dataset:\n",
    "        result['X'].append(' '.join(sample['tokens']))\n",
    "        result['y_true'].append([CONLL_NER_TAGS[tag] for tag in sample['ner_tags']])\n",
    "    return result"
   ]
  },
  {
   "cell_type": "code",
   "execution_count": 7,
   "metadata": {},
   "outputs": [],
   "source": [
    "# from itertools import islice\n",
    "# train_data = preprocessing_dataset(conll['train'])\n",
    "# train_data['y_pred'] = wrapped_model.predict(train_data['X'])\n",
    "\n",
    "# oos_data = preprocessing_dataset(conll['test'])\n",
    "# oos_data['y_pred'] = wrapped_model.predict(oos_data['X'])"
   ]
  },
  {
   "cell_type": "code",
   "execution_count": 8,
   "metadata": {},
   "outputs": [],
   "source": [
    "# import pickle\n",
    "\n",
    "# with open('./train_data.pkl', 'wb') as f:\n",
    "#     pickle.dump(train_data, f)\n",
    "# with open('./oos_data.pkl', 'wb') as f:\n",
    "#     pickle.dump(oos_data, f)"
   ]
  },
  {
   "cell_type": "code",
   "execution_count": 9,
   "metadata": {},
   "outputs": [],
   "source": [
    "import pickle\n",
    "\n",
    "with open('./train_data.pkl', 'rb') as f:\n",
    "    train_data = pickle.load(f)\n",
    "\n",
    "with open('./oos_data.pkl', 'rb') as f:\n",
    "    oos_data = pickle.load(f)"
   ]
  },
  {
   "cell_type": "code",
   "execution_count": 10,
   "metadata": {},
   "outputs": [
    {
     "name": "stdout",
     "output_type": "stream",
     "text": [
      "True\n",
      "True\n"
     ]
    }
   ],
   "source": [
    "print(all([len(i) == len(j) for i, j in zip(train_data['y_true'], train_data['y_pred'])]))\n",
    "print(all([len(i) == len(j) for i, j in zip(oos_data['y_true'], oos_data['y_pred'])]))"
   ]
  },
  {
   "cell_type": "code",
   "execution_count": 11,
   "metadata": {},
   "outputs": [],
   "source": [
    "from sbe_vallib.validation.sampler.ner_sampler import NerSampler\n",
    "\n",
    "sampler = NerSampler(train=train_data, oos=oos_data)\n",
    "sampler.set_seed(42, bootstrap=True)"
   ]
  },
  {
   "cell_type": "code",
   "execution_count": 12,
   "metadata": {},
   "outputs": [
    {
     "data": {
      "text/plain": [
       "{'precision_score': {'LOC': 0.9363057324840764,\n",
       "  'MISC': 0.804920913884007,\n",
       "  'ORG': 0.8944262295081967,\n",
       "  'PER': 0.9319965126416739,\n",
       "  'micro': 0.9043806982432733,\n",
       "  'macro': 0.8919123471294885,\n",
       "  'weighted': 0.9064257739880867},\n",
       " 'f1_score': {'LOC': 0.8043775649794801,\n",
       "  'MISC': 0.7206923682140047,\n",
       "  'ORG': 0.8562460765850596,\n",
       "  'PER': 0.7735166425470332,\n",
       "  'micro': 0.8017742730409069,\n",
       "  'macro': 0.7887081630813945,\n",
       "  'weighted': 0.800394646791491},\n",
       " 'recall_score': {'LOC': 0.7050359712230215,\n",
       "  'MISC': 0.6524216524216524,\n",
       "  'ORG': 0.8211920529801324,\n",
       "  'PER': 0.6611008039579468,\n",
       "  'micro': 0.7200779036827195,\n",
       "  'macro': 0.7099376201456882,\n",
       "  'weighted': 0.7200779036827195},\n",
       " 'support': {'LOC': 1668,\n",
       "  'MISC': 702,\n",
       "  'ORG': 1661,\n",
       "  'PER': 1617,\n",
       "  'micro': 5648,\n",
       "  'macro': 5648,\n",
       "  'weighted': 5648}}"
      ]
     },
     "execution_count": 12,
     "metadata": {},
     "output_type": "execute_result"
    }
   ],
   "source": [
    "from sbe_vallib.validation.scorer.ner_scorer import NerScorer\n",
    "from sbe_vallib.validation.utils.metrics import NER_IOB_METRICS\n",
    "\n",
    "\n",
    "scorer = NerScorer(metrics=NER_IOB_METRICS)\n",
    "scores = scorer.score(oos_data['y_true'], oos_data['y_pred'])\n",
    "scores"
   ]
  },
  {
   "cell_type": "code",
   "execution_count": 13,
   "metadata": {},
   "outputs": [],
   "source": [
    "ner_res = scorer.ner_metrics(oos_data['y_true'], oos_data['y_pred'], wrapped_model)"
   ]
  },
  {
   "cell_type": "code",
   "execution_count": 14,
   "metadata": {},
   "outputs": [
    {
     "data": {
      "text/html": [
       "<div>\n",
       "<style scoped>\n",
       "    .dataframe tbody tr th:only-of-type {\n",
       "        vertical-align: middle;\n",
       "    }\n",
       "\n",
       "    .dataframe tbody tr th {\n",
       "        vertical-align: top;\n",
       "    }\n",
       "\n",
       "    .dataframe thead th {\n",
       "        text-align: right;\n",
       "    }\n",
       "</style>\n",
       "<table border=\"1\" class=\"dataframe\">\n",
       "  <thead>\n",
       "    <tr style=\"text-align: right;\">\n",
       "      <th></th>\n",
       "      <th>Наименование класса</th>\n",
       "      <th>f1_ent_type</th>\n",
       "      <th>f1_partial</th>\n",
       "      <th>f1_strict</th>\n",
       "      <th>f1_exact</th>\n",
       "    </tr>\n",
       "  </thead>\n",
       "  <tbody>\n",
       "    <tr>\n",
       "      <th>0</th>\n",
       "      <td>LOC</td>\n",
       "      <td>0.806265</td>\n",
       "      <td>0.847804</td>\n",
       "      <td>0.800817</td>\n",
       "      <td>0.840994</td>\n",
       "    </tr>\n",
       "    <tr>\n",
       "      <th>1</th>\n",
       "      <td>MISC</td>\n",
       "      <td>0.761218</td>\n",
       "      <td>0.790865</td>\n",
       "      <td>0.733974</td>\n",
       "      <td>0.767628</td>\n",
       "    </tr>\n",
       "    <tr>\n",
       "      <th>2</th>\n",
       "      <td>ORG</td>\n",
       "      <td>0.882945</td>\n",
       "      <td>0.911894</td>\n",
       "      <td>0.858402</td>\n",
       "      <td>0.892385</td>\n",
       "    </tr>\n",
       "    <tr>\n",
       "      <th>3</th>\n",
       "      <td>PER</td>\n",
       "      <td>0.803019</td>\n",
       "      <td>0.807692</td>\n",
       "      <td>0.768512</td>\n",
       "      <td>0.788641</td>\n",
       "    </tr>\n",
       "    <tr>\n",
       "      <th>4</th>\n",
       "      <td>macro</td>\n",
       "      <td>0.823854</td>\n",
       "      <td>0.849877</td>\n",
       "      <td>0.801774</td>\n",
       "      <td>0.833711</td>\n",
       "    </tr>\n",
       "  </tbody>\n",
       "</table>\n",
       "</div>"
      ],
      "text/plain": [
       "  Наименование класса  f1_ent_type  f1_partial  f1_strict  f1_exact\n",
       "0                 LOC     0.806265    0.847804   0.800817  0.840994\n",
       "1                MISC     0.761218    0.790865   0.733974  0.767628\n",
       "2                 ORG     0.882945    0.911894   0.858402  0.892385\n",
       "3                 PER     0.803019    0.807692   0.768512  0.788641\n",
       "4               macro     0.823854    0.849877   0.801774  0.833711"
      ]
     },
     "execution_count": 14,
     "metadata": {},
     "output_type": "execute_result"
    }
   ],
   "source": [
    "import pandas as pd\n",
    "\n",
    "pd.DataFrame(ner_res).reset_index(names='Наименование класса', inplace=False)"
   ]
  },
  {
   "cell_type": "code",
   "execution_count": 15,
   "metadata": {},
   "outputs": [],
   "source": [
    "from sbe_vallib.validation.nlp.general_tests.model_quality.test_key_metric import test_key_metric"
   ]
  },
  {
   "cell_type": "code",
   "execution_count": 16,
   "metadata": {},
   "outputs": [
    {
     "data": {
      "text/html": [
       "<div>\n",
       "<style scoped>\n",
       "    .dataframe tbody tr th:only-of-type {\n",
       "        vertical-align: middle;\n",
       "    }\n",
       "\n",
       "    .dataframe tbody tr th {\n",
       "        vertical-align: top;\n",
       "    }\n",
       "\n",
       "    .dataframe thead th {\n",
       "        text-align: right;\n",
       "    }\n",
       "</style>\n",
       "<table border=\"1\" class=\"dataframe\">\n",
       "  <thead>\n",
       "    <tr style=\"text-align: right;\">\n",
       "      <th></th>\n",
       "      <th>type</th>\n",
       "      <th>support</th>\n",
       "      <th>precision_score</th>\n",
       "      <th>semaphore</th>\n",
       "    </tr>\n",
       "  </thead>\n",
       "  <tbody>\n",
       "    <tr>\n",
       "      <th>0</th>\n",
       "      <td>LOC</td>\n",
       "      <td>1668</td>\n",
       "      <td>0.936306</td>\n",
       "      <td>green</td>\n",
       "    </tr>\n",
       "    <tr>\n",
       "      <th>1</th>\n",
       "      <td>MISC</td>\n",
       "      <td>702</td>\n",
       "      <td>0.804921</td>\n",
       "      <td>green</td>\n",
       "    </tr>\n",
       "    <tr>\n",
       "      <th>2</th>\n",
       "      <td>ORG</td>\n",
       "      <td>1661</td>\n",
       "      <td>0.894426</td>\n",
       "      <td>green</td>\n",
       "    </tr>\n",
       "    <tr>\n",
       "      <th>3</th>\n",
       "      <td>PER</td>\n",
       "      <td>1617</td>\n",
       "      <td>0.931997</td>\n",
       "      <td>green</td>\n",
       "    </tr>\n",
       "    <tr>\n",
       "      <th>4</th>\n",
       "      <td>agg_macro</td>\n",
       "      <td>5648</td>\n",
       "      <td>0.891912</td>\n",
       "      <td>green</td>\n",
       "    </tr>\n",
       "  </tbody>\n",
       "</table>\n",
       "</div>"
      ],
      "text/plain": [
       "        type  support  precision_score semaphore\n",
       "0        LOC     1668         0.936306     green\n",
       "1       MISC      702         0.804921     green\n",
       "2        ORG     1661         0.894426     green\n",
       "3        PER     1617         0.931997     green\n",
       "4  agg_macro     5648         0.891912     green"
      ]
     },
     "execution_count": 16,
     "metadata": {},
     "output_type": "execute_result"
    }
   ],
   "source": [
    "test_key_metric(wrapped_model, scorer, sampler,\n",
    "                metric_name='precision_score',\n",
    "                average='macro')['result_dataframes'][0]"
   ]
  },
  {
   "cell_type": "code",
   "execution_count": 17,
   "metadata": {},
   "outputs": [],
   "source": [
    "from sbe_vallib.validation.nlp.general_tests.model_quality.test_ner_metric import test_ner_metric"
   ]
  },
  {
   "cell_type": "code",
   "execution_count": 18,
   "metadata": {},
   "outputs": [
    {
     "data": {
      "text/html": [
       "<div>\n",
       "<style scoped>\n",
       "    .dataframe tbody tr th:only-of-type {\n",
       "        vertical-align: middle;\n",
       "    }\n",
       "\n",
       "    .dataframe tbody tr th {\n",
       "        vertical-align: top;\n",
       "    }\n",
       "\n",
       "    .dataframe thead th {\n",
       "        text-align: right;\n",
       "    }\n",
       "</style>\n",
       "<table border=\"1\" class=\"dataframe\">\n",
       "  <thead>\n",
       "    <tr style=\"text-align: right;\">\n",
       "      <th></th>\n",
       "      <th>Наименование класса</th>\n",
       "      <th>f1_ent_type</th>\n",
       "      <th>f1_partial</th>\n",
       "      <th>f1_strict</th>\n",
       "      <th>f1_exact</th>\n",
       "    </tr>\n",
       "  </thead>\n",
       "  <tbody>\n",
       "    <tr>\n",
       "      <th>0</th>\n",
       "      <td>LOC</td>\n",
       "      <td>0.806265</td>\n",
       "      <td>0.847804</td>\n",
       "      <td>0.800817</td>\n",
       "      <td>0.840994</td>\n",
       "    </tr>\n",
       "    <tr>\n",
       "      <th>1</th>\n",
       "      <td>MISC</td>\n",
       "      <td>0.761218</td>\n",
       "      <td>0.790865</td>\n",
       "      <td>0.733974</td>\n",
       "      <td>0.767628</td>\n",
       "    </tr>\n",
       "    <tr>\n",
       "      <th>2</th>\n",
       "      <td>ORG</td>\n",
       "      <td>0.882945</td>\n",
       "      <td>0.911894</td>\n",
       "      <td>0.858402</td>\n",
       "      <td>0.892385</td>\n",
       "    </tr>\n",
       "    <tr>\n",
       "      <th>3</th>\n",
       "      <td>PER</td>\n",
       "      <td>0.803019</td>\n",
       "      <td>0.807692</td>\n",
       "      <td>0.768512</td>\n",
       "      <td>0.788641</td>\n",
       "    </tr>\n",
       "    <tr>\n",
       "      <th>4</th>\n",
       "      <td>macro</td>\n",
       "      <td>0.823854</td>\n",
       "      <td>0.849877</td>\n",
       "      <td>0.801774</td>\n",
       "      <td>0.833711</td>\n",
       "    </tr>\n",
       "  </tbody>\n",
       "</table>\n",
       "</div>"
      ],
      "text/plain": [
       "  Наименование класса  f1_ent_type  f1_partial  f1_strict  f1_exact\n",
       "0                 LOC     0.806265    0.847804   0.800817  0.840994\n",
       "1                MISC     0.761218    0.790865   0.733974  0.767628\n",
       "2                 ORG     0.882945    0.911894   0.858402  0.892385\n",
       "3                 PER     0.803019    0.807692   0.768512  0.788641\n",
       "4               macro     0.823854    0.849877   0.801774  0.833711"
      ]
     },
     "execution_count": 18,
     "metadata": {},
     "output_type": "execute_result"
    }
   ],
   "source": [
    "test_ner_metric(wrapped_model, scorer, sampler)['result_dataframes'][0]"
   ]
  },
  {
   "cell_type": "code",
   "execution_count": 19,
   "metadata": {},
   "outputs": [],
   "source": [
    "from sbe_vallib import BaseValidation\n",
    "\n",
    "ner_validation = BaseValidation(model = wrapped_model, scorer=scorer, sampler=sampler, pipeline='sbe_vallib/validation/nlp/pipelines/Config_45.xlsx')"
   ]
  },
  {
   "cell_type": "code",
   "execution_count": 22,
   "metadata": {},
   "outputs": [
    {
     "name": "stdout",
     "output_type": "stream",
     "text": [
      "\tTrain/oos samples are too huge for independence test, calculating on 0.4287 fraction\n",
      "(7499, 85)\n"
     ]
    },
    {
     "name": "stderr",
     "output_type": "stream",
     "text": [
      "100%|██████████| 20/20 [00:01<00:00, 12.44it/s]\n"
     ]
    },
    {
     "name": "stdout",
     "output_type": "stream",
     "text": [
      "\tTrain/oos samples are too huge for independence test, calculating on 0.4287 fraction\n",
      "(7499, 85)\n"
     ]
    },
    {
     "name": "stderr",
     "output_type": "stream",
     "text": [
      "100%|██████████| 20/20 [00:01<00:00, 12.90it/s]\n"
     ]
    },
    {
     "name": "stdout",
     "output_type": "stream",
     "text": [
      "\tTrain/oos samples are too huge for independence test, calculating on 0.4287 fraction\n",
      "(7499, 85)\n"
     ]
    },
    {
     "name": "stderr",
     "output_type": "stream",
     "text": [
      "100%|██████████| 20/20 [00:01<00:00, 12.90it/s]\n"
     ]
    },
    {
     "name": "stdout",
     "output_type": "stream",
     "text": [
      "\tTrain/oos samples are too huge for independence test, calculating on 0.4287 fraction\n",
      "(7499, 85)\n"
     ]
    },
    {
     "name": "stderr",
     "output_type": "stream",
     "text": [
      "100%|██████████| 20/20 [00:01<00:00, 12.80it/s]\n"
     ]
    },
    {
     "name": "stdout",
     "output_type": "stream",
     "text": [
      "\tTrain/oos samples are too huge for independence test, calculating on 0.4287 fraction\n",
      "(7499, 85)\n"
     ]
    },
    {
     "name": "stderr",
     "output_type": "stream",
     "text": [
      "100%|██████████| 20/20 [00:01<00:00, 11.88it/s]\n"
     ]
    },
    {
     "name": "stdout",
     "output_type": "stream",
     "text": [
      "\tTrain/oos samples are too huge for independence test, calculating on 0.4287 fraction\n",
      "(7499, 85)\n"
     ]
    },
    {
     "name": "stderr",
     "output_type": "stream",
     "text": [
      "100%|██████████| 20/20 [00:01<00:00, 12.49it/s]\n"
     ]
    },
    {
     "name": "stdout",
     "output_type": "stream",
     "text": [
      "\tTrain/oos samples are too huge for independence test, calculating on 0.4287 fraction\n",
      "(7499, 85)\n"
     ]
    },
    {
     "name": "stderr",
     "output_type": "stream",
     "text": [
      "100%|██████████| 20/20 [00:01<00:00, 12.42it/s]\n"
     ]
    },
    {
     "name": "stdout",
     "output_type": "stream",
     "text": [
      "\tTrain/oos samples are too huge for independence test, calculating on 0.4287 fraction\n",
      "(7499, 85)\n"
     ]
    },
    {
     "name": "stderr",
     "output_type": "stream",
     "text": [
      "100%|██████████| 20/20 [00:01<00:00, 13.16it/s]\n"
     ]
    },
    {
     "name": "stdout",
     "output_type": "stream",
     "text": [
      "\tTrain/oos samples are too huge for independence test, calculating on 0.4287 fraction\n",
      "(7499, 85)\n"
     ]
    },
    {
     "name": "stderr",
     "output_type": "stream",
     "text": [
      "100%|██████████| 20/20 [00:01<00:00, 13.38it/s]\n"
     ]
    },
    {
     "name": "stdout",
     "output_type": "stream",
     "text": [
      "\tTrain/oos samples are too huge for independence test, calculating on 0.4287 fraction\n",
      "(7499, 85)\n"
     ]
    },
    {
     "name": "stderr",
     "output_type": "stream",
     "text": [
      "100%|██████████| 20/20 [00:01<00:00, 13.34it/s]\n"
     ]
    }
   ],
   "source": [
    "res = ner_validation.validate()"
   ]
  },
  {
   "cell_type": "code",
   "execution_count": 24,
   "metadata": {},
   "outputs": [
    {
     "data": {
      "text/plain": [
       "dict_keys(['train_test_independence_test', 'test_extremal_missing_values', 'psi_factor_classes_test_oos', 'psi_factor_classes_test_oot', 'test_key_metric', 'test_confidence_inteval', 'test_presicion', 'test_recall', 'test_2_5', 'test_3_1', 'test_3_2', 'test_feature_importance', 'test_4_2', 'test_key_metric_stability', 'test_presicion_stability', 'test_recall_stability', 'test_5_4', 'test_5_6', 'test_5_7'])"
      ]
     },
     "execution_count": 24,
     "metadata": {},
     "output_type": "execute_result"
    }
   ],
   "source": [
    "res.keys()"
   ]
  },
  {
   "cell_type": "code",
   "execution_count": null,
   "metadata": {},
   "outputs": [],
   "source": []
  }
 ],
 "metadata": {
  "kernelspec": {
   "display_name": "myenv",
   "language": "python",
   "name": "python3"
  },
  "language_info": {
   "codemirror_mode": {
    "name": "ipython",
    "version": 3
   },
   "file_extension": ".py",
   "mimetype": "text/x-python",
   "name": "python",
   "nbconvert_exporter": "python",
   "pygments_lexer": "ipython3",
   "version": "3.9.12"
  },
  "orig_nbformat": 4,
  "vscode": {
   "interpreter": {
    "hash": "ea1ba28ca3080e0412ec99e1bb1a997d4a43b70d799a956f8141a171308cbcce"
   }
  }
 },
 "nbformat": 4,
 "nbformat_minor": 2
}
