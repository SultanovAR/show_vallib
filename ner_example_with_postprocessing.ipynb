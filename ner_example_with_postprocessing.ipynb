{
 "cells": [
  {
   "cell_type": "code",
   "execution_count": 1,
   "metadata": {},
   "outputs": [],
   "source": [
    "%load_ext autoreload\n",
    "%autoreload 2"
   ]
  },
  {
   "cell_type": "code",
   "execution_count": 2,
   "metadata": {},
   "outputs": [
    {
     "name": "stderr",
     "output_type": "stream",
     "text": [
      "Found cached dataset conll2003 (/Users/azatsultanov/.cache/huggingface/datasets/conll2003/conll2003/1.0.0/9a4d16a94f8674ba3466315300359b0acd891b68b6c8743ddf60b9c702adce98)\n"
     ]
    },
    {
     "data": {
      "application/vnd.jupyter.widget-view+json": {
       "model_id": "c459f2017358489d88aa184909471ae2",
       "version_major": 2,
       "version_minor": 0
      },
      "text/plain": [
       "  0%|          | 0/3 [00:00<?, ?it/s]"
      ]
     },
     "metadata": {},
     "output_type": "display_data"
    },
    {
     "name": "stdout",
     "output_type": "stream",
     "text": [
      "['O', 'B-PER', 'I-PER', 'B-ORG', 'I-ORG', 'B-LOC', 'I-LOC', 'B-MISC', 'I-MISC']\n"
     ]
    },
    {
     "data": {
      "text/plain": [
       "{'id': '2',\n",
       " 'tokens': ['AL-AIN', ',', 'United', 'Arab', 'Emirates', '1996-12-06'],\n",
       " 'pos_tags': [22, 6, 22, 22, 23, 11],\n",
       " 'chunk_tags': [11, 0, 11, 12, 12, 12],\n",
       " 'ner_tags': [5, 0, 5, 6, 6, 0]}"
      ]
     },
     "execution_count": 2,
     "metadata": {},
     "output_type": "execute_result"
    }
   ],
   "source": [
    "import datasets\n",
    "conll = datasets.load_dataset(\"conll2003\")\n",
    "CONLL_NER_TAGS = conll['train'].features['ner_tags'].feature.names\n",
    "print(CONLL_NER_TAGS)\n",
    "conll[\"test\"][2]"
   ]
  },
  {
   "cell_type": "code",
   "execution_count": 3,
   "metadata": {},
   "outputs": [],
   "source": [
    "from transformers import (pipeline, \n",
    "        AutoModelForTokenClassification, AutoTokenizer, \n",
    "        BertForTokenClassification, BertTokenizer)\n",
    "\n",
    "# Load pretrained model and tokenizer for English NER task (dslim/bert-base-NER)\n",
    "model_name = \"dslim/bert-base-NER\"\n",
    "tokenizer = AutoTokenizer.from_pretrained(model_name)\n",
    "model = BertForTokenClassification.from_pretrained(model_name)"
   ]
  },
  {
   "cell_type": "code",
   "execution_count": 20,
   "metadata": {},
   "outputs": [],
   "source": [
    "import numpy as np\n",
    "import torch\n",
    "\n",
    "class ModelWrapper():\n",
    "    def __init__(self, model, tokenizer):\n",
    "        self.model = pipeline('ner', model=model, tokenizer=tokenizer, aggregation_strategy=None)\n",
    "\n",
    "    def _unite_entities(self, entities):\n",
    "        if len(entities) <= 1:\n",
    "            return entities\n",
    "\n",
    "        united_result = []\n",
    "        cur_entity = {key: entities[0][key] for key in ['entity', 'word', 'start', 'end']}\n",
    "        for entity in entities[1:]:\n",
    "            if entity['word'].startswith('##'):\n",
    "                cur_entity['word'] += entity['word'].lstrip('#')\n",
    "                cur_entity['end'] = entity['end']\n",
    "            else:\n",
    "                united_result.append(cur_entity)\n",
    "                cur_entity = {key: entity[key] for key in ['entity', 'word', 'start', 'end']}\n",
    "        united_result.append(cur_entity)\n",
    "        return united_result\n",
    "\n",
    "    def _convert_entities_to_bio(self, tokens, entities):\n",
    "        bio_tags = []\n",
    "        cur_entity_idx = 0\n",
    "        for token in tokens:\n",
    "            if (cur_entity_idx < len(entities))\\\n",
    "                    and (token == entities[cur_entity_idx]['word']):\n",
    "                bio_tags.append(entities[cur_entity_idx]['entity'])\n",
    "                cur_entity_idx += 1\n",
    "            else:\n",
    "                bio_tags.append('O')\n",
    "        return bio_tags\n",
    "\n",
    "    def _postprocessing(self, tokens, model_output):\n",
    "        entities = self._unite_entities(model_output)\n",
    "        bio_tags = self._convert_entities_to_bio(tokens, entities)\n",
    "        return bio_tags\n",
    "\n",
    "    def predict(self, X):\n",
    "        with torch.no_grad():\n",
    "            ner_entitites = self.model(X)\n",
    "            tags = []\n",
    "            for text, entities in zip(X, ner_entitites):\n",
    "                tags.append(self._postprocessing(text.split(), entities))\n",
    "            return tags\n",
    "\n",
    "wrapped_model = ModelWrapper(model, tokenizer)"
   ]
  },
  {
   "cell_type": "code",
   "execution_count": 21,
   "metadata": {},
   "outputs": [],
   "source": [
    "def preprocessing_dataset(dataset):\n",
    "    result = {'X': [], 'y_true': []}\n",
    "    for sample in dataset:\n",
    "        result['X'].append(' '.join(sample['tokens']))\n",
    "        result['y_true'].append([CONLL_NER_TAGS[tag] for tag in sample['ner_tags']])\n",
    "    return result"
   ]
  },
  {
   "cell_type": "code",
   "execution_count": 25,
   "metadata": {},
   "outputs": [],
   "source": [
    "# from itertools import islice\n",
    "\n",
    "\n",
    "# train_data = preprocessing_dataset(conll['train'])\n",
    "# train_data['y_pred'] = wrapped_model.predict(train_data['X'])"
   ]
  },
  {
   "cell_type": "code",
   "execution_count": 26,
   "metadata": {},
   "outputs": [],
   "source": [
    "\n",
    "# oos_data = preprocessing_dataset(conll['test'])\n",
    "# oos_data['y_pred'] = wrapped_model.predict(oos_data['X'])"
   ]
  },
  {
   "cell_type": "code",
   "execution_count": 29,
   "metadata": {},
   "outputs": [],
   "source": [
    "# import pickle\n",
    "\n",
    "# with open('./train_data.pkl', 'wb') as f:\n",
    "#     pickle.dump(train_data, f)\n",
    "# with open('./oos_data.pkl', 'wb') as f:\n",
    "#     pickle.dump(oos_data, f)\n"
   ]
  },
  {
   "cell_type": "code",
   "execution_count": 30,
   "metadata": {},
   "outputs": [],
   "source": [
    "import pickle\n",
    "\n",
    "with open('./train_data.pkl', 'rb') as f:\n",
    "    train_data = pickle.load(f)\n",
    "\n",
    "with open('./oos_data.pkl', 'rb') as f:\n",
    "    oos_data = pickle.load(f)"
   ]
  },
  {
   "cell_type": "code",
   "execution_count": 32,
   "metadata": {},
   "outputs": [
    {
     "data": {
      "text/plain": [
       "True"
      ]
     },
     "execution_count": 32,
     "metadata": {},
     "output_type": "execute_result"
    }
   ],
   "source": [
    "all([len(i) == len(j) for i, j in zip(train_data['y_true'], train_data['y_pred'])])\n"
   ]
  },
  {
   "cell_type": "code",
   "execution_count": 33,
   "metadata": {},
   "outputs": [
    {
     "data": {
      "text/plain": [
       "True"
      ]
     },
     "execution_count": 33,
     "metadata": {},
     "output_type": "execute_result"
    }
   ],
   "source": [
    "all([len(i) == len(j) for i, j in zip(oos_data['y_true'], oos_data['y_pred'])])\n"
   ]
  },
  {
   "cell_type": "code",
   "execution_count": 37,
   "metadata": {},
   "outputs": [],
   "source": [
    "from sbe_vallib.validation.sampler.ner_sampler import NerSampler\n",
    "\n",
    "sampler = NerSampler(train=train_data, oos=oos_data)\n",
    "sampler.set_seed(42, bootstrap=True)"
   ]
  },
  {
   "cell_type": "code",
   "execution_count": 39,
   "metadata": {},
   "outputs": [
    {
     "data": {
      "text/plain": [
       "['o']"
      ]
     },
     "execution_count": 39,
     "metadata": {},
     "output_type": "execute_result"
    }
   ],
   "source": [
    "'o'.split('-')"
   ]
  },
  {
   "cell_type": "code",
   "execution_count": 44,
   "metadata": {},
   "outputs": [
    {
     "data": {
      "text/plain": [
       "['PER', 'MISC', 'LOC', 'ORG']"
      ]
     },
     "execution_count": 44,
     "metadata": {},
     "output_type": "execute_result"
    }
   ],
   "source": [
    "list(set([tag.split('-')[-1] for tag in CONLL_NER_TAGS]) - set(['O']))"
   ]
  },
  {
   "cell_type": "code",
   "execution_count": 45,
   "metadata": {},
   "outputs": [],
   "source": [
    "from nervaluate import Evaluator\n",
    "\n",
    "evaluator = Evaluator(oos_data['y_true'], oos_data['y_pred'], tags=['PER', 'MISC', 'LOC', 'ORG'], loader='list')\n",
    "ner_metrics, ner_metrics_by_tag = evaluator.evaluate()"
   ]
  },
  {
   "cell_type": "code",
   "execution_count": 47,
   "metadata": {},
   "outputs": [
    {
     "data": {
      "text/plain": [
       "{'PER': {'ent_type': {'correct': 1117,\n",
       "   'incorrect': 33,\n",
       "   'partial': 0,\n",
       "   'missed': 467,\n",
       "   'spurious': 15,\n",
       "   'possible': 1617,\n",
       "   'actual': 1165,\n",
       "   'precision': 0.9587982832618026,\n",
       "   'recall': 0.6907854050711194,\n",
       "   'f1': 0.8030194104960461},\n",
       "  'partial': {'correct': 1097,\n",
       "   'incorrect': 0,\n",
       "   'partial': 53,\n",
       "   'missed': 467,\n",
       "   'spurious': 15,\n",
       "   'possible': 1617,\n",
       "   'actual': 1165,\n",
       "   'precision': 0.9643776824034335,\n",
       "   'recall': 0.6948051948051948,\n",
       "   'f1': 0.8076923076923076},\n",
       "  'strict': {'correct': 1069,\n",
       "   'incorrect': 81,\n",
       "   'partial': 0,\n",
       "   'missed': 467,\n",
       "   'spurious': 15,\n",
       "   'possible': 1617,\n",
       "   'actual': 1165,\n",
       "   'precision': 0.9175965665236051,\n",
       "   'recall': 0.6611008039579468,\n",
       "   'f1': 0.7685118619698059},\n",
       "  'exact': {'correct': 1097,\n",
       "   'incorrect': 53,\n",
       "   'partial': 0,\n",
       "   'missed': 467,\n",
       "   'spurious': 15,\n",
       "   'possible': 1617,\n",
       "   'actual': 1165,\n",
       "   'precision': 0.9416309012875537,\n",
       "   'recall': 0.6784168212739641,\n",
       "   'f1': 0.7886412652767792}},\n",
       " 'MISC': {'ent_type': {'correct': 475,\n",
       "   'incorrect': 33,\n",
       "   'partial': 0,\n",
       "   'missed': 194,\n",
       "   'spurious': 38,\n",
       "   'possible': 702,\n",
       "   'actual': 546,\n",
       "   'precision': 0.86996336996337,\n",
       "   'recall': 0.6766381766381766,\n",
       "   'f1': 0.7612179487179488},\n",
       "  'partial': {'correct': 479,\n",
       "   'incorrect': 0,\n",
       "   'partial': 29,\n",
       "   'missed': 194,\n",
       "   'spurious': 38,\n",
       "   'possible': 702,\n",
       "   'actual': 546,\n",
       "   'precision': 0.9038461538461539,\n",
       "   'recall': 0.7029914529914529,\n",
       "   'f1': 0.7908653846153845},\n",
       "  'strict': {'correct': 458,\n",
       "   'incorrect': 50,\n",
       "   'partial': 0,\n",
       "   'missed': 194,\n",
       "   'spurious': 38,\n",
       "   'possible': 702,\n",
       "   'actual': 546,\n",
       "   'precision': 0.8388278388278388,\n",
       "   'recall': 0.6524216524216524,\n",
       "   'f1': 0.733974358974359},\n",
       "  'exact': {'correct': 479,\n",
       "   'incorrect': 29,\n",
       "   'partial': 0,\n",
       "   'missed': 194,\n",
       "   'spurious': 38,\n",
       "   'possible': 702,\n",
       "   'actual': 546,\n",
       "   'precision': 0.8772893772893773,\n",
       "   'recall': 0.6823361823361823,\n",
       "   'f1': 0.767628205128205}},\n",
       " 'LOC': {'ent_type': {'correct': 1184,\n",
       "   'incorrect': 71,\n",
       "   'partial': 0,\n",
       "   'missed': 413,\n",
       "   'spurious': 14,\n",
       "   'possible': 1668,\n",
       "   'actual': 1269,\n",
       "   'precision': 0.9330181245074862,\n",
       "   'recall': 0.709832134292566,\n",
       "   'f1': 0.8062648961525366},\n",
       "  'partial': {'correct': 1235,\n",
       "   'incorrect': 0,\n",
       "   'partial': 20,\n",
       "   'missed': 413,\n",
       "   'spurious': 14,\n",
       "   'possible': 1668,\n",
       "   'actual': 1269,\n",
       "   'precision': 0.9810874704491725,\n",
       "   'recall': 0.7464028776978417,\n",
       "   'f1': 0.8478038815117467},\n",
       "  'strict': {'correct': 1176,\n",
       "   'incorrect': 79,\n",
       "   'partial': 0,\n",
       "   'missed': 413,\n",
       "   'spurious': 14,\n",
       "   'possible': 1668,\n",
       "   'actual': 1269,\n",
       "   'precision': 0.9267139479905437,\n",
       "   'recall': 0.7050359712230215,\n",
       "   'f1': 0.800817160367722},\n",
       "  'exact': {'correct': 1235,\n",
       "   'incorrect': 20,\n",
       "   'partial': 0,\n",
       "   'missed': 413,\n",
       "   'spurious': 14,\n",
       "   'possible': 1668,\n",
       "   'actual': 1269,\n",
       "   'precision': 0.9732072498029944,\n",
       "   'recall': 0.7404076738609112,\n",
       "   'f1': 0.8409942117807286}},\n",
       " 'ORG': {'ent_type': {'correct': 1403,\n",
       "   'incorrect': 77,\n",
       "   'partial': 0,\n",
       "   'missed': 181,\n",
       "   'spurious': 37,\n",
       "   'possible': 1661,\n",
       "   'actual': 1517,\n",
       "   'precision': 0.924851680949242,\n",
       "   'recall': 0.8446718844069837,\n",
       "   'f1': 0.8829452485840151},\n",
       "  'partial': {'correct': 1418,\n",
       "   'incorrect': 0,\n",
       "   'partial': 62,\n",
       "   'missed': 181,\n",
       "   'spurious': 37,\n",
       "   'possible': 1661,\n",
       "   'actual': 1517,\n",
       "   'precision': 0.9551746868820039,\n",
       "   'recall': 0.872366044551475,\n",
       "   'f1': 0.9118942731277533},\n",
       "  'strict': {'correct': 1364,\n",
       "   'incorrect': 116,\n",
       "   'partial': 0,\n",
       "   'missed': 181,\n",
       "   'spurious': 37,\n",
       "   'possible': 1661,\n",
       "   'actual': 1517,\n",
       "   'precision': 0.8991430454845089,\n",
       "   'recall': 0.8211920529801324,\n",
       "   'f1': 0.8584015103838892},\n",
       "  'exact': {'correct': 1418,\n",
       "   'incorrect': 62,\n",
       "   'partial': 0,\n",
       "   'missed': 181,\n",
       "   'spurious': 37,\n",
       "   'possible': 1661,\n",
       "   'actual': 1517,\n",
       "   'precision': 0.934739617666447,\n",
       "   'recall': 0.8537025888019265,\n",
       "   'f1': 0.8923851478917558}}}"
      ]
     },
     "execution_count": 47,
     "metadata": {},
     "output_type": "execute_result"
    }
   ],
   "source": [
    "ner_metrics_by_tag"
   ]
  },
  {
   "cell_type": "code",
   "execution_count": 53,
   "metadata": {},
   "outputs": [],
   "source": [
    "from sbe_vallib.validation.scorer.base import BaseScorer\n",
    "\n",
    "class NerScorer(BaseScorer):\n",
    "    def __init__(self, metrics: dict,\n",
    "                 custom_metrics={},\n",
    "                 is_calc_ner_metrics=True,\n",
    "                 tags=['PER', 'MISC', 'LOC', 'ORG'],\n",
    "                 **kwargs, ):\n",
    "        super().__init__(metrics, custom_metrics)\n",
    "        self.tags = tags\n",
    "        self.is_calc_ner_metrics = is_calc_ner_metrics\n",
    "\n",
    "    def ner_metrics(self, y_true, y_pred):\n",
    "        answer = {}\n",
    "        evaluator = Evaluator(y_true, y_pred, tags=self.tags, loader='list')\n",
    "        ner_metrics, ner_metrics_by_tag = evaluator.evaluate()\n",
    "\n",
    "        for schema in ['ent_type', 'partial', 'strict', 'exact']:\n",
    "            for metric in ['f1', 'recall', 'precision']:\n",
    "                answer[f\"{schema}_{metric}\"] = ner_metrics[schema][metric]\n",
    "                for tag in self.tags:\n",
    "                    answer[f\"{schema}_{metric}_by_{tag}\"] = ner_metrics_by_tag[tag][schema][metric]\n",
    "        return answer\n",
    "\n",
    "    def score(self, y_true, y_pred, **kwargs):\n",
    "        answer = {}\n",
    "        for metric_name in self.metrics:\n",
    "            answer[metric_name] = self.metrics[metric_name][\"callable\"](\n",
    "                y_true, y_pred\n",
    "            )\n",
    "        if self.is_calc_ner_metrics:\n",
    "            answer.update(self.ner_metrics(y_true, y_pred))    \n",
    "        return answer\n",
    "\n",
    "\n",
    "scorer = NerScorer({}, {})\n",
    "scores = scorer.score(oos_data['y_true'], oos_data['y_pred'])"
   ]
  },
  {
   "cell_type": "code",
   "execution_count": 54,
   "metadata": {},
   "outputs": [
    {
     "data": {
      "text/plain": [
       "{'ent_type_f1': 0.8238541153277475,\n",
       " 'ent_type_f1_by_PER': 0.8030194104960461,\n",
       " 'ent_type_f1_by_MISC': 0.7612179487179488,\n",
       " 'ent_type_f1_by_LOC': 0.8062648961525366,\n",
       " 'ent_type_f1_by_ORG': 0.8829452485840151,\n",
       " 'ent_type_recall': 0.7399079320113314,\n",
       " 'ent_type_recall_by_PER': 0.6907854050711194,\n",
       " 'ent_type_recall_by_MISC': 0.6766381766381766,\n",
       " 'ent_type_recall_by_LOC': 0.709832134292566,\n",
       " 'ent_type_recall_by_ORG': 0.8446718844069837,\n",
       " 'ent_type_precision': 0.9292861907938625,\n",
       " 'ent_type_precision_by_PER': 0.9587982832618026,\n",
       " 'ent_type_precision_by_MISC': 0.86996336996337,\n",
       " 'ent_type_precision_by_LOC': 0.9330181245074862,\n",
       " 'ent_type_precision_by_ORG': 0.924851680949242,\n",
       " 'partial_f1': 0.8498767865943814,\n",
       " 'partial_f1_by_PER': 0.8076923076923076,\n",
       " 'partial_f1_by_MISC': 0.7908653846153845,\n",
       " 'partial_f1_by_LOC': 0.8478038815117467,\n",
       " 'partial_f1_by_ORG': 0.9118942731277533,\n",
       " 'partial_recall': 0.7632790368271954,\n",
       " 'partial_recall_by_PER': 0.6948051948051948,\n",
       " 'partial_recall_by_MISC': 0.7029914529914529,\n",
       " 'partial_recall_by_LOC': 0.7464028776978417,\n",
       " 'partial_recall_by_ORG': 0.872366044551475,\n",
       " 'partial_precision': 0.9586390927284857,\n",
       " 'partial_precision_by_PER': 0.9643776824034335,\n",
       " 'partial_precision_by_MISC': 0.9038461538461539,\n",
       " 'partial_precision_by_LOC': 0.9810874704491725,\n",
       " 'partial_precision_by_ORG': 0.9551746868820039,\n",
       " 'strict_f1': 0.8017742730409069,\n",
       " 'strict_f1_by_PER': 0.7685118619698059,\n",
       " 'strict_f1_by_MISC': 0.733974358974359,\n",
       " 'strict_f1_by_LOC': 0.800817160367722,\n",
       " 'strict_f1_by_ORG': 0.8584015103838892,\n",
       " 'strict_recall': 0.7200779036827195,\n",
       " 'strict_recall_by_PER': 0.6611008039579468,\n",
       " 'strict_recall_by_MISC': 0.6524216524216524,\n",
       " 'strict_recall_by_LOC': 0.7050359712230215,\n",
       " 'strict_recall_by_ORG': 0.8211920529801324,\n",
       " 'strict_precision': 0.9043806982432733,\n",
       " 'strict_precision_by_PER': 0.9175965665236051,\n",
       " 'strict_precision_by_MISC': 0.8388278388278388,\n",
       " 'strict_precision_by_LOC': 0.9267139479905437,\n",
       " 'strict_precision_by_ORG': 0.8991430454845089,\n",
       " 'exact_f1': 0.8337111877772303,\n",
       " 'exact_f1_by_PER': 0.7886412652767792,\n",
       " 'exact_f1_by_MISC': 0.767628205128205,\n",
       " 'exact_f1_by_LOC': 0.8409942117807286,\n",
       " 'exact_f1_by_ORG': 0.8923851478917558,\n",
       " 'exact_recall': 0.7487606232294618,\n",
       " 'exact_recall_by_PER': 0.6784168212739641,\n",
       " 'exact_recall_by_MISC': 0.6823361823361823,\n",
       " 'exact_recall_by_LOC': 0.7404076738609112,\n",
       " 'exact_recall_by_ORG': 0.8537025888019265,\n",
       " 'exact_precision': 0.9404047142539471,\n",
       " 'exact_precision_by_PER': 0.9416309012875537,\n",
       " 'exact_precision_by_MISC': 0.8772893772893773,\n",
       " 'exact_precision_by_LOC': 0.9732072498029944,\n",
       " 'exact_precision_by_ORG': 0.934739617666447}"
      ]
     },
     "execution_count": 54,
     "metadata": {},
     "output_type": "execute_result"
    }
   ],
   "source": [
    "scores"
   ]
  },
  {
   "cell_type": "code",
   "execution_count": null,
   "metadata": {},
   "outputs": [],
   "source": []
  }
 ],
 "metadata": {
  "kernelspec": {
   "display_name": "vallib_env",
   "language": "python",
   "name": "python3"
  },
  "language_info": {
   "codemirror_mode": {
    "name": "ipython",
    "version": 3
   },
   "file_extension": ".py",
   "mimetype": "text/x-python",
   "name": "python",
   "nbconvert_exporter": "python",
   "pygments_lexer": "ipython3",
   "version": "3.8.5"
  },
  "orig_nbformat": 4,
  "vscode": {
   "interpreter": {
    "hash": "d4cc85873d42337b9e9e8da282a699b0819447065cfa6c32ea38d6a740a63d56"
   }
  }
 },
 "nbformat": 4,
 "nbformat_minor": 2
}
