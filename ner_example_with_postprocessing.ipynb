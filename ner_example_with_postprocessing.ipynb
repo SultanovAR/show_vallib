{
 "cells": [
  {
   "cell_type": "code",
   "execution_count": 1,
   "metadata": {},
   "outputs": [],
   "source": [
    "%load_ext autoreload\n",
    "%autoreload 2"
   ]
  },
  {
   "cell_type": "code",
   "execution_count": 2,
   "metadata": {},
   "outputs": [
    {
     "name": "stderr",
     "output_type": "stream",
     "text": [
      "Found cached dataset conll2003 (/Users/azatsultanov/.cache/huggingface/datasets/conll2003/conll2003/1.0.0/9a4d16a94f8674ba3466315300359b0acd891b68b6c8743ddf60b9c702adce98)\n"
     ]
    },
    {
     "data": {
      "application/vnd.jupyter.widget-view+json": {
       "model_id": "5c5cf1bec2af48c78a5e5a54dd9b7483",
       "version_major": 2,
       "version_minor": 0
      },
      "text/plain": [
       "  0%|          | 0/3 [00:00<?, ?it/s]"
      ]
     },
     "metadata": {},
     "output_type": "display_data"
    },
    {
     "name": "stdout",
     "output_type": "stream",
     "text": [
      "['O', 'B-PER', 'I-PER', 'B-ORG', 'I-ORG', 'B-LOC', 'I-LOC', 'B-MISC', 'I-MISC']\n"
     ]
    },
    {
     "data": {
      "text/plain": [
       "{'id': '2',\n",
       " 'tokens': ['AL-AIN', ',', 'United', 'Arab', 'Emirates', '1996-12-06'],\n",
       " 'pos_tags': [22, 6, 22, 22, 23, 11],\n",
       " 'chunk_tags': [11, 0, 11, 12, 12, 12],\n",
       " 'ner_tags': [5, 0, 5, 6, 6, 0]}"
      ]
     },
     "execution_count": 2,
     "metadata": {},
     "output_type": "execute_result"
    }
   ],
   "source": [
    "import datasets\n",
    "conll = datasets.load_dataset(\"conll2003\")\n",
    "CONLL_NER_TAGS = conll['train'].features['ner_tags'].feature.names\n",
    "print(CONLL_NER_TAGS)\n",
    "conll[\"test\"][2]"
   ]
  },
  {
   "cell_type": "code",
   "execution_count": 3,
   "metadata": {},
   "outputs": [],
   "source": [
    "from transformers import (pipeline, \n",
    "        AutoModelForTokenClassification, AutoTokenizer, \n",
    "        BertForTokenClassification, BertTokenizer)\n",
    "\n",
    "# Load pretrained model and tokenizer for English NER task (dslim/bert-base-NER)\n",
    "model_name = \"dslim/bert-base-NER\"\n",
    "tokenizer = AutoTokenizer.from_pretrained(model_name)\n",
    "model = BertForTokenClassification.from_pretrained(model_name)"
   ]
  },
  {
   "cell_type": "code",
   "execution_count": 4,
   "metadata": {},
   "outputs": [],
   "source": [
    "import numpy as np\n",
    "import torch\n",
    "\n",
    "class ModelWrapper():\n",
    "    def __init__(self, model, tokenizer):\n",
    "        self.model = pipeline('ner', model=model, tokenizer=tokenizer, aggregation_strategy=None)\n",
    "\n",
    "    def _unite_entities(self, entities):\n",
    "        if len(entities) <= 1:\n",
    "            return entities\n",
    "\n",
    "        united_result = []\n",
    "        cur_entity = {key: entities[0][key] for key in ['entity', 'word', 'start', 'end']}\n",
    "        for entity in entities[1:]:\n",
    "            if entity['word'].startswith('##'):\n",
    "                cur_entity['word'] += entity['word'].lstrip('#')\n",
    "                cur_entity['end'] = entity['end']\n",
    "            else:\n",
    "                united_result.append(cur_entity)\n",
    "                cur_entity = {key: entity[key] for key in ['entity', 'word', 'start', 'end']}\n",
    "        united_result.append(cur_entity)\n",
    "        return united_result\n",
    "\n",
    "    def _convert_entities_to_bio(self, tokens, entities):\n",
    "        bio_tags = []\n",
    "        cur_entity_idx = 0\n",
    "        for token in tokens:\n",
    "            if (cur_entity_idx < len(entities))\\\n",
    "                    and (token == entities[cur_entity_idx]['word']):\n",
    "                bio_tags.append(entities[cur_entity_idx]['entity'])\n",
    "                cur_entity_idx += 1\n",
    "            else:\n",
    "                bio_tags.append('O')\n",
    "        return bio_tags\n",
    "\n",
    "    def _postprocessing(self, tokens, model_output):\n",
    "        entities = self._unite_entities(model_output)\n",
    "        bio_tags = self._convert_entities_to_bio(tokens, entities)\n",
    "        return bio_tags\n",
    "\n",
    "    def predict(self, X):\n",
    "        with torch.no_grad():\n",
    "            ner_entitites = self.model(X)\n",
    "            tags = []\n",
    "            for text, entities in zip(X, ner_entitites):\n",
    "                tags.append(self._postprocessing(text.split(), entities))\n",
    "            return tags\n",
    "\n",
    "wrapped_model = ModelWrapper(model, tokenizer)"
   ]
  },
  {
   "cell_type": "code",
   "execution_count": 5,
   "metadata": {},
   "outputs": [],
   "source": [
    "def preprocessing_dataset(dataset):\n",
    "    result = {'X': [], 'y_true': []}\n",
    "    for sample in dataset:\n",
    "        result['X'].append(' '.join(sample['tokens']))\n",
    "        result['y_true'].append([CONLL_NER_TAGS[tag] for tag in sample['ner_tags']])\n",
    "    return result"
   ]
  },
  {
   "cell_type": "code",
   "execution_count": 6,
   "metadata": {},
   "outputs": [],
   "source": [
    "# from itertools import islice\n",
    "\n",
    "\n",
    "# train_data = preprocessing_dataset(conll['train'])\n",
    "# train_data['y_pred'] = wrapped_model.predict(train_data['X'])"
   ]
  },
  {
   "cell_type": "code",
   "execution_count": 7,
   "metadata": {},
   "outputs": [],
   "source": [
    "\n",
    "# oos_data = preprocessing_dataset(conll['test'])\n",
    "# oos_data['y_pred'] = wrapped_model.predict(oos_data['X'])"
   ]
  },
  {
   "cell_type": "code",
   "execution_count": 8,
   "metadata": {},
   "outputs": [],
   "source": [
    "# import pickle\n",
    "\n",
    "# with open('./train_data.pkl', 'wb') as f:\n",
    "#     pickle.dump(train_data, f)\n",
    "# with open('./oos_data.pkl', 'wb') as f:\n",
    "#     pickle.dump(oos_data, f)\n"
   ]
  },
  {
   "cell_type": "code",
   "execution_count": 9,
   "metadata": {},
   "outputs": [],
   "source": [
    "import pickle\n",
    "\n",
    "with open('./train_data.pkl', 'rb') as f:\n",
    "    train_data = pickle.load(f)\n",
    "\n",
    "with open('./oos_data.pkl', 'rb') as f:\n",
    "    oos_data = pickle.load(f)"
   ]
  },
  {
   "cell_type": "code",
   "execution_count": 10,
   "metadata": {},
   "outputs": [
    {
     "data": {
      "text/plain": [
       "True"
      ]
     },
     "execution_count": 10,
     "metadata": {},
     "output_type": "execute_result"
    }
   ],
   "source": [
    "all([len(i) == len(j) for i, j in zip(train_data['y_true'], train_data['y_pred'])])\n"
   ]
  },
  {
   "cell_type": "code",
   "execution_count": 11,
   "metadata": {},
   "outputs": [
    {
     "data": {
      "text/plain": [
       "True"
      ]
     },
     "execution_count": 11,
     "metadata": {},
     "output_type": "execute_result"
    }
   ],
   "source": [
    "all([len(i) == len(j) for i, j in zip(oos_data['y_true'], oos_data['y_pred'])])\n"
   ]
  },
  {
   "cell_type": "code",
   "execution_count": 12,
   "metadata": {},
   "outputs": [],
   "source": [
    "from sbe_vallib.validation.sampler.ner_sampler import NerSampler\n",
    "\n",
    "sampler = NerSampler(train=train_data, oos=oos_data)\n",
    "sampler.set_seed(42, bootstrap=True)"
   ]
  },
  {
   "cell_type": "code",
   "execution_count": 13,
   "metadata": {},
   "outputs": [
    {
     "data": {
      "text/plain": [
       "['LOC', 'ORG', 'MISC', 'PER']"
      ]
     },
     "execution_count": 13,
     "metadata": {},
     "output_type": "execute_result"
    }
   ],
   "source": [
    "list(set([tag.split('-')[-1] for tag in CONLL_NER_TAGS]) - set(['O']))"
   ]
  },
  {
   "cell_type": "code",
   "execution_count": 14,
   "metadata": {},
   "outputs": [],
   "source": [
    "from sbe_vallib.validation.scorer.ner_scorer import NerScorer\n",
    "from sbe_vallib.validation.utils.metrics import NER_IOB_METRICS\n",
    "\n",
    "\n",
    "scorer = NerScorer(metrics=NER_IOB_METRICS, is_calc_ner_metrics=False, tags=['PER', 'MISC', 'LOC', 'ORG'])\n",
    "scores = scorer.score(oos_data['y_true'], oos_data['y_pred'])"
   ]
  },
  {
   "cell_type": "code",
   "execution_count": 17,
   "metadata": {},
   "outputs": [
    {
     "data": {
      "text/plain": [
       "{'LOC': {'precision': 0.9363057324840764,\n",
       "  'recall': 0.7050359712230215,\n",
       "  'f1-score': 0.8043775649794801,\n",
       "  'support': 1668},\n",
       " 'MISC': {'precision': 0.804920913884007,\n",
       "  'recall': 0.6524216524216524,\n",
       "  'f1-score': 0.7206923682140047,\n",
       "  'support': 702},\n",
       " 'ORG': {'precision': 0.8944262295081967,\n",
       "  'recall': 0.8211920529801324,\n",
       "  'f1-score': 0.8562460765850596,\n",
       "  'support': 1661},\n",
       " 'PER': {'precision': 0.9319965126416739,\n",
       "  'recall': 0.6611008039579468,\n",
       "  'f1-score': 0.7735166425470332,\n",
       "  'support': 1617},\n",
       " 'micro avg': {'precision': 0.9043806982432733,\n",
       "  'recall': 0.7200779036827195,\n",
       "  'f1-score': 0.8017742730409069,\n",
       "  'support': 5648},\n",
       " 'macro avg': {'precision': 0.8919123471294885,\n",
       "  'recall': 0.7099376201456882,\n",
       "  'f1-score': 0.7887081630813945,\n",
       "  'support': 5648},\n",
       " 'weighted avg': {'precision': 0.9064257739880867,\n",
       "  'recall': 0.7200779036827195,\n",
       "  'f1-score': 0.800394646791491,\n",
       "  'support': 5648}}"
      ]
     },
     "execution_count": 17,
     "metadata": {},
     "output_type": "execute_result"
    }
   ],
   "source": [
    "from seqeval.metrics import classification_report\n",
    "\n",
    "report = classification_report(oos_data['y_true'], oos_data['y_pred'], output_dict=True)\n",
    "report"
   ]
  },
  {
   "cell_type": "code",
   "execution_count": 15,
   "metadata": {},
   "outputs": [
    {
     "data": {
      "text/plain": [
       "{'precision': 0.9043806982432733,\n",
       " 'f1': 0.8017742730409069,\n",
       " 'recall': 0.7200779036827195}"
      ]
     },
     "execution_count": 15,
     "metadata": {},
     "output_type": "execute_result"
    }
   ],
   "source": [
    "sampler."
   ]
  },
  {
   "cell_type": "code",
   "execution_count": 16,
   "metadata": {},
   "outputs": [
    {
     "data": {
      "text/plain": [
       "{'ent_type_f1': 0.8238541153277475,\n",
       " 'ent_type_f1_by_PER': 0.8030194104960461,\n",
       " 'ent_type_f1_by_MISC': 0.7612179487179488,\n",
       " 'ent_type_f1_by_LOC': 0.8062648961525366,\n",
       " 'ent_type_f1_by_ORG': 0.8829452485840151,\n",
       " 'ent_type_recall': 0.7399079320113314,\n",
       " 'ent_type_recall_by_PER': 0.6907854050711194,\n",
       " 'ent_type_recall_by_MISC': 0.6766381766381766,\n",
       " 'ent_type_recall_by_LOC': 0.709832134292566,\n",
       " 'ent_type_recall_by_ORG': 0.8446718844069837,\n",
       " 'ent_type_precision': 0.9292861907938625,\n",
       " 'ent_type_precision_by_PER': 0.9587982832618026,\n",
       " 'ent_type_precision_by_MISC': 0.86996336996337,\n",
       " 'ent_type_precision_by_LOC': 0.9330181245074862,\n",
       " 'ent_type_precision_by_ORG': 0.924851680949242,\n",
       " 'partial_f1': 0.8498767865943814,\n",
       " 'partial_f1_by_PER': 0.8076923076923076,\n",
       " 'partial_f1_by_MISC': 0.7908653846153845,\n",
       " 'partial_f1_by_LOC': 0.8478038815117467,\n",
       " 'partial_f1_by_ORG': 0.9118942731277533,\n",
       " 'partial_recall': 0.7632790368271954,\n",
       " 'partial_recall_by_PER': 0.6948051948051948,\n",
       " 'partial_recall_by_MISC': 0.7029914529914529,\n",
       " 'partial_recall_by_LOC': 0.7464028776978417,\n",
       " 'partial_recall_by_ORG': 0.872366044551475,\n",
       " 'partial_precision': 0.9586390927284857,\n",
       " 'partial_precision_by_PER': 0.9643776824034335,\n",
       " 'partial_precision_by_MISC': 0.9038461538461539,\n",
       " 'partial_precision_by_LOC': 0.9810874704491725,\n",
       " 'partial_precision_by_ORG': 0.9551746868820039,\n",
       " 'strict_f1': 0.8017742730409069,\n",
       " 'strict_f1_by_PER': 0.7685118619698059,\n",
       " 'strict_f1_by_MISC': 0.733974358974359,\n",
       " 'strict_f1_by_LOC': 0.800817160367722,\n",
       " 'strict_f1_by_ORG': 0.8584015103838892,\n",
       " 'strict_recall': 0.7200779036827195,\n",
       " 'strict_recall_by_PER': 0.6611008039579468,\n",
       " 'strict_recall_by_MISC': 0.6524216524216524,\n",
       " 'strict_recall_by_LOC': 0.7050359712230215,\n",
       " 'strict_recall_by_ORG': 0.8211920529801324,\n",
       " 'strict_precision': 0.9043806982432733,\n",
       " 'strict_precision_by_PER': 0.9175965665236051,\n",
       " 'strict_precision_by_MISC': 0.8388278388278388,\n",
       " 'strict_precision_by_LOC': 0.9267139479905437,\n",
       " 'strict_precision_by_ORG': 0.8991430454845089,\n",
       " 'exact_f1': 0.8337111877772303,\n",
       " 'exact_f1_by_PER': 0.7886412652767792,\n",
       " 'exact_f1_by_MISC': 0.767628205128205,\n",
       " 'exact_f1_by_LOC': 0.8409942117807286,\n",
       " 'exact_f1_by_ORG': 0.8923851478917558,\n",
       " 'exact_recall': 0.7487606232294618,\n",
       " 'exact_recall_by_PER': 0.6784168212739641,\n",
       " 'exact_recall_by_MISC': 0.6823361823361823,\n",
       " 'exact_recall_by_LOC': 0.7404076738609112,\n",
       " 'exact_recall_by_ORG': 0.8537025888019265,\n",
       " 'exact_precision': 0.9404047142539471,\n",
       " 'exact_precision_by_PER': 0.9416309012875537,\n",
       " 'exact_precision_by_MISC': 0.8772893772893773,\n",
       " 'exact_precision_by_LOC': 0.9732072498029944,\n",
       " 'exact_precision_by_ORG': 0.934739617666447}"
      ]
     },
     "execution_count": 16,
     "metadata": {},
     "output_type": "execute_result"
    }
   ],
   "source": [
    "scorer.ner_metrics(oos_data['y_true'], oos_data['y_pred'])"
   ]
  },
  {
   "cell_type": "code",
   "execution_count": null,
   "metadata": {},
   "outputs": [],
   "source": []
  }
 ],
 "metadata": {
  "kernelspec": {
   "display_name": "vallib_env",
   "language": "python",
   "name": "python3"
  },
  "language_info": {
   "codemirror_mode": {
    "name": "ipython",
    "version": 3
   },
   "file_extension": ".py",
   "mimetype": "text/x-python",
   "name": "python",
   "nbconvert_exporter": "python",
   "pygments_lexer": "ipython3",
   "version": "3.8.5 (default, Sep  4 2020, 02:22:02) \n[Clang 10.0.0 ]"
  },
  "orig_nbformat": 4,
  "vscode": {
   "interpreter": {
    "hash": "d4cc85873d42337b9e9e8da282a699b0819447065cfa6c32ea38d6a740a63d56"
   }
  }
 },
 "nbformat": 4,
 "nbformat_minor": 2
}
