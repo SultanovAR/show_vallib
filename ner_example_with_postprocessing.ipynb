{
 "cells": [
  {
   "cell_type": "code",
   "execution_count": 1,
   "metadata": {},
   "outputs": [],
   "source": [
    "%load_ext autoreload\n",
    "%autoreload 2"
   ]
  },
  {
   "cell_type": "code",
   "execution_count": 2,
   "metadata": {},
   "outputs": [
    {
     "name": "stderr",
     "output_type": "stream",
     "text": [
      "Found cached dataset conll2003 (/Users/kirillsergeev/.cache/huggingface/datasets/conll2003/conll2003/1.0.0/9a4d16a94f8674ba3466315300359b0acd891b68b6c8743ddf60b9c702adce98)\n",
      "100%|██████████| 3/3 [00:00<00:00, 484.26it/s]"
     ]
    },
    {
     "name": "stdout",
     "output_type": "stream",
     "text": [
      "['O', 'B-PER', 'I-PER', 'B-ORG', 'I-ORG', 'B-LOC', 'I-LOC', 'B-MISC', 'I-MISC']\n"
     ]
    },
    {
     "name": "stderr",
     "output_type": "stream",
     "text": [
      "\n"
     ]
    },
    {
     "data": {
      "text/plain": [
       "{'id': '2',\n",
       " 'tokens': ['AL-AIN', ',', 'United', 'Arab', 'Emirates', '1996-12-06'],\n",
       " 'pos_tags': [22, 6, 22, 22, 23, 11],\n",
       " 'chunk_tags': [11, 0, 11, 12, 12, 12],\n",
       " 'ner_tags': [5, 0, 5, 6, 6, 0]}"
      ]
     },
     "execution_count": 2,
     "metadata": {},
     "output_type": "execute_result"
    }
   ],
   "source": [
    "import datasets\n",
    "conll = datasets.load_dataset(\"conll2003\")\n",
    "CONLL_NER_TAGS = conll['train'].features['ner_tags'].feature.names\n",
    "print(CONLL_NER_TAGS)\n",
    "conll[\"test\"][2]"
   ]
  },
  {
   "cell_type": "code",
   "execution_count": 3,
   "metadata": {},
   "outputs": [],
   "source": [
    "from transformers import (pipeline, \n",
    "        AutoModelForTokenClassification, AutoTokenizer, \n",
    "        BertForTokenClassification, BertTokenizer)\n",
    "\n",
    "# Load pretrained model and tokenizer for English NER task (dslim/bert-base-NER)\n",
    "model_name = \"dslim/bert-base-NER\"\n",
    "tokenizer = AutoTokenizer.from_pretrained(model_name)\n",
    "model = BertForTokenClassification.from_pretrained(model_name)"
   ]
  },
  {
   "cell_type": "code",
   "execution_count": 4,
   "metadata": {},
   "outputs": [],
   "source": [
    "import numpy as np\n",
    "import torch\n",
    "from tqdm import tqdm\n",
    "\n",
    "class ModelWrapper():\n",
    "    def __init__(self, model, tokenizer):\n",
    "        self.model = pipeline('ner', model=model, tokenizer=tokenizer, aggregation_strategy=None)\n",
    "\n",
    "    def _unite_entities(self, entities):\n",
    "        if len(entities) <= 1:\n",
    "            return entities\n",
    "\n",
    "        united_result = []\n",
    "        cur_entity = {key: entities[0][key] for key in ['entity', 'word', 'start', 'end']}\n",
    "        for entity in entities[1:]:\n",
    "            if entity['word'].startswith('##'):\n",
    "                cur_entity['word'] += entity['word'].lstrip('#')\n",
    "                cur_entity['end'] = entity['end']\n",
    "            else:\n",
    "                united_result.append(cur_entity)\n",
    "                cur_entity = {key: entity[key] for key in ['entity', 'word', 'start', 'end']}\n",
    "        united_result.append(cur_entity)\n",
    "        return united_result\n",
    "\n",
    "    def _convert_entities_to_bio(self, tokens, entities):\n",
    "        bio_tags = []\n",
    "        cur_entity_idx = 0\n",
    "        for token in tokens:\n",
    "            if (cur_entity_idx < len(entities))\\\n",
    "                    and (token == entities[cur_entity_idx]['word']):\n",
    "                bio_tags.append(entities[cur_entity_idx]['entity'])\n",
    "                cur_entity_idx += 1\n",
    "            else:\n",
    "                bio_tags.append('O')\n",
    "        return bio_tags\n",
    "\n",
    "    def _postprocessing(self, tokens, model_output):\n",
    "        entities = self._unite_entities(model_output)\n",
    "        bio_tags = self._convert_entities_to_bio(tokens, entities)\n",
    "        return bio_tags\n",
    "\n",
    "    def predict(self, X):\n",
    "        with torch.no_grad():\n",
    "            ner_entitites = self.model(X)\n",
    "            tags = []\n",
    "            for text, entities in tqdm(zip(X, ner_entitites)):\n",
    "                tags.append(self._postprocessing(text.split(), entities))\n",
    "            return tags\n",
    "\n",
    "wrapped_model = ModelWrapper(model, tokenizer)"
   ]
  },
  {
   "cell_type": "code",
   "execution_count": 5,
   "metadata": {},
   "outputs": [],
   "source": [
    "def preprocessing_dataset(dataset):\n",
    "    result = {'X': [], 'y_true': []}\n",
    "    for sample in dataset:\n",
    "        result['X'].append(' '.join(sample['tokens']))\n",
    "        result['y_true'].append([CONLL_NER_TAGS[tag] for tag in sample['ner_tags']])\n",
    "    return result"
   ]
  },
  {
   "cell_type": "code",
   "execution_count": 6,
   "metadata": {},
   "outputs": [],
   "source": [
    "# from itertools import islice\n",
    "# train_data = preprocessing_dataset(conll['train'])\n",
    "# train_data['y_pred'] = wrapped_model.predict(train_data['X'])\n",
    "\n",
    "# oos_data = preprocessing_dataset(conll['test'])\n",
    "# oos_data['y_pred'] = wrapped_model.predict(oos_data['X'])"
   ]
  },
  {
   "cell_type": "code",
   "execution_count": 9,
   "metadata": {},
   "outputs": [],
   "source": [
    "# import pickle\n",
    "\n",
    "# with open('./train_data.pkl', 'wb') as f:\n",
    "#     pickle.dump(train_data, f)\n",
    "# with open('./oos_data.pkl', 'wb') as f:\n",
    "#     pickle.dump(oos_data, f)"
   ]
  },
  {
   "cell_type": "code",
   "execution_count": 9,
   "metadata": {},
   "outputs": [],
   "source": [
    "import pickle\n",
    "\n",
    "with open('./train_data.pkl', 'rb') as f:\n",
    "    train_data = pickle.load(f)\n",
    "\n",
    "with open('./oos_data.pkl', 'rb') as f:\n",
    "    oos_data = pickle.load(f)"
   ]
  },
  {
   "cell_type": "code",
   "execution_count": 16,
   "metadata": {},
   "outputs": [
    {
     "name": "stdout",
     "output_type": "stream",
     "text": [
      "True\n",
      "True\n"
     ]
    }
   ],
   "source": [
    "print(all([len(i) == len(j) for i, j in zip(train_data['y_true'], train_data['y_pred'])]))\n",
    "print(all([len(i) == len(j) for i, j in zip(oos_data['y_true'], oos_data['y_pred'])]))"
   ]
  },
  {
   "cell_type": "code",
   "execution_count": 18,
   "metadata": {},
   "outputs": [],
   "source": [
    "from sbe_vallib.validation.sampler.ner_sampler import NerSampler\n",
    "\n",
    "sampler = NerSampler(train=train_data, oos=oos_data)\n",
    "sampler.set_seed(42, bootstrap=True)"
   ]
  },
  {
   "cell_type": "code",
   "execution_count": 19,
   "metadata": {},
   "outputs": [
    {
     "data": {
      "text/plain": [
       "['PER', 'MISC', 'ORG', 'LOC']"
      ]
     },
     "execution_count": 19,
     "metadata": {},
     "output_type": "execute_result"
    }
   ],
   "source": [
    "list(set([tag.split('-')[-1] for tag in CONLL_NER_TAGS]) - set(['O']))"
   ]
  },
  {
   "cell_type": "code",
   "execution_count": 21,
   "metadata": {},
   "outputs": [],
   "source": [
    "from sbe_vallib.validation.scorer.ner_scorer import NerScorer\n",
    "from sbe_vallib.validation.utils.metrics import NER_IOB_METRICS\n",
    "\n",
    "scorer = NerScorer(metrics=NER_IOB_METRICS, is_calc_ner_metrics=False, tags=['PER', 'MISC', 'LOC', 'ORG'])\n",
    "scores = scorer.score(oos_data['y_true'], oos_data['y_pred'])"
   ]
  },
  {
   "cell_type": "code",
   "execution_count": 24,
   "metadata": {},
   "outputs": [
    {
     "data": {
      "text/plain": [
       "{'train_test_independence_test': {'import_path': 'sbe_vallib.validation.nlp.general_tests.data_quality.test_train_test_independence.train_test_independence_test',\n",
       "  'block_key': 'data_quality',\n",
       "  'params': {},\n",
       "  'informative': 1},\n",
       " 'test_extremal_missing_values': {'import_path': 'sbe_vallib.validation.nlp.general_tests.model_quality.test_key_metric.test_key_metric',\n",
       "  'block_key': 'data_quality',\n",
       "  'params': {'n_iter': 200},\n",
       "  'informative': 0},\n",
       " 'psi_factor_classes_test_oos': {'import_path': 'sbe_vallib.validation.nlp.general_tests.data_quality.test_train_test_independence.train_test_independence_test',\n",
       "  'block_key': 'data_quality',\n",
       "  'params': {},\n",
       "  'informative': 1},\n",
       " 'psi_factor_classes_test_oot': {'import_path': 'sbe_vallib.validation.nlp.general_tests.model_quality.test_key_metric.test_key_metric',\n",
       "  'block_key': 'data_quality',\n",
       "  'params': {'n_iter': 200},\n",
       "  'informative': 0},\n",
       " 'test_key_metric': {'import_path': 'sbe_vallib.validation.nlp.general_tests.data_quality.test_train_test_independence.train_test_independence_test',\n",
       "  'block_key': 'model_quality',\n",
       "  'params': {},\n",
       "  'informative': 1},\n",
       " 'test_confidence_inteval': {'import_path': 'sbe_vallib.validation.nlp.general_tests.model_quality.test_key_metric.test_key_metric',\n",
       "  'block_key': 'model_quality',\n",
       "  'params': {'n_iter': 200},\n",
       "  'informative': 0},\n",
       " 'test_presicion': {'import_path': 'sbe_vallib.validation.nlp.general_tests.data_quality.test_train_test_independence.train_test_independence_test',\n",
       "  'block_key': 'model_quality',\n",
       "  'params': {},\n",
       "  'informative': 1},\n",
       " 'test_recall': {'import_path': 'sbe_vallib.validation.nlp.general_tests.model_quality.test_key_metric.test_key_metric',\n",
       "  'block_key': 'model_quality',\n",
       "  'params': {'n_iter': 200},\n",
       "  'informative': 0},\n",
       " 'test_2_5': {'import_path': 'sbe_vallib.validation.nlp.general_tests.data_quality.test_train_test_independence.train_test_independence_test',\n",
       "  'block_key': 'model_quality',\n",
       "  'params': {},\n",
       "  'informative': 1},\n",
       " 'test_3_1': {'import_path': 'sbe_vallib.validation.nlp.general_tests.model_quality.test_key_metric.test_key_metric',\n",
       "  'block_key': 'calibration',\n",
       "  'params': {'n_iter': 200},\n",
       "  'informative': 0},\n",
       " 'test_3_2': {'import_path': 'sbe_vallib.validation.nlp.general_tests.data_quality.test_train_test_independence.train_test_independence_test',\n",
       "  'block_key': 'calibration',\n",
       "  'params': {},\n",
       "  'informative': 1},\n",
       " 'test_feature_importance': {'import_path': 'sbe_vallib.validation.nlp.general_tests.model_quality.test_key_metric.test_key_metric',\n",
       "  'block_key': 'specification',\n",
       "  'params': {'n_iter': 200},\n",
       "  'informative': 0},\n",
       " 'test_4_2': {'import_path': 'sbe_vallib.validation.nlp.general_tests.data_quality.test_train_test_independence.train_test_independence_test',\n",
       "  'block_key': 'specification',\n",
       "  'params': {},\n",
       "  'informative': 1},\n",
       " 'test_key_metric_stability': {'import_path': 'sbe_vallib.validation.nlp.general_tests.model_quality.test_key_metric.test_key_metric',\n",
       "  'block_key': 'stability',\n",
       "  'params': {'n_iter': 200},\n",
       "  'informative': 0},\n",
       " 'test_presicion_stability': {'import_path': 'sbe_vallib.validation.nlp.general_tests.data_quality.test_train_test_independence.train_test_independence_test',\n",
       "  'block_key': 'stability',\n",
       "  'params': {},\n",
       "  'informative': 1},\n",
       " 'test_recall_stability': {'import_path': 'sbe_vallib.validation.nlp.general_tests.model_quality.test_key_metric.test_key_metric',\n",
       "  'block_key': 'stability',\n",
       "  'params': {'n_iter': 200},\n",
       "  'informative': 0},\n",
       " 'test_5_4': {'import_path': 'sbe_vallib.validation.nlp.general_tests.data_quality.test_train_test_independence.train_test_independence_test',\n",
       "  'block_key': 'stability',\n",
       "  'params': {},\n",
       "  'informative': 1},\n",
       " 'test_5_6': {'import_path': 'sbe_vallib.validation.nlp.general_tests.model_quality.test_key_metric.test_key_metric',\n",
       "  'block_key': 'stability',\n",
       "  'params': {'n_iter': 200},\n",
       "  'informative': 0},\n",
       " 'test_5_7': {'import_path': 'sbe_vallib.validation.nlp.general_tests.data_quality.test_train_test_independence.train_test_independence_test',\n",
       "  'block_key': 'stability',\n",
       "  'params': {},\n",
       "  'informative': 1}}"
      ]
     },
     "execution_count": 24,
     "metadata": {},
     "output_type": "execute_result"
    }
   ],
   "source": [
    "from sbe_vallib import BaseValidation\n",
    "validor = BaseValidation(model, sampler, scorer, pipeline=\"sbe_vallib/validation/nlp/pipelines/Config_45.xlsx\")\n",
    "validor.pipeline['tests']"
   ]
  },
  {
   "cell_type": "code",
   "execution_count": 27,
   "metadata": {},
   "outputs": [
    {
     "name": "stdout",
     "output_type": "stream",
     "text": [
      "\tTrain/oos samples are too huge for independence test, calculating on 0.4287 fraction\n",
      "(7499, 85)\n"
     ]
    },
    {
     "name": "stderr",
     "output_type": "stream",
     "text": [
      "100%|██████████| 20/20 [00:01<00:00, 12.45it/s]\n"
     ]
    },
    {
     "name": "stdout",
     "output_type": "stream",
     "text": [
      "\tTrain/oos samples are too huge for independence test, calculating on 0.4287 fraction\n",
      "(7499, 85)\n"
     ]
    },
    {
     "name": "stderr",
     "output_type": "stream",
     "text": [
      "100%|██████████| 20/20 [00:01<00:00, 12.88it/s]\n"
     ]
    },
    {
     "name": "stdout",
     "output_type": "stream",
     "text": [
      "\tTrain/oos samples are too huge for independence test, calculating on 0.4287 fraction\n",
      "(7499, 85)\n"
     ]
    },
    {
     "name": "stderr",
     "output_type": "stream",
     "text": [
      "100%|██████████| 20/20 [00:01<00:00, 12.82it/s]\n"
     ]
    },
    {
     "name": "stdout",
     "output_type": "stream",
     "text": [
      "\tTrain/oos samples are too huge for independence test, calculating on 0.4287 fraction\n",
      "(7499, 85)\n"
     ]
    },
    {
     "name": "stderr",
     "output_type": "stream",
     "text": [
      "100%|██████████| 20/20 [00:01<00:00, 12.75it/s]\n"
     ]
    },
    {
     "name": "stdout",
     "output_type": "stream",
     "text": [
      "\tTrain/oos samples are too huge for independence test, calculating on 0.4287 fraction\n",
      "(7499, 85)\n"
     ]
    },
    {
     "name": "stderr",
     "output_type": "stream",
     "text": [
      "100%|██████████| 20/20 [00:01<00:00, 12.55it/s]\n"
     ]
    },
    {
     "name": "stdout",
     "output_type": "stream",
     "text": [
      "\tTrain/oos samples are too huge for independence test, calculating on 0.4287 fraction\n",
      "(7499, 85)\n"
     ]
    },
    {
     "name": "stderr",
     "output_type": "stream",
     "text": [
      "100%|██████████| 20/20 [00:01<00:00, 12.64it/s]\n"
     ]
    },
    {
     "name": "stdout",
     "output_type": "stream",
     "text": [
      "\tTrain/oos samples are too huge for independence test, calculating on 0.4287 fraction\n",
      "(7499, 85)\n"
     ]
    },
    {
     "name": "stderr",
     "output_type": "stream",
     "text": [
      "100%|██████████| 20/20 [00:01<00:00, 12.62it/s]\n"
     ]
    },
    {
     "name": "stdout",
     "output_type": "stream",
     "text": [
      "\tTrain/oos samples are too huge for independence test, calculating on 0.4287 fraction\n",
      "(7499, 85)\n"
     ]
    },
    {
     "name": "stderr",
     "output_type": "stream",
     "text": [
      "100%|██████████| 20/20 [00:01<00:00, 12.75it/s]\n"
     ]
    },
    {
     "name": "stdout",
     "output_type": "stream",
     "text": [
      "\tTrain/oos samples are too huge for independence test, calculating on 0.4287 fraction\n",
      "(7499, 85)\n"
     ]
    },
    {
     "name": "stderr",
     "output_type": "stream",
     "text": [
      "100%|██████████| 20/20 [00:01<00:00, 12.57it/s]\n"
     ]
    },
    {
     "name": "stdout",
     "output_type": "stream",
     "text": [
      "\tTrain/oos samples are too huge for independence test, calculating on 0.4287 fraction\n",
      "(7499, 85)\n"
     ]
    },
    {
     "name": "stderr",
     "output_type": "stream",
     "text": [
      "100%|██████████| 20/20 [00:01<00:00, 13.28it/s]\n"
     ]
    }
   ],
   "source": [
    "res = validor.validate()"
   ]
  },
  {
   "cell_type": "code",
   "execution_count": 28,
   "metadata": {},
   "outputs": [
    {
     "data": {
      "text/plain": [
       "dict_keys(['train_test_independence_test', 'test_extremal_missing_values', 'psi_factor_classes_test_oos', 'psi_factor_classes_test_oot', 'test_key_metric', 'test_confidence_inteval', 'test_presicion', 'test_recall', 'test_2_5', 'test_3_1', 'test_3_2', 'test_feature_importance', 'test_4_2', 'test_key_metric_stability', 'test_presicion_stability', 'test_recall_stability', 'test_5_4', 'test_5_6', 'test_5_7'])"
      ]
     },
     "execution_count": 28,
     "metadata": {},
     "output_type": "execute_result"
    }
   ],
   "source": [
    "res.keys()"
   ]
  },
  {
   "cell_type": "code",
   "execution_count": 30,
   "metadata": {},
   "outputs": [
    {
     "data": {
      "text/plain": [
       "({'semaphore': 'grey',\n",
       "  'result_dict': {'result': {'Фактический gini': 0.18245832161197367,\n",
       "    'Квантиль': 1,\n",
       "    'Результат теста': 'Grey'}},\n",
       "  'result_dataframes': [   Фактический gini  Квантиль Результат теста\n",
       "   0          0.182458         1            Grey],\n",
       "  'result_plots': []},\n",
       " {'semaphore': 'grey',\n",
       "  'result_dict': {'result': {'Фактический gini': 0.18245832161197367,\n",
       "    'Квантиль': 1,\n",
       "    'Результат теста': 'Grey'}},\n",
       "  'result_dataframes': [   Фактический gini  Квантиль Результат теста\n",
       "   0          0.182458         1            Grey],\n",
       "  'result_plots': []})"
      ]
     },
     "execution_count": 30,
     "metadata": {},
     "output_type": "execute_result"
    }
   ],
   "source": [
    "res['test_presicion'], res['test_2_5']"
   ]
  },
  {
   "cell_type": "code",
   "execution_count": null,
   "metadata": {},
   "outputs": [],
   "source": []
  },
  {
   "cell_type": "code",
   "execution_count": null,
   "metadata": {},
   "outputs": [],
   "source": []
  },
  {
   "cell_type": "code",
   "execution_count": 23,
   "metadata": {},
   "outputs": [
    {
     "data": {
      "text/plain": [
       "{'ent_type_f1': 0.8238541153277475,\n",
       " 'ent_type_f1_by_PER': 0.8030194104960461,\n",
       " 'ent_type_f1_by_MISC': 0.7612179487179488,\n",
       " 'ent_type_f1_by_LOC': 0.8062648961525366,\n",
       " 'ent_type_f1_by_ORG': 0.8829452485840151,\n",
       " 'ent_type_recall': 0.7399079320113314,\n",
       " 'ent_type_recall_by_PER': 0.6907854050711194,\n",
       " 'ent_type_recall_by_MISC': 0.6766381766381766,\n",
       " 'ent_type_recall_by_LOC': 0.709832134292566,\n",
       " 'ent_type_recall_by_ORG': 0.8446718844069837,\n",
       " 'ent_type_precision': 0.9292861907938625,\n",
       " 'ent_type_precision_by_PER': 0.9587982832618026,\n",
       " 'ent_type_precision_by_MISC': 0.86996336996337,\n",
       " 'ent_type_precision_by_LOC': 0.9330181245074862,\n",
       " 'ent_type_precision_by_ORG': 0.924851680949242,\n",
       " 'partial_f1': 0.8498767865943814,\n",
       " 'partial_f1_by_PER': 0.8076923076923076,\n",
       " 'partial_f1_by_MISC': 0.7908653846153845,\n",
       " 'partial_f1_by_LOC': 0.8478038815117467,\n",
       " 'partial_f1_by_ORG': 0.9118942731277533,\n",
       " 'partial_recall': 0.7632790368271954,\n",
       " 'partial_recall_by_PER': 0.6948051948051948,\n",
       " 'partial_recall_by_MISC': 0.7029914529914529,\n",
       " 'partial_recall_by_LOC': 0.7464028776978417,\n",
       " 'partial_recall_by_ORG': 0.872366044551475,\n",
       " 'partial_precision': 0.9586390927284857,\n",
       " 'partial_precision_by_PER': 0.9643776824034335,\n",
       " 'partial_precision_by_MISC': 0.9038461538461539,\n",
       " 'partial_precision_by_LOC': 0.9810874704491725,\n",
       " 'partial_precision_by_ORG': 0.9551746868820039,\n",
       " 'strict_f1': 0.8017742730409069,\n",
       " 'strict_f1_by_PER': 0.7685118619698059,\n",
       " 'strict_f1_by_MISC': 0.733974358974359,\n",
       " 'strict_f1_by_LOC': 0.800817160367722,\n",
       " 'strict_f1_by_ORG': 0.8584015103838892,\n",
       " 'strict_recall': 0.7200779036827195,\n",
       " 'strict_recall_by_PER': 0.6611008039579468,\n",
       " 'strict_recall_by_MISC': 0.6524216524216524,\n",
       " 'strict_recall_by_LOC': 0.7050359712230215,\n",
       " 'strict_recall_by_ORG': 0.8211920529801324,\n",
       " 'strict_precision': 0.9043806982432733,\n",
       " 'strict_precision_by_PER': 0.9175965665236051,\n",
       " 'strict_precision_by_MISC': 0.8388278388278388,\n",
       " 'strict_precision_by_LOC': 0.9267139479905437,\n",
       " 'strict_precision_by_ORG': 0.8991430454845089,\n",
       " 'exact_f1': 0.8337111877772303,\n",
       " 'exact_f1_by_PER': 0.7886412652767792,\n",
       " 'exact_f1_by_MISC': 0.767628205128205,\n",
       " 'exact_f1_by_LOC': 0.8409942117807286,\n",
       " 'exact_f1_by_ORG': 0.8923851478917558,\n",
       " 'exact_recall': 0.7487606232294618,\n",
       " 'exact_recall_by_PER': 0.6784168212739641,\n",
       " 'exact_recall_by_MISC': 0.6823361823361823,\n",
       " 'exact_recall_by_LOC': 0.7404076738609112,\n",
       " 'exact_recall_by_ORG': 0.8537025888019265,\n",
       " 'exact_precision': 0.9404047142539471,\n",
       " 'exact_precision_by_PER': 0.9416309012875537,\n",
       " 'exact_precision_by_MISC': 0.8772893772893773,\n",
       " 'exact_precision_by_LOC': 0.9732072498029944,\n",
       " 'exact_precision_by_ORG': 0.934739617666447}"
      ]
     },
     "execution_count": 23,
     "metadata": {},
     "output_type": "execute_result"
    }
   ],
   "source": [
    "scorer.ner_metrics(oos_data['y_true'], oos_data['y_pred'])"
   ]
  },
  {
   "cell_type": "code",
   "execution_count": null,
   "metadata": {},
   "outputs": [],
   "source": []
  }
 ],
 "metadata": {
  "kernelspec": {
   "display_name": "myenv",
   "language": "python",
   "name": "python3"
  },
  "language_info": {
   "codemirror_mode": {
    "name": "ipython",
    "version": 3
   },
   "file_extension": ".py",
   "mimetype": "text/x-python",
   "name": "python",
   "nbconvert_exporter": "python",
   "pygments_lexer": "ipython3",
   "version": "3.9.12"
  },
  "orig_nbformat": 4,
  "vscode": {
   "interpreter": {
    "hash": "ea1ba28ca3080e0412ec99e1bb1a997d4a43b70d799a956f8141a171308cbcce"
   }
  }
 },
 "nbformat": 4,
 "nbformat_minor": 2
}
